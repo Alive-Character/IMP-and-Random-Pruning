{
  "metadata": {
    "kernelspec": {
      "name": "python3",
      "display_name": "Python 3",
      "language": "python"
    },
    "language_info": {
      "name": "python",
      "version": "3.10.12",
      "mimetype": "text/x-python",
      "codemirror_mode": {
        "name": "ipython",
        "version": 3
      },
      "pygments_lexer": "ipython3",
      "nbconvert_exporter": "python",
      "file_extension": ".py"
    },
    "colab": {
      "provenance": [],
      "gpuType": "T4"
    },
    "accelerator": "GPU"
  },
  "nbformat_minor": 0,
  "nbformat": 4,
  "cells": [
    {
      "cell_type": "markdown",
      "source": [
        "Parts of the code is borrowed from https://github.com/Thytu/The-Lottery-Ticket-Hypothesis"
      ],
      "metadata": {
        "id": "HQ_quRXo0Cw6"
      }
    },
    {
      "cell_type": "code",
      "source": [
        "import torch\n",
        "import torch.nn as nn\n",
        "from typing import Tuple\n",
        "from torchvision import transforms\n",
        "from torch.utils.data import DataLoader, Subset\n",
        "from torchvision.datasets import MNIST\n",
        "from torch import randperm as torch_randperm\n",
        "\n",
        "from torch.nn import Module\n",
        "from torch.optim import Optimizer\n",
        "from typing import Optional, Tuple\n",
        "from torch.utils.data import DataLoader\n",
        "from torch.cuda import is_available as cuda_is_available\n",
        "from torch import device as torch_device, eq as torch_eq, argmax as torch_argmax, no_grad as torch_no_grad\n",
        "\n",
        "from tqdm import tqdm\n",
        "from copy import deepcopy\n",
        "from torch.optim import Adam\n",
        "from torch.nn.utils import prune\n",
        "from torch.nn import CrossEntropyLoss, Module\n",
        "from torch.cuda import is_available as cuda_is_available\n",
        "from torch import device as get_device, sum as torch_sum\n",
        "import pickle"
      ],
      "metadata": {
        "id": "PH9oD5hJqYzk",
        "execution": {
          "iopub.status.busy": "2023-10-26T08:42:35.418016Z",
          "iopub.execute_input": "2023-10-26T08:42:35.418708Z",
          "iopub.status.idle": "2023-10-26T08:42:38.516022Z",
          "shell.execute_reply.started": "2023-10-26T08:42:35.418670Z",
          "shell.execute_reply": "2023-10-26T08:42:38.515107Z"
        },
        "trusted": true
      },
      "execution_count": null,
      "outputs": []
    },
    {
      "cell_type": "markdown",
      "source": [
        "Architecture"
      ],
      "metadata": {
        "id": "4ZP6rg1qqYzo"
      }
    },
    {
      "cell_type": "code",
      "source": [
        "class LeNet(nn.Module):\n",
        "    \"\"\"\n",
        "    Lenet-300-100 architecture (LeCun et al., 1998)\n",
        "    \"\"\"\n",
        "\n",
        "    def __init__(self):\n",
        "        super(LeNet, self).__init__()\n",
        "\n",
        "        self.classifier = nn.Sequential(\n",
        "            nn.Linear(in_features=28 * 28, out_features=300),\n",
        "            nn.ReLU(inplace=True),\n",
        "\n",
        "            nn.Linear(in_features=300, out_features=100),\n",
        "            nn.ReLU(inplace=True),\n",
        "\n",
        "            nn.Linear(in_features=100, out_features=10),\n",
        "        )\n",
        "\n",
        "    def forward(self, input_tensor):\n",
        "        input_tensor = torch.flatten(\n",
        "            input = input_tensor,\n",
        "            start_dim = 1\n",
        "        )\n",
        "        y = self.classifier(input_tensor)\n",
        "        return y\n",
        "\n"
      ],
      "metadata": {
        "id": "wZJFwnamqYzp",
        "execution": {
          "iopub.status.busy": "2023-10-26T08:43:05.312584Z",
          "iopub.execute_input": "2023-10-26T08:43:05.313079Z",
          "iopub.status.idle": "2023-10-26T08:43:05.320548Z",
          "shell.execute_reply.started": "2023-10-26T08:43:05.313049Z",
          "shell.execute_reply": "2023-10-26T08:43:05.319376Z"
        },
        "trusted": true
      },
      "execution_count": null,
      "outputs": []
    },
    {
      "cell_type": "markdown",
      "source": [
        "Data"
      ],
      "metadata": {
        "id": "gMySCbsoqYzq"
      }
    },
    {
      "cell_type": "code",
      "source": [
        "class EarlyStopper:\n",
        "    \"\"\"\n",
        "    Credit : https://stackoverflow.com/a/73704579/12625642\n",
        "    \"\"\"\n",
        "\n",
        "    def __init__(self, patience=1, min_delta=0):\n",
        "\n",
        "        self.patience = patience\n",
        "        self.min_delta = min_delta\n",
        "\n",
        "        self.counter = 0\n",
        "        self.min_validation_loss = float('inf')\n",
        "\n",
        "    def __call__(self, validation_loss):\n",
        "        if validation_loss < self.min_validation_loss:\n",
        "            self.min_validation_loss = validation_loss\n",
        "            self.counter = 0\n",
        "\n",
        "        elif validation_loss >= (self.min_validation_loss + self.min_delta):\n",
        "            self.counter += 1\n",
        "\n",
        "            if self.counter >= self.patience:\n",
        "                return True\n",
        "\n",
        "        return False"
      ],
      "metadata": {
        "id": "dXg-juVrqYzr",
        "execution": {
          "iopub.status.busy": "2023-10-26T08:43:05.778546Z",
          "iopub.execute_input": "2023-10-26T08:43:05.779470Z",
          "iopub.status.idle": "2023-10-26T08:43:05.786015Z",
          "shell.execute_reply.started": "2023-10-26T08:43:05.779438Z",
          "shell.execute_reply": "2023-10-26T08:43:05.784956Z"
        },
        "trusted": true
      },
      "execution_count": null,
      "outputs": []
    },
    {
      "cell_type": "code",
      "source": [
        "def get_transform() -> transforms.Compose:\n",
        "    \"\"\"\n",
        "    Get Compose transform for the MNIST dataset\n",
        "\n",
        "    Returns:\n",
        "        transforms.Compose: transform for the MNIST dataset\n",
        "    \"\"\"\n",
        "\n",
        "    normalize_transform = transforms.Normalize(\n",
        "        mean=(0.1307,),\n",
        "        std=(0.3081,)\n",
        "    )\n",
        "\n",
        "    return transforms.Compose([\n",
        "        transforms.ToTensor(),\n",
        "        normalize_transform,\n",
        "    ])\n",
        "\n",
        "\n",
        "def get_data_loaders(**kwargs) -> Tuple[DataLoader, DataLoader, DataLoader]:\n",
        "    train_set = MNIST(\n",
        "        root=kwargs.get(\"root\", './data'),\n",
        "        train=True,\n",
        "        transform=get_transform(),\n",
        "        download=True\n",
        "    )\n",
        "\n",
        "    shuffled_indices = torch_randperm(len(train_set))\n",
        "\n",
        "    val_set = Subset(\n",
        "        dataset=train_set,\n",
        "        indices=shuffled_indices[:5_000]\n",
        "    )\n",
        "\n",
        "    train_set = Subset(\n",
        "        dataset=train_set,\n",
        "        indices=shuffled_indices[5_000:]\n",
        "    )\n",
        "\n",
        "    test_set = MNIST(\n",
        "        root=kwargs.get(\"root\", './data'),\n",
        "        train=False,\n",
        "        transform=get_transform(),\n",
        "        download=True\n",
        "    )\n",
        "\n",
        "    return DataLoader(\n",
        "        dataset=train_set,\n",
        "        batch_size=kwargs.get(\"batch_size\", 32),\n",
        "        shuffle=True,\n",
        "        num_workers=kwargs.get(\"num_workers\", 1)\n",
        "    ), DataLoader(\n",
        "        dataset=test_set,\n",
        "        batch_size=kwargs.get(\"batch_size\", 32),\n",
        "        shuffle=True,\n",
        "        num_workers=kwargs.get(\"num_workers\", 1)\n",
        "    ), DataLoader(\n",
        "        dataset=val_set,\n",
        "        batch_size=kwargs.get(\"batch_size\", 32),\n",
        "        shuffle=True,\n",
        "        num_workers=kwargs.get(\"num_workers\", 1)\n",
        "    )"
      ],
      "metadata": {
        "id": "QRGyOFb9qYzr",
        "execution": {
          "iopub.status.busy": "2023-10-26T08:43:05.958518Z",
          "iopub.execute_input": "2023-10-26T08:43:05.959274Z",
          "iopub.status.idle": "2023-10-26T08:43:05.971971Z",
          "shell.execute_reply.started": "2023-10-26T08:43:05.959227Z",
          "shell.execute_reply": "2023-10-26T08:43:05.971018Z"
        },
        "trusted": true
      },
      "execution_count": null,
      "outputs": []
    },
    {
      "cell_type": "markdown",
      "source": [
        "### Training"
      ],
      "metadata": {
        "id": "dZsx2xfSqYzs"
      }
    },
    {
      "cell_type": "code",
      "source": [
        "def calc_accurary(preds, y_true) -> float:\n",
        "    return (sum(torch_eq(torch_argmax(preds, dim=1), y_true)) / len(preds)).item()\n"
      ],
      "metadata": {
        "id": "e-XyNAN1qYzs",
        "execution": {
          "iopub.status.busy": "2023-10-26T08:43:06.343184Z",
          "iopub.execute_input": "2023-10-26T08:43:06.343561Z",
          "iopub.status.idle": "2023-10-26T08:43:06.348459Z",
          "shell.execute_reply.started": "2023-10-26T08:43:06.343531Z",
          "shell.execute_reply": "2023-10-26T08:43:06.347428Z"
        },
        "trusted": true
      },
      "execution_count": null,
      "outputs": []
    },
    {
      "cell_type": "code",
      "source": [
        "\n",
        "\n",
        "def train_model(\n",
        "    model: Module,\n",
        "    dataloader: DataLoader,\n",
        "    optimizer: Optimizer,\n",
        "    criterion: Module,\n",
        "    training_iteration: int,\n",
        "    max_training_iter: int,\n",
        "    device: Optional[torch_device] = None,\n",
        ") -> Tuple[float, float]:\n",
        "    \"\"\"\n",
        "    Train the model given the provided data, optimizer and criterion\n",
        "\n",
        "    Args:\n",
        "        model (Module): model to train\n",
        "        dataloader (DataLoader): data to train the model on\n",
        "        optimizer (Optimizer): optimizer to use\n",
        "        criterion (Module): criterion to optimize\n",
        "        training_iteration (int): current training iteration\n",
        "        max_training_iter (int): used to stop the training when >= training_iteration max_training_iter\n",
        "        device (Optional[torch_device], optional): device to use. Defaults to None.\n",
        "\n",
        "    Returns:\n",
        "        Tuple[float, float]: loss and accuracy at the end of the training\n",
        "    \"\"\"\n",
        "\n",
        "    model.train()\n",
        "\n",
        "    if not device:\n",
        "        device = torch_device(\"cuda\" if cuda_is_available() else \"cpu\")\n",
        "\n",
        "    step_losses = []\n",
        "    step_accuracies = []\n",
        "\n",
        "    for data in dataloader:\n",
        "        inputs, labels = data\n",
        "        inputs, labels = inputs.to(device), labels.to(device)\n",
        "\n",
        "        optimizer.zero_grad()\n",
        "\n",
        "        outputs = model(inputs)\n",
        "\n",
        "        loss = criterion(outputs, labels)\n",
        "        loss.backward()\n",
        "\n",
        "        optimizer.step()\n",
        "\n",
        "        training_iteration += 1\n",
        "\n",
        "        step_losses.append(loss.item())\n",
        "        step_accuracies.append(calc_accurary(outputs, labels))\n",
        "\n",
        "        if training_iteration >= max_training_iter:\n",
        "            break\n",
        "\n",
        "    return sum(step_losses) / len(step_losses), sum(step_accuracies) / len(step_accuracies), training_iteration"
      ],
      "metadata": {
        "id": "b852-3DAqYzt",
        "execution": {
          "iopub.status.busy": "2023-10-26T08:43:06.538146Z",
          "iopub.execute_input": "2023-10-26T08:43:06.538503Z",
          "iopub.status.idle": "2023-10-26T08:43:06.548846Z",
          "shell.execute_reply.started": "2023-10-26T08:43:06.538475Z",
          "shell.execute_reply": "2023-10-26T08:43:06.547645Z"
        },
        "trusted": true
      },
      "execution_count": null,
      "outputs": []
    },
    {
      "cell_type": "code",
      "source": [
        "def test_model(\n",
        "    model: Module,\n",
        "    dataloader: DataLoader,\n",
        "    criterion: Module,\n",
        "    device: Optional[torch_device] = None\n",
        ") -> Tuple[float, float]:\n",
        "    \"\"\"\n",
        "    test the model given the provided data and criterion\n",
        "\n",
        "    Args:\n",
        "        model (Module): model to test\n",
        "        dataloader (DataLoader): data to test the model on\n",
        "        criterion (Module): criterion to optimize\n",
        "        device (Optional[torch_device], optional): device to use. Defaults to None.\n",
        "\n",
        "    Returns:\n",
        "        Tuple[float, float]: loss and accuracy at the end of the testing\n",
        "    \"\"\"\n",
        "\n",
        "    model.eval()\n",
        "\n",
        "    if not device:\n",
        "        device = torch_device(\"cuda\" if cuda_is_available() else \"cpu\")\n",
        "\n",
        "    step_losses = []\n",
        "    step_accuracies = []\n",
        "\n",
        "    with torch_no_grad():\n",
        "        for data in dataloader:\n",
        "            inputs, labels = data\n",
        "            inputs, labels = inputs.to(device), labels.to(device)\n",
        "\n",
        "            outputs = model(inputs)\n",
        "\n",
        "            loss = criterion(outputs, labels)\n",
        "\n",
        "            step_losses.append(loss.item())\n",
        "            step_accuracies.append(calc_accurary(outputs, labels))\n",
        "\n",
        "    return sum(step_losses) / len(step_losses), sum(step_accuracies) / len(step_accuracies)"
      ],
      "metadata": {
        "id": "5SIyclGCqYzt",
        "execution": {
          "iopub.status.busy": "2023-10-26T08:43:06.747467Z",
          "iopub.execute_input": "2023-10-26T08:43:06.747986Z",
          "iopub.status.idle": "2023-10-26T08:43:06.758314Z",
          "shell.execute_reply.started": "2023-10-26T08:43:06.747944Z",
          "shell.execute_reply": "2023-10-26T08:43:06.757298Z"
        },
        "trusted": true
      },
      "execution_count": null,
      "outputs": []
    },
    {
      "cell_type": "markdown",
      "source": [],
      "metadata": {
        "id": "pUGu-fg3qYzt"
      }
    },
    {
      "cell_type": "code",
      "source": [
        "def get_sparsity(model: Module) -> float:\n",
        "    \"\"\"\n",
        "    Calculate the sparsity level given the training iteration step\n",
        "\n",
        "    Args:\n",
        "        model (Module): model the calculate the sparisty of (expects LeNet architecture)\n",
        "\n",
        "    Returns:\n",
        "        float: sparsity level given the training iteration step\n",
        "    \"\"\"\n",
        "\n",
        "    return 100. * float(\n",
        "        torch_sum(model.classifier[0].weight == 0)\n",
        "        + torch_sum(model.classifier[2].weight == 0)\n",
        "        + torch_sum(model.classifier[-1].weight == 0)\n",
        "    ) / float(\n",
        "        model.classifier[0].weight.nelement()\n",
        "        + model.classifier[2].weight.nelement()\n",
        "        + model.classifier[-1].weight.nelement()\n",
        "    )"
      ],
      "metadata": {
        "id": "lX1vUFJxqYzu",
        "execution": {
          "iopub.status.busy": "2023-10-26T08:43:07.178327Z",
          "iopub.execute_input": "2023-10-26T08:43:07.178698Z",
          "iopub.status.idle": "2023-10-26T08:43:07.185237Z",
          "shell.execute_reply.started": "2023-10-26T08:43:07.178670Z",
          "shell.execute_reply": "2023-10-26T08:43:07.184157Z"
        },
        "trusted": true
      },
      "execution_count": null,
      "outputs": []
    },
    {
      "cell_type": "code",
      "source": [
        "\n",
        "def get_sparsity(model: Module) -> float:\n",
        "    \"\"\"\n",
        "    Calculate the sparsity level given the training iteration step\n",
        "\n",
        "    Args:\n",
        "        model (Module): model the calculate the sparisty of (expects LeNet architecture)\n",
        "\n",
        "    Returns:\n",
        "        float: sparsity level given the training iteration step\n",
        "    \"\"\"\n",
        "\n",
        "    return 100. * float(\n",
        "        torch_sum(model.classifier[0].weight == 0)\n",
        "        + torch_sum(model.classifier[2].weight == 0)\n",
        "        + torch_sum(model.classifier[-1].weight == 0)\n",
        "    ) / float(\n",
        "        model.classifier[0].weight.nelement()\n",
        "        + model.classifier[2].weight.nelement()\n",
        "        + model.classifier[-1].weight.nelement()\n",
        "    )\n",
        "\n"
      ],
      "metadata": {
        "id": "_ozTCTk8qYzu",
        "execution": {
          "iopub.status.busy": "2023-10-26T08:43:07.336441Z",
          "iopub.execute_input": "2023-10-26T08:43:07.337303Z",
          "iopub.status.idle": "2023-10-26T08:43:07.343186Z",
          "shell.execute_reply.started": "2023-10-26T08:43:07.337272Z",
          "shell.execute_reply": "2023-10-26T08:43:07.342294Z"
        },
        "trusted": true
      },
      "execution_count": null,
      "outputs": []
    },
    {
      "cell_type": "code",
      "source": [
        "\n",
        "def main(nb_pruning_iter, max_training_iter, p):\n",
        "\n",
        "    DEVICE = get_device(\"cuda\" if cuda_is_available() else \"cpu\")\n",
        "    model = LeNet().to(DEVICE)\n",
        "    INITIAL_WEIGHTS = deepcopy(model.state_dict())\n",
        "\n",
        "    criterion = CrossEntropyLoss()\n",
        "    optimizer = Adam(\n",
        "        params=model.parameters(),\n",
        "        lr=1.2e-3,\n",
        "    )\n",
        "\n",
        "    EARLY_STOP_PATIENCE = 2\n",
        "\n",
        "    (train_dataloader, test_dataloader, val_dataloader) = get_data_loaders(batch_size=60, num_workers=4)\n",
        "\n",
        "    test_losses = {}\n",
        "    test_accuracies = {}\n",
        "    early_stop_iteration_steps = {}\n",
        "\n",
        "    # 'n' is the paper represents the number of pruning iterations\n",
        "    for n in tqdm(range(1, nb_pruning_iter + 1), total=nb_pruning_iter, leave=False):\n",
        "        pbar = tqdm(total=max_training_iter, leave=False)\n",
        "        current_sparsiry = get_sparsity(model=model)\n",
        "\n",
        "        # print(\"Sparsity working\")\n",
        "        test_losses[current_sparsiry] = {}\n",
        "        test_accuracies[current_sparsiry] = {}\n",
        "\n",
        "        early_stop = None\n",
        "\n",
        "        early_stopper = EarlyStopper(patience=EARLY_STOP_PATIENCE)\n",
        "        # print(\"Early stopper works\")\n",
        "        training_iteration = 0\n",
        "\n",
        "        while training_iteration < max_training_iter:\n",
        "\n",
        "            print(\"hi while loop\", training_iteration)\n",
        "\n",
        "            last_training_iteration = training_iteration\n",
        "            # print(\"Train_model function started\")\n",
        "            train_loss, train_acc, training_iteration = train_model(\n",
        "                model=model,\n",
        "                dataloader=train_dataloader,\n",
        "                optimizer=optimizer,\n",
        "                criterion=criterion,\n",
        "                training_iteration=training_iteration,\n",
        "                max_training_iter=max_training_iter,\n",
        "                device=DEVICE\n",
        "            )\n",
        "            # print(\"Train model ended\")\n",
        "            test_loss, test_acc = test_model(\n",
        "                model=model,\n",
        "                dataloader=test_dataloader,\n",
        "                criterion=criterion,\n",
        "                device=DEVICE\n",
        "            )\n",
        "            # print(\"test model works\")\n",
        "            val_loss, _ = test_model(\n",
        "                model=model,\n",
        "                dataloader=val_dataloader,\n",
        "                criterion=criterion,\n",
        "                device=DEVICE\n",
        "            )\n",
        "            # print(\"val on test model workds\")\n",
        "\n",
        "            if early_stop is None and early_stopper(val_loss):\n",
        "                early_stop = training_iteration - (training_iteration - last_training_iteration) * EARLY_STOP_PATIENCE\n",
        "\n",
        "            test_losses[current_sparsiry][training_iteration] = test_loss\n",
        "            test_accuracies[current_sparsiry][training_iteration] = test_acc\n",
        "\n",
        "            pbar.set_description(f\"{train_loss=:.2f} {train_acc=:.2f} {test_loss=:.2f} {test_acc=:.2f}\")\n",
        "            pbar.update(training_iteration - last_training_iteration)\n",
        "\n",
        "        if early_stop is None:\n",
        "            early_stop = training_iteration\n",
        "\n",
        "        early_stop_iteration_steps[current_sparsiry] = early_stop\n",
        "\n",
        "        pbar.close()\n",
        "\n",
        "        pruning_rate = p ** (1 / n)\n",
        "\n",
        "        prune.l1_unstructured(model.classifier[0], name=\"weight\", amount=pruning_rate)\n",
        "        prune.l1_unstructured(model.classifier[2], name=\"weight\", amount=pruning_rate)\n",
        "        prune.l1_unstructured(model.classifier[-1], name=\"weight\", amount=pruning_rate / 2)\n",
        "\n",
        "        # Reset weights\n",
        "        reseted_weights = deepcopy(model.state_dict())\n",
        "        for param in reseted_weights.keys():\n",
        "            if param.split(\".\")[-1].replace(\"_orig\", \"\") in (\"bias\", \"weight\"):\n",
        "                reseted_weights[param] = deepcopy(INITIAL_WEIGHTS[param.replace(\"_orig\", \"\")])\n",
        "\n",
        "        model.load_state_dict(reseted_weights)\n",
        "\n",
        "    return test_losses, test_accuracies, early_stop_iteration_steps"
      ],
      "metadata": {
        "id": "t6vhDywgqYzu",
        "execution": {
          "iopub.status.busy": "2023-10-26T08:43:07.541142Z",
          "iopub.execute_input": "2023-10-26T08:43:07.541506Z",
          "iopub.status.idle": "2023-10-26T08:43:07.557468Z",
          "shell.execute_reply.started": "2023-10-26T08:43:07.541479Z",
          "shell.execute_reply": "2023-10-26T08:43:07.556427Z"
        },
        "trusted": true
      },
      "execution_count": null,
      "outputs": []
    },
    {
      "cell_type": "code",
      "source": [
        "from typing import Dict, List\n",
        "from matplotlib import pyplot as plt\n",
        "\n",
        "\n",
        "def __plot_test_losses(\n",
        "    losses: Dict[float, Dict[float, float]],\n",
        "    mins: Dict[float, Dict[float, float]],\n",
        "    maxs: Dict[float, Dict[float, float]],\n",
        ") -> None:\n",
        "    \"\"\"\n",
        "    Plot the evolution of the loss regarding the sparsity level and iteration step\n",
        "\n",
        "    Args:\n",
        "        losses (Dict[float, Dict[float, float]]): Dict containing the mean losses regarding the sparsity level and iteration step\n",
        "        mins (Dict[float, Dict[float, float]]): Dict containing the min losses regarding the sparsity level and iteration step\n",
        "        maxs (Dict[float, Dict[float, float]]): Dict containing the max losses regarding the sparsity level and iteration step\n",
        "    \"\"\"\n",
        "\n",
        "    plt.clf()\n",
        "\n",
        "    plt.figure(figsize=(20, 10))\n",
        "    plt.tight_layout()\n",
        "\n",
        "    sparsity_levels = [round(sparsity_level, 2) for sparsity_level in losses.keys()]\n",
        "\n",
        "    for sparsity_level, key in zip(sparsity_levels, losses.keys()):\n",
        "        yerr = (list(mins[key].values()), list(maxs[key].values()))\n",
        "\n",
        "        plt.errorbar(list(losses[key].keys()), list(losses[key].values()), yerr=yerr, fmt='+--', label=f\"{100 - sparsity_level:.2f}%\")\n",
        "\n",
        "    plt.xlabel(\"Training iterations\",fontdict={'fontsize': 18})\n",
        "    plt.ylabel(\"Loss on the test set\",fontdict={'fontsize': 18})\n",
        "    plt.title(\"Model's loss regarding the fraction of weights remaining in the network after pruning.\",fontdict={'fontsize': 18})\n",
        "    plt.legend(loc='best')\n",
        "    plt.show()\n",
        "    #plt.savefig(\"images/losses.png\", bbox_inches='tight', pad_inches=0.1)\n",
        "\n",
        "\n",
        "def __plot_test_accuracies(\n",
        "    accuracies: Dict[float, Dict[float, float]],\n",
        "    mins: Dict[float, Dict[float, float]],\n",
        "    maxs: Dict[float, Dict[float, float]],\n",
        ") -> None:\n",
        "    \"\"\"\n",
        "    Plot the evolution of the accuracy regarding the sparsity level and iteration step\n",
        "\n",
        "    Args:\n",
        "        accuracies (Dict[float, Dict[float, float]]): Dict containing the mean accuracies regarding the sparsity level and iteration step\n",
        "        mins (Dict[float, Dict[float, float]]): Dict containing the min accuracies regarding the sparsity level and iteration step\n",
        "        maxs (Dict[float, Dict[float, float]]): Dict containing the max accuracies regarding the sparsity level and iteration step\n",
        "    \"\"\"\n",
        "\n",
        "    plt.clf()\n",
        "\n",
        "    plt.figure(figsize=(20, 10))\n",
        "    plt.tight_layout()\n",
        "\n",
        "    sparsity_levels = [round(sparsity_level, 2) for sparsity_level in accuracies.keys()]\n",
        "\n",
        "    for sparsity_level, key in zip(sparsity_levels, accuracies.keys()):\n",
        "        yerr = (list(mins[key].values()), list(maxs[key].values()))\n",
        "\n",
        "        plt.errorbar(list(accuracies[key].keys()), list(accuracies[key].values()), linewidth=2.0,yerr=yerr, fmt='+--', label=f\"{100 - sparsity_level:.2f}%\")\n",
        "\n",
        "    plt.xlabel(\"Training iterations\",fontdict={'fontsize': 18})\n",
        "    plt.ylabel(\"Accuracy on the test set\",fontdict={'fontsize': 18})\n",
        "    plt.title(\"Model's accuracy regarding the fraction of weights remaining in the network after pruning.\",fontdict={'fontsize': 18})\n",
        "    plt.legend(loc='best')\n",
        "    plt.show()\n",
        "    #plt.savefig(\"images/accuracies.png\", bbox_inches='tight', pad_inches=0.1)\n",
        "\n",
        "\n",
        "def __plot_early_stops(\n",
        "    early_stops: Dict[float, Dict[float, float]],\n",
        "    mins: Dict[float, Dict[float, float]],\n",
        "    maxs: Dict[float, Dict[float, float]],\n",
        ") -> None:\n",
        "    \"\"\"\n",
        "    Plot the evolution of the accuracy regarding the sparsity level and iteration step\n",
        "\n",
        "    Args:\n",
        "        early_stops (Dict[float, Dict[float, float]]): Dict containing the mean early stop step regarding the sparsity level and iteration step\n",
        "        mins (Dict[float, Dict[float, float]]): Dict containing the min early stop step regarding the sparsity level and iteration step\n",
        "        maxs (Dict[float, Dict[float, float]]): Dict containing the max early stop step regarding the sparsity level and iteration step\n",
        "    \"\"\"\n",
        "\n",
        "    plt.clf()\n",
        "\n",
        "    plt.figure(figsize=(20, 10))\n",
        "    plt.tight_layout()\n",
        "\n",
        "    plt.gca().invert_xaxis()\n",
        "\n",
        "    percentage_of_weights_remaining = [round(100 - sparsity_level, 2) for sparsity_level in early_stops.keys()]\n",
        "\n",
        "    yerr = (list(mins.values()), list(maxs.values()))\n",
        "    plt.errorbar(percentage_of_weights_remaining, list(early_stops.values()), yerr=yerr, fmt='+--')\n",
        "\n",
        "    plt.xlabel(\"Percent of Weights Remaining\",fontdict={'fontsize': 16})\n",
        "    plt.ylabel(\"Early-Stop Iteration (Val.)\",fontdict={'fontsize': 16})\n",
        "    plt.title(\"The early-stopping iteration of the iterative lottery ticket experiment.\",fontdict={'fontsize': 16})\n",
        "    plt.show()\n",
        "    #plt.savefig(\"images/early_stop.png\", bbox_inches='tight', pad_inches=0.1)\n",
        "\n",
        "\n",
        "def plot_experiment(\n",
        "    test_losses: List[Dict[float, Dict[float, float]]],\n",
        "    test_accuracies: List[Dict[float, Dict[float, float]]],\n",
        "    early_stops_in_each_runs: List[Dict[float, float]],\n",
        "):\n",
        "    \"\"\"\n",
        "    Plot the experiment's results (test loss, test accuracy, early stop)\n",
        "\n",
        "    Args:\n",
        "        test_losses (List[Dict[float, Dict[float, float]]]): evolution of the test loss in each run\n",
        "        test_accuracies (List[Dict[float, Dict[float, float]]]): evolution of the test accuracy in each run\n",
        "    \"\"\"\n",
        "\n",
        "    early_stops = {}\n",
        "    min_early_stops = {}\n",
        "    max_early_stops = {}\n",
        "\n",
        "    losses = {}\n",
        "    min_losses = {}\n",
        "    max_losses = {}\n",
        "\n",
        "    accuracies = {}\n",
        "    min_accuracies = {}\n",
        "    max_accuracies = {}\n",
        "\n",
        "    nb_run = len(test_losses)\n",
        "    nb_run = 4\n",
        "    for sparsity in test_losses[0].keys():\n",
        "        print(sparsity)\n",
        "        losses[sparsity] = {}\n",
        "        min_losses[sparsity] = {}\n",
        "        max_losses[sparsity] = {}\n",
        "\n",
        "        accuracies[sparsity] = {}\n",
        "        min_accuracies[sparsity] = {}\n",
        "        max_accuracies[sparsity] = {}\n",
        "\n",
        "        early_stops_at_sparsity = [early_stops_in_each_runs[run][sparsity] for run in range(nb_run)]\n",
        "\n",
        "        early_stops[sparsity] = sum(early_stops_at_sparsity) / nb_run\n",
        "        min_early_stops[sparsity] = abs(early_stops[sparsity] - min(early_stops_at_sparsity))\n",
        "        max_early_stops[sparsity] = abs(early_stops[sparsity] - max(early_stops_at_sparsity))\n",
        "\n",
        "        for training_iteration in test_losses[0][sparsity].keys():\n",
        "            loss_run_values = [test_losses[run][sparsity][training_iteration] for run in range(nb_run)]\n",
        "            acc_run_values = [test_accuracies[run][sparsity][training_iteration] for run in range(nb_run)]\n",
        "\n",
        "            losses[sparsity][training_iteration] = sum(loss_run_values) / len(loss_run_values)\n",
        "            min_losses[sparsity][training_iteration] = abs(losses[sparsity][training_iteration] - min(loss_run_values))\n",
        "            max_losses[sparsity][training_iteration] = abs(losses[sparsity][training_iteration] - max(loss_run_values))\n",
        "\n",
        "            accuracies[sparsity][training_iteration] = sum(acc_run_values) / len(acc_run_values)\n",
        "            min_accuracies[sparsity][training_iteration] = abs(accuracies[sparsity][training_iteration] - min(loss_run_values))\n",
        "            max_accuracies[sparsity][training_iteration] = abs(accuracies[sparsity][training_iteration] - max(loss_run_values))\n",
        "\n",
        "    __plot_test_losses(losses, min_losses, max_losses)\n",
        "    __plot_test_accuracies(accuracies, min_losses, max_losses)\n",
        "    __plot_early_stops(early_stops, min_early_stops, max_early_stops)\n"
      ],
      "metadata": {
        "id": "vXsF81pWqYzu",
        "execution": {
          "iopub.status.busy": "2023-10-26T10:27:26.538410Z",
          "iopub.execute_input": "2023-10-26T10:27:26.538772Z",
          "iopub.status.idle": "2023-10-26T10:27:26.567664Z",
          "shell.execute_reply.started": "2023-10-26T10:27:26.538747Z",
          "shell.execute_reply": "2023-10-26T10:27:26.566678Z"
        },
        "trusted": true
      },
      "execution_count": null,
      "outputs": []
    },
    {
      "cell_type": "code",
      "source": [
        "P = 0.2\n",
        "NB_RUN = 5\n",
        "NB_PRUNING_ITER = 7\n",
        "MAX_TRAINING_ITER = 15_000\n",
        "\n",
        "early_stops = []\n",
        "test_losses = []\n",
        "test_accuracies = []\n",
        "\n",
        "for run in tqdm(range(NB_RUN)):\n",
        "    print(\"hi\")\n",
        "    test_losses_in_run, test_accuracies_in_run, early_stops_in_run = main(\n",
        "        nb_pruning_iter=NB_PRUNING_ITER,\n",
        "        max_training_iter=MAX_TRAINING_ITER,\n",
        "        p=P\n",
        "    )\n",
        "    print(run)\n",
        "    test_losses.append(test_losses_in_run)\n",
        "    test_accuracies.append(test_accuracies_in_run)\n",
        "    early_stops.append(early_stops_in_run)\n",
        "\n"
      ],
      "metadata": {
        "colab": {
          "base_uri": "https://localhost:8080/",
          "height": 566
        },
        "id": "3fYoFT0TqYzv",
        "outputId": "df7ab356-080e-4549-bcb8-c3310138a72f",
        "execution": {
          "iopub.status.busy": "2023-10-26T08:43:07.945262Z",
          "iopub.execute_input": "2023-10-26T08:43:07.945945Z",
          "iopub.status.idle": "2023-10-26T10:08:13.505695Z",
          "shell.execute_reply.started": "2023-10-26T08:43:07.945913Z",
          "shell.execute_reply": "2023-10-26T10:08:13.504263Z"
        },
        "trusted": true
      },
      "execution_count": null,
      "outputs": [
        {
          "name": "stderr",
          "text": "  0%|          | 0/5 [00:00<?, ?it/s]",
          "output_type": "stream"
        },
        {
          "name": "stdout",
          "text": "hi\nDownloading http://yann.lecun.com/exdb/mnist/train-images-idx3-ubyte.gz\nDownloading http://yann.lecun.com/exdb/mnist/train-images-idx3-ubyte.gz to ./data/MNIST/raw/train-images-idx3-ubyte.gz\n",
          "output_type": "stream"
        },
        {
          "name": "stderr",
          "text": "\n  0%|          | 0/9912422 [00:00<?, ?it/s]\u001b[A\n100%|██████████| 9912422/9912422 [00:00<00:00, 84652480.27it/s]\u001b[A\n",
          "output_type": "stream"
        },
        {
          "name": "stdout",
          "text": "Extracting ./data/MNIST/raw/train-images-idx3-ubyte.gz to ./data/MNIST/raw\n\nDownloading http://yann.lecun.com/exdb/mnist/train-labels-idx1-ubyte.gz\nDownloading http://yann.lecun.com/exdb/mnist/train-labels-idx1-ubyte.gz to ./data/MNIST/raw/train-labels-idx1-ubyte.gz\n",
          "output_type": "stream"
        },
        {
          "name": "stderr",
          "text": "\n100%|██████████| 28881/28881 [00:00<00:00, 32216939.85it/s]",
          "output_type": "stream"
        },
        {
          "name": "stdout",
          "text": "Extracting ./data/MNIST/raw/train-labels-idx1-ubyte.gz to ./data/MNIST/raw\n\nDownloading http://yann.lecun.com/exdb/mnist/t10k-images-idx3-ubyte.gz\nDownloading http://yann.lecun.com/exdb/mnist/t10k-images-idx3-ubyte.gz to ./data/MNIST/raw/t10k-images-idx3-ubyte.gz\n",
          "output_type": "stream"
        },
        {
          "name": "stderr",
          "text": "\n\n100%|██████████| 1648877/1648877 [00:00<00:00, 22940334.28it/s]\n",
          "output_type": "stream"
        },
        {
          "name": "stdout",
          "text": "Extracting ./data/MNIST/raw/t10k-images-idx3-ubyte.gz to ./data/MNIST/raw\n\nDownloading http://yann.lecun.com/exdb/mnist/t10k-labels-idx1-ubyte.gz\nDownloading http://yann.lecun.com/exdb/mnist/t10k-labels-idx1-ubyte.gz to ./data/MNIST/raw/t10k-labels-idx1-ubyte.gz\n",
          "output_type": "stream"
        },
        {
          "name": "stderr",
          "text": "\n100%|██████████| 4542/4542 [00:00<00:00, 11101706.74it/s]\n",
          "output_type": "stream"
        },
        {
          "name": "stdout",
          "text": "Extracting ./data/MNIST/raw/t10k-labels-idx1-ubyte.gz to ./data/MNIST/raw\n\n",
          "output_type": "stream"
        },
        {
          "name": "stderr",
          "text": "\n  0%|          | 0/7 [00:00<?, ?it/s]\u001b[A\n\n  0%|          | 0/15000 [00:00<?, ?it/s]\u001b[A\u001b[A",
          "output_type": "stream"
        },
        {
          "name": "stdout",
          "text": "hi while loop 0\n",
          "output_type": "stream"
        },
        {
          "name": "stderr",
          "text": "\n\ntrain_loss=0.23 train_acc=0.93 test_loss=0.14 test_acc=0.96:   0%|          | 0/15000 [00:10<?, ?it/s]\u001b[A\u001b[A\n\ntrain_loss=0.23 train_acc=0.93 test_loss=0.14 test_acc=0.96:   6%|▌         | 917/15000 [00:10<02:35, 90.51it/s]\u001b[A\u001b[A",
          "output_type": "stream"
        },
        {
          "name": "stdout",
          "text": "hi while loop 917\n",
          "output_type": "stream"
        },
        {
          "name": "stderr",
          "text": "\n\ntrain_loss=0.09 train_acc=0.97 test_loss=0.10 test_acc=0.97:   6%|▌         | 917/15000 [00:19<02:35, 90.51it/s]\u001b[A\u001b[A\n\ntrain_loss=0.09 train_acc=0.97 test_loss=0.10 test_acc=0.97:  12%|█▏        | 1834/15000 [00:19<02:15, 96.97it/s]\u001b[A\u001b[A",
          "output_type": "stream"
        },
        {
          "name": "stdout",
          "text": "hi while loop 1834\n",
          "output_type": "stream"
        },
        {
          "name": "stderr",
          "text": "\n\ntrain_loss=0.07 train_acc=0.98 test_loss=0.09 test_acc=0.97:  12%|█▏        | 1834/15000 [00:27<02:15, 96.97it/s]\u001b[A\u001b[A\n\ntrain_loss=0.07 train_acc=0.98 test_loss=0.09 test_acc=0.97:  18%|█▊        | 2751/15000 [00:27<02:00, 101.41it/s]\u001b[A\u001b[A",
          "output_type": "stream"
        },
        {
          "name": "stdout",
          "text": "hi while loop 2751\n",
          "output_type": "stream"
        },
        {
          "name": "stderr",
          "text": "\n\ntrain_loss=0.05 train_acc=0.98 test_loss=0.08 test_acc=0.98:  18%|█▊        | 2751/15000 [00:36<02:00, 101.41it/s]\u001b[A\u001b[A\n\ntrain_loss=0.05 train_acc=0.98 test_loss=0.08 test_acc=0.98:  24%|██▍       | 3668/15000 [00:36<01:50, 103.00it/s]\u001b[A\u001b[A",
          "output_type": "stream"
        },
        {
          "name": "stdout",
          "text": "hi while loop 3668\n",
          "output_type": "stream"
        },
        {
          "name": "stderr",
          "text": "\n\ntrain_loss=0.04 train_acc=0.99 test_loss=0.09 test_acc=0.97:  24%|██▍       | 3668/15000 [00:44<01:50, 103.00it/s]\u001b[A\u001b[A\n\ntrain_loss=0.04 train_acc=0.99 test_loss=0.09 test_acc=0.97:  31%|███       | 4585/15000 [00:44<01:39, 104.34it/s]\u001b[A\u001b[A",
          "output_type": "stream"
        },
        {
          "name": "stdout",
          "text": "hi while loop 4585\n",
          "output_type": "stream"
        },
        {
          "name": "stderr",
          "text": "\n\ntrain_loss=0.04 train_acc=0.99 test_loss=0.09 test_acc=0.98:  31%|███       | 4585/15000 [00:53<01:39, 104.34it/s]\u001b[A\u001b[A\n\ntrain_loss=0.04 train_acc=0.99 test_loss=0.09 test_acc=0.98:  37%|███▋      | 5502/15000 [00:53<01:31, 103.73it/s]\u001b[A\u001b[A",
          "output_type": "stream"
        },
        {
          "name": "stdout",
          "text": "hi while loop 5502\n",
          "output_type": "stream"
        },
        {
          "name": "stderr",
          "text": "\n\ntrain_loss=0.03 train_acc=0.99 test_loss=0.08 test_acc=0.98:  37%|███▋      | 5502/15000 [01:02<01:31, 103.73it/s]\u001b[A\u001b[A\n\ntrain_loss=0.03 train_acc=0.99 test_loss=0.08 test_acc=0.98:  43%|████▎     | 6419/15000 [01:02<01:21, 104.80it/s]\u001b[A\u001b[A",
          "output_type": "stream"
        },
        {
          "name": "stdout",
          "text": "hi while loop 6419\n",
          "output_type": "stream"
        },
        {
          "name": "stderr",
          "text": "\n\ntrain_loss=0.03 train_acc=0.99 test_loss=0.08 test_acc=0.98:  43%|████▎     | 6419/15000 [01:10<01:21, 104.80it/s]\u001b[A\u001b[A\n\ntrain_loss=0.03 train_acc=0.99 test_loss=0.08 test_acc=0.98:  49%|████▉     | 7336/15000 [01:10<01:12, 105.63it/s]\u001b[A\u001b[A",
          "output_type": "stream"
        },
        {
          "name": "stdout",
          "text": "hi while loop 7336\n",
          "output_type": "stream"
        },
        {
          "name": "stderr",
          "text": "\n\ntrain_loss=0.02 train_acc=0.99 test_loss=0.09 test_acc=0.98:  49%|████▉     | 7336/15000 [01:19<01:12, 105.63it/s]\u001b[A\u001b[A\n\ntrain_loss=0.02 train_acc=0.99 test_loss=0.09 test_acc=0.98:  55%|█████▌    | 8253/15000 [01:19<01:03, 106.66it/s]\u001b[A\u001b[A",
          "output_type": "stream"
        },
        {
          "name": "stdout",
          "text": "hi while loop 8253\n",
          "output_type": "stream"
        },
        {
          "name": "stderr",
          "text": "\n\ntrain_loss=0.02 train_acc=0.99 test_loss=0.08 test_acc=0.98:  55%|█████▌    | 8253/15000 [01:28<01:03, 106.66it/s]\u001b[A\u001b[A\n\ntrain_loss=0.02 train_acc=0.99 test_loss=0.08 test_acc=0.98:  61%|██████    | 9170/15000 [01:28<00:55, 105.49it/s]\u001b[A\u001b[A",
          "output_type": "stream"
        },
        {
          "name": "stdout",
          "text": "hi while loop 9170\n",
          "output_type": "stream"
        },
        {
          "name": "stderr",
          "text": "\n\ntrain_loss=0.02 train_acc=0.99 test_loss=0.10 test_acc=0.98:  61%|██████    | 9170/15000 [01:37<00:55, 105.49it/s]\u001b[A\u001b[A\n\ntrain_loss=0.02 train_acc=0.99 test_loss=0.10 test_acc=0.98:  67%|██████▋   | 10087/15000 [01:37<00:46, 104.87it/s]\u001b[A\u001b[A",
          "output_type": "stream"
        },
        {
          "name": "stdout",
          "text": "hi while loop 10087\n",
          "output_type": "stream"
        },
        {
          "name": "stderr",
          "text": "\n\ntrain_loss=0.02 train_acc=0.99 test_loss=0.11 test_acc=0.98:  67%|██████▋   | 10087/15000 [01:45<00:46, 104.87it/s]\u001b[A\u001b[A\n\ntrain_loss=0.02 train_acc=0.99 test_loss=0.11 test_acc=0.98:  73%|███████▎  | 11004/15000 [01:45<00:37, 105.47it/s]\u001b[A\u001b[A",
          "output_type": "stream"
        },
        {
          "name": "stdout",
          "text": "hi while loop 11004\n",
          "output_type": "stream"
        },
        {
          "name": "stderr",
          "text": "\n\ntrain_loss=0.02 train_acc=0.99 test_loss=0.10 test_acc=0.98:  73%|███████▎  | 11004/15000 [01:54<00:37, 105.47it/s]\u001b[A\u001b[A\n\ntrain_loss=0.02 train_acc=0.99 test_loss=0.10 test_acc=0.98:  79%|███████▉  | 11921/15000 [01:54<00:29, 104.50it/s]\u001b[A\u001b[A",
          "output_type": "stream"
        },
        {
          "name": "stdout",
          "text": "hi while loop 11921\n",
          "output_type": "stream"
        },
        {
          "name": "stderr",
          "text": "\n\ntrain_loss=0.02 train_acc=0.99 test_loss=0.09 test_acc=0.98:  79%|███████▉  | 11921/15000 [02:03<00:29, 104.50it/s]\u001b[A\u001b[A\n\ntrain_loss=0.02 train_acc=0.99 test_loss=0.09 test_acc=0.98:  86%|████████▌ | 12838/15000 [02:03<00:20, 104.39it/s]\u001b[A\u001b[A",
          "output_type": "stream"
        },
        {
          "name": "stdout",
          "text": "hi while loop 12838\n",
          "output_type": "stream"
        },
        {
          "name": "stderr",
          "text": "\n\ntrain_loss=0.02 train_acc=1.00 test_loss=0.12 test_acc=0.98:  86%|████████▌ | 12838/15000 [02:12<00:20, 104.39it/s]\u001b[A\u001b[A\n\ntrain_loss=0.02 train_acc=1.00 test_loss=0.12 test_acc=0.98:  92%|█████████▏| 13755/15000 [02:12<00:11, 105.21it/s]\u001b[A\u001b[A",
          "output_type": "stream"
        },
        {
          "name": "stdout",
          "text": "hi while loop 13755\n",
          "output_type": "stream"
        },
        {
          "name": "stderr",
          "text": "\n\ntrain_loss=0.01 train_acc=1.00 test_loss=0.11 test_acc=0.98:  92%|█████████▏| 13755/15000 [02:20<00:11, 105.21it/s]\u001b[A\u001b[A\n\ntrain_loss=0.01 train_acc=1.00 test_loss=0.11 test_acc=0.98:  98%|█████████▊| 14672/15000 [02:20<00:03, 106.09it/s]\u001b[A\u001b[A",
          "output_type": "stream"
        },
        {
          "name": "stdout",
          "text": "hi while loop 14672\n",
          "output_type": "stream"
        },
        {
          "name": "stderr",
          "text": "\n\ntrain_loss=0.01 train_acc=1.00 test_loss=0.11 test_acc=0.98:  98%|█████████▊| 14672/15000 [02:25<00:03, 106.09it/s]\u001b[A\u001b[A\n\ntrain_loss=0.01 train_acc=1.00 test_loss=0.11 test_acc=0.98: 100%|██████████| 15000/15000 [02:25<00:00, 99.96it/s] \u001b[A\u001b[A\n\n                                                                                                                  \u001b[A\u001b[A\n 14%|█▍        | 1/7 [02:25<14:30, 145.09s/it]\u001b[A\n\n  0%|          | 0/15000 [00:00<?, ?it/s]\u001b[A\u001b[A",
          "output_type": "stream"
        },
        {
          "name": "stdout",
          "text": "hi while loop 0\n",
          "output_type": "stream"
        },
        {
          "name": "stderr",
          "text": "\n\ntrain_loss=0.20 train_acc=0.94 test_loss=0.11 test_acc=0.97:   0%|          | 0/15000 [00:09<?, ?it/s]\u001b[A\u001b[A\n\ntrain_loss=0.20 train_acc=0.94 test_loss=0.11 test_acc=0.97:   6%|▌         | 917/15000 [00:09<02:21, 99.65it/s]\u001b[A\u001b[A",
          "output_type": "stream"
        },
        {
          "name": "stdout",
          "text": "hi while loop 917\n",
          "output_type": "stream"
        },
        {
          "name": "stderr",
          "text": "\n\ntrain_loss=0.08 train_acc=0.98 test_loss=0.08 test_acc=0.98:   6%|▌         | 917/15000 [00:18<02:21, 99.65it/s]\u001b[A\u001b[A\n\ntrain_loss=0.08 train_acc=0.98 test_loss=0.08 test_acc=0.98:  12%|█▏        | 1834/15000 [00:18<02:09, 101.84it/s]\u001b[A\u001b[A",
          "output_type": "stream"
        },
        {
          "name": "stdout",
          "text": "hi while loop 1834\n",
          "output_type": "stream"
        },
        {
          "name": "stderr",
          "text": "\n\ntrain_loss=0.05 train_acc=0.98 test_loss=0.08 test_acc=0.98:  12%|█▏        | 1834/15000 [00:26<02:09, 101.84it/s]\u001b[A\u001b[A\n\ntrain_loss=0.05 train_acc=0.98 test_loss=0.08 test_acc=0.98:  18%|█▊        | 2751/15000 [00:26<01:58, 102.96it/s]\u001b[A\u001b[A",
          "output_type": "stream"
        },
        {
          "name": "stdout",
          "text": "hi while loop 2751\n",
          "output_type": "stream"
        },
        {
          "name": "stderr",
          "text": "\n\ntrain_loss=0.04 train_acc=0.99 test_loss=0.09 test_acc=0.98:  18%|█▊        | 2751/15000 [00:35<01:58, 102.96it/s]\u001b[A\u001b[A\n\ntrain_loss=0.04 train_acc=0.99 test_loss=0.09 test_acc=0.98:  24%|██▍       | 3668/15000 [00:35<01:50, 102.56it/s]\u001b[A\u001b[A",
          "output_type": "stream"
        },
        {
          "name": "stdout",
          "text": "hi while loop 3668\n",
          "output_type": "stream"
        },
        {
          "name": "stderr",
          "text": "\n\ntrain_loss=0.03 train_acc=0.99 test_loss=0.08 test_acc=0.98:  24%|██▍       | 3668/15000 [00:44<01:50, 102.56it/s]\u001b[A\u001b[A\n\ntrain_loss=0.03 train_acc=0.99 test_loss=0.08 test_acc=0.98:  31%|███       | 4585/15000 [00:44<01:40, 103.16it/s]\u001b[A\u001b[A",
          "output_type": "stream"
        },
        {
          "name": "stdout",
          "text": "hi while loop 4585\n",
          "output_type": "stream"
        },
        {
          "name": "stderr",
          "text": "\n\ntrain_loss=0.03 train_acc=0.99 test_loss=0.08 test_acc=0.98:  31%|███       | 4585/15000 [00:53<01:40, 103.16it/s]\u001b[A\u001b[A\n\ntrain_loss=0.03 train_acc=0.99 test_loss=0.08 test_acc=0.98:  37%|███▋      | 5502/15000 [00:53<01:31, 103.69it/s]\u001b[A\u001b[A",
          "output_type": "stream"
        },
        {
          "name": "stdout",
          "text": "hi while loop 5502\n",
          "output_type": "stream"
        },
        {
          "name": "stderr",
          "text": "\n\ntrain_loss=0.02 train_acc=0.99 test_loss=0.09 test_acc=0.98:  37%|███▋      | 5502/15000 [01:02<01:31, 103.69it/s]\u001b[A\u001b[A\n\ntrain_loss=0.02 train_acc=0.99 test_loss=0.09 test_acc=0.98:  43%|████▎     | 6419/15000 [01:02<01:22, 103.90it/s]\u001b[A\u001b[A",
          "output_type": "stream"
        },
        {
          "name": "stdout",
          "text": "hi while loop 6419\n",
          "output_type": "stream"
        },
        {
          "name": "stderr",
          "text": "\n\ntrain_loss=0.02 train_acc=0.99 test_loss=0.10 test_acc=0.98:  43%|████▎     | 6419/15000 [01:11<01:22, 103.90it/s]\u001b[A\u001b[A\n\ntrain_loss=0.02 train_acc=0.99 test_loss=0.10 test_acc=0.98:  49%|████▉     | 7336/15000 [01:11<01:15, 102.02it/s]\u001b[A\u001b[A",
          "output_type": "stream"
        },
        {
          "name": "stdout",
          "text": "hi while loop 7336\n",
          "output_type": "stream"
        },
        {
          "name": "stderr",
          "text": "\n\ntrain_loss=0.02 train_acc=0.99 test_loss=0.11 test_acc=0.98:  49%|████▉     | 7336/15000 [01:20<01:15, 102.02it/s]\u001b[A\u001b[A\n\ntrain_loss=0.02 train_acc=0.99 test_loss=0.11 test_acc=0.98:  55%|█████▌    | 8253/15000 [01:20<01:05, 102.53it/s]\u001b[A\u001b[A",
          "output_type": "stream"
        },
        {
          "name": "stdout",
          "text": "hi while loop 8253\n",
          "output_type": "stream"
        },
        {
          "name": "stderr",
          "text": "\n\ntrain_loss=0.02 train_acc=0.99 test_loss=0.11 test_acc=0.98:  55%|█████▌    | 8253/15000 [01:29<01:05, 102.53it/s]\u001b[A\u001b[A\n\ntrain_loss=0.02 train_acc=0.99 test_loss=0.11 test_acc=0.98:  61%|██████    | 9170/15000 [01:29<00:56, 102.67it/s]\u001b[A\u001b[A",
          "output_type": "stream"
        },
        {
          "name": "stdout",
          "text": "hi while loop 9170\n",
          "output_type": "stream"
        },
        {
          "name": "stderr",
          "text": "\n\ntrain_loss=0.02 train_acc=0.99 test_loss=0.12 test_acc=0.98:  61%|██████    | 9170/15000 [01:38<00:56, 102.67it/s]\u001b[A\u001b[A\n\ntrain_loss=0.02 train_acc=0.99 test_loss=0.12 test_acc=0.98:  67%|██████▋   | 10087/15000 [01:38<00:48, 101.82it/s]\u001b[A\u001b[A",
          "output_type": "stream"
        },
        {
          "name": "stdout",
          "text": "hi while loop 10087\n",
          "output_type": "stream"
        },
        {
          "name": "stderr",
          "text": "\n\ntrain_loss=0.01 train_acc=1.00 test_loss=0.12 test_acc=0.98:  67%|██████▋   | 10087/15000 [01:47<00:48, 101.82it/s]\u001b[A\u001b[A\n\ntrain_loss=0.01 train_acc=1.00 test_loss=0.12 test_acc=0.98:  73%|███████▎  | 11004/15000 [01:47<00:39, 102.16it/s]\u001b[A\u001b[A",
          "output_type": "stream"
        },
        {
          "name": "stdout",
          "text": "hi while loop 11004\n",
          "output_type": "stream"
        },
        {
          "name": "stderr",
          "text": "\n\ntrain_loss=0.01 train_acc=1.00 test_loss=0.13 test_acc=0.98:  73%|███████▎  | 11004/15000 [01:56<00:39, 102.16it/s]\u001b[A\u001b[A\n\ntrain_loss=0.01 train_acc=1.00 test_loss=0.13 test_acc=0.98:  79%|███████▉  | 11921/15000 [01:56<00:29, 102.96it/s]\u001b[A\u001b[A",
          "output_type": "stream"
        },
        {
          "name": "stdout",
          "text": "hi while loop 11921\n",
          "output_type": "stream"
        },
        {
          "name": "stderr",
          "text": "\n\ntrain_loss=0.01 train_acc=1.00 test_loss=0.11 test_acc=0.98:  79%|███████▉  | 11921/15000 [02:04<00:29, 102.96it/s]\u001b[A\u001b[A\n\ntrain_loss=0.01 train_acc=1.00 test_loss=0.11 test_acc=0.98:  86%|████████▌ | 12838/15000 [02:04<00:20, 103.80it/s]\u001b[A\u001b[A",
          "output_type": "stream"
        },
        {
          "name": "stdout",
          "text": "hi while loop 12838\n",
          "output_type": "stream"
        },
        {
          "name": "stderr",
          "text": "\n\ntrain_loss=0.01 train_acc=1.00 test_loss=0.13 test_acc=0.98:  86%|████████▌ | 12838/15000 [02:14<00:20, 103.80it/s]\u001b[A\u001b[A\n\ntrain_loss=0.01 train_acc=1.00 test_loss=0.13 test_acc=0.98:  92%|█████████▏| 13755/15000 [02:14<00:12, 102.31it/s]\u001b[A\u001b[A",
          "output_type": "stream"
        },
        {
          "name": "stdout",
          "text": "hi while loop 13755\n",
          "output_type": "stream"
        },
        {
          "name": "stderr",
          "text": "\n\ntrain_loss=0.01 train_acc=1.00 test_loss=0.15 test_acc=0.98:  92%|█████████▏| 13755/15000 [02:22<00:12, 102.31it/s]\u001b[A\u001b[A\n\ntrain_loss=0.01 train_acc=1.00 test_loss=0.15 test_acc=0.98:  98%|█████████▊| 14672/15000 [02:22<00:03, 102.97it/s]\u001b[A\u001b[A",
          "output_type": "stream"
        },
        {
          "name": "stdout",
          "text": "hi while loop 14672\n",
          "output_type": "stream"
        },
        {
          "name": "stderr",
          "text": "\n\ntrain_loss=0.01 train_acc=1.00 test_loss=0.15 test_acc=0.98:  98%|█████████▊| 14672/15000 [02:27<00:03, 102.97it/s]\u001b[A\u001b[A\n\ntrain_loss=0.01 train_acc=1.00 test_loss=0.15 test_acc=0.98: 100%|██████████| 15000/15000 [02:27<00:00, 97.71it/s] \u001b[A\u001b[A\n\n                                                                                                                  \u001b[A\u001b[A\n 29%|██▊       | 2/7 [04:52<12:11, 146.39s/it]\u001b[A\n\n  0%|          | 0/15000 [00:00<?, ?it/s]\u001b[A\u001b[A",
          "output_type": "stream"
        },
        {
          "name": "stdout",
          "text": "hi while loop 0\n",
          "output_type": "stream"
        },
        {
          "name": "stderr",
          "text": "\n\ntrain_loss=0.21 train_acc=0.93 test_loss=0.11 test_acc=0.97:   0%|          | 0/15000 [00:08<?, ?it/s]\u001b[A\u001b[A\n\ntrain_loss=0.21 train_acc=0.93 test_loss=0.11 test_acc=0.97:   6%|▌         | 917/15000 [00:08<02:13, 105.44it/s]\u001b[A\u001b[A",
          "output_type": "stream"
        },
        {
          "name": "stdout",
          "text": "hi while loop 917\n",
          "output_type": "stream"
        },
        {
          "name": "stderr",
          "text": "\n\ntrain_loss=0.07 train_acc=0.98 test_loss=0.09 test_acc=0.97:   6%|▌         | 917/15000 [00:17<02:13, 105.44it/s]\u001b[A\u001b[A\n\ntrain_loss=0.07 train_acc=0.98 test_loss=0.09 test_acc=0.97:  12%|█▏        | 1834/15000 [00:17<02:07, 102.91it/s]\u001b[A\u001b[A",
          "output_type": "stream"
        },
        {
          "name": "stdout",
          "text": "hi while loop 1834\n",
          "output_type": "stream"
        },
        {
          "name": "stderr",
          "text": "\n\ntrain_loss=0.05 train_acc=0.98 test_loss=0.08 test_acc=0.98:  12%|█▏        | 1834/15000 [00:26<02:07, 102.91it/s]\u001b[A\u001b[A\n\ntrain_loss=0.05 train_acc=0.98 test_loss=0.08 test_acc=0.98:  18%|█▊        | 2751/15000 [00:26<01:57, 103.98it/s]\u001b[A\u001b[A",
          "output_type": "stream"
        },
        {
          "name": "stdout",
          "text": "hi while loop 2751\n",
          "output_type": "stream"
        },
        {
          "name": "stderr",
          "text": "\n\ntrain_loss=0.04 train_acc=0.99 test_loss=0.07 test_acc=0.98:  18%|█▊        | 2751/15000 [00:35<01:57, 103.98it/s]\u001b[A\u001b[A\n\ntrain_loss=0.04 train_acc=0.99 test_loss=0.07 test_acc=0.98:  24%|██▍       | 3668/15000 [00:35<01:48, 104.41it/s]\u001b[A\u001b[A",
          "output_type": "stream"
        },
        {
          "name": "stdout",
          "text": "hi while loop 3668\n",
          "output_type": "stream"
        },
        {
          "name": "stderr",
          "text": "\n\ntrain_loss=0.03 train_acc=0.99 test_loss=0.08 test_acc=0.98:  24%|██▍       | 3668/15000 [00:44<01:48, 104.41it/s]\u001b[A\u001b[A\n\ntrain_loss=0.03 train_acc=0.99 test_loss=0.08 test_acc=0.98:  31%|███       | 4585/15000 [00:44<01:41, 102.85it/s]\u001b[A\u001b[A",
          "output_type": "stream"
        },
        {
          "name": "stdout",
          "text": "hi while loop 4585\n",
          "output_type": "stream"
        },
        {
          "name": "stderr",
          "text": "\n\ntrain_loss=0.02 train_acc=0.99 test_loss=0.07 test_acc=0.98:  31%|███       | 4585/15000 [00:53<01:41, 102.85it/s]\u001b[A\u001b[A\n\ntrain_loss=0.02 train_acc=0.99 test_loss=0.07 test_acc=0.98:  37%|███▋      | 5502/15000 [00:53<01:32, 102.91it/s]\u001b[A\u001b[A",
          "output_type": "stream"
        },
        {
          "name": "stdout",
          "text": "hi while loop 5502\n",
          "output_type": "stream"
        },
        {
          "name": "stderr",
          "text": "\n\ntrain_loss=0.02 train_acc=0.99 test_loss=0.09 test_acc=0.98:  37%|███▋      | 5502/15000 [01:01<01:32, 102.91it/s]\u001b[A\u001b[A\n\ntrain_loss=0.02 train_acc=0.99 test_loss=0.09 test_acc=0.98:  43%|████▎     | 6419/15000 [01:02<01:22, 103.51it/s]\u001b[A\u001b[A",
          "output_type": "stream"
        },
        {
          "name": "stdout",
          "text": "hi while loop 6419\n",
          "output_type": "stream"
        },
        {
          "name": "stderr",
          "text": "\n\ntrain_loss=0.02 train_acc=0.99 test_loss=0.10 test_acc=0.98:  43%|████▎     | 6419/15000 [01:10<01:22, 103.51it/s]\u001b[A\u001b[A\n\ntrain_loss=0.02 train_acc=0.99 test_loss=0.10 test_acc=0.98:  49%|████▉     | 7336/15000 [01:10<01:13, 103.68it/s]\u001b[A\u001b[A",
          "output_type": "stream"
        },
        {
          "name": "stdout",
          "text": "hi while loop 7336\n",
          "output_type": "stream"
        },
        {
          "name": "stderr",
          "text": "\n\ntrain_loss=0.01 train_acc=1.00 test_loss=0.09 test_acc=0.98:  49%|████▉     | 7336/15000 [01:20<01:13, 103.68it/s]\u001b[A\u001b[A\n\ntrain_loss=0.01 train_acc=1.00 test_loss=0.09 test_acc=0.98:  55%|█████▌    | 8253/15000 [01:20<01:05, 102.36it/s]\u001b[A\u001b[A",
          "output_type": "stream"
        },
        {
          "name": "stdout",
          "text": "hi while loop 8253\n",
          "output_type": "stream"
        },
        {
          "name": "stderr",
          "text": "\n\ntrain_loss=0.01 train_acc=1.00 test_loss=0.10 test_acc=0.98:  55%|█████▌    | 8253/15000 [01:28<01:05, 102.36it/s]\u001b[A\u001b[A\n\ntrain_loss=0.01 train_acc=1.00 test_loss=0.10 test_acc=0.98:  61%|██████    | 9170/15000 [01:28<00:56, 103.01it/s]\u001b[A\u001b[A",
          "output_type": "stream"
        },
        {
          "name": "stdout",
          "text": "hi while loop 9170\n",
          "output_type": "stream"
        },
        {
          "name": "stderr",
          "text": "\n\ntrain_loss=0.01 train_acc=1.00 test_loss=0.11 test_acc=0.98:  61%|██████    | 9170/15000 [01:37<00:56, 103.01it/s]\u001b[A\u001b[A\n\ntrain_loss=0.01 train_acc=1.00 test_loss=0.11 test_acc=0.98:  67%|██████▋   | 10087/15000 [01:37<00:47, 103.71it/s]\u001b[A\u001b[A",
          "output_type": "stream"
        },
        {
          "name": "stdout",
          "text": "hi while loop 10087\n",
          "output_type": "stream"
        },
        {
          "name": "stderr",
          "text": "\n\ntrain_loss=0.01 train_acc=1.00 test_loss=0.10 test_acc=0.98:  67%|██████▋   | 10087/15000 [01:46<00:47, 103.71it/s]\u001b[A\u001b[A\n\ntrain_loss=0.01 train_acc=1.00 test_loss=0.10 test_acc=0.98:  73%|███████▎  | 11004/15000 [01:46<00:38, 103.81it/s]\u001b[A\u001b[A",
          "output_type": "stream"
        },
        {
          "name": "stdout",
          "text": "hi while loop 11004\n",
          "output_type": "stream"
        },
        {
          "name": "stderr",
          "text": "\n\ntrain_loss=0.01 train_acc=1.00 test_loss=0.11 test_acc=0.98:  73%|███████▎  | 11004/15000 [01:55<00:38, 103.81it/s]\u001b[A\u001b[A\n\ntrain_loss=0.01 train_acc=1.00 test_loss=0.11 test_acc=0.98:  79%|███████▉  | 11921/15000 [01:55<00:29, 102.63it/s]\u001b[A\u001b[A",
          "output_type": "stream"
        },
        {
          "name": "stdout",
          "text": "hi while loop 11921\n",
          "output_type": "stream"
        },
        {
          "name": "stderr",
          "text": "\n\ntrain_loss=0.01 train_acc=1.00 test_loss=0.12 test_acc=0.98:  79%|███████▉  | 11921/15000 [02:04<00:29, 102.63it/s]\u001b[A\u001b[A\n\ntrain_loss=0.01 train_acc=1.00 test_loss=0.12 test_acc=0.98:  86%|████████▌ | 12838/15000 [02:04<00:20, 102.98it/s]\u001b[A\u001b[A",
          "output_type": "stream"
        },
        {
          "name": "stdout",
          "text": "hi while loop 12838\n",
          "output_type": "stream"
        },
        {
          "name": "stderr",
          "text": "\n\ntrain_loss=0.01 train_acc=1.00 test_loss=0.12 test_acc=0.98:  86%|████████▌ | 12838/15000 [02:13<00:20, 102.98it/s]\u001b[A\u001b[A\n\ntrain_loss=0.01 train_acc=1.00 test_loss=0.12 test_acc=0.98:  92%|█████████▏| 13755/15000 [02:13<00:12, 103.38it/s]\u001b[A\u001b[A",
          "output_type": "stream"
        },
        {
          "name": "stdout",
          "text": "hi while loop 13755\n",
          "output_type": "stream"
        },
        {
          "name": "stderr",
          "text": "\n\ntrain_loss=0.01 train_acc=1.00 test_loss=0.12 test_acc=0.98:  92%|█████████▏| 13755/15000 [02:22<00:12, 103.38it/s]\u001b[A\u001b[A\n\ntrain_loss=0.01 train_acc=1.00 test_loss=0.12 test_acc=0.98:  98%|█████████▊| 14672/15000 [02:22<00:03, 102.27it/s]\u001b[A\u001b[A",
          "output_type": "stream"
        },
        {
          "name": "stdout",
          "text": "hi while loop 14672\n",
          "output_type": "stream"
        },
        {
          "name": "stderr",
          "text": "\n\ntrain_loss=0.01 train_acc=1.00 test_loss=0.10 test_acc=0.98:  98%|█████████▊| 14672/15000 [02:26<00:03, 102.27it/s]\u001b[A\u001b[A\n\ntrain_loss=0.01 train_acc=1.00 test_loss=0.10 test_acc=0.98: 100%|██████████| 15000/15000 [02:26<00:00, 97.29it/s] \u001b[A\u001b[A\n\n                                                                                                                  \u001b[A\u001b[A\n 43%|████▎     | 3/7 [07:19<09:46, 146.56s/it]\u001b[A\n\n  0%|          | 0/15000 [00:00<?, ?it/s]\u001b[A\u001b[A",
          "output_type": "stream"
        },
        {
          "name": "stdout",
          "text": "hi while loop 0\n",
          "output_type": "stream"
        },
        {
          "name": "stderr",
          "text": "\n\ntrain_loss=0.21 train_acc=0.94 test_loss=0.08 test_acc=0.97:   0%|          | 0/15000 [00:08<?, ?it/s]\u001b[A\u001b[A\n\ntrain_loss=0.21 train_acc=0.94 test_loss=0.08 test_acc=0.97:   6%|▌         | 917/15000 [00:08<02:13, 105.63it/s]\u001b[A\u001b[A",
          "output_type": "stream"
        },
        {
          "name": "stdout",
          "text": "hi while loop 917\n",
          "output_type": "stream"
        },
        {
          "name": "stderr",
          "text": "\n\ntrain_loss=0.06 train_acc=0.98 test_loss=0.07 test_acc=0.98:   6%|▌         | 917/15000 [00:17<02:13, 105.63it/s]\u001b[A\u001b[A\n\ntrain_loss=0.06 train_acc=0.98 test_loss=0.07 test_acc=0.98:  12%|█▏        | 1834/15000 [00:17<02:05, 104.81it/s]\u001b[A\u001b[A",
          "output_type": "stream"
        },
        {
          "name": "stdout",
          "text": "hi while loop 1834\n",
          "output_type": "stream"
        },
        {
          "name": "stderr",
          "text": "\n\ntrain_loss=0.04 train_acc=0.99 test_loss=0.07 test_acc=0.98:  12%|█▏        | 1834/15000 [00:26<02:05, 104.81it/s]\u001b[A\u001b[A\n\ntrain_loss=0.04 train_acc=0.99 test_loss=0.07 test_acc=0.98:  18%|█▊        | 2751/15000 [00:26<01:59, 102.60it/s]\u001b[A\u001b[A",
          "output_type": "stream"
        },
        {
          "name": "stdout",
          "text": "hi while loop 2751\n",
          "output_type": "stream"
        },
        {
          "name": "stderr",
          "text": "\n\ntrain_loss=0.03 train_acc=0.99 test_loss=0.07 test_acc=0.98:  18%|█▊        | 2751/15000 [00:35<01:59, 102.60it/s]\u001b[A\u001b[A\n\ntrain_loss=0.03 train_acc=0.99 test_loss=0.07 test_acc=0.98:  24%|██▍       | 3668/15000 [00:35<01:49, 103.12it/s]\u001b[A\u001b[A",
          "output_type": "stream"
        },
        {
          "name": "stdout",
          "text": "hi while loop 3668\n",
          "output_type": "stream"
        },
        {
          "name": "stderr",
          "text": "\n\ntrain_loss=0.02 train_acc=0.99 test_loss=0.07 test_acc=0.98:  24%|██▍       | 3668/15000 [00:44<01:49, 103.12it/s]\u001b[A\u001b[A\n\ntrain_loss=0.02 train_acc=0.99 test_loss=0.07 test_acc=0.98:  31%|███       | 4585/15000 [00:44<01:40, 103.23it/s]\u001b[A\u001b[A",
          "output_type": "stream"
        },
        {
          "name": "stdout",
          "text": "hi while loop 4585\n",
          "output_type": "stream"
        },
        {
          "name": "stderr",
          "text": "\n\ntrain_loss=0.01 train_acc=0.99 test_loss=0.08 test_acc=0.98:  31%|███       | 4585/15000 [00:53<01:40, 103.23it/s]\u001b[A\u001b[A\n\ntrain_loss=0.01 train_acc=0.99 test_loss=0.08 test_acc=0.98:  37%|███▋      | 5502/15000 [00:53<01:31, 103.36it/s]\u001b[A\u001b[A",
          "output_type": "stream"
        },
        {
          "name": "stdout",
          "text": "hi while loop 5502\n",
          "output_type": "stream"
        },
        {
          "name": "stderr",
          "text": "\n\ntrain_loss=0.01 train_acc=1.00 test_loss=0.09 test_acc=0.98:  37%|███▋      | 5502/15000 [01:02<01:31, 103.36it/s]\u001b[A\u001b[A\n\ntrain_loss=0.01 train_acc=1.00 test_loss=0.09 test_acc=0.98:  43%|████▎     | 6419/15000 [01:02<01:24, 102.12it/s]\u001b[A\u001b[A",
          "output_type": "stream"
        },
        {
          "name": "stdout",
          "text": "hi while loop 6419\n",
          "output_type": "stream"
        },
        {
          "name": "stderr",
          "text": "\n\ntrain_loss=0.01 train_acc=1.00 test_loss=0.09 test_acc=0.98:  43%|████▎     | 6419/15000 [01:11<01:24, 102.12it/s]\u001b[A\u001b[A\n\ntrain_loss=0.01 train_acc=1.00 test_loss=0.09 test_acc=0.98:  49%|████▉     | 7336/15000 [01:11<01:14, 103.38it/s]\u001b[A\u001b[A",
          "output_type": "stream"
        },
        {
          "name": "stdout",
          "text": "hi while loop 7336\n",
          "output_type": "stream"
        },
        {
          "name": "stderr",
          "text": "\n\ntrain_loss=0.01 train_acc=1.00 test_loss=0.10 test_acc=0.98:  49%|████▉     | 7336/15000 [01:19<01:14, 103.38it/s]\u001b[A\u001b[A\n\ntrain_loss=0.01 train_acc=1.00 test_loss=0.10 test_acc=0.98:  55%|█████▌    | 8253/15000 [01:19<01:05, 103.41it/s]\u001b[A\u001b[A",
          "output_type": "stream"
        },
        {
          "name": "stdout",
          "text": "hi while loop 8253\n",
          "output_type": "stream"
        },
        {
          "name": "stderr",
          "text": "\n\ntrain_loss=0.01 train_acc=1.00 test_loss=0.10 test_acc=0.98:  55%|█████▌    | 8253/15000 [01:28<01:05, 103.41it/s]\u001b[A\u001b[A\n\ntrain_loss=0.01 train_acc=1.00 test_loss=0.10 test_acc=0.98:  61%|██████    | 9170/15000 [01:28<00:56, 102.53it/s]\u001b[A\u001b[A",
          "output_type": "stream"
        },
        {
          "name": "stdout",
          "text": "hi while loop 9170\n",
          "output_type": "stream"
        },
        {
          "name": "stderr",
          "text": "\n\ntrain_loss=0.01 train_acc=1.00 test_loss=0.11 test_acc=0.98:  61%|██████    | 9170/15000 [01:37<00:56, 102.53it/s]\u001b[A\u001b[A\n\ntrain_loss=0.01 train_acc=1.00 test_loss=0.11 test_acc=0.98:  67%|██████▋   | 10087/15000 [01:37<00:47, 103.26it/s]\u001b[A\u001b[A",
          "output_type": "stream"
        },
        {
          "name": "stdout",
          "text": "hi while loop 10087\n",
          "output_type": "stream"
        },
        {
          "name": "stderr",
          "text": "\n\ntrain_loss=0.01 train_acc=1.00 test_loss=0.10 test_acc=0.98:  67%|██████▋   | 10087/15000 [01:46<00:47, 103.26it/s]\u001b[A\u001b[A\n\ntrain_loss=0.01 train_acc=1.00 test_loss=0.10 test_acc=0.98:  73%|███████▎  | 11004/15000 [01:46<00:38, 103.60it/s]\u001b[A\u001b[A",
          "output_type": "stream"
        },
        {
          "name": "stdout",
          "text": "hi while loop 11004\n",
          "output_type": "stream"
        },
        {
          "name": "stderr",
          "text": "\n\ntrain_loss=0.01 train_acc=1.00 test_loss=0.10 test_acc=0.98:  73%|███████▎  | 11004/15000 [01:55<00:38, 103.60it/s]\u001b[A\u001b[A\n\ntrain_loss=0.01 train_acc=1.00 test_loss=0.10 test_acc=0.98:  79%|███████▉  | 11921/15000 [01:55<00:29, 103.49it/s]\u001b[A\u001b[A",
          "output_type": "stream"
        },
        {
          "name": "stdout",
          "text": "hi while loop 11921\n",
          "output_type": "stream"
        },
        {
          "name": "stderr",
          "text": "\n\ntrain_loss=0.01 train_acc=1.00 test_loss=0.10 test_acc=0.98:  79%|███████▉  | 11921/15000 [02:04<00:29, 103.49it/s]\u001b[A\u001b[A\n\ntrain_loss=0.01 train_acc=1.00 test_loss=0.10 test_acc=0.98:  86%|████████▌ | 12838/15000 [02:04<00:21, 102.25it/s]\u001b[A\u001b[A",
          "output_type": "stream"
        },
        {
          "name": "stdout",
          "text": "hi while loop 12838\n",
          "output_type": "stream"
        },
        {
          "name": "stderr",
          "text": "\n\ntrain_loss=0.00 train_acc=1.00 test_loss=0.11 test_acc=0.98:  86%|████████▌ | 12838/15000 [02:13<00:21, 102.25it/s]\u001b[A\u001b[A\n\ntrain_loss=0.00 train_acc=1.00 test_loss=0.11 test_acc=0.98:  92%|█████████▏| 13755/15000 [02:13<00:12, 102.78it/s]\u001b[A\u001b[A",
          "output_type": "stream"
        },
        {
          "name": "stdout",
          "text": "hi while loop 13755\n",
          "output_type": "stream"
        },
        {
          "name": "stderr",
          "text": "\n\ntrain_loss=0.01 train_acc=1.00 test_loss=0.13 test_acc=0.98:  92%|█████████▏| 13755/15000 [02:22<00:12, 102.78it/s]\u001b[A\u001b[A\n\ntrain_loss=0.01 train_acc=1.00 test_loss=0.13 test_acc=0.98:  98%|█████████▊| 14672/15000 [02:22<00:03, 102.71it/s]\u001b[A\u001b[A",
          "output_type": "stream"
        },
        {
          "name": "stdout",
          "text": "hi while loop 14672\n",
          "output_type": "stream"
        },
        {
          "name": "stderr",
          "text": "\n\ntrain_loss=0.01 train_acc=1.00 test_loss=0.13 test_acc=0.98:  98%|█████████▊| 14672/15000 [02:26<00:03, 102.71it/s]\u001b[A\u001b[A\n\ntrain_loss=0.01 train_acc=1.00 test_loss=0.13 test_acc=0.98: 100%|██████████| 15000/15000 [02:26<00:00, 97.27it/s] \u001b[A\u001b[A\n\n                                                                                                                  \u001b[A\u001b[A\n 57%|█████▋    | 4/7 [09:46<07:20, 146.70s/it]\u001b[A\n\n  0%|          | 0/15000 [00:00<?, ?it/s]\u001b[A\u001b[A",
          "output_type": "stream"
        },
        {
          "name": "stdout",
          "text": "hi while loop 0\n",
          "output_type": "stream"
        },
        {
          "name": "stderr",
          "text": "\n\ntrain_loss=0.26 train_acc=0.93 test_loss=0.09 test_acc=0.97:   0%|          | 0/15000 [00:09<?, ?it/s]\u001b[A\u001b[A\n\ntrain_loss=0.26 train_acc=0.93 test_loss=0.09 test_acc=0.97:   6%|▌         | 917/15000 [00:09<02:19, 101.00it/s]\u001b[A\u001b[A",
          "output_type": "stream"
        },
        {
          "name": "stdout",
          "text": "hi while loop 917\n",
          "output_type": "stream"
        },
        {
          "name": "stderr",
          "text": "\n\ntrain_loss=0.06 train_acc=0.98 test_loss=0.06 test_acc=0.98:   6%|▌         | 917/15000 [00:17<02:19, 101.00it/s]\u001b[A\u001b[A\n\ntrain_loss=0.06 train_acc=0.98 test_loss=0.06 test_acc=0.98:  12%|█▏        | 1834/15000 [00:17<02:08, 102.55it/s]\u001b[A\u001b[A",
          "output_type": "stream"
        },
        {
          "name": "stdout",
          "text": "hi while loop 1834\n",
          "output_type": "stream"
        },
        {
          "name": "stderr",
          "text": "\n\ntrain_loss=0.04 train_acc=0.99 test_loss=0.06 test_acc=0.98:  12%|█▏        | 1834/15000 [00:26<02:08, 102.55it/s]\u001b[A\u001b[A\n\ntrain_loss=0.04 train_acc=0.99 test_loss=0.06 test_acc=0.98:  18%|█▊        | 2751/15000 [00:26<01:58, 103.25it/s]\u001b[A\u001b[A",
          "output_type": "stream"
        },
        {
          "name": "stdout",
          "text": "hi while loop 2751\n",
          "output_type": "stream"
        },
        {
          "name": "stderr",
          "text": "\n\ntrain_loss=0.03 train_acc=0.99 test_loss=0.06 test_acc=0.98:  18%|█▊        | 2751/15000 [00:35<01:58, 103.25it/s]\u001b[A\u001b[A\n\ntrain_loss=0.03 train_acc=0.99 test_loss=0.06 test_acc=0.98:  24%|██▍       | 3668/15000 [00:35<01:50, 102.93it/s]\u001b[A\u001b[A",
          "output_type": "stream"
        },
        {
          "name": "stdout",
          "text": "hi while loop 3668\n",
          "output_type": "stream"
        },
        {
          "name": "stderr",
          "text": "\n\ntrain_loss=0.02 train_acc=0.99 test_loss=0.06 test_acc=0.98:  24%|██▍       | 3668/15000 [00:44<01:50, 102.93it/s]\u001b[A\u001b[A\n\ntrain_loss=0.02 train_acc=0.99 test_loss=0.06 test_acc=0.98:  31%|███       | 4585/15000 [00:44<01:42, 102.09it/s]\u001b[A\u001b[A",
          "output_type": "stream"
        },
        {
          "name": "stdout",
          "text": "hi while loop 4585\n",
          "output_type": "stream"
        },
        {
          "name": "stderr",
          "text": "\n\ntrain_loss=0.01 train_acc=1.00 test_loss=0.07 test_acc=0.98:  31%|███       | 4585/15000 [00:53<01:42, 102.09it/s]\u001b[A\u001b[A\n\ntrain_loss=0.01 train_acc=1.00 test_loss=0.07 test_acc=0.98:  37%|███▋      | 5502/15000 [00:53<01:32, 102.62it/s]\u001b[A\u001b[A",
          "output_type": "stream"
        },
        {
          "name": "stdout",
          "text": "hi while loop 5502\n",
          "output_type": "stream"
        },
        {
          "name": "stderr",
          "text": "\n\ntrain_loss=0.01 train_acc=1.00 test_loss=0.07 test_acc=0.98:  37%|███▋      | 5502/15000 [01:02<01:32, 102.62it/s]\u001b[A\u001b[A\n\ntrain_loss=0.01 train_acc=1.00 test_loss=0.07 test_acc=0.98:  43%|████▎     | 6419/15000 [01:02<01:23, 102.74it/s]\u001b[A\u001b[A",
          "output_type": "stream"
        },
        {
          "name": "stdout",
          "text": "hi while loop 6419\n",
          "output_type": "stream"
        },
        {
          "name": "stderr",
          "text": "\n\ntrain_loss=0.01 train_acc=1.00 test_loss=0.08 test_acc=0.98:  43%|████▎     | 6419/15000 [01:11<01:23, 102.74it/s]\u001b[A\u001b[A\n\ntrain_loss=0.01 train_acc=1.00 test_loss=0.08 test_acc=0.98:  49%|████▉     | 7336/15000 [01:11<01:15, 101.96it/s]\u001b[A\u001b[A",
          "output_type": "stream"
        },
        {
          "name": "stdout",
          "text": "hi while loop 7336\n",
          "output_type": "stream"
        },
        {
          "name": "stderr",
          "text": "\n\ntrain_loss=0.01 train_acc=1.00 test_loss=0.09 test_acc=0.98:  49%|████▉     | 7336/15000 [01:20<01:15, 101.96it/s]\u001b[A\u001b[A\n\ntrain_loss=0.01 train_acc=1.00 test_loss=0.09 test_acc=0.98:  55%|█████▌    | 8253/15000 [01:20<01:05, 102.95it/s]\u001b[A\u001b[A",
          "output_type": "stream"
        },
        {
          "name": "stdout",
          "text": "hi while loop 8253\n",
          "output_type": "stream"
        },
        {
          "name": "stderr",
          "text": "\n\ntrain_loss=0.01 train_acc=1.00 test_loss=0.08 test_acc=0.98:  55%|█████▌    | 8253/15000 [01:29<01:05, 102.95it/s]\u001b[A\u001b[A\n\ntrain_loss=0.01 train_acc=1.00 test_loss=0.08 test_acc=0.98:  61%|██████    | 9170/15000 [01:29<00:56, 103.37it/s]\u001b[A\u001b[A",
          "output_type": "stream"
        },
        {
          "name": "stdout",
          "text": "hi while loop 9170\n",
          "output_type": "stream"
        },
        {
          "name": "stderr",
          "text": "\n\ntrain_loss=0.00 train_acc=1.00 test_loss=0.10 test_acc=0.98:  61%|██████    | 9170/15000 [01:38<00:56, 103.37it/s]\u001b[A\u001b[A\n\ntrain_loss=0.00 train_acc=1.00 test_loss=0.10 test_acc=0.98:  67%|██████▋   | 10087/15000 [01:38<00:47, 103.58it/s]\u001b[A\u001b[A",
          "output_type": "stream"
        },
        {
          "name": "stdout",
          "text": "hi while loop 10087\n",
          "output_type": "stream"
        },
        {
          "name": "stderr",
          "text": "\n\ntrain_loss=0.00 train_acc=1.00 test_loss=0.09 test_acc=0.98:  67%|██████▋   | 10087/15000 [01:47<00:47, 103.58it/s]\u001b[A\u001b[A\n\ntrain_loss=0.00 train_acc=1.00 test_loss=0.09 test_acc=0.98:  73%|███████▎  | 11004/15000 [01:47<00:38, 102.47it/s]\u001b[A\u001b[A",
          "output_type": "stream"
        },
        {
          "name": "stdout",
          "text": "hi while loop 11004\n",
          "output_type": "stream"
        },
        {
          "name": "stderr",
          "text": "\n\ntrain_loss=0.00 train_acc=1.00 test_loss=0.09 test_acc=0.98:  73%|███████▎  | 11004/15000 [01:56<00:38, 102.47it/s]\u001b[A\u001b[A\n\ntrain_loss=0.00 train_acc=1.00 test_loss=0.09 test_acc=0.98:  79%|███████▉  | 11921/15000 [01:56<00:29, 102.72it/s]\u001b[A\u001b[A",
          "output_type": "stream"
        },
        {
          "name": "stdout",
          "text": "hi while loop 11921\n",
          "output_type": "stream"
        },
        {
          "name": "stderr",
          "text": "\n\ntrain_loss=0.00 train_acc=1.00 test_loss=0.10 test_acc=0.98:  79%|███████▉  | 11921/15000 [02:04<00:29, 102.72it/s]\u001b[A\u001b[A\n\ntrain_loss=0.00 train_acc=1.00 test_loss=0.10 test_acc=0.98:  86%|████████▌ | 12838/15000 [02:04<00:20, 103.44it/s]\u001b[A\u001b[A",
          "output_type": "stream"
        },
        {
          "name": "stdout",
          "text": "hi while loop 12838\n",
          "output_type": "stream"
        },
        {
          "name": "stderr",
          "text": "\n\ntrain_loss=0.00 train_acc=1.00 test_loss=0.10 test_acc=0.98:  86%|████████▌ | 12838/15000 [02:13<00:20, 103.44it/s]\u001b[A\u001b[A\n\ntrain_loss=0.00 train_acc=1.00 test_loss=0.10 test_acc=0.98:  92%|█████████▏| 13755/15000 [02:13<00:12, 102.97it/s]\u001b[A\u001b[A",
          "output_type": "stream"
        },
        {
          "name": "stdout",
          "text": "hi while loop 13755\n",
          "output_type": "stream"
        },
        {
          "name": "stderr",
          "text": "\n\ntrain_loss=0.00 train_acc=1.00 test_loss=0.10 test_acc=0.98:  92%|█████████▏| 13755/15000 [02:22<00:12, 102.97it/s]\u001b[A\u001b[A\n\ntrain_loss=0.00 train_acc=1.00 test_loss=0.10 test_acc=0.98:  98%|█████████▊| 14672/15000 [02:22<00:03, 103.89it/s]\u001b[A\u001b[A",
          "output_type": "stream"
        },
        {
          "name": "stdout",
          "text": "hi while loop 14672\n",
          "output_type": "stream"
        },
        {
          "name": "stderr",
          "text": "\n\ntrain_loss=0.00 train_acc=1.00 test_loss=0.11 test_acc=0.98:  98%|█████████▊| 14672/15000 [02:26<00:03, 103.89it/s]\u001b[A\u001b[A\n\ntrain_loss=0.00 train_acc=1.00 test_loss=0.11 test_acc=0.98: 100%|██████████| 15000/15000 [02:26<00:00, 98.56it/s] \u001b[A\u001b[A\n\n                                                                                                                  \u001b[A\u001b[A\n 71%|███████▏  | 5/7 [12:12<04:53, 146.76s/it]\u001b[A\n\n  0%|          | 0/15000 [00:00<?, ?it/s]\u001b[A\u001b[A",
          "output_type": "stream"
        },
        {
          "name": "stdout",
          "text": "hi while loop 0\n",
          "output_type": "stream"
        },
        {
          "name": "stderr",
          "text": "\n\ntrain_loss=0.47 train_acc=0.85 test_loss=0.14 test_acc=0.96:   0%|          | 0/15000 [00:08<?, ?it/s]\u001b[A\u001b[A\n\ntrain_loss=0.47 train_acc=0.85 test_loss=0.14 test_acc=0.96:   6%|▌         | 917/15000 [00:08<02:16, 103.21it/s]\u001b[A\u001b[A",
          "output_type": "stream"
        },
        {
          "name": "stdout",
          "text": "hi while loop 917\n",
          "output_type": "stream"
        },
        {
          "name": "stderr",
          "text": "\n\ntrain_loss=0.12 train_acc=0.97 test_loss=0.11 test_acc=0.96:   6%|▌         | 917/15000 [00:17<02:16, 103.21it/s]\u001b[A\u001b[A\n\ntrain_loss=0.12 train_acc=0.97 test_loss=0.11 test_acc=0.96:  12%|█▏        | 1834/15000 [00:17<02:09, 101.77it/s]\u001b[A\u001b[A",
          "output_type": "stream"
        },
        {
          "name": "stdout",
          "text": "hi while loop 1834\n",
          "output_type": "stream"
        },
        {
          "name": "stderr",
          "text": "\n\ntrain_loss=0.09 train_acc=0.97 test_loss=0.10 test_acc=0.97:  12%|█▏        | 1834/15000 [00:26<02:09, 101.77it/s]\u001b[A\u001b[A\n\ntrain_loss=0.09 train_acc=0.97 test_loss=0.10 test_acc=0.97:  18%|█▊        | 2751/15000 [00:26<01:59, 102.92it/s]\u001b[A\u001b[A",
          "output_type": "stream"
        },
        {
          "name": "stdout",
          "text": "hi while loop 2751\n",
          "output_type": "stream"
        },
        {
          "name": "stderr",
          "text": "\n\ntrain_loss=0.08 train_acc=0.98 test_loss=0.09 test_acc=0.97:  18%|█▊        | 2751/15000 [00:35<01:59, 102.92it/s]\u001b[A\u001b[A\n\ntrain_loss=0.08 train_acc=0.98 test_loss=0.09 test_acc=0.97:  24%|██▍       | 3668/15000 [00:35<01:48, 104.19it/s]\u001b[A\u001b[A",
          "output_type": "stream"
        },
        {
          "name": "stdout",
          "text": "hi while loop 3668\n",
          "output_type": "stream"
        },
        {
          "name": "stderr",
          "text": "\n\ntrain_loss=0.07 train_acc=0.98 test_loss=0.09 test_acc=0.97:  24%|██▍       | 3668/15000 [00:44<01:48, 104.19it/s]\u001b[A\u001b[A\n\ntrain_loss=0.07 train_acc=0.98 test_loss=0.09 test_acc=0.97:  31%|███       | 4585/15000 [00:44<01:39, 104.76it/s]\u001b[A\u001b[A",
          "output_type": "stream"
        },
        {
          "name": "stdout",
          "text": "hi while loop 4585\n",
          "output_type": "stream"
        },
        {
          "name": "stderr",
          "text": "\n\ntrain_loss=0.06 train_acc=0.98 test_loss=0.08 test_acc=0.97:  31%|███       | 4585/15000 [00:53<01:39, 104.76it/s]\u001b[A\u001b[A\n\ntrain_loss=0.06 train_acc=0.98 test_loss=0.08 test_acc=0.97:  37%|███▋      | 5502/15000 [00:53<01:31, 103.96it/s]\u001b[A\u001b[A",
          "output_type": "stream"
        },
        {
          "name": "stdout",
          "text": "hi while loop 5502\n",
          "output_type": "stream"
        },
        {
          "name": "stderr",
          "text": "\n\ntrain_loss=0.05 train_acc=0.98 test_loss=0.09 test_acc=0.97:  37%|███▋      | 5502/15000 [01:01<01:31, 103.96it/s]\u001b[A\u001b[A\n\ntrain_loss=0.05 train_acc=0.98 test_loss=0.09 test_acc=0.97:  43%|████▎     | 6419/15000 [01:01<01:22, 103.66it/s]\u001b[A\u001b[A",
          "output_type": "stream"
        },
        {
          "name": "stdout",
          "text": "hi while loop 6419\n",
          "output_type": "stream"
        },
        {
          "name": "stderr",
          "text": "\n\ntrain_loss=0.05 train_acc=0.98 test_loss=0.08 test_acc=0.97:  43%|████▎     | 6419/15000 [01:10<01:22, 103.66it/s]\u001b[A\u001b[A\n\ntrain_loss=0.05 train_acc=0.98 test_loss=0.08 test_acc=0.97:  49%|████▉     | 7336/15000 [01:10<01:14, 103.47it/s]\u001b[A\u001b[A",
          "output_type": "stream"
        },
        {
          "name": "stdout",
          "text": "hi while loop 7336\n",
          "output_type": "stream"
        },
        {
          "name": "stderr",
          "text": "\n\ntrain_loss=0.05 train_acc=0.98 test_loss=0.08 test_acc=0.98:  49%|████▉     | 7336/15000 [01:19<01:14, 103.47it/s]\u001b[A\u001b[A\n\ntrain_loss=0.05 train_acc=0.98 test_loss=0.08 test_acc=0.98:  55%|█████▌    | 8253/15000 [01:19<01:05, 103.11it/s]\u001b[A\u001b[A",
          "output_type": "stream"
        },
        {
          "name": "stdout",
          "text": "hi while loop 8253\n",
          "output_type": "stream"
        },
        {
          "name": "stderr",
          "text": "\n\ntrain_loss=0.04 train_acc=0.99 test_loss=0.08 test_acc=0.97:  55%|█████▌    | 8253/15000 [01:29<01:05, 103.11it/s]\u001b[A\u001b[A\n\ntrain_loss=0.04 train_acc=0.99 test_loss=0.08 test_acc=0.97:  61%|██████    | 9170/15000 [01:29<00:57, 101.78it/s]\u001b[A\u001b[A",
          "output_type": "stream"
        },
        {
          "name": "stdout",
          "text": "hi while loop 9170\n",
          "output_type": "stream"
        },
        {
          "name": "stderr",
          "text": "\n\ntrain_loss=0.04 train_acc=0.99 test_loss=0.08 test_acc=0.98:  61%|██████    | 9170/15000 [01:37<00:57, 101.78it/s]\u001b[A\u001b[A\n\ntrain_loss=0.04 train_acc=0.99 test_loss=0.08 test_acc=0.98:  67%|██████▋   | 10087/15000 [01:37<00:48, 102.33it/s]\u001b[A\u001b[A",
          "output_type": "stream"
        },
        {
          "name": "stdout",
          "text": "hi while loop 10087\n",
          "output_type": "stream"
        },
        {
          "name": "stderr",
          "text": "\n\ntrain_loss=0.04 train_acc=0.99 test_loss=0.09 test_acc=0.98:  67%|██████▋   | 10087/15000 [01:46<00:48, 102.33it/s]\u001b[A\u001b[A\n\ntrain_loss=0.04 train_acc=0.99 test_loss=0.09 test_acc=0.98:  73%|███████▎  | 11004/15000 [01:46<00:38, 102.51it/s]\u001b[A\u001b[A",
          "output_type": "stream"
        },
        {
          "name": "stdout",
          "text": "hi while loop 11004\n",
          "output_type": "stream"
        },
        {
          "name": "stderr",
          "text": "\n\ntrain_loss=0.04 train_acc=0.99 test_loss=0.09 test_acc=0.97:  73%|███████▎  | 11004/15000 [01:56<00:38, 102.51it/s]\u001b[A\u001b[A\n\ntrain_loss=0.04 train_acc=0.99 test_loss=0.09 test_acc=0.97:  79%|███████▉  | 11921/15000 [01:56<00:30, 101.68it/s]\u001b[A\u001b[A",
          "output_type": "stream"
        },
        {
          "name": "stdout",
          "text": "hi while loop 11921\n",
          "output_type": "stream"
        },
        {
          "name": "stderr",
          "text": "\n\ntrain_loss=0.04 train_acc=0.99 test_loss=0.09 test_acc=0.98:  79%|███████▉  | 11921/15000 [02:05<00:30, 101.68it/s]\u001b[A\u001b[A\n\ntrain_loss=0.04 train_acc=0.99 test_loss=0.09 test_acc=0.98:  86%|████████▌ | 12838/15000 [02:05<00:21, 101.61it/s]\u001b[A\u001b[A",
          "output_type": "stream"
        },
        {
          "name": "stdout",
          "text": "hi while loop 12838\n",
          "output_type": "stream"
        },
        {
          "name": "stderr",
          "text": "\n\ntrain_loss=0.03 train_acc=0.99 test_loss=0.09 test_acc=0.98:  86%|████████▌ | 12838/15000 [02:14<00:21, 101.61it/s]\u001b[A\u001b[A\n\ntrain_loss=0.03 train_acc=0.99 test_loss=0.09 test_acc=0.98:  92%|█████████▏| 13755/15000 [02:14<00:12, 101.60it/s]\u001b[A\u001b[A",
          "output_type": "stream"
        },
        {
          "name": "stdout",
          "text": "hi while loop 13755\n",
          "output_type": "stream"
        },
        {
          "name": "stderr",
          "text": "\n\ntrain_loss=0.03 train_acc=0.99 test_loss=0.10 test_acc=0.97:  92%|█████████▏| 13755/15000 [02:22<00:12, 101.60it/s]\u001b[A\u001b[A\n\ntrain_loss=0.03 train_acc=0.99 test_loss=0.10 test_acc=0.97:  98%|█████████▊| 14672/15000 [02:22<00:03, 102.25it/s]\u001b[A\u001b[A",
          "output_type": "stream"
        },
        {
          "name": "stdout",
          "text": "hi while loop 14672\n",
          "output_type": "stream"
        },
        {
          "name": "stderr",
          "text": "\n\ntrain_loss=0.03 train_acc=0.99 test_loss=0.09 test_acc=0.97:  98%|█████████▊| 14672/15000 [02:27<00:03, 102.25it/s]\u001b[A\u001b[A\n\ntrain_loss=0.03 train_acc=0.99 test_loss=0.09 test_acc=0.97: 100%|██████████| 15000/15000 [02:27<00:00, 95.21it/s] \u001b[A\u001b[A\n\n                                                                                                                  \u001b[A\u001b[A\n 86%|████████▌ | 6/7 [14:40<02:27, 147.15s/it]\u001b[A\n\n  0%|          | 0/15000 [00:00<?, ?it/s]\u001b[A\u001b[A",
          "output_type": "stream"
        },
        {
          "name": "stdout",
          "text": "hi while loop 0\n",
          "output_type": "stream"
        },
        {
          "name": "stderr",
          "text": "\n\ntrain_loss=2.00 train_acc=0.28 test_loss=0.98 test_acc=0.69:   0%|          | 0/15000 [00:09<?, ?it/s]\u001b[A\u001b[A\n\ntrain_loss=2.00 train_acc=0.28 test_loss=0.98 test_acc=0.69:   6%|▌         | 917/15000 [00:09<02:19, 101.10it/s]\u001b[A\u001b[A",
          "output_type": "stream"
        },
        {
          "name": "stdout",
          "text": "hi while loop 917\n",
          "output_type": "stream"
        },
        {
          "name": "stderr",
          "text": "\n\ntrain_loss=0.70 train_acc=0.78 test_loss=0.54 test_acc=0.83:   6%|▌         | 917/15000 [00:18<02:19, 101.10it/s]\u001b[A\u001b[A\n\ntrain_loss=0.70 train_acc=0.78 test_loss=0.54 test_acc=0.83:  12%|█▏        | 1834/15000 [00:18<02:11, 100.16it/s]\u001b[A\u001b[A",
          "output_type": "stream"
        },
        {
          "name": "stdout",
          "text": "hi while loop 1834\n",
          "output_type": "stream"
        },
        {
          "name": "stderr",
          "text": "\n\ntrain_loss=0.52 train_acc=0.84 test_loss=0.48 test_acc=0.85:  12%|█▏        | 1834/15000 [00:27<02:11, 100.16it/s]\u001b[A\u001b[A\n\ntrain_loss=0.52 train_acc=0.84 test_loss=0.48 test_acc=0.85:  18%|█▊        | 2751/15000 [00:27<02:01, 101.20it/s]\u001b[A\u001b[A",
          "output_type": "stream"
        },
        {
          "name": "stdout",
          "text": "hi while loop 2751\n",
          "output_type": "stream"
        },
        {
          "name": "stderr",
          "text": "\n\ntrain_loss=0.45 train_acc=0.86 test_loss=0.42 test_acc=0.87:  18%|█▊        | 2751/15000 [00:36<02:01, 101.20it/s]\u001b[A\u001b[A\n\ntrain_loss=0.45 train_acc=0.86 test_loss=0.42 test_acc=0.87:  24%|██▍       | 3668/15000 [00:36<01:52, 100.32it/s]\u001b[A\u001b[A",
          "output_type": "stream"
        },
        {
          "name": "stdout",
          "text": "hi while loop 3668\n",
          "output_type": "stream"
        },
        {
          "name": "stderr",
          "text": "\n\ntrain_loss=0.39 train_acc=0.88 test_loss=0.38 test_acc=0.88:  24%|██▍       | 3668/15000 [00:45<01:52, 100.32it/s]\u001b[A\u001b[A\n\ntrain_loss=0.39 train_acc=0.88 test_loss=0.38 test_acc=0.88:  31%|███       | 4585/15000 [00:45<01:43, 100.90it/s]\u001b[A\u001b[A",
          "output_type": "stream"
        },
        {
          "name": "stdout",
          "text": "hi while loop 4585\n",
          "output_type": "stream"
        },
        {
          "name": "stderr",
          "text": "\n\ntrain_loss=0.37 train_acc=0.89 test_loss=0.36 test_acc=0.89:  31%|███       | 4585/15000 [00:54<01:43, 100.90it/s]\u001b[A\u001b[A\n\ntrain_loss=0.37 train_acc=0.89 test_loss=0.36 test_acc=0.89:  37%|███▋      | 5502/15000 [00:54<01:33, 101.48it/s]\u001b[A\u001b[A",
          "output_type": "stream"
        },
        {
          "name": "stdout",
          "text": "hi while loop 5502\n",
          "output_type": "stream"
        },
        {
          "name": "stderr",
          "text": "\n\ntrain_loss=0.35 train_acc=0.89 test_loss=0.34 test_acc=0.89:  37%|███▋      | 5502/15000 [01:03<01:33, 101.48it/s]\u001b[A\u001b[A\n\ntrain_loss=0.35 train_acc=0.89 test_loss=0.34 test_acc=0.89:  43%|████▎     | 6419/15000 [01:03<01:24, 101.06it/s]\u001b[A\u001b[A",
          "output_type": "stream"
        },
        {
          "name": "stdout",
          "text": "hi while loop 6419\n",
          "output_type": "stream"
        },
        {
          "name": "stderr",
          "text": "\n\ntrain_loss=0.34 train_acc=0.90 test_loss=0.33 test_acc=0.90:  43%|████▎     | 6419/15000 [01:12<01:24, 101.06it/s]\u001b[A\u001b[A\n\ntrain_loss=0.34 train_acc=0.90 test_loss=0.33 test_acc=0.90:  49%|████▉     | 7336/15000 [01:12<01:15, 102.02it/s]\u001b[A\u001b[A",
          "output_type": "stream"
        },
        {
          "name": "stdout",
          "text": "hi while loop 7336\n",
          "output_type": "stream"
        },
        {
          "name": "stderr",
          "text": "\n\ntrain_loss=0.33 train_acc=0.90 test_loss=0.33 test_acc=0.90:  49%|████▉     | 7336/15000 [01:21<01:15, 102.02it/s]\u001b[A\u001b[A\n\ntrain_loss=0.33 train_acc=0.90 test_loss=0.33 test_acc=0.90:  55%|█████▌    | 8253/15000 [01:21<01:05, 102.69it/s]\u001b[A\u001b[A",
          "output_type": "stream"
        },
        {
          "name": "stdout",
          "text": "hi while loop 8253\n",
          "output_type": "stream"
        },
        {
          "name": "stderr",
          "text": "\n\ntrain_loss=0.32 train_acc=0.90 test_loss=0.32 test_acc=0.90:  55%|█████▌    | 8253/15000 [01:29<01:05, 102.69it/s]\u001b[A\u001b[A\n\ntrain_loss=0.32 train_acc=0.90 test_loss=0.32 test_acc=0.90:  61%|██████    | 9170/15000 [01:29<00:56, 103.29it/s]\u001b[A\u001b[A",
          "output_type": "stream"
        },
        {
          "name": "stdout",
          "text": "hi while loop 9170\n",
          "output_type": "stream"
        },
        {
          "name": "stderr",
          "text": "\n\ntrain_loss=0.32 train_acc=0.90 test_loss=0.31 test_acc=0.90:  61%|██████    | 9170/15000 [01:39<00:56, 103.29it/s]\u001b[A\u001b[A\n\ntrain_loss=0.32 train_acc=0.90 test_loss=0.31 test_acc=0.90:  67%|██████▋   | 10087/15000 [01:39<00:47, 102.60it/s]\u001b[A\u001b[A",
          "output_type": "stream"
        },
        {
          "name": "stdout",
          "text": "hi while loop 10087\n",
          "output_type": "stream"
        },
        {
          "name": "stderr",
          "text": "\n\ntrain_loss=0.31 train_acc=0.90 test_loss=0.31 test_acc=0.91:  67%|██████▋   | 10087/15000 [01:47<00:47, 102.60it/s]\u001b[A\u001b[A\n\ntrain_loss=0.31 train_acc=0.90 test_loss=0.31 test_acc=0.91:  73%|███████▎  | 11004/15000 [01:47<00:38, 103.22it/s]\u001b[A\u001b[A",
          "output_type": "stream"
        },
        {
          "name": "stdout",
          "text": "hi while loop 11004\n",
          "output_type": "stream"
        },
        {
          "name": "stderr",
          "text": "\n\ntrain_loss=0.31 train_acc=0.90 test_loss=0.31 test_acc=0.91:  73%|███████▎  | 11004/15000 [01:56<00:38, 103.22it/s]\u001b[A\u001b[A\n\ntrain_loss=0.31 train_acc=0.90 test_loss=0.31 test_acc=0.91:  79%|███████▉  | 11921/15000 [01:56<00:29, 103.15it/s]\u001b[A\u001b[A",
          "output_type": "stream"
        },
        {
          "name": "stdout",
          "text": "hi while loop 11921\n",
          "output_type": "stream"
        },
        {
          "name": "stderr",
          "text": "\n\ntrain_loss=0.31 train_acc=0.90 test_loss=0.31 test_acc=0.91:  79%|███████▉  | 11921/15000 [02:05<00:29, 103.15it/s]\u001b[A\u001b[A\n\ntrain_loss=0.31 train_acc=0.90 test_loss=0.31 test_acc=0.91:  86%|████████▌ | 12838/15000 [02:05<00:21, 102.36it/s]\u001b[A\u001b[A",
          "output_type": "stream"
        },
        {
          "name": "stdout",
          "text": "hi while loop 12838\n",
          "output_type": "stream"
        },
        {
          "name": "stderr",
          "text": "\n\ntrain_loss=0.30 train_acc=0.91 test_loss=0.31 test_acc=0.91:  86%|████████▌ | 12838/15000 [02:14<00:21, 102.36it/s]\u001b[A\u001b[A\n\ntrain_loss=0.30 train_acc=0.91 test_loss=0.31 test_acc=0.91:  92%|█████████▏| 13755/15000 [02:14<00:12, 103.32it/s]\u001b[A\u001b[A",
          "output_type": "stream"
        },
        {
          "name": "stdout",
          "text": "hi while loop 13755\n",
          "output_type": "stream"
        },
        {
          "name": "stderr",
          "text": "\n\ntrain_loss=0.30 train_acc=0.91 test_loss=0.31 test_acc=0.91:  92%|█████████▏| 13755/15000 [02:23<00:12, 103.32it/s]\u001b[A\u001b[A\n\ntrain_loss=0.30 train_acc=0.91 test_loss=0.31 test_acc=0.91:  98%|█████████▊| 14672/15000 [02:23<00:03, 103.81it/s]\u001b[A\u001b[A",
          "output_type": "stream"
        },
        {
          "name": "stdout",
          "text": "hi while loop 14672\n",
          "output_type": "stream"
        },
        {
          "name": "stderr",
          "text": "\n\ntrain_loss=0.30 train_acc=0.91 test_loss=0.30 test_acc=0.91:  98%|█████████▊| 14672/15000 [02:27<00:03, 103.81it/s]\u001b[A\u001b[A\n\ntrain_loss=0.30 train_acc=0.91 test_loss=0.30 test_acc=0.91: 100%|██████████| 15000/15000 [02:27<00:00, 98.45it/s] \u001b[A\u001b[A\n\n                                                                                                                  \u001b[A\u001b[A\n100%|██████████| 7/7 [17:08<00:00, 147.33s/it]\u001b[A\n 20%|██        | 1/5 [17:12<1:08:50, 1032.56s/it]",
          "output_type": "stream"
        },
        {
          "name": "stdout",
          "text": "0\nhi\n",
          "output_type": "stream"
        },
        {
          "name": "stderr",
          "text": "\n  0%|          | 0/7 [00:00<?, ?it/s]\u001b[A\n\n  0%|          | 0/15000 [00:00<?, ?it/s]\u001b[A\u001b[A",
          "output_type": "stream"
        },
        {
          "name": "stdout",
          "text": "hi while loop 0\n",
          "output_type": "stream"
        },
        {
          "name": "stderr",
          "text": "\n\ntrain_loss=0.22 train_acc=0.93 test_loss=0.12 test_acc=0.96:   0%|          | 0/15000 [00:09<?, ?it/s]\u001b[A\u001b[A\n\ntrain_loss=0.22 train_acc=0.93 test_loss=0.12 test_acc=0.96:   6%|▌         | 917/15000 [00:09<02:19, 100.91it/s]\u001b[A\u001b[A",
          "output_type": "stream"
        },
        {
          "name": "stdout",
          "text": "hi while loop 917\n",
          "output_type": "stream"
        },
        {
          "name": "stderr",
          "text": "\n\ntrain_loss=0.10 train_acc=0.97 test_loss=0.10 test_acc=0.97:   6%|▌         | 917/15000 [00:17<02:19, 100.91it/s]\u001b[A\u001b[A\n\ntrain_loss=0.10 train_acc=0.97 test_loss=0.10 test_acc=0.97:  12%|█▏        | 1834/15000 [00:17<02:07, 103.50it/s]\u001b[A\u001b[A",
          "output_type": "stream"
        },
        {
          "name": "stdout",
          "text": "hi while loop 1834\n",
          "output_type": "stream"
        },
        {
          "name": "stderr",
          "text": "\n\ntrain_loss=0.07 train_acc=0.98 test_loss=0.08 test_acc=0.98:  12%|█▏        | 1834/15000 [00:26<02:07, 103.50it/s]\u001b[A\u001b[A\n\ntrain_loss=0.07 train_acc=0.98 test_loss=0.08 test_acc=0.98:  18%|█▊        | 2751/15000 [00:26<01:57, 103.91it/s]\u001b[A\u001b[A",
          "output_type": "stream"
        },
        {
          "name": "stdout",
          "text": "hi while loop 2751\n",
          "output_type": "stream"
        },
        {
          "name": "stderr",
          "text": "\n\ntrain_loss=0.05 train_acc=0.98 test_loss=0.09 test_acc=0.97:  18%|█▊        | 2751/15000 [00:35<01:57, 103.91it/s]\u001b[A\u001b[A\n\ntrain_loss=0.05 train_acc=0.98 test_loss=0.09 test_acc=0.97:  24%|██▍       | 3668/15000 [00:35<01:48, 104.11it/s]\u001b[A\u001b[A",
          "output_type": "stream"
        },
        {
          "name": "stdout",
          "text": "hi while loop 3668\n",
          "output_type": "stream"
        },
        {
          "name": "stderr",
          "text": "\n\ntrain_loss=0.04 train_acc=0.99 test_loss=0.08 test_acc=0.98:  24%|██▍       | 3668/15000 [00:44<01:48, 104.11it/s]\u001b[A\u001b[A\n\ntrain_loss=0.04 train_acc=0.99 test_loss=0.08 test_acc=0.98:  31%|███       | 4585/15000 [00:44<01:40, 103.40it/s]\u001b[A\u001b[A",
          "output_type": "stream"
        },
        {
          "name": "stdout",
          "text": "hi while loop 4585\n",
          "output_type": "stream"
        },
        {
          "name": "stderr",
          "text": "\n\ntrain_loss=0.04 train_acc=0.99 test_loss=0.08 test_acc=0.98:  31%|███       | 4585/15000 [00:53<01:40, 103.40it/s]\u001b[A\u001b[A\n\ntrain_loss=0.04 train_acc=0.99 test_loss=0.08 test_acc=0.98:  37%|███▋      | 5502/15000 [00:53<01:31, 104.15it/s]\u001b[A\u001b[A",
          "output_type": "stream"
        },
        {
          "name": "stdout",
          "text": "hi while loop 5502\n",
          "output_type": "stream"
        },
        {
          "name": "stderr",
          "text": "\n\ntrain_loss=0.03 train_acc=0.99 test_loss=0.10 test_acc=0.97:  37%|███▋      | 5502/15000 [01:01<01:31, 104.15it/s]\u001b[A\u001b[A\n\ntrain_loss=0.03 train_acc=0.99 test_loss=0.10 test_acc=0.97:  43%|████▎     | 6419/15000 [01:01<01:21, 104.92it/s]\u001b[A\u001b[A",
          "output_type": "stream"
        },
        {
          "name": "stdout",
          "text": "hi while loop 6419\n",
          "output_type": "stream"
        },
        {
          "name": "stderr",
          "text": "\n\ntrain_loss=0.02 train_acc=0.99 test_loss=0.09 test_acc=0.98:  43%|████▎     | 6419/15000 [01:10<01:21, 104.92it/s]\u001b[A\u001b[A\n\ntrain_loss=0.02 train_acc=0.99 test_loss=0.09 test_acc=0.98:  49%|████▉     | 7336/15000 [01:10<01:12, 105.04it/s]\u001b[A\u001b[A",
          "output_type": "stream"
        },
        {
          "name": "stdout",
          "text": "hi while loop 7336\n",
          "output_type": "stream"
        },
        {
          "name": "stderr",
          "text": "\n\ntrain_loss=0.03 train_acc=0.99 test_loss=0.08 test_acc=0.98:  49%|████▉     | 7336/15000 [01:19<01:12, 105.04it/s]\u001b[A\u001b[A\n\ntrain_loss=0.03 train_acc=0.99 test_loss=0.08 test_acc=0.98:  55%|█████▌    | 8253/15000 [01:19<01:04, 104.15it/s]\u001b[A\u001b[A",
          "output_type": "stream"
        },
        {
          "name": "stdout",
          "text": "hi while loop 8253\n",
          "output_type": "stream"
        },
        {
          "name": "stderr",
          "text": "\n\ntrain_loss=0.02 train_acc=0.99 test_loss=0.10 test_acc=0.98:  55%|█████▌    | 8253/15000 [01:28<01:04, 104.15it/s]\u001b[A\u001b[A\n\ntrain_loss=0.02 train_acc=0.99 test_loss=0.10 test_acc=0.98:  61%|██████    | 9170/15000 [01:28<00:55, 104.30it/s]\u001b[A\u001b[A",
          "output_type": "stream"
        },
        {
          "name": "stdout",
          "text": "hi while loop 9170\n",
          "output_type": "stream"
        },
        {
          "name": "stderr",
          "text": "\n\ntrain_loss=0.02 train_acc=0.99 test_loss=0.10 test_acc=0.98:  61%|██████    | 9170/15000 [01:36<00:55, 104.30it/s]\u001b[A\u001b[A\n\ntrain_loss=0.02 train_acc=0.99 test_loss=0.10 test_acc=0.98:  67%|██████▋   | 10087/15000 [01:36<00:46, 105.14it/s]\u001b[A\u001b[A",
          "output_type": "stream"
        },
        {
          "name": "stdout",
          "text": "hi while loop 10087\n",
          "output_type": "stream"
        },
        {
          "name": "stderr",
          "text": "\n\ntrain_loss=0.02 train_acc=0.99 test_loss=0.10 test_acc=0.98:  67%|██████▋   | 10087/15000 [01:45<00:46, 105.14it/s]\u001b[A\u001b[A\n\ntrain_loss=0.02 train_acc=0.99 test_loss=0.10 test_acc=0.98:  73%|███████▎  | 11004/15000 [01:45<00:38, 104.44it/s]\u001b[A\u001b[A",
          "output_type": "stream"
        },
        {
          "name": "stdout",
          "text": "hi while loop 11004\n",
          "output_type": "stream"
        },
        {
          "name": "stderr",
          "text": "\n\ntrain_loss=0.02 train_acc=0.99 test_loss=0.11 test_acc=0.98:  73%|███████▎  | 11004/15000 [01:54<00:38, 104.44it/s]\u001b[A\u001b[A\n\ntrain_loss=0.02 train_acc=0.99 test_loss=0.11 test_acc=0.98:  79%|███████▉  | 11921/15000 [01:54<00:29, 104.61it/s]\u001b[A\u001b[A",
          "output_type": "stream"
        },
        {
          "name": "stdout",
          "text": "hi while loop 11921\n",
          "output_type": "stream"
        },
        {
          "name": "stderr",
          "text": "\n\ntrain_loss=0.02 train_acc=0.99 test_loss=0.11 test_acc=0.98:  79%|███████▉  | 11921/15000 [02:03<00:29, 104.61it/s]\u001b[A\u001b[A\n\ntrain_loss=0.02 train_acc=0.99 test_loss=0.11 test_acc=0.98:  86%|████████▌ | 12838/15000 [02:03<00:20, 104.64it/s]\u001b[A\u001b[A",
          "output_type": "stream"
        },
        {
          "name": "stdout",
          "text": "hi while loop 12838\n",
          "output_type": "stream"
        },
        {
          "name": "stderr",
          "text": "\n\ntrain_loss=0.02 train_acc=0.99 test_loss=0.11 test_acc=0.98:  86%|████████▌ | 12838/15000 [02:11<00:20, 104.64it/s]\u001b[A\u001b[A\n\ntrain_loss=0.02 train_acc=0.99 test_loss=0.11 test_acc=0.98:  92%|█████████▏| 13755/15000 [02:11<00:11, 104.92it/s]\u001b[A\u001b[A",
          "output_type": "stream"
        },
        {
          "name": "stdout",
          "text": "hi while loop 13755\n",
          "output_type": "stream"
        },
        {
          "name": "stderr",
          "text": "\n\ntrain_loss=0.01 train_acc=1.00 test_loss=0.13 test_acc=0.98:  92%|█████████▏| 13755/15000 [02:20<00:11, 104.92it/s]\u001b[A\u001b[A\n\ntrain_loss=0.01 train_acc=1.00 test_loss=0.13 test_acc=0.98:  98%|█████████▊| 14672/15000 [02:20<00:03, 104.05it/s]\u001b[A\u001b[A",
          "output_type": "stream"
        },
        {
          "name": "stdout",
          "text": "hi while loop 14672\n",
          "output_type": "stream"
        },
        {
          "name": "stderr",
          "text": "\n\ntrain_loss=0.01 train_acc=1.00 test_loss=0.11 test_acc=0.98:  98%|█████████▊| 14672/15000 [02:25<00:03, 104.05it/s]\u001b[A\u001b[A\n\ntrain_loss=0.01 train_acc=1.00 test_loss=0.11 test_acc=0.98: 100%|██████████| 15000/15000 [02:25<00:00, 98.15it/s] \u001b[A\u001b[A\n\n                                                                                                                  \u001b[A\u001b[A\n 14%|█▍        | 1/7 [02:25<14:31, 145.28s/it]\u001b[A\n\n  0%|          | 0/15000 [00:00<?, ?it/s]\u001b[A\u001b[A",
          "output_type": "stream"
        },
        {
          "name": "stdout",
          "text": "hi while loop 0\n",
          "output_type": "stream"
        },
        {
          "name": "stderr",
          "text": "\n\ntrain_loss=0.21 train_acc=0.94 test_loss=0.10 test_acc=0.97:   0%|          | 0/15000 [00:08<?, ?it/s]\u001b[A\u001b[A\n\ntrain_loss=0.21 train_acc=0.94 test_loss=0.10 test_acc=0.97:   6%|▌         | 917/15000 [00:08<02:13, 105.20it/s]\u001b[A\u001b[A",
          "output_type": "stream"
        },
        {
          "name": "stdout",
          "text": "hi while loop 917\n",
          "output_type": "stream"
        },
        {
          "name": "stderr",
          "text": "\n\ntrain_loss=0.08 train_acc=0.97 test_loss=0.09 test_acc=0.97:   6%|▌         | 917/15000 [00:17<02:13, 105.20it/s]\u001b[A\u001b[A\n\ntrain_loss=0.08 train_acc=0.97 test_loss=0.09 test_acc=0.97:  12%|█▏        | 1834/15000 [00:17<02:05, 104.92it/s]\u001b[A\u001b[A",
          "output_type": "stream"
        },
        {
          "name": "stdout",
          "text": "hi while loop 1834\n",
          "output_type": "stream"
        },
        {
          "name": "stderr",
          "text": "\n\ntrain_loss=0.06 train_acc=0.98 test_loss=0.08 test_acc=0.98:  12%|█▏        | 1834/15000 [00:26<02:05, 104.92it/s]\u001b[A\u001b[A\n\ntrain_loss=0.06 train_acc=0.98 test_loss=0.08 test_acc=0.98:  18%|█▊        | 2751/15000 [00:26<01:58, 103.14it/s]\u001b[A\u001b[A",
          "output_type": "stream"
        },
        {
          "name": "stdout",
          "text": "hi while loop 2751\n",
          "output_type": "stream"
        },
        {
          "name": "stderr",
          "text": "\n\ntrain_loss=0.04 train_acc=0.99 test_loss=0.09 test_acc=0.98:  18%|█▊        | 2751/15000 [00:35<01:58, 103.14it/s]\u001b[A\u001b[A\n\ntrain_loss=0.04 train_acc=0.99 test_loss=0.09 test_acc=0.98:  24%|██▍       | 3668/15000 [00:35<01:49, 103.82it/s]\u001b[A\u001b[A",
          "output_type": "stream"
        },
        {
          "name": "stdout",
          "text": "hi while loop 3668\n",
          "output_type": "stream"
        },
        {
          "name": "stderr",
          "text": "\n\ntrain_loss=0.03 train_acc=0.99 test_loss=0.08 test_acc=0.98:  24%|██▍       | 3668/15000 [00:44<01:49, 103.82it/s]\u001b[A\u001b[A\n\ntrain_loss=0.03 train_acc=0.99 test_loss=0.08 test_acc=0.98:  31%|███       | 4585/15000 [00:44<01:40, 104.11it/s]\u001b[A\u001b[A",
          "output_type": "stream"
        },
        {
          "name": "stdout",
          "text": "hi while loop 4585\n",
          "output_type": "stream"
        },
        {
          "name": "stderr",
          "text": "\n\ntrain_loss=0.03 train_acc=0.99 test_loss=0.09 test_acc=0.98:  31%|███       | 4585/15000 [00:52<01:40, 104.11it/s]\u001b[A\u001b[A\n\ntrain_loss=0.03 train_acc=0.99 test_loss=0.09 test_acc=0.98:  37%|███▋      | 5502/15000 [00:52<01:31, 104.08it/s]\u001b[A\u001b[A",
          "output_type": "stream"
        },
        {
          "name": "stdout",
          "text": "hi while loop 5502\n",
          "output_type": "stream"
        },
        {
          "name": "stderr",
          "text": "\n\ntrain_loss=0.02 train_acc=0.99 test_loss=0.09 test_acc=0.98:  37%|███▋      | 5502/15000 [01:01<01:31, 104.08it/s]\u001b[A\u001b[A\n\ntrain_loss=0.02 train_acc=0.99 test_loss=0.09 test_acc=0.98:  43%|████▎     | 6419/15000 [01:01<01:23, 102.96it/s]\u001b[A\u001b[A",
          "output_type": "stream"
        },
        {
          "name": "stdout",
          "text": "hi while loop 6419\n",
          "output_type": "stream"
        },
        {
          "name": "stderr",
          "text": "\n\ntrain_loss=0.02 train_acc=0.99 test_loss=0.09 test_acc=0.98:  43%|████▎     | 6419/15000 [01:10<01:23, 102.96it/s]\u001b[A\u001b[A\n\ntrain_loss=0.02 train_acc=0.99 test_loss=0.09 test_acc=0.98:  49%|████▉     | 7336/15000 [01:10<01:14, 103.31it/s]\u001b[A\u001b[A",
          "output_type": "stream"
        },
        {
          "name": "stdout",
          "text": "hi while loop 7336\n",
          "output_type": "stream"
        },
        {
          "name": "stderr",
          "text": "\n\ntrain_loss=0.02 train_acc=0.99 test_loss=0.10 test_acc=0.98:  49%|████▉     | 7336/15000 [01:19<01:14, 103.31it/s]\u001b[A\u001b[A\n\ntrain_loss=0.02 train_acc=0.99 test_loss=0.10 test_acc=0.98:  55%|█████▌    | 8253/15000 [01:19<01:04, 103.97it/s]\u001b[A\u001b[A",
          "output_type": "stream"
        },
        {
          "name": "stdout",
          "text": "hi while loop 8253\n",
          "output_type": "stream"
        },
        {
          "name": "stderr",
          "text": "\n\ntrain_loss=0.01 train_acc=1.00 test_loss=0.10 test_acc=0.98:  55%|█████▌    | 8253/15000 [01:28<01:04, 103.97it/s]\u001b[A\u001b[A\n\ntrain_loss=0.01 train_acc=1.00 test_loss=0.10 test_acc=0.98:  61%|██████    | 9170/15000 [01:28<00:56, 102.86it/s]\u001b[A\u001b[A",
          "output_type": "stream"
        },
        {
          "name": "stdout",
          "text": "hi while loop 9170\n",
          "output_type": "stream"
        },
        {
          "name": "stderr",
          "text": "\n\ntrain_loss=0.02 train_acc=0.99 test_loss=0.10 test_acc=0.98:  61%|██████    | 9170/15000 [01:37<00:56, 102.86it/s]\u001b[A\u001b[A\n\ntrain_loss=0.02 train_acc=0.99 test_loss=0.10 test_acc=0.98:  67%|██████▋   | 10087/15000 [01:37<00:47, 103.43it/s]\u001b[A\u001b[A",
          "output_type": "stream"
        },
        {
          "name": "stdout",
          "text": "hi while loop 10087\n",
          "output_type": "stream"
        },
        {
          "name": "stderr",
          "text": "\n\ntrain_loss=0.02 train_acc=0.99 test_loss=0.14 test_acc=0.97:  67%|██████▋   | 10087/15000 [01:46<00:47, 103.43it/s]\u001b[A\u001b[A\n\ntrain_loss=0.02 train_acc=0.99 test_loss=0.14 test_acc=0.97:  73%|███████▎  | 11004/15000 [01:46<00:38, 104.18it/s]\u001b[A\u001b[A",
          "output_type": "stream"
        },
        {
          "name": "stdout",
          "text": "hi while loop 11004\n",
          "output_type": "stream"
        },
        {
          "name": "stderr",
          "text": "\n\ntrain_loss=0.02 train_acc=1.00 test_loss=0.09 test_acc=0.98:  73%|███████▎  | 11004/15000 [01:54<00:38, 104.18it/s]\u001b[A\u001b[A\n\ntrain_loss=0.02 train_acc=1.00 test_loss=0.09 test_acc=0.98:  79%|███████▉  | 11921/15000 [01:54<00:29, 104.61it/s]\u001b[A\u001b[A",
          "output_type": "stream"
        },
        {
          "name": "stdout",
          "text": "hi while loop 11921\n",
          "output_type": "stream"
        },
        {
          "name": "stderr",
          "text": "\n\ntrain_loss=0.01 train_acc=1.00 test_loss=0.10 test_acc=0.98:  79%|███████▉  | 11921/15000 [02:03<00:29, 104.61it/s]\u001b[A\u001b[A\n\ntrain_loss=0.01 train_acc=1.00 test_loss=0.10 test_acc=0.98:  86%|████████▌ | 12838/15000 [02:03<00:21, 102.94it/s]\u001b[A\u001b[A",
          "output_type": "stream"
        },
        {
          "name": "stdout",
          "text": "hi while loop 12838\n",
          "output_type": "stream"
        },
        {
          "name": "stderr",
          "text": "\n\ntrain_loss=0.01 train_acc=1.00 test_loss=0.11 test_acc=0.98:  86%|████████▌ | 12838/15000 [02:12<00:21, 102.94it/s]\u001b[A\u001b[A\n\ntrain_loss=0.01 train_acc=1.00 test_loss=0.11 test_acc=0.98:  92%|█████████▏| 13755/15000 [02:12<00:12, 102.80it/s]\u001b[A\u001b[A",
          "output_type": "stream"
        },
        {
          "name": "stdout",
          "text": "hi while loop 13755\n",
          "output_type": "stream"
        },
        {
          "name": "stderr",
          "text": "\n\ntrain_loss=0.01 train_acc=1.00 test_loss=0.10 test_acc=0.98:  92%|█████████▏| 13755/15000 [02:21<00:12, 102.80it/s]\u001b[A\u001b[A\n\ntrain_loss=0.01 train_acc=1.00 test_loss=0.10 test_acc=0.98:  98%|█████████▊| 14672/15000 [02:21<00:03, 102.78it/s]\u001b[A\u001b[A",
          "output_type": "stream"
        },
        {
          "name": "stdout",
          "text": "hi while loop 14672\n",
          "output_type": "stream"
        },
        {
          "name": "stderr",
          "text": "\n\ntrain_loss=0.01 train_acc=1.00 test_loss=0.11 test_acc=0.98:  98%|█████████▊| 14672/15000 [02:26<00:03, 102.78it/s]\u001b[A\u001b[A\n\ntrain_loss=0.01 train_acc=1.00 test_loss=0.11 test_acc=0.98: 100%|██████████| 15000/15000 [02:26<00:00, 97.19it/s] \u001b[A\u001b[A\n\n                                                                                                                  \u001b[A\u001b[A\n 29%|██▊       | 2/7 [04:51<12:09, 145.93s/it]\u001b[A\n\n  0%|          | 0/15000 [00:00<?, ?it/s]\u001b[A\u001b[A",
          "output_type": "stream"
        },
        {
          "name": "stdout",
          "text": "hi while loop 0\n",
          "output_type": "stream"
        },
        {
          "name": "stderr",
          "text": "\n\ntrain_loss=0.21 train_acc=0.94 test_loss=0.09 test_acc=0.97:   0%|          | 0/15000 [00:09<?, ?it/s]\u001b[A\u001b[A\n\ntrain_loss=0.21 train_acc=0.94 test_loss=0.09 test_acc=0.97:   6%|▌         | 917/15000 [00:09<02:24, 97.61it/s]\u001b[A\u001b[A",
          "output_type": "stream"
        },
        {
          "name": "stdout",
          "text": "hi while loop 917\n",
          "output_type": "stream"
        },
        {
          "name": "stderr",
          "text": "\n\ntrain_loss=0.07 train_acc=0.98 test_loss=0.08 test_acc=0.98:   6%|▌         | 917/15000 [00:18<02:24, 97.61it/s]\u001b[A\u001b[A\n\ntrain_loss=0.07 train_acc=0.98 test_loss=0.08 test_acc=0.98:  12%|█▏        | 1834/15000 [00:18<02:10, 100.57it/s]\u001b[A\u001b[A",
          "output_type": "stream"
        },
        {
          "name": "stdout",
          "text": "hi while loop 1834\n",
          "output_type": "stream"
        },
        {
          "name": "stderr",
          "text": "\n\ntrain_loss=0.04 train_acc=0.99 test_loss=0.08 test_acc=0.98:  12%|█▏        | 1834/15000 [00:27<02:10, 100.57it/s]\u001b[A\u001b[A\n\ntrain_loss=0.04 train_acc=0.99 test_loss=0.08 test_acc=0.98:  18%|█▊        | 2751/15000 [00:27<01:59, 102.36it/s]\u001b[A\u001b[A",
          "output_type": "stream"
        },
        {
          "name": "stdout",
          "text": "hi while loop 2751\n",
          "output_type": "stream"
        },
        {
          "name": "stderr",
          "text": "\n\ntrain_loss=0.03 train_acc=0.99 test_loss=0.08 test_acc=0.98:  18%|█▊        | 2751/15000 [00:36<01:59, 102.36it/s]\u001b[A\u001b[A\n\ntrain_loss=0.03 train_acc=0.99 test_loss=0.08 test_acc=0.98:  24%|██▍       | 3668/15000 [00:36<01:51, 101.45it/s]\u001b[A\u001b[A",
          "output_type": "stream"
        },
        {
          "name": "stdout",
          "text": "hi while loop 3668\n",
          "output_type": "stream"
        },
        {
          "name": "stderr",
          "text": "\n\ntrain_loss=0.02 train_acc=0.99 test_loss=0.07 test_acc=0.98:  24%|██▍       | 3668/15000 [00:45<01:51, 101.45it/s]\u001b[A\u001b[A\n\ntrain_loss=0.02 train_acc=0.99 test_loss=0.07 test_acc=0.98:  31%|███       | 4585/15000 [00:45<01:41, 102.52it/s]\u001b[A\u001b[A",
          "output_type": "stream"
        },
        {
          "name": "stdout",
          "text": "hi while loop 4585\n",
          "output_type": "stream"
        },
        {
          "name": "stderr",
          "text": "\n\ntrain_loss=0.02 train_acc=0.99 test_loss=0.08 test_acc=0.98:  31%|███       | 4585/15000 [00:53<01:41, 102.52it/s]\u001b[A\u001b[A\n\ntrain_loss=0.02 train_acc=0.99 test_loss=0.08 test_acc=0.98:  37%|███▋      | 5502/15000 [00:53<01:31, 103.27it/s]\u001b[A\u001b[A",
          "output_type": "stream"
        },
        {
          "name": "stdout",
          "text": "hi while loop 5502\n",
          "output_type": "stream"
        },
        {
          "name": "stderr",
          "text": "\n\ntrain_loss=0.02 train_acc=0.99 test_loss=0.09 test_acc=0.98:  37%|███▋      | 5502/15000 [01:02<01:31, 103.27it/s]\u001b[A\u001b[A\n\ntrain_loss=0.02 train_acc=0.99 test_loss=0.09 test_acc=0.98:  43%|████▎     | 6419/15000 [01:02<01:23, 103.27it/s]\u001b[A\u001b[A",
          "output_type": "stream"
        },
        {
          "name": "stdout",
          "text": "hi while loop 6419\n",
          "output_type": "stream"
        },
        {
          "name": "stderr",
          "text": "\n\ntrain_loss=0.02 train_acc=0.99 test_loss=0.09 test_acc=0.98:  43%|████▎     | 6419/15000 [01:11<01:23, 103.27it/s]\u001b[A\u001b[A\n\ntrain_loss=0.02 train_acc=0.99 test_loss=0.09 test_acc=0.98:  49%|████▉     | 7336/15000 [01:11<01:15, 101.93it/s]\u001b[A\u001b[A",
          "output_type": "stream"
        },
        {
          "name": "stdout",
          "text": "hi while loop 7336\n",
          "output_type": "stream"
        },
        {
          "name": "stderr",
          "text": "\n\ntrain_loss=0.01 train_acc=1.00 test_loss=0.09 test_acc=0.98:  49%|████▉     | 7336/15000 [01:20<01:15, 101.93it/s]\u001b[A\u001b[A\n\ntrain_loss=0.01 train_acc=1.00 test_loss=0.09 test_acc=0.98:  55%|█████▌    | 8253/15000 [01:20<01:05, 102.37it/s]\u001b[A\u001b[A",
          "output_type": "stream"
        },
        {
          "name": "stdout",
          "text": "hi while loop 8253\n",
          "output_type": "stream"
        },
        {
          "name": "stderr",
          "text": "\n\ntrain_loss=0.01 train_acc=1.00 test_loss=0.10 test_acc=0.98:  55%|█████▌    | 8253/15000 [01:29<01:05, 102.37it/s]\u001b[A\u001b[A\n\ntrain_loss=0.01 train_acc=1.00 test_loss=0.10 test_acc=0.98:  61%|██████    | 9170/15000 [01:29<00:56, 103.04it/s]\u001b[A\u001b[A",
          "output_type": "stream"
        },
        {
          "name": "stdout",
          "text": "hi while loop 9170\n",
          "output_type": "stream"
        },
        {
          "name": "stderr",
          "text": "\n\ntrain_loss=0.01 train_acc=1.00 test_loss=0.10 test_acc=0.98:  61%|██████    | 9170/15000 [01:38<00:56, 103.04it/s]\u001b[A\u001b[A\n\ntrain_loss=0.01 train_acc=1.00 test_loss=0.10 test_acc=0.98:  67%|██████▋   | 10087/15000 [01:38<00:47, 102.52it/s]\u001b[A\u001b[A",
          "output_type": "stream"
        },
        {
          "name": "stdout",
          "text": "hi while loop 10087\n",
          "output_type": "stream"
        },
        {
          "name": "stderr",
          "text": "\n\ntrain_loss=0.01 train_acc=1.00 test_loss=0.11 test_acc=0.98:  67%|██████▋   | 10087/15000 [01:47<00:47, 102.52it/s]\u001b[A\u001b[A\n\ntrain_loss=0.01 train_acc=1.00 test_loss=0.11 test_acc=0.98:  73%|███████▎  | 11004/15000 [01:47<00:38, 103.32it/s]\u001b[A\u001b[A",
          "output_type": "stream"
        },
        {
          "name": "stdout",
          "text": "hi while loop 11004\n",
          "output_type": "stream"
        },
        {
          "name": "stderr",
          "text": "\n\ntrain_loss=0.01 train_acc=1.00 test_loss=0.12 test_acc=0.98:  73%|███████▎  | 11004/15000 [01:55<00:38, 103.32it/s]\u001b[A\u001b[A\n\ntrain_loss=0.01 train_acc=1.00 test_loss=0.12 test_acc=0.98:  79%|███████▉  | 11921/15000 [01:55<00:29, 104.07it/s]\u001b[A\u001b[A",
          "output_type": "stream"
        },
        {
          "name": "stdout",
          "text": "hi while loop 11921\n",
          "output_type": "stream"
        },
        {
          "name": "stderr",
          "text": "\n\ntrain_loss=0.01 train_acc=1.00 test_loss=0.10 test_acc=0.98:  79%|███████▉  | 11921/15000 [02:04<00:29, 104.07it/s]\u001b[A\u001b[A\n\ntrain_loss=0.01 train_acc=1.00 test_loss=0.10 test_acc=0.98:  86%|████████▌ | 12838/15000 [02:04<00:20, 104.51it/s]\u001b[A\u001b[A",
          "output_type": "stream"
        },
        {
          "name": "stdout",
          "text": "hi while loop 12838\n",
          "output_type": "stream"
        },
        {
          "name": "stderr",
          "text": "\n\ntrain_loss=0.01 train_acc=1.00 test_loss=0.18 test_acc=0.97:  86%|████████▌ | 12838/15000 [02:13<00:20, 104.51it/s]\u001b[A\u001b[A\n\ntrain_loss=0.01 train_acc=1.00 test_loss=0.18 test_acc=0.97:  92%|█████████▏| 13755/15000 [02:13<00:11, 103.75it/s]\u001b[A\u001b[A",
          "output_type": "stream"
        },
        {
          "name": "stdout",
          "text": "hi while loop 13755\n",
          "output_type": "stream"
        },
        {
          "name": "stderr",
          "text": "\n\ntrain_loss=0.01 train_acc=1.00 test_loss=0.11 test_acc=0.98:  92%|█████████▏| 13755/15000 [02:22<00:11, 103.75it/s]\u001b[A\u001b[A\n\ntrain_loss=0.01 train_acc=1.00 test_loss=0.11 test_acc=0.98:  98%|█████████▊| 14672/15000 [02:22<00:03, 104.29it/s]\u001b[A\u001b[A",
          "output_type": "stream"
        },
        {
          "name": "stdout",
          "text": "hi while loop 14672\n",
          "output_type": "stream"
        },
        {
          "name": "stderr",
          "text": "\n\ntrain_loss=0.01 train_acc=1.00 test_loss=0.10 test_acc=0.98:  98%|█████████▊| 14672/15000 [02:26<00:03, 104.29it/s]\u001b[A\u001b[A\n\ntrain_loss=0.01 train_acc=1.00 test_loss=0.10 test_acc=0.98: 100%|██████████| 15000/15000 [02:26<00:00, 98.71it/s] \u001b[A\u001b[A\n\n                                                                                                                  \u001b[A\u001b[A\n 43%|████▎     | 3/7 [07:18<09:45, 146.35s/it]\u001b[A\n\n  0%|          | 0/15000 [00:00<?, ?it/s]\u001b[A\u001b[A",
          "output_type": "stream"
        },
        {
          "name": "stdout",
          "text": "hi while loop 0\n",
          "output_type": "stream"
        },
        {
          "name": "stderr",
          "text": "\n\ntrain_loss=0.21 train_acc=0.94 test_loss=0.09 test_acc=0.97:   0%|          | 0/15000 [00:08<?, ?it/s]\u001b[A\u001b[A\n\ntrain_loss=0.21 train_acc=0.94 test_loss=0.09 test_acc=0.97:   6%|▌         | 917/15000 [00:08<02:14, 104.42it/s]\u001b[A\u001b[A",
          "output_type": "stream"
        },
        {
          "name": "stdout",
          "text": "hi while loop 917\n",
          "output_type": "stream"
        },
        {
          "name": "stderr",
          "text": "\n\ntrain_loss=0.06 train_acc=0.98 test_loss=0.07 test_acc=0.98:   6%|▌         | 917/15000 [00:17<02:14, 104.42it/s]\u001b[A\u001b[A\n\ntrain_loss=0.06 train_acc=0.98 test_loss=0.07 test_acc=0.98:  12%|█▏        | 1834/15000 [00:17<02:08, 102.22it/s]\u001b[A\u001b[A",
          "output_type": "stream"
        },
        {
          "name": "stdout",
          "text": "hi while loop 1834\n",
          "output_type": "stream"
        },
        {
          "name": "stderr",
          "text": "\n\ntrain_loss=0.04 train_acc=0.99 test_loss=0.08 test_acc=0.98:  12%|█▏        | 1834/15000 [00:26<02:08, 102.22it/s]\u001b[A\u001b[A\n\ntrain_loss=0.04 train_acc=0.99 test_loss=0.08 test_acc=0.98:  18%|█▊        | 2751/15000 [00:26<01:58, 103.41it/s]\u001b[A\u001b[A",
          "output_type": "stream"
        },
        {
          "name": "stdout",
          "text": "hi while loop 2751\n",
          "output_type": "stream"
        },
        {
          "name": "stderr",
          "text": "\n\ntrain_loss=0.02 train_acc=0.99 test_loss=0.06 test_acc=0.98:  18%|█▊        | 2751/15000 [00:35<01:58, 103.41it/s]\u001b[A\u001b[A\n\ntrain_loss=0.02 train_acc=0.99 test_loss=0.06 test_acc=0.98:  24%|██▍       | 3668/15000 [00:35<01:49, 103.69it/s]\u001b[A\u001b[A",
          "output_type": "stream"
        },
        {
          "name": "stdout",
          "text": "hi while loop 3668\n",
          "output_type": "stream"
        },
        {
          "name": "stderr",
          "text": "\n\ntrain_loss=0.02 train_acc=0.99 test_loss=0.07 test_acc=0.98:  24%|██▍       | 3668/15000 [00:44<01:49, 103.69it/s]\u001b[A\u001b[A\n\ntrain_loss=0.02 train_acc=0.99 test_loss=0.07 test_acc=0.98:  31%|███       | 4585/15000 [00:44<01:40, 103.43it/s]\u001b[A\u001b[A",
          "output_type": "stream"
        },
        {
          "name": "stdout",
          "text": "hi while loop 4585\n",
          "output_type": "stream"
        },
        {
          "name": "stderr",
          "text": "\n\ntrain_loss=0.01 train_acc=1.00 test_loss=0.08 test_acc=0.98:  31%|███       | 4585/15000 [00:53<01:40, 103.43it/s]\u001b[A\u001b[A\n\ntrain_loss=0.01 train_acc=1.00 test_loss=0.08 test_acc=0.98:  37%|███▋      | 5502/15000 [00:53<01:32, 102.42it/s]\u001b[A\u001b[A",
          "output_type": "stream"
        },
        {
          "name": "stdout",
          "text": "hi while loop 5502\n",
          "output_type": "stream"
        },
        {
          "name": "stderr",
          "text": "\n\ntrain_loss=0.01 train_acc=1.00 test_loss=0.09 test_acc=0.98:  37%|███▋      | 5502/15000 [01:02<01:32, 102.42it/s]\u001b[A\u001b[A\n\ntrain_loss=0.01 train_acc=1.00 test_loss=0.09 test_acc=0.98:  43%|████▎     | 6419/15000 [01:02<01:22, 103.52it/s]\u001b[A\u001b[A",
          "output_type": "stream"
        },
        {
          "name": "stdout",
          "text": "hi while loop 6419\n",
          "output_type": "stream"
        },
        {
          "name": "stderr",
          "text": "\n\ntrain_loss=0.01 train_acc=1.00 test_loss=0.08 test_acc=0.98:  43%|████▎     | 6419/15000 [01:10<01:22, 103.52it/s]\u001b[A\u001b[A\n\ntrain_loss=0.01 train_acc=1.00 test_loss=0.08 test_acc=0.98:  49%|████▉     | 7336/15000 [01:10<01:13, 103.73it/s]\u001b[A\u001b[A",
          "output_type": "stream"
        },
        {
          "name": "stdout",
          "text": "hi while loop 7336\n",
          "output_type": "stream"
        },
        {
          "name": "stderr",
          "text": "\n\ntrain_loss=0.01 train_acc=1.00 test_loss=0.11 test_acc=0.98:  49%|████▉     | 7336/15000 [01:20<01:13, 103.73it/s]\u001b[A\u001b[A\n\ntrain_loss=0.01 train_acc=1.00 test_loss=0.11 test_acc=0.98:  55%|█████▌    | 8253/15000 [01:20<01:06, 101.95it/s]\u001b[A\u001b[A",
          "output_type": "stream"
        },
        {
          "name": "stdout",
          "text": "hi while loop 8253\n",
          "output_type": "stream"
        },
        {
          "name": "stderr",
          "text": "\n\ntrain_loss=0.01 train_acc=1.00 test_loss=0.09 test_acc=0.98:  55%|█████▌    | 8253/15000 [01:29<01:06, 101.95it/s]\u001b[A\u001b[A\n\ntrain_loss=0.01 train_acc=1.00 test_loss=0.09 test_acc=0.98:  61%|██████    | 9170/15000 [01:29<00:56, 102.40it/s]\u001b[A\u001b[A",
          "output_type": "stream"
        },
        {
          "name": "stdout",
          "text": "hi while loop 9170\n",
          "output_type": "stream"
        },
        {
          "name": "stderr",
          "text": "\n\ntrain_loss=0.01 train_acc=1.00 test_loss=0.10 test_acc=0.98:  61%|██████    | 9170/15000 [01:37<00:56, 102.40it/s]\u001b[A\u001b[A\n\ntrain_loss=0.01 train_acc=1.00 test_loss=0.10 test_acc=0.98:  67%|██████▋   | 10087/15000 [01:37<00:47, 102.99it/s]\u001b[A\u001b[A",
          "output_type": "stream"
        },
        {
          "name": "stdout",
          "text": "hi while loop 10087\n",
          "output_type": "stream"
        },
        {
          "name": "stderr",
          "text": "\n\ntrain_loss=0.01 train_acc=1.00 test_loss=0.09 test_acc=0.98:  67%|██████▋   | 10087/15000 [01:46<00:47, 102.99it/s]\u001b[A\u001b[A\n\ntrain_loss=0.01 train_acc=1.00 test_loss=0.09 test_acc=0.98:  73%|███████▎  | 11004/15000 [01:46<00:38, 103.17it/s]\u001b[A\u001b[A",
          "output_type": "stream"
        },
        {
          "name": "stdout",
          "text": "hi while loop 11004\n",
          "output_type": "stream"
        },
        {
          "name": "stderr",
          "text": "\n\ntrain_loss=0.00 train_acc=1.00 test_loss=0.10 test_acc=0.98:  73%|███████▎  | 11004/15000 [01:55<00:38, 103.17it/s]\u001b[A\u001b[A\n\ntrain_loss=0.00 train_acc=1.00 test_loss=0.10 test_acc=0.98:  79%|███████▉  | 11921/15000 [01:55<00:30, 102.40it/s]\u001b[A\u001b[A",
          "output_type": "stream"
        },
        {
          "name": "stdout",
          "text": "hi while loop 11921\n",
          "output_type": "stream"
        },
        {
          "name": "stderr",
          "text": "\n\ntrain_loss=0.01 train_acc=1.00 test_loss=0.11 test_acc=0.98:  79%|███████▉  | 11921/15000 [02:04<00:30, 102.40it/s]\u001b[A\u001b[A\n\ntrain_loss=0.01 train_acc=1.00 test_loss=0.11 test_acc=0.98:  86%|████████▌ | 12838/15000 [02:04<00:21, 102.61it/s]\u001b[A\u001b[A",
          "output_type": "stream"
        },
        {
          "name": "stdout",
          "text": "hi while loop 12838\n",
          "output_type": "stream"
        },
        {
          "name": "stderr",
          "text": "\n\ntrain_loss=0.00 train_acc=1.00 test_loss=0.11 test_acc=0.98:  86%|████████▌ | 12838/15000 [02:13<00:21, 102.61it/s]\u001b[A\u001b[A\n\ntrain_loss=0.00 train_acc=1.00 test_loss=0.11 test_acc=0.98:  92%|█████████▏| 13755/15000 [02:13<00:12, 102.85it/s]\u001b[A\u001b[A",
          "output_type": "stream"
        },
        {
          "name": "stdout",
          "text": "hi while loop 13755\n",
          "output_type": "stream"
        },
        {
          "name": "stderr",
          "text": "\n\ntrain_loss=0.01 train_acc=1.00 test_loss=0.12 test_acc=0.98:  92%|█████████▏| 13755/15000 [02:22<00:12, 102.85it/s]\u001b[A\u001b[A\n\ntrain_loss=0.01 train_acc=1.00 test_loss=0.12 test_acc=0.98:  98%|█████████▊| 14672/15000 [02:22<00:03, 102.35it/s]\u001b[A\u001b[A",
          "output_type": "stream"
        },
        {
          "name": "stdout",
          "text": "hi while loop 14672\n",
          "output_type": "stream"
        },
        {
          "name": "stderr",
          "text": "\n\ntrain_loss=0.01 train_acc=1.00 test_loss=0.12 test_acc=0.98:  98%|█████████▊| 14672/15000 [02:27<00:03, 102.35it/s]\u001b[A\u001b[A\n\ntrain_loss=0.01 train_acc=1.00 test_loss=0.12 test_acc=0.98: 100%|██████████| 15000/15000 [02:27<00:00, 97.32it/s] \u001b[A\u001b[A\n\n                                                                                                                  \u001b[A\u001b[A\n 57%|█████▋    | 4/7 [09:45<07:20, 146.67s/it]\u001b[A\n\n  0%|          | 0/15000 [00:00<?, ?it/s]\u001b[A\u001b[A",
          "output_type": "stream"
        },
        {
          "name": "stdout",
          "text": "hi while loop 0\n",
          "output_type": "stream"
        },
        {
          "name": "stderr",
          "text": "\n\ntrain_loss=0.29 train_acc=0.91 test_loss=0.09 test_acc=0.97:   0%|          | 0/15000 [00:08<?, ?it/s]\u001b[A\u001b[A\n\ntrain_loss=0.29 train_acc=0.91 test_loss=0.09 test_acc=0.97:   6%|▌         | 917/15000 [00:08<02:13, 105.54it/s]\u001b[A\u001b[A",
          "output_type": "stream"
        },
        {
          "name": "stdout",
          "text": "hi while loop 917\n",
          "output_type": "stream"
        },
        {
          "name": "stderr",
          "text": "\n\ntrain_loss=0.07 train_acc=0.98 test_loss=0.07 test_acc=0.98:   6%|▌         | 917/15000 [00:17<02:13, 105.54it/s]\u001b[A\u001b[A\n\ntrain_loss=0.07 train_acc=0.98 test_loss=0.07 test_acc=0.98:  12%|█▏        | 1834/15000 [00:17<02:04, 105.88it/s]\u001b[A\u001b[A",
          "output_type": "stream"
        },
        {
          "name": "stdout",
          "text": "hi while loop 1834\n",
          "output_type": "stream"
        },
        {
          "name": "stderr",
          "text": "\n\ntrain_loss=0.04 train_acc=0.99 test_loss=0.07 test_acc=0.98:  12%|█▏        | 1834/15000 [00:26<02:04, 105.88it/s]\u001b[A\u001b[A\n\ntrain_loss=0.04 train_acc=0.99 test_loss=0.07 test_acc=0.98:  18%|█▊        | 2751/15000 [00:26<01:57, 104.61it/s]\u001b[A\u001b[A",
          "output_type": "stream"
        },
        {
          "name": "stdout",
          "text": "hi while loop 2751\n",
          "output_type": "stream"
        },
        {
          "name": "stderr",
          "text": "\n\ntrain_loss=0.03 train_acc=0.99 test_loss=0.07 test_acc=0.98:  18%|█▊        | 2751/15000 [00:35<01:57, 104.61it/s]\u001b[A\u001b[A\n\ntrain_loss=0.03 train_acc=0.99 test_loss=0.07 test_acc=0.98:  24%|██▍       | 3668/15000 [00:35<01:48, 104.08it/s]\u001b[A\u001b[A",
          "output_type": "stream"
        },
        {
          "name": "stdout",
          "text": "hi while loop 3668\n",
          "output_type": "stream"
        },
        {
          "name": "stderr",
          "text": "\n\ntrain_loss=0.02 train_acc=0.99 test_loss=0.07 test_acc=0.98:  24%|██▍       | 3668/15000 [00:43<01:48, 104.08it/s]\u001b[A\u001b[A\n\ntrain_loss=0.02 train_acc=0.99 test_loss=0.07 test_acc=0.98:  31%|███       | 4585/15000 [00:43<01:39, 104.75it/s]\u001b[A\u001b[A",
          "output_type": "stream"
        },
        {
          "name": "stdout",
          "text": "hi while loop 4585\n",
          "output_type": "stream"
        },
        {
          "name": "stderr",
          "text": "\n\ntrain_loss=0.02 train_acc=1.00 test_loss=0.07 test_acc=0.98:  31%|███       | 4585/15000 [00:52<01:39, 104.75it/s]\u001b[A\u001b[A\n\ntrain_loss=0.02 train_acc=1.00 test_loss=0.07 test_acc=0.98:  37%|███▋      | 5502/15000 [00:52<01:30, 104.99it/s]\u001b[A\u001b[A",
          "output_type": "stream"
        },
        {
          "name": "stdout",
          "text": "hi while loop 5502\n",
          "output_type": "stream"
        },
        {
          "name": "stderr",
          "text": "\n\ntrain_loss=0.01 train_acc=1.00 test_loss=0.07 test_acc=0.98:  37%|███▋      | 5502/15000 [01:01<01:30, 104.99it/s]\u001b[A\u001b[A\n\ntrain_loss=0.01 train_acc=1.00 test_loss=0.07 test_acc=0.98:  43%|████▎     | 6419/15000 [01:01<01:21, 104.72it/s]\u001b[A\u001b[A",
          "output_type": "stream"
        },
        {
          "name": "stdout",
          "text": "hi while loop 6419\n",
          "output_type": "stream"
        },
        {
          "name": "stderr",
          "text": "\n\ntrain_loss=0.01 train_acc=1.00 test_loss=0.07 test_acc=0.98:  43%|████▎     | 6419/15000 [01:09<01:21, 104.72it/s]\u001b[A\u001b[A\n\ntrain_loss=0.01 train_acc=1.00 test_loss=0.07 test_acc=0.98:  49%|████▉     | 7336/15000 [01:09<01:12, 105.14it/s]\u001b[A\u001b[A",
          "output_type": "stream"
        },
        {
          "name": "stdout",
          "text": "hi while loop 7336\n",
          "output_type": "stream"
        },
        {
          "name": "stderr",
          "text": "\n\ntrain_loss=0.01 train_acc=1.00 test_loss=0.08 test_acc=0.98:  49%|████▉     | 7336/15000 [01:18<01:12, 105.14it/s]\u001b[A\u001b[A\n\ntrain_loss=0.01 train_acc=1.00 test_loss=0.08 test_acc=0.98:  55%|█████▌    | 8253/15000 [01:18<01:04, 105.10it/s]\u001b[A\u001b[A",
          "output_type": "stream"
        },
        {
          "name": "stdout",
          "text": "hi while loop 8253\n",
          "output_type": "stream"
        },
        {
          "name": "stderr",
          "text": "\n\ntrain_loss=0.00 train_acc=1.00 test_loss=0.09 test_acc=0.98:  55%|█████▌    | 8253/15000 [01:27<01:04, 105.10it/s]\u001b[A\u001b[A\n\ntrain_loss=0.00 train_acc=1.00 test_loss=0.09 test_acc=0.98:  61%|██████    | 9170/15000 [01:27<00:56, 103.66it/s]\u001b[A\u001b[A",
          "output_type": "stream"
        },
        {
          "name": "stdout",
          "text": "hi while loop 9170\n",
          "output_type": "stream"
        },
        {
          "name": "stderr",
          "text": "\n\ntrain_loss=0.00 train_acc=1.00 test_loss=0.09 test_acc=0.98:  61%|██████    | 9170/15000 [01:36<00:56, 103.66it/s]\u001b[A\u001b[A\n\ntrain_loss=0.00 train_acc=1.00 test_loss=0.09 test_acc=0.98:  67%|██████▋   | 10087/15000 [01:36<00:47, 102.55it/s]\u001b[A\u001b[A",
          "output_type": "stream"
        },
        {
          "name": "stdout",
          "text": "hi while loop 10087\n",
          "output_type": "stream"
        },
        {
          "name": "stderr",
          "text": "\n\ntrain_loss=0.00 train_acc=1.00 test_loss=0.08 test_acc=0.98:  67%|██████▋   | 10087/15000 [01:45<00:47, 102.55it/s]\u001b[A\u001b[A\n\ntrain_loss=0.00 train_acc=1.00 test_loss=0.08 test_acc=0.98:  73%|███████▎  | 11004/15000 [01:45<00:38, 103.41it/s]\u001b[A\u001b[A",
          "output_type": "stream"
        },
        {
          "name": "stdout",
          "text": "hi while loop 11004\n",
          "output_type": "stream"
        },
        {
          "name": "stderr",
          "text": "\n\ntrain_loss=0.00 train_acc=1.00 test_loss=0.10 test_acc=0.98:  73%|███████▎  | 11004/15000 [01:54<00:38, 103.41it/s]\u001b[A\u001b[A\n\ntrain_loss=0.00 train_acc=1.00 test_loss=0.10 test_acc=0.98:  79%|███████▉  | 11921/15000 [01:54<00:29, 103.79it/s]\u001b[A\u001b[A",
          "output_type": "stream"
        },
        {
          "name": "stdout",
          "text": "hi while loop 11921\n",
          "output_type": "stream"
        },
        {
          "name": "stderr",
          "text": "\n\ntrain_loss=0.00 train_acc=1.00 test_loss=0.10 test_acc=0.98:  79%|███████▉  | 11921/15000 [02:03<00:29, 103.79it/s]\u001b[A\u001b[A\n\ntrain_loss=0.00 train_acc=1.00 test_loss=0.10 test_acc=0.98:  86%|████████▌ | 12838/15000 [02:03<00:20, 103.57it/s]\u001b[A\u001b[A",
          "output_type": "stream"
        },
        {
          "name": "stdout",
          "text": "hi while loop 12838\n",
          "output_type": "stream"
        },
        {
          "name": "stderr",
          "text": "\n\ntrain_loss=0.00 train_acc=1.00 test_loss=0.10 test_acc=0.98:  86%|████████▌ | 12838/15000 [02:12<00:20, 103.57it/s]\u001b[A\u001b[A\n\ntrain_loss=0.00 train_acc=1.00 test_loss=0.10 test_acc=0.98:  92%|█████████▏| 13755/15000 [02:12<00:12, 103.45it/s]\u001b[A\u001b[A",
          "output_type": "stream"
        },
        {
          "name": "stdout",
          "text": "hi while loop 13755\n",
          "output_type": "stream"
        },
        {
          "name": "stderr",
          "text": "\n\ntrain_loss=0.00 train_acc=1.00 test_loss=0.12 test_acc=0.98:  92%|█████████▏| 13755/15000 [02:20<00:12, 103.45it/s]\u001b[A\u001b[A\n\ntrain_loss=0.00 train_acc=1.00 test_loss=0.12 test_acc=0.98:  98%|█████████▊| 14672/15000 [02:20<00:03, 103.75it/s]\u001b[A\u001b[A",
          "output_type": "stream"
        },
        {
          "name": "stdout",
          "text": "hi while loop 14672\n",
          "output_type": "stream"
        },
        {
          "name": "stderr",
          "text": "\n\ntrain_loss=0.00 train_acc=1.00 test_loss=0.11 test_acc=0.98:  98%|█████████▊| 14672/15000 [02:25<00:03, 103.75it/s]\u001b[A\u001b[A\n\ntrain_loss=0.00 train_acc=1.00 test_loss=0.11 test_acc=0.98: 100%|██████████| 15000/15000 [02:25<00:00, 98.02it/s] \u001b[A\u001b[A\n\n                                                                                                                  \u001b[A\u001b[A\n 71%|███████▏  | 5/7 [12:11<04:52, 146.24s/it]\u001b[A\n\n  0%|          | 0/15000 [00:00<?, ?it/s]\u001b[A\u001b[A",
          "output_type": "stream"
        },
        {
          "name": "stdout",
          "text": "hi while loop 0\n",
          "output_type": "stream"
        },
        {
          "name": "stderr",
          "text": "\n\ntrain_loss=0.54 train_acc=0.84 test_loss=0.16 test_acc=0.95:   0%|          | 0/15000 [00:09<?, ?it/s]\u001b[A\u001b[A\n\ntrain_loss=0.54 train_acc=0.84 test_loss=0.16 test_acc=0.95:   6%|▌         | 917/15000 [00:09<02:20, 100.26it/s]\u001b[A\u001b[A",
          "output_type": "stream"
        },
        {
          "name": "stdout",
          "text": "hi while loop 917\n",
          "output_type": "stream"
        },
        {
          "name": "stderr",
          "text": "\n\ntrain_loss=0.13 train_acc=0.96 test_loss=0.11 test_acc=0.97:   6%|▌         | 917/15000 [00:18<02:20, 100.26it/s]\u001b[A\u001b[A\n\ntrain_loss=0.13 train_acc=0.96 test_loss=0.11 test_acc=0.97:  12%|█▏        | 1834/15000 [00:18<02:09, 101.34it/s]\u001b[A\u001b[A",
          "output_type": "stream"
        },
        {
          "name": "stdout",
          "text": "hi while loop 1834\n",
          "output_type": "stream"
        },
        {
          "name": "stderr",
          "text": "\n\ntrain_loss=0.09 train_acc=0.97 test_loss=0.10 test_acc=0.97:  12%|█▏        | 1834/15000 [00:27<02:09, 101.34it/s]\u001b[A\u001b[A\n\ntrain_loss=0.09 train_acc=0.97 test_loss=0.10 test_acc=0.97:  18%|█▊        | 2751/15000 [00:27<02:01, 100.98it/s]\u001b[A\u001b[A",
          "output_type": "stream"
        },
        {
          "name": "stdout",
          "text": "hi while loop 2751\n",
          "output_type": "stream"
        },
        {
          "name": "stderr",
          "text": "\n\ntrain_loss=0.08 train_acc=0.98 test_loss=0.09 test_acc=0.97:  18%|█▊        | 2751/15000 [00:36<02:01, 100.98it/s]\u001b[A\u001b[A\n\ntrain_loss=0.08 train_acc=0.98 test_loss=0.09 test_acc=0.97:  24%|██▍       | 3668/15000 [00:36<01:51, 101.97it/s]\u001b[A\u001b[A",
          "output_type": "stream"
        },
        {
          "name": "stdout",
          "text": "hi while loop 3668\n",
          "output_type": "stream"
        },
        {
          "name": "stderr",
          "text": "\n\ntrain_loss=0.07 train_acc=0.98 test_loss=0.09 test_acc=0.97:  24%|██▍       | 3668/15000 [00:45<01:51, 101.97it/s]\u001b[A\u001b[A\n\ntrain_loss=0.07 train_acc=0.98 test_loss=0.09 test_acc=0.97:  31%|███       | 4585/15000 [00:45<01:42, 101.94it/s]\u001b[A\u001b[A",
          "output_type": "stream"
        },
        {
          "name": "stdout",
          "text": "hi while loop 4585\n",
          "output_type": "stream"
        },
        {
          "name": "stderr",
          "text": "\n\ntrain_loss=0.06 train_acc=0.98 test_loss=0.09 test_acc=0.97:  31%|███       | 4585/15000 [00:53<01:42, 101.94it/s]\u001b[A\u001b[A\n\ntrain_loss=0.06 train_acc=0.98 test_loss=0.09 test_acc=0.97:  37%|███▋      | 5502/15000 [00:53<01:31, 103.57it/s]\u001b[A\u001b[A",
          "output_type": "stream"
        },
        {
          "name": "stdout",
          "text": "hi while loop 5502\n",
          "output_type": "stream"
        },
        {
          "name": "stderr",
          "text": "\n\ntrain_loss=0.05 train_acc=0.98 test_loss=0.09 test_acc=0.97:  37%|███▋      | 5502/15000 [01:02<01:31, 103.57it/s]\u001b[A\u001b[A\n\ntrain_loss=0.05 train_acc=0.98 test_loss=0.09 test_acc=0.97:  43%|████▎     | 6419/15000 [01:02<01:22, 104.20it/s]\u001b[A\u001b[A",
          "output_type": "stream"
        },
        {
          "name": "stdout",
          "text": "hi while loop 6419\n",
          "output_type": "stream"
        },
        {
          "name": "stderr",
          "text": "\n\ntrain_loss=0.05 train_acc=0.98 test_loss=0.09 test_acc=0.98:  43%|████▎     | 6419/15000 [01:11<01:22, 104.20it/s]\u001b[A\u001b[A\n\ntrain_loss=0.05 train_acc=0.98 test_loss=0.09 test_acc=0.98:  49%|████▉     | 7336/15000 [01:11<01:13, 103.66it/s]\u001b[A\u001b[A",
          "output_type": "stream"
        },
        {
          "name": "stdout",
          "text": "hi while loop 7336\n",
          "output_type": "stream"
        },
        {
          "name": "stderr",
          "text": "\n\ntrain_loss=0.04 train_acc=0.99 test_loss=0.09 test_acc=0.97:  49%|████▉     | 7336/15000 [01:20<01:13, 103.66it/s]\u001b[A\u001b[A\n\ntrain_loss=0.04 train_acc=0.99 test_loss=0.09 test_acc=0.97:  55%|█████▌    | 8253/15000 [01:20<01:05, 103.05it/s]\u001b[A\u001b[A",
          "output_type": "stream"
        },
        {
          "name": "stdout",
          "text": "hi while loop 8253\n",
          "output_type": "stream"
        },
        {
          "name": "stderr",
          "text": "\n\ntrain_loss=0.04 train_acc=0.99 test_loss=0.09 test_acc=0.97:  55%|█████▌    | 8253/15000 [01:29<01:05, 103.05it/s]\u001b[A\u001b[A\n\ntrain_loss=0.04 train_acc=0.99 test_loss=0.09 test_acc=0.97:  61%|██████    | 9170/15000 [01:29<00:56, 103.62it/s]\u001b[A\u001b[A",
          "output_type": "stream"
        },
        {
          "name": "stdout",
          "text": "hi while loop 9170\n",
          "output_type": "stream"
        },
        {
          "name": "stderr",
          "text": "\n\ntrain_loss=0.04 train_acc=0.99 test_loss=0.09 test_acc=0.97:  61%|██████    | 9170/15000 [01:37<00:56, 103.62it/s]\u001b[A\u001b[A\n\ntrain_loss=0.04 train_acc=0.99 test_loss=0.09 test_acc=0.97:  67%|██████▋   | 10087/15000 [01:37<00:47, 103.90it/s]\u001b[A\u001b[A",
          "output_type": "stream"
        },
        {
          "name": "stdout",
          "text": "hi while loop 10087\n",
          "output_type": "stream"
        },
        {
          "name": "stderr",
          "text": "\n\ntrain_loss=0.04 train_acc=0.99 test_loss=0.09 test_acc=0.97:  67%|██████▋   | 10087/15000 [01:46<00:47, 103.90it/s]\u001b[A\u001b[A\n\ntrain_loss=0.04 train_acc=0.99 test_loss=0.09 test_acc=0.97:  73%|███████▎  | 11004/15000 [01:46<00:38, 102.98it/s]\u001b[A\u001b[A",
          "output_type": "stream"
        },
        {
          "name": "stdout",
          "text": "hi while loop 11004\n",
          "output_type": "stream"
        },
        {
          "name": "stderr",
          "text": "\n\ntrain_loss=0.03 train_acc=0.99 test_loss=0.09 test_acc=0.98:  73%|███████▎  | 11004/15000 [01:55<00:38, 102.98it/s]\u001b[A\u001b[A\n\ntrain_loss=0.03 train_acc=0.99 test_loss=0.09 test_acc=0.98:  79%|███████▉  | 11921/15000 [01:55<00:29, 103.26it/s]\u001b[A\u001b[A",
          "output_type": "stream"
        },
        {
          "name": "stdout",
          "text": "hi while loop 11921\n",
          "output_type": "stream"
        },
        {
          "name": "stderr",
          "text": "\n\ntrain_loss=0.03 train_acc=0.99 test_loss=0.09 test_acc=0.98:  79%|███████▉  | 11921/15000 [02:04<00:29, 103.26it/s]\u001b[A\u001b[A\n\ntrain_loss=0.03 train_acc=0.99 test_loss=0.09 test_acc=0.98:  86%|████████▌ | 12838/15000 [02:04<00:20, 102.99it/s]\u001b[A\u001b[A",
          "output_type": "stream"
        },
        {
          "name": "stdout",
          "text": "hi while loop 12838\n",
          "output_type": "stream"
        },
        {
          "name": "stderr",
          "text": "\n\ntrain_loss=0.03 train_acc=0.99 test_loss=0.09 test_acc=0.97:  86%|████████▌ | 12838/15000 [02:13<00:20, 102.99it/s]\u001b[A\u001b[A\n\ntrain_loss=0.03 train_acc=0.99 test_loss=0.09 test_acc=0.97:  92%|█████████▏| 13755/15000 [02:13<00:12, 103.19it/s]\u001b[A\u001b[A",
          "output_type": "stream"
        },
        {
          "name": "stdout",
          "text": "hi while loop 13755\n",
          "output_type": "stream"
        },
        {
          "name": "stderr",
          "text": "\n\ntrain_loss=0.03 train_acc=0.99 test_loss=0.10 test_acc=0.97:  92%|█████████▏| 13755/15000 [02:22<00:12, 103.19it/s]\u001b[A\u001b[A\n\ntrain_loss=0.03 train_acc=0.99 test_loss=0.10 test_acc=0.97:  98%|█████████▊| 14672/15000 [02:22<00:03, 102.36it/s]\u001b[A\u001b[A",
          "output_type": "stream"
        },
        {
          "name": "stdout",
          "text": "hi while loop 14672\n",
          "output_type": "stream"
        },
        {
          "name": "stderr",
          "text": "\n\ntrain_loss=0.02 train_acc=0.99 test_loss=0.10 test_acc=0.97:  98%|█████████▊| 14672/15000 [02:27<00:03, 102.36it/s]\u001b[A\u001b[A\n\ntrain_loss=0.02 train_acc=0.99 test_loss=0.10 test_acc=0.97: 100%|██████████| 15000/15000 [02:27<00:00, 97.12it/s] \u001b[A\u001b[A\n\n                                                                                                                  \u001b[A\u001b[A\n 86%|████████▌ | 6/7 [14:38<02:26, 146.57s/it]\u001b[A\n\n  0%|          | 0/15000 [00:00<?, ?it/s]\u001b[A\u001b[A",
          "output_type": "stream"
        },
        {
          "name": "stdout",
          "text": "hi while loop 0\n",
          "output_type": "stream"
        },
        {
          "name": "stderr",
          "text": "\n\ntrain_loss=1.86 train_acc=0.33 test_loss=0.99 test_acc=0.68:   0%|          | 0/15000 [00:08<?, ?it/s]\u001b[A\u001b[A\n\ntrain_loss=1.86 train_acc=0.33 test_loss=0.99 test_acc=0.68:   6%|▌         | 917/15000 [00:08<02:16, 102.93it/s]\u001b[A\u001b[A",
          "output_type": "stream"
        },
        {
          "name": "stdout",
          "text": "hi while loop 917\n",
          "output_type": "stream"
        },
        {
          "name": "stderr",
          "text": "\n\ntrain_loss=0.76 train_acc=0.76 test_loss=0.61 test_acc=0.81:   6%|▌         | 917/15000 [00:17<02:16, 102.93it/s]\u001b[A\u001b[A\n\ntrain_loss=0.76 train_acc=0.76 test_loss=0.61 test_acc=0.81:  12%|█▏        | 1834/15000 [00:17<02:07, 103.39it/s]\u001b[A\u001b[A",
          "output_type": "stream"
        },
        {
          "name": "stdout",
          "text": "hi while loop 1834\n",
          "output_type": "stream"
        },
        {
          "name": "stderr",
          "text": "\n\ntrain_loss=0.54 train_acc=0.83 test_loss=0.47 test_acc=0.86:  12%|█▏        | 1834/15000 [00:26<02:07, 103.39it/s]\u001b[A\u001b[A\n\ntrain_loss=0.54 train_acc=0.83 test_loss=0.47 test_acc=0.86:  18%|█▊        | 2751/15000 [00:26<01:59, 102.34it/s]\u001b[A\u001b[A",
          "output_type": "stream"
        },
        {
          "name": "stdout",
          "text": "hi while loop 2751\n",
          "output_type": "stream"
        },
        {
          "name": "stderr",
          "text": "\n\ntrain_loss=0.46 train_acc=0.86 test_loss=0.43 test_acc=0.87:  18%|█▊        | 2751/15000 [00:35<01:59, 102.34it/s]\u001b[A\u001b[A\n\ntrain_loss=0.46 train_acc=0.86 test_loss=0.43 test_acc=0.87:  24%|██▍       | 3668/15000 [00:35<01:49, 103.03it/s]\u001b[A\u001b[A",
          "output_type": "stream"
        },
        {
          "name": "stdout",
          "text": "hi while loop 3668\n",
          "output_type": "stream"
        },
        {
          "name": "stderr",
          "text": "\n\ntrain_loss=0.42 train_acc=0.87 test_loss=0.40 test_acc=0.88:  24%|██▍       | 3668/15000 [00:44<01:49, 103.03it/s]\u001b[A\u001b[A\n\ntrain_loss=0.42 train_acc=0.87 test_loss=0.40 test_acc=0.88:  31%|███       | 4585/15000 [00:44<01:40, 103.53it/s]\u001b[A\u001b[A",
          "output_type": "stream"
        },
        {
          "name": "stdout",
          "text": "hi while loop 4585\n",
          "output_type": "stream"
        },
        {
          "name": "stderr",
          "text": "\n\ntrain_loss=0.40 train_acc=0.88 test_loss=0.39 test_acc=0.89:  31%|███       | 4585/15000 [00:53<01:40, 103.53it/s]\u001b[A\u001b[A\n\ntrain_loss=0.40 train_acc=0.88 test_loss=0.39 test_acc=0.89:  37%|███▋      | 5502/15000 [00:53<01:32, 102.72it/s]\u001b[A\u001b[A",
          "output_type": "stream"
        },
        {
          "name": "stdout",
          "text": "hi while loop 5502\n",
          "output_type": "stream"
        },
        {
          "name": "stderr",
          "text": "\n\ntrain_loss=0.39 train_acc=0.88 test_loss=0.37 test_acc=0.89:  37%|███▋      | 5502/15000 [01:02<01:32, 102.72it/s]\u001b[A\u001b[A\n\ntrain_loss=0.39 train_acc=0.88 test_loss=0.37 test_acc=0.89:  43%|████▎     | 6419/15000 [01:02<01:22, 103.71it/s]\u001b[A\u001b[A",
          "output_type": "stream"
        },
        {
          "name": "stdout",
          "text": "hi while loop 6419\n",
          "output_type": "stream"
        },
        {
          "name": "stderr",
          "text": "\n\ntrain_loss=0.38 train_acc=0.88 test_loss=0.37 test_acc=0.89:  43%|████▎     | 6419/15000 [01:10<01:22, 103.71it/s]\u001b[A\u001b[A\n\ntrain_loss=0.38 train_acc=0.88 test_loss=0.37 test_acc=0.89:  49%|████▉     | 7336/15000 [01:10<01:13, 104.21it/s]\u001b[A\u001b[A",
          "output_type": "stream"
        },
        {
          "name": "stdout",
          "text": "hi while loop 7336\n",
          "output_type": "stream"
        },
        {
          "name": "stderr",
          "text": "\n\ntrain_loss=0.37 train_acc=0.89 test_loss=0.36 test_acc=0.89:  49%|████▉     | 7336/15000 [01:19<01:13, 104.21it/s]\u001b[A\u001b[A\n\ntrain_loss=0.37 train_acc=0.89 test_loss=0.36 test_acc=0.89:  55%|█████▌    | 8253/15000 [01:19<01:04, 104.52it/s]\u001b[A\u001b[A",
          "output_type": "stream"
        },
        {
          "name": "stdout",
          "text": "hi while loop 8253\n",
          "output_type": "stream"
        },
        {
          "name": "stderr",
          "text": "\n\ntrain_loss=0.36 train_acc=0.89 test_loss=0.35 test_acc=0.89:  55%|█████▌    | 8253/15000 [01:28<01:04, 104.52it/s]\u001b[A\u001b[A\n\ntrain_loss=0.36 train_acc=0.89 test_loss=0.35 test_acc=0.89:  61%|██████    | 9170/15000 [01:28<00:56, 103.09it/s]\u001b[A\u001b[A",
          "output_type": "stream"
        },
        {
          "name": "stdout",
          "text": "hi while loop 9170\n",
          "output_type": "stream"
        },
        {
          "name": "stderr",
          "text": "\n\ntrain_loss=0.36 train_acc=0.89 test_loss=0.35 test_acc=0.90:  61%|██████    | 9170/15000 [01:37<00:56, 103.09it/s]\u001b[A\u001b[A\n\ntrain_loss=0.36 train_acc=0.89 test_loss=0.35 test_acc=0.90:  67%|██████▋   | 10087/15000 [01:37<00:47, 103.44it/s]\u001b[A\u001b[A",
          "output_type": "stream"
        },
        {
          "name": "stdout",
          "text": "hi while loop 10087\n",
          "output_type": "stream"
        },
        {
          "name": "stderr",
          "text": "\n\ntrain_loss=0.35 train_acc=0.89 test_loss=0.35 test_acc=0.90:  67%|██████▋   | 10087/15000 [01:46<00:47, 103.44it/s]\u001b[A\u001b[A\n\ntrain_loss=0.35 train_acc=0.89 test_loss=0.35 test_acc=0.90:  73%|███████▎  | 11004/15000 [01:46<00:38, 103.75it/s]\u001b[A\u001b[A",
          "output_type": "stream"
        },
        {
          "name": "stdout",
          "text": "hi while loop 11004\n",
          "output_type": "stream"
        },
        {
          "name": "stderr",
          "text": "\n\ntrain_loss=0.35 train_acc=0.89 test_loss=0.34 test_acc=0.90:  73%|███████▎  | 11004/15000 [01:55<00:38, 103.75it/s]\u001b[A\u001b[A\n\ntrain_loss=0.35 train_acc=0.89 test_loss=0.34 test_acc=0.90:  79%|███████▉  | 11921/15000 [01:55<00:29, 103.12it/s]\u001b[A\u001b[A",
          "output_type": "stream"
        },
        {
          "name": "stdout",
          "text": "hi while loop 11921\n",
          "output_type": "stream"
        },
        {
          "name": "stderr",
          "text": "\n\ntrain_loss=0.34 train_acc=0.89 test_loss=0.34 test_acc=0.90:  79%|███████▉  | 11921/15000 [02:04<00:29, 103.12it/s]\u001b[A\u001b[A\n\ntrain_loss=0.34 train_acc=0.89 test_loss=0.34 test_acc=0.90:  86%|████████▌ | 12838/15000 [02:04<00:21, 102.56it/s]\u001b[A\u001b[A",
          "output_type": "stream"
        },
        {
          "name": "stdout",
          "text": "hi while loop 12838\n",
          "output_type": "stream"
        },
        {
          "name": "stderr",
          "text": "\n\ntrain_loss=0.34 train_acc=0.89 test_loss=0.33 test_acc=0.90:  86%|████████▌ | 12838/15000 [02:13<00:21, 102.56it/s]\u001b[A\u001b[A\n\ntrain_loss=0.34 train_acc=0.89 test_loss=0.33 test_acc=0.90:  92%|█████████▏| 13755/15000 [02:13<00:12, 102.98it/s]\u001b[A\u001b[A",
          "output_type": "stream"
        },
        {
          "name": "stdout",
          "text": "hi while loop 13755\n",
          "output_type": "stream"
        },
        {
          "name": "stderr",
          "text": "\n\ntrain_loss=0.34 train_acc=0.90 test_loss=0.33 test_acc=0.91:  92%|█████████▏| 13755/15000 [02:21<00:12, 102.98it/s]\u001b[A\u001b[A\n\ntrain_loss=0.34 train_acc=0.90 test_loss=0.33 test_acc=0.91:  98%|█████████▊| 14672/15000 [02:21<00:03, 103.58it/s]\u001b[A\u001b[A",
          "output_type": "stream"
        },
        {
          "name": "stdout",
          "text": "hi while loop 14672\n",
          "output_type": "stream"
        },
        {
          "name": "stderr",
          "text": "\n\ntrain_loss=0.32 train_acc=0.90 test_loss=0.33 test_acc=0.91:  98%|█████████▊| 14672/15000 [02:26<00:03, 103.58it/s]\u001b[A\u001b[A\n\ntrain_loss=0.32 train_acc=0.90 test_loss=0.33 test_acc=0.91: 100%|██████████| 15000/15000 [02:26<00:00, 98.22it/s] \u001b[A\u001b[A\n\n                                                                                                                  \u001b[A\u001b[A\n100%|██████████| 7/7 [17:04<00:00, 146.52s/it]\u001b[A\n 40%|████      | 2/5 [34:17<51:24, 1028.04s/it]  ",
          "output_type": "stream"
        },
        {
          "name": "stdout",
          "text": "1\nhi\n",
          "output_type": "stream"
        },
        {
          "name": "stderr",
          "text": "\n  0%|          | 0/7 [00:00<?, ?it/s]\u001b[A\n\n  0%|          | 0/15000 [00:00<?, ?it/s]\u001b[A\u001b[A",
          "output_type": "stream"
        },
        {
          "name": "stdout",
          "text": "hi while loop 0\n",
          "output_type": "stream"
        },
        {
          "name": "stderr",
          "text": "\n\ntrain_loss=0.23 train_acc=0.93 test_loss=0.14 test_acc=0.96:   0%|          | 0/15000 [00:09<?, ?it/s]\u001b[A\u001b[A\n\ntrain_loss=0.23 train_acc=0.93 test_loss=0.14 test_acc=0.96:   6%|▌         | 917/15000 [00:09<02:18, 101.66it/s]\u001b[A\u001b[A",
          "output_type": "stream"
        },
        {
          "name": "stdout",
          "text": "hi while loop 917\n",
          "output_type": "stream"
        },
        {
          "name": "stderr",
          "text": "\n\ntrain_loss=0.09 train_acc=0.97 test_loss=0.09 test_acc=0.97:   6%|▌         | 917/15000 [00:17<02:18, 101.66it/s]\u001b[A\u001b[A\n\ntrain_loss=0.09 train_acc=0.97 test_loss=0.09 test_acc=0.97:  12%|█▏        | 1834/15000 [00:17<02:07, 103.59it/s]\u001b[A\u001b[A",
          "output_type": "stream"
        },
        {
          "name": "stdout",
          "text": "hi while loop 1834\n",
          "output_type": "stream"
        },
        {
          "name": "stderr",
          "text": "\n\ntrain_loss=0.07 train_acc=0.98 test_loss=0.09 test_acc=0.97:  12%|█▏        | 1834/15000 [00:26<02:07, 103.59it/s]\u001b[A\u001b[A\n\ntrain_loss=0.07 train_acc=0.98 test_loss=0.09 test_acc=0.97:  18%|█▊        | 2751/15000 [00:26<01:56, 104.73it/s]\u001b[A\u001b[A",
          "output_type": "stream"
        },
        {
          "name": "stdout",
          "text": "hi while loop 2751\n",
          "output_type": "stream"
        },
        {
          "name": "stderr",
          "text": "\n\ntrain_loss=0.05 train_acc=0.98 test_loss=0.08 test_acc=0.98:  18%|█▊        | 2751/15000 [00:35<01:56, 104.73it/s]\u001b[A\u001b[A\n\ntrain_loss=0.05 train_acc=0.98 test_loss=0.08 test_acc=0.98:  24%|██▍       | 3668/15000 [00:35<01:48, 103.98it/s]\u001b[A\u001b[A",
          "output_type": "stream"
        },
        {
          "name": "stdout",
          "text": "hi while loop 3668\n",
          "output_type": "stream"
        },
        {
          "name": "stderr",
          "text": "\n\ntrain_loss=0.04 train_acc=0.99 test_loss=0.09 test_acc=0.97:  24%|██▍       | 3668/15000 [00:44<01:48, 103.98it/s]\u001b[A\u001b[A\n\ntrain_loss=0.04 train_acc=0.99 test_loss=0.09 test_acc=0.97:  31%|███       | 4585/15000 [00:44<01:39, 104.53it/s]\u001b[A\u001b[A",
          "output_type": "stream"
        },
        {
          "name": "stdout",
          "text": "hi while loop 4585\n",
          "output_type": "stream"
        },
        {
          "name": "stderr",
          "text": "\n\ntrain_loss=0.03 train_acc=0.99 test_loss=0.08 test_acc=0.98:  31%|███       | 4585/15000 [00:52<01:39, 104.53it/s]\u001b[A\u001b[A\n\ntrain_loss=0.03 train_acc=0.99 test_loss=0.08 test_acc=0.98:  37%|███▋      | 5502/15000 [00:52<01:30, 104.72it/s]\u001b[A\u001b[A",
          "output_type": "stream"
        },
        {
          "name": "stdout",
          "text": "hi while loop 5502\n",
          "output_type": "stream"
        },
        {
          "name": "stderr",
          "text": "\n\ntrain_loss=0.03 train_acc=0.99 test_loss=0.13 test_acc=0.97:  37%|███▋      | 5502/15000 [01:01<01:30, 104.72it/s]\u001b[A\u001b[A\n\ntrain_loss=0.03 train_acc=0.99 test_loss=0.13 test_acc=0.97:  43%|████▎     | 6419/15000 [01:01<01:21, 105.58it/s]\u001b[A\u001b[A",
          "output_type": "stream"
        },
        {
          "name": "stdout",
          "text": "hi while loop 6419\n",
          "output_type": "stream"
        },
        {
          "name": "stderr",
          "text": "\n\ntrain_loss=0.03 train_acc=0.99 test_loss=0.10 test_acc=0.98:  43%|████▎     | 6419/15000 [01:10<01:21, 105.58it/s]\u001b[A\u001b[A\n\ntrain_loss=0.03 train_acc=0.99 test_loss=0.10 test_acc=0.98:  49%|████▉     | 7336/15000 [01:10<01:13, 104.59it/s]\u001b[A\u001b[A",
          "output_type": "stream"
        },
        {
          "name": "stdout",
          "text": "hi while loop 7336\n",
          "output_type": "stream"
        },
        {
          "name": "stderr",
          "text": "\n\ntrain_loss=0.02 train_acc=0.99 test_loss=0.08 test_acc=0.98:  49%|████▉     | 7336/15000 [01:18<01:13, 104.59it/s]\u001b[A\u001b[A\n\ntrain_loss=0.02 train_acc=0.99 test_loss=0.08 test_acc=0.98:  55%|█████▌    | 8253/15000 [01:18<01:04, 104.92it/s]\u001b[A\u001b[A",
          "output_type": "stream"
        },
        {
          "name": "stdout",
          "text": "hi while loop 8253\n",
          "output_type": "stream"
        },
        {
          "name": "stderr",
          "text": "\n\ntrain_loss=0.02 train_acc=0.99 test_loss=0.11 test_acc=0.98:  55%|█████▌    | 8253/15000 [01:27<01:04, 104.92it/s]\u001b[A\u001b[A\n\ntrain_loss=0.02 train_acc=0.99 test_loss=0.11 test_acc=0.98:  61%|██████    | 9170/15000 [01:27<00:55, 105.70it/s]\u001b[A\u001b[A",
          "output_type": "stream"
        },
        {
          "name": "stdout",
          "text": "hi while loop 9170\n",
          "output_type": "stream"
        },
        {
          "name": "stderr",
          "text": "\n\ntrain_loss=0.02 train_acc=0.99 test_loss=0.12 test_acc=0.97:  61%|██████    | 9170/15000 [01:36<00:55, 105.70it/s]\u001b[A\u001b[A\n\ntrain_loss=0.02 train_acc=0.99 test_loss=0.12 test_acc=0.97:  67%|██████▋   | 10087/15000 [01:36<00:46, 105.26it/s]\u001b[A\u001b[A",
          "output_type": "stream"
        },
        {
          "name": "stdout",
          "text": "hi while loop 10087\n",
          "output_type": "stream"
        },
        {
          "name": "stderr",
          "text": "\n\ntrain_loss=0.02 train_acc=0.99 test_loss=0.10 test_acc=0.98:  67%|██████▋   | 10087/15000 [01:45<00:46, 105.26it/s]\u001b[A\u001b[A\n\ntrain_loss=0.02 train_acc=0.99 test_loss=0.10 test_acc=0.98:  73%|███████▎  | 11004/15000 [01:45<00:38, 104.67it/s]\u001b[A\u001b[A",
          "output_type": "stream"
        },
        {
          "name": "stdout",
          "text": "hi while loop 11004\n",
          "output_type": "stream"
        },
        {
          "name": "stderr",
          "text": "\n\ntrain_loss=0.02 train_acc=0.99 test_loss=0.10 test_acc=0.98:  73%|███████▎  | 11004/15000 [01:53<00:38, 104.67it/s]\u001b[A\u001b[A\n\ntrain_loss=0.02 train_acc=0.99 test_loss=0.10 test_acc=0.98:  79%|███████▉  | 11921/15000 [01:53<00:29, 105.27it/s]\u001b[A\u001b[A",
          "output_type": "stream"
        },
        {
          "name": "stdout",
          "text": "hi while loop 11921\n",
          "output_type": "stream"
        },
        {
          "name": "stderr",
          "text": "\n\ntrain_loss=0.01 train_acc=1.00 test_loss=0.11 test_acc=0.98:  79%|███████▉  | 11921/15000 [02:02<00:29, 105.27it/s]\u001b[A\u001b[A\n\ntrain_loss=0.01 train_acc=1.00 test_loss=0.11 test_acc=0.98:  86%|████████▌ | 12838/15000 [02:02<00:20, 105.98it/s]\u001b[A\u001b[A",
          "output_type": "stream"
        },
        {
          "name": "stdout",
          "text": "hi while loop 12838\n",
          "output_type": "stream"
        },
        {
          "name": "stderr",
          "text": "\n\ntrain_loss=0.02 train_acc=0.99 test_loss=0.11 test_acc=0.98:  86%|████████▌ | 12838/15000 [02:11<00:20, 105.98it/s]\u001b[A\u001b[A\n\ntrain_loss=0.02 train_acc=0.99 test_loss=0.11 test_acc=0.98:  92%|█████████▏| 13755/15000 [02:11<00:11, 105.12it/s]\u001b[A\u001b[A",
          "output_type": "stream"
        },
        {
          "name": "stdout",
          "text": "hi while loop 13755\n",
          "output_type": "stream"
        },
        {
          "name": "stderr",
          "text": "\n\ntrain_loss=0.02 train_acc=0.99 test_loss=0.12 test_acc=0.98:  92%|█████████▏| 13755/15000 [02:19<00:11, 105.12it/s]\u001b[A\u001b[A\n\ntrain_loss=0.02 train_acc=0.99 test_loss=0.12 test_acc=0.98:  98%|█████████▊| 14672/15000 [02:19<00:03, 105.18it/s]\u001b[A\u001b[A",
          "output_type": "stream"
        },
        {
          "name": "stdout",
          "text": "hi while loop 14672\n",
          "output_type": "stream"
        },
        {
          "name": "stderr",
          "text": "\n\ntrain_loss=0.01 train_acc=1.00 test_loss=0.11 test_acc=0.98:  98%|█████████▊| 14672/15000 [02:24<00:03, 105.18it/s]\u001b[A\u001b[A\n\ntrain_loss=0.01 train_acc=1.00 test_loss=0.11 test_acc=0.98: 100%|██████████| 15000/15000 [02:24<00:00, 99.69it/s] \u001b[A\u001b[A\n\n                                                                                                                  \u001b[A\u001b[A\n 14%|█▍        | 1/7 [02:24<14:25, 144.21s/it]\u001b[A\n\n  0%|          | 0/15000 [00:00<?, ?it/s]\u001b[A\u001b[A",
          "output_type": "stream"
        },
        {
          "name": "stdout",
          "text": "hi while loop 0\n",
          "output_type": "stream"
        },
        {
          "name": "stderr",
          "text": "\n\ntrain_loss=0.21 train_acc=0.94 test_loss=0.12 test_acc=0.96:   0%|          | 0/15000 [00:08<?, ?it/s]\u001b[A\u001b[A\n\ntrain_loss=0.21 train_acc=0.94 test_loss=0.12 test_acc=0.96:   6%|▌         | 917/15000 [00:08<02:10, 107.51it/s]\u001b[A\u001b[A",
          "output_type": "stream"
        },
        {
          "name": "stdout",
          "text": "hi while loop 917\n",
          "output_type": "stream"
        },
        {
          "name": "stderr",
          "text": "\n\ntrain_loss=0.08 train_acc=0.97 test_loss=0.09 test_acc=0.97:   6%|▌         | 917/15000 [00:17<02:10, 107.51it/s]\u001b[A\u001b[A\n\ntrain_loss=0.08 train_acc=0.97 test_loss=0.09 test_acc=0.97:  12%|█▏        | 1834/15000 [00:17<02:05, 104.71it/s]\u001b[A\u001b[A",
          "output_type": "stream"
        },
        {
          "name": "stdout",
          "text": "hi while loop 1834\n",
          "output_type": "stream"
        },
        {
          "name": "stderr",
          "text": "\n\ntrain_loss=0.06 train_acc=0.98 test_loss=0.07 test_acc=0.98:  12%|█▏        | 1834/15000 [00:26<02:05, 104.71it/s]\u001b[A\u001b[A\n\ntrain_loss=0.06 train_acc=0.98 test_loss=0.07 test_acc=0.98:  18%|█▊        | 2751/15000 [00:26<01:56, 104.70it/s]\u001b[A\u001b[A",
          "output_type": "stream"
        },
        {
          "name": "stdout",
          "text": "hi while loop 2751\n",
          "output_type": "stream"
        },
        {
          "name": "stderr",
          "text": "\n\ntrain_loss=0.04 train_acc=0.99 test_loss=0.07 test_acc=0.98:  18%|█▊        | 2751/15000 [00:35<01:56, 104.70it/s]\u001b[A\u001b[A\n\ntrain_loss=0.04 train_acc=0.99 test_loss=0.07 test_acc=0.98:  24%|██▍       | 3668/15000 [00:35<01:48, 104.11it/s]\u001b[A\u001b[A",
          "output_type": "stream"
        },
        {
          "name": "stdout",
          "text": "hi while loop 3668\n",
          "output_type": "stream"
        },
        {
          "name": "stderr",
          "text": "\n\ntrain_loss=0.03 train_acc=0.99 test_loss=0.09 test_acc=0.98:  24%|██▍       | 3668/15000 [00:43<01:48, 104.11it/s]\u001b[A\u001b[A\n\ntrain_loss=0.03 train_acc=0.99 test_loss=0.09 test_acc=0.98:  31%|███       | 4585/15000 [00:43<01:39, 104.33it/s]\u001b[A\u001b[A",
          "output_type": "stream"
        },
        {
          "name": "stdout",
          "text": "hi while loop 4585\n",
          "output_type": "stream"
        },
        {
          "name": "stderr",
          "text": "\n\ntrain_loss=0.03 train_acc=0.99 test_loss=0.09 test_acc=0.98:  31%|███       | 4585/15000 [00:52<01:39, 104.33it/s]\u001b[A\u001b[A\n\ntrain_loss=0.03 train_acc=0.99 test_loss=0.09 test_acc=0.98:  37%|███▋      | 5502/15000 [00:52<01:32, 102.97it/s]\u001b[A\u001b[A",
          "output_type": "stream"
        },
        {
          "name": "stdout",
          "text": "hi while loop 5502\n",
          "output_type": "stream"
        },
        {
          "name": "stderr",
          "text": "\n\ntrain_loss=0.02 train_acc=0.99 test_loss=0.09 test_acc=0.98:  37%|███▋      | 5502/15000 [01:01<01:32, 102.97it/s]\u001b[A\u001b[A\n\ntrain_loss=0.02 train_acc=0.99 test_loss=0.09 test_acc=0.98:  43%|████▎     | 6419/15000 [01:01<01:22, 103.81it/s]\u001b[A\u001b[A",
          "output_type": "stream"
        },
        {
          "name": "stdout",
          "text": "hi while loop 6419\n",
          "output_type": "stream"
        },
        {
          "name": "stderr",
          "text": "\n\ntrain_loss=0.02 train_acc=0.99 test_loss=0.09 test_acc=0.98:  43%|████▎     | 6419/15000 [01:10<01:22, 103.81it/s]\u001b[A\u001b[A\n\ntrain_loss=0.02 train_acc=0.99 test_loss=0.09 test_acc=0.98:  49%|████▉     | 7336/15000 [01:10<01:13, 104.41it/s]\u001b[A\u001b[A",
          "output_type": "stream"
        },
        {
          "name": "stdout",
          "text": "hi while loop 7336\n",
          "output_type": "stream"
        },
        {
          "name": "stderr",
          "text": "\n\ntrain_loss=0.02 train_acc=0.99 test_loss=0.12 test_acc=0.97:  49%|████▉     | 7336/15000 [01:19<01:13, 104.41it/s]\u001b[A\u001b[A\n\ntrain_loss=0.02 train_acc=0.99 test_loss=0.12 test_acc=0.97:  55%|█████▌    | 8253/15000 [01:19<01:05, 103.76it/s]\u001b[A\u001b[A",
          "output_type": "stream"
        },
        {
          "name": "stdout",
          "text": "hi while loop 8253\n",
          "output_type": "stream"
        },
        {
          "name": "stderr",
          "text": "\n\ntrain_loss=0.02 train_acc=0.99 test_loss=0.11 test_acc=0.98:  55%|█████▌    | 8253/15000 [01:28<01:05, 103.76it/s]\u001b[A\u001b[A\n\ntrain_loss=0.02 train_acc=0.99 test_loss=0.11 test_acc=0.98:  61%|██████    | 9170/15000 [01:28<00:56, 103.86it/s]\u001b[A\u001b[A",
          "output_type": "stream"
        },
        {
          "name": "stdout",
          "text": "hi while loop 9170\n",
          "output_type": "stream"
        },
        {
          "name": "stderr",
          "text": "\n\ntrain_loss=0.02 train_acc=0.99 test_loss=0.11 test_acc=0.98:  61%|██████    | 9170/15000 [01:36<00:56, 103.86it/s]\u001b[A\u001b[A\n\ntrain_loss=0.02 train_acc=0.99 test_loss=0.11 test_acc=0.98:  67%|██████▋   | 10087/15000 [01:36<00:47, 104.35it/s]\u001b[A\u001b[A",
          "output_type": "stream"
        },
        {
          "name": "stdout",
          "text": "hi while loop 10087\n",
          "output_type": "stream"
        },
        {
          "name": "stderr",
          "text": "\n\ntrain_loss=0.01 train_acc=0.99 test_loss=0.10 test_acc=0.98:  67%|██████▋   | 10087/15000 [01:45<00:47, 104.35it/s]\u001b[A\u001b[A\n\ntrain_loss=0.01 train_acc=0.99 test_loss=0.10 test_acc=0.98:  73%|███████▎  | 11004/15000 [01:45<00:38, 104.69it/s]\u001b[A\u001b[A",
          "output_type": "stream"
        },
        {
          "name": "stdout",
          "text": "hi while loop 11004\n",
          "output_type": "stream"
        },
        {
          "name": "stderr",
          "text": "\n\ntrain_loss=0.01 train_acc=1.00 test_loss=0.12 test_acc=0.98:  73%|███████▎  | 11004/15000 [01:54<00:38, 104.69it/s]\u001b[A\u001b[A\n\ntrain_loss=0.01 train_acc=1.00 test_loss=0.12 test_acc=0.98:  79%|███████▉  | 11921/15000 [01:54<00:29, 103.38it/s]\u001b[A\u001b[A",
          "output_type": "stream"
        },
        {
          "name": "stdout",
          "text": "hi while loop 11921\n",
          "output_type": "stream"
        },
        {
          "name": "stderr",
          "text": "\n\ntrain_loss=0.01 train_acc=1.00 test_loss=0.11 test_acc=0.98:  79%|███████▉  | 11921/15000 [02:03<00:29, 103.38it/s]\u001b[A\u001b[A\n\ntrain_loss=0.01 train_acc=1.00 test_loss=0.11 test_acc=0.98:  86%|████████▌ | 12838/15000 [02:03<00:20, 104.07it/s]\u001b[A\u001b[A",
          "output_type": "stream"
        },
        {
          "name": "stdout",
          "text": "hi while loop 12838\n",
          "output_type": "stream"
        },
        {
          "name": "stderr",
          "text": "\n\ntrain_loss=0.01 train_acc=1.00 test_loss=0.11 test_acc=0.98:  86%|████████▌ | 12838/15000 [02:11<00:20, 104.07it/s]\u001b[A\u001b[A\n\ntrain_loss=0.01 train_acc=1.00 test_loss=0.11 test_acc=0.98:  92%|█████████▏| 13755/15000 [02:11<00:11, 104.86it/s]\u001b[A\u001b[A",
          "output_type": "stream"
        },
        {
          "name": "stdout",
          "text": "hi while loop 13755\n",
          "output_type": "stream"
        },
        {
          "name": "stderr",
          "text": "\n\ntrain_loss=0.01 train_acc=1.00 test_loss=0.12 test_acc=0.98:  92%|█████████▏| 13755/15000 [02:20<00:11, 104.86it/s]\u001b[A\u001b[A\n\ntrain_loss=0.01 train_acc=1.00 test_loss=0.12 test_acc=0.98:  98%|█████████▊| 14672/15000 [02:20<00:03, 105.43it/s]\u001b[A\u001b[A",
          "output_type": "stream"
        },
        {
          "name": "stdout",
          "text": "hi while loop 14672\n",
          "output_type": "stream"
        },
        {
          "name": "stderr",
          "text": "\n\ntrain_loss=0.01 train_acc=1.00 test_loss=0.12 test_acc=0.98:  98%|█████████▊| 14672/15000 [02:25<00:03, 105.43it/s]\u001b[A\u001b[A\n\ntrain_loss=0.01 train_acc=1.00 test_loss=0.12 test_acc=0.98: 100%|██████████| 15000/15000 [02:25<00:00, 98.06it/s] \u001b[A\u001b[A\n\n                                                                                                                  \u001b[A\u001b[A\n 29%|██▊       | 2/7 [04:49<12:04, 144.89s/it]\u001b[A\n\n  0%|          | 0/15000 [00:00<?, ?it/s]\u001b[A\u001b[A",
          "output_type": "stream"
        },
        {
          "name": "stdout",
          "text": "hi while loop 0\n",
          "output_type": "stream"
        },
        {
          "name": "stderr",
          "text": "\n\ntrain_loss=0.22 train_acc=0.93 test_loss=0.09 test_acc=0.97:   0%|          | 0/15000 [00:08<?, ?it/s]\u001b[A\u001b[A\n\ntrain_loss=0.22 train_acc=0.93 test_loss=0.09 test_acc=0.97:   6%|▌         | 917/15000 [00:08<02:15, 104.29it/s]\u001b[A\u001b[A",
          "output_type": "stream"
        },
        {
          "name": "stdout",
          "text": "hi while loop 917\n",
          "output_type": "stream"
        },
        {
          "name": "stderr",
          "text": "\n\ntrain_loss=0.07 train_acc=0.98 test_loss=0.08 test_acc=0.97:   6%|▌         | 917/15000 [00:17<02:15, 104.29it/s]\u001b[A\u001b[A\n\ntrain_loss=0.07 train_acc=0.98 test_loss=0.08 test_acc=0.97:  12%|█▏        | 1834/15000 [00:17<02:05, 105.04it/s]\u001b[A\u001b[A",
          "output_type": "stream"
        },
        {
          "name": "stdout",
          "text": "hi while loop 1834\n",
          "output_type": "stream"
        },
        {
          "name": "stderr",
          "text": "\n\ntrain_loss=0.05 train_acc=0.98 test_loss=0.09 test_acc=0.97:  12%|█▏        | 1834/15000 [00:26<02:05, 105.04it/s]\u001b[A\u001b[A\n\ntrain_loss=0.05 train_acc=0.98 test_loss=0.09 test_acc=0.97:  18%|█▊        | 2751/15000 [00:26<01:56, 105.49it/s]\u001b[A\u001b[A",
          "output_type": "stream"
        },
        {
          "name": "stdout",
          "text": "hi while loop 2751\n",
          "output_type": "stream"
        },
        {
          "name": "stderr",
          "text": "\n\ntrain_loss=0.03 train_acc=0.99 test_loss=0.07 test_acc=0.98:  18%|█▊        | 2751/15000 [00:35<01:56, 105.49it/s]\u001b[A\u001b[A\n\ntrain_loss=0.03 train_acc=0.99 test_loss=0.07 test_acc=0.98:  24%|██▍       | 3668/15000 [00:35<01:49, 103.67it/s]\u001b[A\u001b[A",
          "output_type": "stream"
        },
        {
          "name": "stdout",
          "text": "hi while loop 3668\n",
          "output_type": "stream"
        },
        {
          "name": "stderr",
          "text": "\n\ntrain_loss=0.03 train_acc=0.99 test_loss=0.08 test_acc=0.98:  24%|██▍       | 3668/15000 [00:43<01:49, 103.67it/s]\u001b[A\u001b[A\n\ntrain_loss=0.03 train_acc=0.99 test_loss=0.08 test_acc=0.98:  31%|███       | 4585/15000 [00:43<01:39, 104.58it/s]\u001b[A\u001b[A",
          "output_type": "stream"
        },
        {
          "name": "stdout",
          "text": "hi while loop 4585\n",
          "output_type": "stream"
        },
        {
          "name": "stderr",
          "text": "\n\ntrain_loss=0.02 train_acc=0.99 test_loss=0.09 test_acc=0.98:  31%|███       | 4585/15000 [00:52<01:39, 104.58it/s]\u001b[A\u001b[A\n\ntrain_loss=0.02 train_acc=0.99 test_loss=0.09 test_acc=0.98:  37%|███▋      | 5502/15000 [00:52<01:30, 104.92it/s]\u001b[A\u001b[A",
          "output_type": "stream"
        },
        {
          "name": "stdout",
          "text": "hi while loop 5502\n",
          "output_type": "stream"
        },
        {
          "name": "stderr",
          "text": "\n\ntrain_loss=0.02 train_acc=0.99 test_loss=0.08 test_acc=0.98:  37%|███▋      | 5502/15000 [01:01<01:30, 104.92it/s]\u001b[A\u001b[A\n\ntrain_loss=0.02 train_acc=0.99 test_loss=0.08 test_acc=0.98:  43%|████▎     | 6419/15000 [01:01<01:23, 103.29it/s]\u001b[A\u001b[A",
          "output_type": "stream"
        },
        {
          "name": "stdout",
          "text": "hi while loop 6419\n",
          "output_type": "stream"
        },
        {
          "name": "stderr",
          "text": "\n\ntrain_loss=0.02 train_acc=0.99 test_loss=0.09 test_acc=0.98:  43%|████▎     | 6419/15000 [01:10<01:23, 103.29it/s]\u001b[A\u001b[A\n\ntrain_loss=0.02 train_acc=0.99 test_loss=0.09 test_acc=0.98:  49%|████▉     | 7336/15000 [01:10<01:13, 103.91it/s]\u001b[A\u001b[A",
          "output_type": "stream"
        },
        {
          "name": "stdout",
          "text": "hi while loop 7336\n",
          "output_type": "stream"
        },
        {
          "name": "stderr",
          "text": "\n\ntrain_loss=0.02 train_acc=0.99 test_loss=0.09 test_acc=0.98:  49%|████▉     | 7336/15000 [01:19<01:13, 103.91it/s]\u001b[A\u001b[A\n\ntrain_loss=0.02 train_acc=0.99 test_loss=0.09 test_acc=0.98:  55%|█████▌    | 8253/15000 [01:19<01:04, 104.31it/s]\u001b[A\u001b[A",
          "output_type": "stream"
        },
        {
          "name": "stdout",
          "text": "hi while loop 8253\n",
          "output_type": "stream"
        },
        {
          "name": "stderr",
          "text": "\n\ntrain_loss=0.01 train_acc=1.00 test_loss=0.09 test_acc=0.98:  55%|█████▌    | 8253/15000 [01:27<01:04, 104.31it/s]\u001b[A\u001b[A\n\ntrain_loss=0.01 train_acc=1.00 test_loss=0.09 test_acc=0.98:  61%|██████    | 9170/15000 [01:27<00:55, 104.61it/s]\u001b[A\u001b[A",
          "output_type": "stream"
        },
        {
          "name": "stdout",
          "text": "hi while loop 9170\n",
          "output_type": "stream"
        },
        {
          "name": "stderr",
          "text": "\n\ntrain_loss=0.01 train_acc=1.00 test_loss=0.10 test_acc=0.98:  61%|██████    | 9170/15000 [01:36<00:55, 104.61it/s]\u001b[A\u001b[A\n\ntrain_loss=0.01 train_acc=1.00 test_loss=0.10 test_acc=0.98:  67%|██████▋   | 10087/15000 [01:36<00:47, 103.32it/s]\u001b[A\u001b[A",
          "output_type": "stream"
        },
        {
          "name": "stdout",
          "text": "hi while loop 10087\n",
          "output_type": "stream"
        },
        {
          "name": "stderr",
          "text": "\n\ntrain_loss=0.01 train_acc=1.00 test_loss=0.10 test_acc=0.98:  67%|██████▋   | 10087/15000 [01:45<00:47, 103.32it/s]\u001b[A\u001b[A\n\ntrain_loss=0.01 train_acc=1.00 test_loss=0.10 test_acc=0.98:  73%|███████▎  | 11004/15000 [01:45<00:38, 103.99it/s]\u001b[A\u001b[A",
          "output_type": "stream"
        },
        {
          "name": "stdout",
          "text": "hi while loop 11004\n",
          "output_type": "stream"
        },
        {
          "name": "stderr",
          "text": "\n\ntrain_loss=0.01 train_acc=1.00 test_loss=0.10 test_acc=0.98:  73%|███████▎  | 11004/15000 [01:54<00:38, 103.99it/s]\u001b[A\u001b[A\n\ntrain_loss=0.01 train_acc=1.00 test_loss=0.10 test_acc=0.98:  79%|███████▉  | 11921/15000 [01:54<00:29, 104.43it/s]\u001b[A\u001b[A",
          "output_type": "stream"
        },
        {
          "name": "stdout",
          "text": "hi while loop 11921\n",
          "output_type": "stream"
        },
        {
          "name": "stderr",
          "text": "\n\ntrain_loss=0.01 train_acc=1.00 test_loss=0.11 test_acc=0.98:  79%|███████▉  | 11921/15000 [02:03<00:29, 104.43it/s]\u001b[A\u001b[A\n\ntrain_loss=0.01 train_acc=1.00 test_loss=0.11 test_acc=0.98:  86%|████████▌ | 12838/15000 [02:03<00:20, 104.53it/s]\u001b[A\u001b[A",
          "output_type": "stream"
        },
        {
          "name": "stdout",
          "text": "hi while loop 12838\n",
          "output_type": "stream"
        },
        {
          "name": "stderr",
          "text": "\n\ntrain_loss=0.01 train_acc=1.00 test_loss=0.11 test_acc=0.98:  86%|████████▌ | 12838/15000 [02:12<00:20, 104.53it/s]\u001b[A\u001b[A\n\ntrain_loss=0.01 train_acc=1.00 test_loss=0.11 test_acc=0.98:  92%|█████████▏| 13755/15000 [02:12<00:12, 103.66it/s]\u001b[A\u001b[A",
          "output_type": "stream"
        },
        {
          "name": "stdout",
          "text": "hi while loop 13755\n",
          "output_type": "stream"
        },
        {
          "name": "stderr",
          "text": "\n\ntrain_loss=0.01 train_acc=1.00 test_loss=0.12 test_acc=0.98:  92%|█████████▏| 13755/15000 [02:20<00:12, 103.66it/s]\u001b[A\u001b[A\n\ntrain_loss=0.01 train_acc=1.00 test_loss=0.12 test_acc=0.98:  98%|█████████▊| 14672/15000 [02:20<00:03, 104.09it/s]\u001b[A\u001b[A",
          "output_type": "stream"
        },
        {
          "name": "stdout",
          "text": "hi while loop 14672\n",
          "output_type": "stream"
        },
        {
          "name": "stderr",
          "text": "\n\ntrain_loss=0.01 train_acc=1.00 test_loss=0.11 test_acc=0.98:  98%|█████████▊| 14672/15000 [02:25<00:03, 104.09it/s]\u001b[A\u001b[A\n\ntrain_loss=0.01 train_acc=1.00 test_loss=0.11 test_acc=0.98: 100%|██████████| 15000/15000 [02:25<00:00, 98.58it/s] \u001b[A\u001b[A\n\n                                                                                                                  \u001b[A\u001b[A\n 43%|████▎     | 3/7 [07:14<09:40, 145.08s/it]\u001b[A\n\n  0%|          | 0/15000 [00:00<?, ?it/s]\u001b[A\u001b[A",
          "output_type": "stream"
        },
        {
          "name": "stdout",
          "text": "hi while loop 0\n",
          "output_type": "stream"
        },
        {
          "name": "stderr",
          "text": "\n\ntrain_loss=0.22 train_acc=0.94 test_loss=0.10 test_acc=0.97:   0%|          | 0/15000 [00:08<?, ?it/s]\u001b[A\u001b[A\n\ntrain_loss=0.22 train_acc=0.94 test_loss=0.10 test_acc=0.97:   6%|▌         | 917/15000 [00:08<02:14, 104.62it/s]\u001b[A\u001b[A",
          "output_type": "stream"
        },
        {
          "name": "stdout",
          "text": "hi while loop 917\n",
          "output_type": "stream"
        },
        {
          "name": "stderr",
          "text": "\n\ntrain_loss=0.06 train_acc=0.98 test_loss=0.07 test_acc=0.98:   6%|▌         | 917/15000 [00:17<02:14, 104.62it/s]\u001b[A\u001b[A\n\ntrain_loss=0.06 train_acc=0.98 test_loss=0.07 test_acc=0.98:  12%|█▏        | 1834/15000 [00:17<02:08, 102.65it/s]\u001b[A\u001b[A",
          "output_type": "stream"
        },
        {
          "name": "stdout",
          "text": "hi while loop 1834\n",
          "output_type": "stream"
        },
        {
          "name": "stderr",
          "text": "\n\ntrain_loss=0.04 train_acc=0.99 test_loss=0.07 test_acc=0.98:  12%|█▏        | 1834/15000 [00:26<02:08, 102.65it/s]\u001b[A\u001b[A\n\ntrain_loss=0.04 train_acc=0.99 test_loss=0.07 test_acc=0.98:  18%|█▊        | 2751/15000 [00:26<01:57, 104.02it/s]\u001b[A\u001b[A",
          "output_type": "stream"
        },
        {
          "name": "stdout",
          "text": "hi while loop 2751\n",
          "output_type": "stream"
        },
        {
          "name": "stderr",
          "text": "\n\ntrain_loss=0.03 train_acc=0.99 test_loss=0.07 test_acc=0.98:  18%|█▊        | 2751/15000 [00:35<01:57, 104.02it/s]\u001b[A\u001b[A\n\ntrain_loss=0.03 train_acc=0.99 test_loss=0.07 test_acc=0.98:  24%|██▍       | 3668/15000 [00:35<01:48, 104.78it/s]\u001b[A\u001b[A",
          "output_type": "stream"
        },
        {
          "name": "stdout",
          "text": "hi while loop 3668\n",
          "output_type": "stream"
        },
        {
          "name": "stderr",
          "text": "\n\ntrain_loss=0.02 train_acc=0.99 test_loss=0.08 test_acc=0.98:  24%|██▍       | 3668/15000 [00:44<01:48, 104.78it/s]\u001b[A\u001b[A\n\ntrain_loss=0.02 train_acc=0.99 test_loss=0.08 test_acc=0.98:  31%|███       | 4585/15000 [00:44<01:41, 102.90it/s]\u001b[A\u001b[A",
          "output_type": "stream"
        },
        {
          "name": "stdout",
          "text": "hi while loop 4585\n",
          "output_type": "stream"
        },
        {
          "name": "stderr",
          "text": "\n\ntrain_loss=0.02 train_acc=1.00 test_loss=0.08 test_acc=0.98:  31%|███       | 4585/15000 [00:52<01:41, 102.90it/s]\u001b[A\u001b[A\n\ntrain_loss=0.02 train_acc=1.00 test_loss=0.08 test_acc=0.98:  37%|███▋      | 5502/15000 [00:52<01:31, 104.31it/s]\u001b[A\u001b[A",
          "output_type": "stream"
        },
        {
          "name": "stdout",
          "text": "hi while loop 5502\n",
          "output_type": "stream"
        },
        {
          "name": "stderr",
          "text": "\n\ntrain_loss=0.01 train_acc=1.00 test_loss=0.09 test_acc=0.98:  37%|███▋      | 5502/15000 [01:01<01:31, 104.31it/s]\u001b[A\u001b[A\n\ntrain_loss=0.01 train_acc=1.00 test_loss=0.09 test_acc=0.98:  43%|████▎     | 6419/15000 [01:01<01:21, 104.75it/s]\u001b[A\u001b[A",
          "output_type": "stream"
        },
        {
          "name": "stdout",
          "text": "hi while loop 6419\n",
          "output_type": "stream"
        },
        {
          "name": "stderr",
          "text": "\n\ntrain_loss=0.01 train_acc=1.00 test_loss=0.09 test_acc=0.98:  43%|████▎     | 6419/15000 [01:10<01:21, 104.75it/s]\u001b[A\u001b[A\n\ntrain_loss=0.01 train_acc=1.00 test_loss=0.09 test_acc=0.98:  49%|████▉     | 7336/15000 [01:10<01:13, 104.47it/s]\u001b[A\u001b[A",
          "output_type": "stream"
        },
        {
          "name": "stdout",
          "text": "hi while loop 7336\n",
          "output_type": "stream"
        },
        {
          "name": "stderr",
          "text": "\n\ntrain_loss=0.01 train_acc=1.00 test_loss=0.10 test_acc=0.98:  49%|████▉     | 7336/15000 [01:19<01:13, 104.47it/s]\u001b[A\u001b[A\n\ntrain_loss=0.01 train_acc=1.00 test_loss=0.10 test_acc=0.98:  55%|█████▌    | 8253/15000 [01:19<01:05, 103.65it/s]\u001b[A\u001b[A",
          "output_type": "stream"
        },
        {
          "name": "stdout",
          "text": "hi while loop 8253\n",
          "output_type": "stream"
        },
        {
          "name": "stderr",
          "text": "\n\ntrain_loss=0.01 train_acc=1.00 test_loss=0.09 test_acc=0.98:  55%|█████▌    | 8253/15000 [01:27<01:05, 103.65it/s]\u001b[A\u001b[A\n\ntrain_loss=0.01 train_acc=1.00 test_loss=0.09 test_acc=0.98:  61%|██████    | 9170/15000 [01:27<00:55, 104.65it/s]\u001b[A\u001b[A",
          "output_type": "stream"
        },
        {
          "name": "stdout",
          "text": "hi while loop 9170\n",
          "output_type": "stream"
        },
        {
          "name": "stderr",
          "text": "\n\ntrain_loss=0.01 train_acc=1.00 test_loss=0.11 test_acc=0.98:  61%|██████    | 9170/15000 [01:36<00:55, 104.65it/s]\u001b[A\u001b[A\n\ntrain_loss=0.01 train_acc=1.00 test_loss=0.11 test_acc=0.98:  67%|██████▋   | 10087/15000 [01:36<00:46, 105.34it/s]\u001b[A\u001b[A",
          "output_type": "stream"
        },
        {
          "name": "stdout",
          "text": "hi while loop 10087\n",
          "output_type": "stream"
        },
        {
          "name": "stderr",
          "text": "\n\ntrain_loss=0.01 train_acc=1.00 test_loss=0.11 test_acc=0.98:  67%|██████▋   | 10087/15000 [01:45<00:46, 105.34it/s]\u001b[A\u001b[A\n\ntrain_loss=0.01 train_acc=1.00 test_loss=0.11 test_acc=0.98:  73%|███████▎  | 11004/15000 [01:45<00:38, 104.85it/s]\u001b[A\u001b[A",
          "output_type": "stream"
        },
        {
          "name": "stdout",
          "text": "hi while loop 11004\n",
          "output_type": "stream"
        },
        {
          "name": "stderr",
          "text": "\n\ntrain_loss=0.01 train_acc=1.00 test_loss=0.11 test_acc=0.98:  73%|███████▎  | 11004/15000 [01:54<00:38, 104.85it/s]\u001b[A\u001b[A\n\ntrain_loss=0.01 train_acc=1.00 test_loss=0.11 test_acc=0.98:  79%|███████▉  | 11921/15000 [01:54<00:29, 104.08it/s]\u001b[A\u001b[A",
          "output_type": "stream"
        },
        {
          "name": "stdout",
          "text": "hi while loop 11921\n",
          "output_type": "stream"
        },
        {
          "name": "stderr",
          "text": "\n\ntrain_loss=0.01 train_acc=1.00 test_loss=0.12 test_acc=0.98:  79%|███████▉  | 11921/15000 [02:03<00:29, 104.08it/s]\u001b[A\u001b[A\n\ntrain_loss=0.01 train_acc=1.00 test_loss=0.12 test_acc=0.98:  86%|████████▌ | 12838/15000 [02:03<00:20, 104.08it/s]\u001b[A\u001b[A",
          "output_type": "stream"
        },
        {
          "name": "stdout",
          "text": "hi while loop 12838\n",
          "output_type": "stream"
        },
        {
          "name": "stderr",
          "text": "\n\ntrain_loss=0.00 train_acc=1.00 test_loss=0.12 test_acc=0.98:  86%|████████▌ | 12838/15000 [02:11<00:20, 104.08it/s]\u001b[A\u001b[A\n\ntrain_loss=0.00 train_acc=1.00 test_loss=0.12 test_acc=0.98:  92%|█████████▏| 13755/15000 [02:12<00:11, 103.97it/s]\u001b[A\u001b[A",
          "output_type": "stream"
        },
        {
          "name": "stdout",
          "text": "hi while loop 13755\n",
          "output_type": "stream"
        },
        {
          "name": "stderr",
          "text": "\n\ntrain_loss=0.01 train_acc=1.00 test_loss=0.13 test_acc=0.98:  92%|█████████▏| 13755/15000 [02:21<00:11, 103.97it/s]\u001b[A\u001b[A\n\ntrain_loss=0.01 train_acc=1.00 test_loss=0.13 test_acc=0.98:  98%|█████████▊| 14672/15000 [02:21<00:03, 102.77it/s]\u001b[A\u001b[A",
          "output_type": "stream"
        },
        {
          "name": "stdout",
          "text": "hi while loop 14672\n",
          "output_type": "stream"
        },
        {
          "name": "stderr",
          "text": "\n\ntrain_loss=0.00 train_acc=1.00 test_loss=0.12 test_acc=0.98:  98%|█████████▊| 14672/15000 [02:25<00:03, 102.77it/s]\u001b[A\u001b[A\n\ntrain_loss=0.00 train_acc=1.00 test_loss=0.12 test_acc=0.98: 100%|██████████| 15000/15000 [02:25<00:00, 97.35it/s] \u001b[A\u001b[A\n\n                                                                                                                  \u001b[A\u001b[A\n 57%|█████▋    | 4/7 [09:40<07:15, 145.33s/it]\u001b[A\n\n  0%|          | 0/15000 [00:00<?, ?it/s]\u001b[A\u001b[A",
          "output_type": "stream"
        },
        {
          "name": "stdout",
          "text": "hi while loop 0\n",
          "output_type": "stream"
        },
        {
          "name": "stderr",
          "text": "\n\ntrain_loss=0.27 train_acc=0.92 test_loss=0.09 test_acc=0.97:   0%|          | 0/15000 [00:08<?, ?it/s]\u001b[A\u001b[A\n\ntrain_loss=0.27 train_acc=0.92 test_loss=0.09 test_acc=0.97:   6%|▌         | 917/15000 [00:08<02:17, 102.64it/s]\u001b[A\u001b[A",
          "output_type": "stream"
        },
        {
          "name": "stdout",
          "text": "hi while loop 917\n",
          "output_type": "stream"
        },
        {
          "name": "stderr",
          "text": "\n\ntrain_loss=0.06 train_acc=0.98 test_loss=0.07 test_acc=0.98:   6%|▌         | 917/15000 [00:17<02:17, 102.64it/s]\u001b[A\u001b[A\n\ntrain_loss=0.06 train_acc=0.98 test_loss=0.07 test_acc=0.98:  12%|█▏        | 1834/15000 [00:17<02:08, 102.32it/s]\u001b[A\u001b[A",
          "output_type": "stream"
        },
        {
          "name": "stdout",
          "text": "hi while loop 1834\n",
          "output_type": "stream"
        },
        {
          "name": "stderr",
          "text": "\n\ntrain_loss=0.04 train_acc=0.99 test_loss=0.07 test_acc=0.98:  12%|█▏        | 1834/15000 [00:27<02:08, 102.32it/s]\u001b[A\u001b[A\n\ntrain_loss=0.04 train_acc=0.99 test_loss=0.07 test_acc=0.98:  18%|█▊        | 2751/15000 [00:27<02:01, 100.92it/s]\u001b[A\u001b[A",
          "output_type": "stream"
        },
        {
          "name": "stdout",
          "text": "hi while loop 2751\n",
          "output_type": "stream"
        },
        {
          "name": "stderr",
          "text": "\n\ntrain_loss=0.03 train_acc=0.99 test_loss=0.07 test_acc=0.98:  18%|█▊        | 2751/15000 [00:35<02:01, 100.92it/s]\u001b[A\u001b[A\n\ntrain_loss=0.03 train_acc=0.99 test_loss=0.07 test_acc=0.98:  24%|██▍       | 3668/15000 [00:35<01:50, 102.26it/s]\u001b[A\u001b[A",
          "output_type": "stream"
        },
        {
          "name": "stdout",
          "text": "hi while loop 3668\n",
          "output_type": "stream"
        },
        {
          "name": "stderr",
          "text": "\n\ntrain_loss=0.02 train_acc=1.00 test_loss=0.07 test_acc=0.98:  24%|██▍       | 3668/15000 [00:44<01:50, 102.26it/s]\u001b[A\u001b[A\n\ntrain_loss=0.02 train_acc=1.00 test_loss=0.07 test_acc=0.98:  31%|███       | 4585/15000 [00:44<01:41, 102.15it/s]\u001b[A\u001b[A",
          "output_type": "stream"
        },
        {
          "name": "stdout",
          "text": "hi while loop 4585\n",
          "output_type": "stream"
        },
        {
          "name": "stderr",
          "text": "\n\ntrain_loss=0.01 train_acc=1.00 test_loss=0.08 test_acc=0.98:  31%|███       | 4585/15000 [00:53<01:41, 102.15it/s]\u001b[A\u001b[A\n\ntrain_loss=0.01 train_acc=1.00 test_loss=0.08 test_acc=0.98:  37%|███▋      | 5502/15000 [00:53<01:32, 102.14it/s]\u001b[A\u001b[A",
          "output_type": "stream"
        },
        {
          "name": "stdout",
          "text": "hi while loop 5502\n",
          "output_type": "stream"
        },
        {
          "name": "stderr",
          "text": "\n\ntrain_loss=0.01 train_acc=1.00 test_loss=0.07 test_acc=0.98:  37%|███▋      | 5502/15000 [01:03<01:32, 102.14it/s]\u001b[A\u001b[A\n\ntrain_loss=0.01 train_acc=1.00 test_loss=0.07 test_acc=0.98:  43%|████▎     | 6419/15000 [01:03<01:24, 101.48it/s]\u001b[A\u001b[A",
          "output_type": "stream"
        },
        {
          "name": "stdout",
          "text": "hi while loop 6419\n",
          "output_type": "stream"
        },
        {
          "name": "stderr",
          "text": "\n\ntrain_loss=0.01 train_acc=1.00 test_loss=0.09 test_acc=0.98:  43%|████▎     | 6419/15000 [01:11<01:24, 101.48it/s]\u001b[A\u001b[A\n\ntrain_loss=0.01 train_acc=1.00 test_loss=0.09 test_acc=0.98:  49%|████▉     | 7336/15000 [01:11<01:15, 102.01it/s]\u001b[A\u001b[A",
          "output_type": "stream"
        },
        {
          "name": "stdout",
          "text": "hi while loop 7336\n",
          "output_type": "stream"
        },
        {
          "name": "stderr",
          "text": "\n\ntrain_loss=0.01 train_acc=1.00 test_loss=0.08 test_acc=0.98:  49%|████▉     | 7336/15000 [01:20<01:15, 102.01it/s]\u001b[A\u001b[A\n\ntrain_loss=0.01 train_acc=1.00 test_loss=0.08 test_acc=0.98:  55%|█████▌    | 8253/15000 [01:20<01:06, 101.98it/s]\u001b[A\u001b[A",
          "output_type": "stream"
        },
        {
          "name": "stdout",
          "text": "hi while loop 8253\n",
          "output_type": "stream"
        },
        {
          "name": "stderr",
          "text": "\n\ntrain_loss=0.00 train_acc=1.00 test_loss=0.09 test_acc=0.98:  55%|█████▌    | 8253/15000 [01:30<01:06, 101.98it/s]\u001b[A\u001b[A\n\ntrain_loss=0.00 train_acc=1.00 test_loss=0.09 test_acc=0.98:  61%|██████    | 9170/15000 [01:30<00:57, 101.74it/s]\u001b[A\u001b[A",
          "output_type": "stream"
        },
        {
          "name": "stdout",
          "text": "hi while loop 9170\n",
          "output_type": "stream"
        },
        {
          "name": "stderr",
          "text": "\n\ntrain_loss=0.00 train_acc=1.00 test_loss=0.10 test_acc=0.98:  61%|██████    | 9170/15000 [01:38<00:57, 101.74it/s]\u001b[A\u001b[A\n\ntrain_loss=0.00 train_acc=1.00 test_loss=0.10 test_acc=0.98:  67%|██████▋   | 10087/15000 [01:38<00:47, 102.78it/s]\u001b[A\u001b[A",
          "output_type": "stream"
        },
        {
          "name": "stdout",
          "text": "hi while loop 10087\n",
          "output_type": "stream"
        },
        {
          "name": "stderr",
          "text": "\n\ntrain_loss=0.00 train_acc=1.00 test_loss=0.10 test_acc=0.98:  67%|██████▋   | 10087/15000 [01:47<00:47, 102.78it/s]\u001b[A\u001b[A\n\ntrain_loss=0.00 train_acc=1.00 test_loss=0.10 test_acc=0.98:  73%|███████▎  | 11004/15000 [01:47<00:38, 103.56it/s]\u001b[A\u001b[A",
          "output_type": "stream"
        },
        {
          "name": "stdout",
          "text": "hi while loop 11004\n",
          "output_type": "stream"
        },
        {
          "name": "stderr",
          "text": "\n\ntrain_loss=0.00 train_acc=1.00 test_loss=0.10 test_acc=0.98:  73%|███████▎  | 11004/15000 [01:56<00:38, 103.56it/s]\u001b[A\u001b[A\n\ntrain_loss=0.00 train_acc=1.00 test_loss=0.10 test_acc=0.98:  79%|███████▉  | 11921/15000 [01:56<00:29, 103.83it/s]\u001b[A\u001b[A",
          "output_type": "stream"
        },
        {
          "name": "stdout",
          "text": "hi while loop 11921\n",
          "output_type": "stream"
        },
        {
          "name": "stderr",
          "text": "\n\ntrain_loss=0.00 train_acc=1.00 test_loss=0.11 test_acc=0.98:  79%|███████▉  | 11921/15000 [02:05<00:29, 103.83it/s]\u001b[A\u001b[A\n\ntrain_loss=0.00 train_acc=1.00 test_loss=0.11 test_acc=0.98:  86%|████████▌ | 12838/15000 [02:05<00:21, 102.14it/s]\u001b[A\u001b[A",
          "output_type": "stream"
        },
        {
          "name": "stdout",
          "text": "hi while loop 12838\n",
          "output_type": "stream"
        },
        {
          "name": "stderr",
          "text": "\n\ntrain_loss=0.00 train_acc=1.00 test_loss=0.11 test_acc=0.98:  86%|████████▌ | 12838/15000 [02:14<00:21, 102.14it/s]\u001b[A\u001b[A\n\ntrain_loss=0.00 train_acc=1.00 test_loss=0.11 test_acc=0.98:  92%|█████████▏| 13755/15000 [02:14<00:12, 102.42it/s]\u001b[A\u001b[A",
          "output_type": "stream"
        },
        {
          "name": "stdout",
          "text": "hi while loop 13755\n",
          "output_type": "stream"
        },
        {
          "name": "stderr",
          "text": "\n\ntrain_loss=0.00 train_acc=1.00 test_loss=0.11 test_acc=0.98:  92%|█████████▏| 13755/15000 [02:23<00:12, 102.42it/s]\u001b[A\u001b[A\n\ntrain_loss=0.00 train_acc=1.00 test_loss=0.11 test_acc=0.98:  98%|█████████▊| 14672/15000 [02:23<00:03, 102.51it/s]\u001b[A\u001b[A",
          "output_type": "stream"
        },
        {
          "name": "stdout",
          "text": "hi while loop 14672\n",
          "output_type": "stream"
        },
        {
          "name": "stderr",
          "text": "\n\ntrain_loss=0.00 train_acc=1.00 test_loss=0.11 test_acc=0.98:  98%|█████████▊| 14672/15000 [02:27<00:03, 102.51it/s]\u001b[A\u001b[A\n\ntrain_loss=0.00 train_acc=1.00 test_loss=0.11 test_acc=0.98: 100%|██████████| 15000/15000 [02:27<00:00, 97.08it/s] \u001b[A\u001b[A\n\n                                                                                                                  \u001b[A\u001b[A\n 71%|███████▏  | 5/7 [12:08<04:52, 146.26s/it]\u001b[A\n\n  0%|          | 0/15000 [00:00<?, ?it/s]\u001b[A\u001b[A",
          "output_type": "stream"
        },
        {
          "name": "stdout",
          "text": "hi while loop 0\n",
          "output_type": "stream"
        },
        {
          "name": "stderr",
          "text": "\n\ntrain_loss=0.51 train_acc=0.84 test_loss=0.15 test_acc=0.95:   0%|          | 0/15000 [00:09<?, ?it/s]\u001b[A\u001b[A\n\ntrain_loss=0.51 train_acc=0.84 test_loss=0.15 test_acc=0.95:   6%|▌         | 917/15000 [00:09<02:23, 98.26it/s]\u001b[A\u001b[A",
          "output_type": "stream"
        },
        {
          "name": "stdout",
          "text": "hi while loop 917\n",
          "output_type": "stream"
        },
        {
          "name": "stderr",
          "text": "\n\ntrain_loss=0.12 train_acc=0.96 test_loss=0.11 test_acc=0.96:   6%|▌         | 917/15000 [00:18<02:23, 98.26it/s]\u001b[A\u001b[A\n\ntrain_loss=0.12 train_acc=0.96 test_loss=0.11 test_acc=0.96:  12%|█▏        | 1834/15000 [00:18<02:10, 100.99it/s]\u001b[A\u001b[A",
          "output_type": "stream"
        },
        {
          "name": "stdout",
          "text": "hi while loop 1834\n",
          "output_type": "stream"
        },
        {
          "name": "stderr",
          "text": "\n\ntrain_loss=0.09 train_acc=0.97 test_loss=0.10 test_acc=0.97:  12%|█▏        | 1834/15000 [00:27<02:10, 100.99it/s]\u001b[A\u001b[A\n\ntrain_loss=0.09 train_acc=0.97 test_loss=0.10 test_acc=0.97:  18%|█▊        | 2751/15000 [00:27<02:00, 101.64it/s]\u001b[A\u001b[A",
          "output_type": "stream"
        },
        {
          "name": "stdout",
          "text": "hi while loop 2751\n",
          "output_type": "stream"
        },
        {
          "name": "stderr",
          "text": "\n\ntrain_loss=0.08 train_acc=0.98 test_loss=0.09 test_acc=0.97:  18%|█▊        | 2751/15000 [00:36<02:00, 101.64it/s]\u001b[A\u001b[A\n\ntrain_loss=0.08 train_acc=0.98 test_loss=0.09 test_acc=0.97:  24%|██▍       | 3668/15000 [00:36<01:52, 100.48it/s]\u001b[A\u001b[A",
          "output_type": "stream"
        },
        {
          "name": "stdout",
          "text": "hi while loop 3668\n",
          "output_type": "stream"
        },
        {
          "name": "stderr",
          "text": "\n\ntrain_loss=0.07 train_acc=0.98 test_loss=0.09 test_acc=0.97:  24%|██▍       | 3668/15000 [00:45<01:52, 100.48it/s]\u001b[A\u001b[A\n\ntrain_loss=0.07 train_acc=0.98 test_loss=0.09 test_acc=0.97:  31%|███       | 4585/15000 [00:45<01:42, 101.39it/s]\u001b[A\u001b[A",
          "output_type": "stream"
        },
        {
          "name": "stdout",
          "text": "hi while loop 4585\n",
          "output_type": "stream"
        },
        {
          "name": "stderr",
          "text": "\n\ntrain_loss=0.06 train_acc=0.98 test_loss=0.09 test_acc=0.97:  31%|███       | 4585/15000 [00:54<01:42, 101.39it/s]\u001b[A\u001b[A\n\ntrain_loss=0.06 train_acc=0.98 test_loss=0.09 test_acc=0.97:  37%|███▋      | 5502/15000 [00:54<01:33, 101.73it/s]\u001b[A\u001b[A",
          "output_type": "stream"
        },
        {
          "name": "stdout",
          "text": "hi while loop 5502\n",
          "output_type": "stream"
        },
        {
          "name": "stderr",
          "text": "\n\ntrain_loss=0.06 train_acc=0.98 test_loss=0.09 test_acc=0.97:  37%|███▋      | 5502/15000 [01:03<01:33, 101.73it/s]\u001b[A\u001b[A\n\ntrain_loss=0.06 train_acc=0.98 test_loss=0.09 test_acc=0.97:  43%|████▎     | 6419/15000 [01:03<01:24, 101.82it/s]\u001b[A\u001b[A",
          "output_type": "stream"
        },
        {
          "name": "stdout",
          "text": "hi while loop 6419\n",
          "output_type": "stream"
        },
        {
          "name": "stderr",
          "text": "\n\ntrain_loss=0.05 train_acc=0.98 test_loss=0.08 test_acc=0.97:  43%|████▎     | 6419/15000 [01:12<01:24, 101.82it/s]\u001b[A\u001b[A\n\ntrain_loss=0.05 train_acc=0.98 test_loss=0.08 test_acc=0.97:  49%|████▉     | 7336/15000 [01:12<01:16, 100.58it/s]\u001b[A\u001b[A",
          "output_type": "stream"
        },
        {
          "name": "stdout",
          "text": "hi while loop 7336\n",
          "output_type": "stream"
        },
        {
          "name": "stderr",
          "text": "\n\ntrain_loss=0.05 train_acc=0.98 test_loss=0.08 test_acc=0.97:  49%|████▉     | 7336/15000 [01:21<01:16, 100.58it/s]\u001b[A\u001b[A\n\ntrain_loss=0.05 train_acc=0.98 test_loss=0.08 test_acc=0.97:  55%|█████▌    | 8253/15000 [01:21<01:06, 101.09it/s]\u001b[A\u001b[A",
          "output_type": "stream"
        },
        {
          "name": "stdout",
          "text": "hi while loop 8253\n",
          "output_type": "stream"
        },
        {
          "name": "stderr",
          "text": "\n\ntrain_loss=0.04 train_acc=0.99 test_loss=0.09 test_acc=0.98:  55%|█████▌    | 8253/15000 [01:30<01:06, 101.09it/s]\u001b[A\u001b[A\n\ntrain_loss=0.04 train_acc=0.99 test_loss=0.09 test_acc=0.98:  61%|██████    | 9170/15000 [01:30<00:57, 101.80it/s]\u001b[A\u001b[A",
          "output_type": "stream"
        },
        {
          "name": "stdout",
          "text": "hi while loop 9170\n",
          "output_type": "stream"
        },
        {
          "name": "stderr",
          "text": "\n\ntrain_loss=0.04 train_acc=0.99 test_loss=0.09 test_acc=0.97:  61%|██████    | 9170/15000 [01:39<00:57, 101.80it/s]\u001b[A\u001b[A\n\ntrain_loss=0.04 train_acc=0.99 test_loss=0.09 test_acc=0.97:  67%|██████▋   | 10087/15000 [01:39<00:48, 101.60it/s]\u001b[A\u001b[A",
          "output_type": "stream"
        },
        {
          "name": "stdout",
          "text": "hi while loop 10087\n",
          "output_type": "stream"
        },
        {
          "name": "stderr",
          "text": "\n\ntrain_loss=0.04 train_acc=0.99 test_loss=0.09 test_acc=0.97:  67%|██████▋   | 10087/15000 [01:48<00:48, 101.60it/s]\u001b[A\u001b[A\n\ntrain_loss=0.04 train_acc=0.99 test_loss=0.09 test_acc=0.97:  73%|███████▎  | 11004/15000 [01:48<00:38, 102.90it/s]\u001b[A\u001b[A",
          "output_type": "stream"
        },
        {
          "name": "stdout",
          "text": "hi while loop 11004\n",
          "output_type": "stream"
        },
        {
          "name": "stderr",
          "text": "\n\ntrain_loss=0.04 train_acc=0.99 test_loss=0.09 test_acc=0.97:  73%|███████▎  | 11004/15000 [01:57<00:38, 102.90it/s]\u001b[A\u001b[A\n\ntrain_loss=0.04 train_acc=0.99 test_loss=0.09 test_acc=0.97:  79%|███████▉  | 11921/15000 [01:57<00:29, 102.67it/s]\u001b[A\u001b[A",
          "output_type": "stream"
        },
        {
          "name": "stdout",
          "text": "hi while loop 11921\n",
          "output_type": "stream"
        },
        {
          "name": "stderr",
          "text": "\n\ntrain_loss=0.04 train_acc=0.99 test_loss=0.09 test_acc=0.97:  79%|███████▉  | 11921/15000 [02:06<00:29, 102.67it/s]\u001b[A\u001b[A\n\ntrain_loss=0.04 train_acc=0.99 test_loss=0.09 test_acc=0.97:  86%|████████▌ | 12838/15000 [02:06<00:20, 102.98it/s]\u001b[A\u001b[A",
          "output_type": "stream"
        },
        {
          "name": "stdout",
          "text": "hi while loop 12838\n",
          "output_type": "stream"
        },
        {
          "name": "stderr",
          "text": "\n\ntrain_loss=0.03 train_acc=0.99 test_loss=0.09 test_acc=0.97:  86%|████████▌ | 12838/15000 [02:15<00:20, 102.98it/s]\u001b[A\u001b[A\n\ntrain_loss=0.03 train_acc=0.99 test_loss=0.09 test_acc=0.97:  92%|█████████▏| 13755/15000 [02:15<00:12, 102.68it/s]\u001b[A\u001b[A",
          "output_type": "stream"
        },
        {
          "name": "stdout",
          "text": "hi while loop 13755\n",
          "output_type": "stream"
        },
        {
          "name": "stderr",
          "text": "\n\ntrain_loss=0.03 train_acc=0.99 test_loss=0.09 test_acc=0.98:  92%|█████████▏| 13755/15000 [02:24<00:12, 102.68it/s]\u001b[A\u001b[A\n\ntrain_loss=0.03 train_acc=0.99 test_loss=0.09 test_acc=0.98:  98%|█████████▊| 14672/15000 [02:24<00:03, 102.40it/s]\u001b[A\u001b[A",
          "output_type": "stream"
        },
        {
          "name": "stdout",
          "text": "hi while loop 14672\n",
          "output_type": "stream"
        },
        {
          "name": "stderr",
          "text": "\n\ntrain_loss=0.03 train_acc=0.99 test_loss=0.09 test_acc=0.97:  98%|█████████▊| 14672/15000 [02:28<00:03, 102.40it/s]\u001b[A\u001b[A\n\ntrain_loss=0.03 train_acc=0.99 test_loss=0.09 test_acc=0.97: 100%|██████████| 15000/15000 [02:28<00:00, 96.92it/s] \u001b[A\u001b[A\n\n                                                                                                                  \u001b[A\u001b[A\n 86%|████████▌ | 6/7 [14:37<02:27, 147.06s/it]\u001b[A\n\n  0%|          | 0/15000 [00:00<?, ?it/s]\u001b[A\u001b[A",
          "output_type": "stream"
        },
        {
          "name": "stdout",
          "text": "hi while loop 0\n",
          "output_type": "stream"
        },
        {
          "name": "stderr",
          "text": "\n\ntrain_loss=1.90 train_acc=0.34 test_loss=0.87 test_acc=0.72:   0%|          | 0/15000 [00:08<?, ?it/s]\u001b[A\u001b[A\n\ntrain_loss=1.90 train_acc=0.34 test_loss=0.87 test_acc=0.72:   6%|▌         | 917/15000 [00:08<02:16, 103.18it/s]\u001b[A\u001b[A",
          "output_type": "stream"
        },
        {
          "name": "stdout",
          "text": "hi while loop 917\n",
          "output_type": "stream"
        },
        {
          "name": "stderr",
          "text": "\n\ntrain_loss=0.58 train_acc=0.82 test_loss=0.41 test_acc=0.88:   6%|▌         | 917/15000 [00:18<02:16, 103.18it/s]\u001b[A\u001b[A\n\ntrain_loss=0.58 train_acc=0.82 test_loss=0.41 test_acc=0.88:  12%|█▏        | 1834/15000 [00:18<02:11, 100.35it/s]\u001b[A\u001b[A",
          "output_type": "stream"
        },
        {
          "name": "stdout",
          "text": "hi while loop 1834\n",
          "output_type": "stream"
        },
        {
          "name": "stderr",
          "text": "\n\ntrain_loss=0.37 train_acc=0.89 test_loss=0.34 test_acc=0.89:  12%|█▏        | 1834/15000 [00:27<02:11, 100.35it/s]\u001b[A\u001b[A\n\ntrain_loss=0.37 train_acc=0.89 test_loss=0.34 test_acc=0.89:  18%|█▊        | 2751/15000 [00:27<02:00, 101.49it/s]\u001b[A\u001b[A",
          "output_type": "stream"
        },
        {
          "name": "stdout",
          "text": "hi while loop 2751\n",
          "output_type": "stream"
        },
        {
          "name": "stderr",
          "text": "\n\ntrain_loss=0.32 train_acc=0.90 test_loss=0.31 test_acc=0.91:  18%|█▊        | 2751/15000 [00:35<02:00, 101.49it/s]\u001b[A\u001b[A\n\ntrain_loss=0.32 train_acc=0.90 test_loss=0.31 test_acc=0.91:  24%|██▍       | 3668/15000 [00:35<01:50, 102.68it/s]\u001b[A\u001b[A",
          "output_type": "stream"
        },
        {
          "name": "stdout",
          "text": "hi while loop 3668\n",
          "output_type": "stream"
        },
        {
          "name": "stderr",
          "text": "\n\ntrain_loss=0.30 train_acc=0.91 test_loss=0.29 test_acc=0.91:  24%|██▍       | 3668/15000 [00:44<01:50, 102.68it/s]\u001b[A\u001b[A\n\ntrain_loss=0.30 train_acc=0.91 test_loss=0.29 test_acc=0.91:  31%|███       | 4585/15000 [00:44<01:41, 102.65it/s]\u001b[A\u001b[A",
          "output_type": "stream"
        },
        {
          "name": "stdout",
          "text": "hi while loop 4585\n",
          "output_type": "stream"
        },
        {
          "name": "stderr",
          "text": "\n\ntrain_loss=0.28 train_acc=0.91 test_loss=0.27 test_acc=0.92:  31%|███       | 4585/15000 [00:54<01:41, 102.65it/s]\u001b[A\u001b[A\n\ntrain_loss=0.28 train_acc=0.91 test_loss=0.27 test_acc=0.92:  37%|███▋      | 5502/15000 [00:54<01:33, 101.60it/s]\u001b[A\u001b[A",
          "output_type": "stream"
        },
        {
          "name": "stdout",
          "text": "hi while loop 5502\n",
          "output_type": "stream"
        },
        {
          "name": "stderr",
          "text": "\n\ntrain_loss=0.27 train_acc=0.92 test_loss=0.26 test_acc=0.92:  37%|███▋      | 5502/15000 [01:02<01:33, 101.60it/s]\u001b[A\u001b[A\n\ntrain_loss=0.27 train_acc=0.92 test_loss=0.26 test_acc=0.92:  43%|████▎     | 6419/15000 [01:02<01:24, 101.96it/s]\u001b[A\u001b[A",
          "output_type": "stream"
        },
        {
          "name": "stdout",
          "text": "hi while loop 6419\n",
          "output_type": "stream"
        },
        {
          "name": "stderr",
          "text": "\n\ntrain_loss=0.26 train_acc=0.92 test_loss=0.26 test_acc=0.92:  43%|████▎     | 6419/15000 [01:11<01:24, 101.96it/s]\u001b[A\u001b[A\n\ntrain_loss=0.26 train_acc=0.92 test_loss=0.26 test_acc=0.92:  49%|████▉     | 7336/15000 [01:11<01:14, 102.67it/s]\u001b[A\u001b[A",
          "output_type": "stream"
        },
        {
          "name": "stdout",
          "text": "hi while loop 7336\n",
          "output_type": "stream"
        },
        {
          "name": "stderr",
          "text": "\n\ntrain_loss=0.26 train_acc=0.92 test_loss=0.25 test_acc=0.92:  49%|████▉     | 7336/15000 [01:20<01:14, 102.67it/s]\u001b[A\u001b[A\n\ntrain_loss=0.26 train_acc=0.92 test_loss=0.25 test_acc=0.92:  55%|█████▌    | 8253/15000 [01:20<01:06, 101.99it/s]\u001b[A\u001b[A",
          "output_type": "stream"
        },
        {
          "name": "stdout",
          "text": "hi while loop 8253\n",
          "output_type": "stream"
        },
        {
          "name": "stderr",
          "text": "\n\ntrain_loss=0.25 train_acc=0.92 test_loss=0.25 test_acc=0.92:  55%|█████▌    | 8253/15000 [01:29<01:06, 101.99it/s]\u001b[A\u001b[A\n\ntrain_loss=0.25 train_acc=0.92 test_loss=0.25 test_acc=0.92:  61%|██████    | 9170/15000 [01:29<00:56, 102.45it/s]\u001b[A\u001b[A",
          "output_type": "stream"
        },
        {
          "name": "stdout",
          "text": "hi while loop 9170\n",
          "output_type": "stream"
        },
        {
          "name": "stderr",
          "text": "\n\ntrain_loss=0.25 train_acc=0.92 test_loss=0.25 test_acc=0.92:  61%|██████    | 9170/15000 [01:38<00:56, 102.45it/s]\u001b[A\u001b[A\n\ntrain_loss=0.25 train_acc=0.92 test_loss=0.25 test_acc=0.92:  67%|██████▋   | 10087/15000 [01:38<00:47, 102.62it/s]\u001b[A\u001b[A",
          "output_type": "stream"
        },
        {
          "name": "stdout",
          "text": "hi while loop 10087\n",
          "output_type": "stream"
        },
        {
          "name": "stderr",
          "text": "\n\ntrain_loss=0.24 train_acc=0.93 test_loss=0.25 test_acc=0.92:  67%|██████▋   | 10087/15000 [01:47<00:47, 102.62it/s]\u001b[A\u001b[A\n\ntrain_loss=0.24 train_acc=0.93 test_loss=0.25 test_acc=0.92:  73%|███████▎  | 11004/15000 [01:47<00:38, 102.57it/s]\u001b[A\u001b[A",
          "output_type": "stream"
        },
        {
          "name": "stdout",
          "text": "hi while loop 11004\n",
          "output_type": "stream"
        },
        {
          "name": "stderr",
          "text": "\n\ntrain_loss=0.24 train_acc=0.93 test_loss=0.24 test_acc=0.92:  73%|███████▎  | 11004/15000 [01:56<00:38, 102.57it/s]\u001b[A\u001b[A\n\ntrain_loss=0.24 train_acc=0.93 test_loss=0.24 test_acc=0.92:  79%|███████▉  | 11921/15000 [01:56<00:30, 101.45it/s]\u001b[A\u001b[A",
          "output_type": "stream"
        },
        {
          "name": "stdout",
          "text": "hi while loop 11921\n",
          "output_type": "stream"
        },
        {
          "name": "stderr",
          "text": "\n\ntrain_loss=0.24 train_acc=0.93 test_loss=0.24 test_acc=0.92:  79%|███████▉  | 11921/15000 [02:05<00:30, 101.45it/s]\u001b[A\u001b[A\n\ntrain_loss=0.24 train_acc=0.93 test_loss=0.24 test_acc=0.92:  86%|████████▌ | 12838/15000 [02:05<00:21, 102.56it/s]\u001b[A\u001b[A",
          "output_type": "stream"
        },
        {
          "name": "stdout",
          "text": "hi while loop 12838\n",
          "output_type": "stream"
        },
        {
          "name": "stderr",
          "text": "\n\ntrain_loss=0.24 train_acc=0.93 test_loss=0.24 test_acc=0.92:  86%|████████▌ | 12838/15000 [02:14<00:21, 102.56it/s]\u001b[A\u001b[A\n\ntrain_loss=0.24 train_acc=0.93 test_loss=0.24 test_acc=0.92:  92%|█████████▏| 13755/15000 [02:14<00:11, 103.87it/s]\u001b[A\u001b[A",
          "output_type": "stream"
        },
        {
          "name": "stdout",
          "text": "hi while loop 13755\n",
          "output_type": "stream"
        },
        {
          "name": "stderr",
          "text": "\n\ntrain_loss=0.24 train_acc=0.93 test_loss=0.24 test_acc=0.93:  92%|█████████▏| 13755/15000 [02:23<00:11, 103.87it/s]\u001b[A\u001b[A\n\ntrain_loss=0.24 train_acc=0.93 test_loss=0.24 test_acc=0.93:  98%|█████████▊| 14672/15000 [02:23<00:03, 102.99it/s]\u001b[A\u001b[A",
          "output_type": "stream"
        },
        {
          "name": "stdout",
          "text": "hi while loop 14672\n",
          "output_type": "stream"
        },
        {
          "name": "stderr",
          "text": "\n\ntrain_loss=0.24 train_acc=0.93 test_loss=0.24 test_acc=0.93:  98%|█████████▊| 14672/15000 [02:27<00:03, 102.99it/s]\u001b[A\u001b[A\n\ntrain_loss=0.24 train_acc=0.93 test_loss=0.24 test_acc=0.93: 100%|██████████| 15000/15000 [02:27<00:00, 97.50it/s] \u001b[A\u001b[A\n\n                                                                                                                  \u001b[A\u001b[A\n100%|██████████| 7/7 [17:04<00:00, 147.29s/it]\u001b[A\n 60%|██████    | 3/5 [51:22<34:13, 1026.64s/it][A",
          "output_type": "stream"
        },
        {
          "name": "stdout",
          "text": "2\nhi\n",
          "output_type": "stream"
        },
        {
          "name": "stderr",
          "text": "\n  0%|          | 0/7 [00:00<?, ?it/s]\u001b[A\n\n  0%|          | 0/15000 [00:00<?, ?it/s]\u001b[A\u001b[A",
          "output_type": "stream"
        },
        {
          "name": "stdout",
          "text": "hi while loop 0\n",
          "output_type": "stream"
        },
        {
          "name": "stderr",
          "text": "\n\ntrain_loss=0.23 train_acc=0.93 test_loss=0.11 test_acc=0.97:   0%|          | 0/15000 [00:08<?, ?it/s]\u001b[A\u001b[A\n\ntrain_loss=0.23 train_acc=0.93 test_loss=0.11 test_acc=0.97:   6%|▌         | 917/15000 [00:08<02:12, 106.36it/s]\u001b[A\u001b[A",
          "output_type": "stream"
        },
        {
          "name": "stdout",
          "text": "hi while loop 917\n",
          "output_type": "stream"
        },
        {
          "name": "stderr",
          "text": "\n\ntrain_loss=0.10 train_acc=0.97 test_loss=0.09 test_acc=0.97:   6%|▌         | 917/15000 [00:17<02:12, 106.36it/s]\u001b[A\u001b[A\n\ntrain_loss=0.10 train_acc=0.97 test_loss=0.09 test_acc=0.97:  12%|█▏        | 1834/15000 [00:17<02:03, 106.18it/s]\u001b[A\u001b[A",
          "output_type": "stream"
        },
        {
          "name": "stdout",
          "text": "hi while loop 1834\n",
          "output_type": "stream"
        },
        {
          "name": "stderr",
          "text": "\n\ntrain_loss=0.07 train_acc=0.98 test_loss=0.08 test_acc=0.97:  12%|█▏        | 1834/15000 [00:26<02:03, 106.18it/s]\u001b[A\u001b[A\n\ntrain_loss=0.07 train_acc=0.98 test_loss=0.08 test_acc=0.97:  18%|█▊        | 2751/15000 [00:26<01:56, 104.78it/s]\u001b[A\u001b[A",
          "output_type": "stream"
        },
        {
          "name": "stdout",
          "text": "hi while loop 2751\n",
          "output_type": "stream"
        },
        {
          "name": "stderr",
          "text": "\n\ntrain_loss=0.05 train_acc=0.98 test_loss=0.08 test_acc=0.97:  18%|█▊        | 2751/15000 [00:34<01:56, 104.78it/s]\u001b[A\u001b[A\n\ntrain_loss=0.05 train_acc=0.98 test_loss=0.08 test_acc=0.97:  24%|██▍       | 3668/15000 [00:34<01:48, 104.91it/s]\u001b[A\u001b[A",
          "output_type": "stream"
        },
        {
          "name": "stdout",
          "text": "hi while loop 3668\n",
          "output_type": "stream"
        },
        {
          "name": "stderr",
          "text": "\n\ntrain_loss=0.04 train_acc=0.99 test_loss=0.08 test_acc=0.98:  24%|██▍       | 3668/15000 [00:43<01:48, 104.91it/s]\u001b[A\u001b[A\n\ntrain_loss=0.04 train_acc=0.99 test_loss=0.08 test_acc=0.98:  31%|███       | 4585/15000 [00:43<01:38, 106.01it/s]\u001b[A\u001b[A",
          "output_type": "stream"
        },
        {
          "name": "stdout",
          "text": "hi while loop 4585\n",
          "output_type": "stream"
        },
        {
          "name": "stderr",
          "text": "\n\ntrain_loss=0.03 train_acc=0.99 test_loss=0.08 test_acc=0.98:  31%|███       | 4585/15000 [00:51<01:38, 106.01it/s]\u001b[A\u001b[A\n\ntrain_loss=0.03 train_acc=0.99 test_loss=0.08 test_acc=0.98:  37%|███▋      | 5502/15000 [00:51<01:28, 107.01it/s]\u001b[A\u001b[A",
          "output_type": "stream"
        },
        {
          "name": "stdout",
          "text": "hi while loop 5502\n",
          "output_type": "stream"
        },
        {
          "name": "stderr",
          "text": "\n\ntrain_loss=0.03 train_acc=0.99 test_loss=0.09 test_acc=0.98:  37%|███▋      | 5502/15000 [01:00<01:28, 107.01it/s]\u001b[A\u001b[A\n\ntrain_loss=0.03 train_acc=0.99 test_loss=0.09 test_acc=0.98:  43%|████▎     | 6419/15000 [01:00<01:21, 105.67it/s]\u001b[A\u001b[A",
          "output_type": "stream"
        },
        {
          "name": "stdout",
          "text": "hi while loop 6419\n",
          "output_type": "stream"
        },
        {
          "name": "stderr",
          "text": "\n\ntrain_loss=0.03 train_acc=0.99 test_loss=0.12 test_acc=0.97:  43%|████▎     | 6419/15000 [01:09<01:21, 105.67it/s]\u001b[A\u001b[A\n\ntrain_loss=0.03 train_acc=0.99 test_loss=0.12 test_acc=0.97:  49%|████▉     | 7336/15000 [01:09<01:12, 106.24it/s]\u001b[A\u001b[A",
          "output_type": "stream"
        },
        {
          "name": "stdout",
          "text": "hi while loop 7336\n",
          "output_type": "stream"
        },
        {
          "name": "stderr",
          "text": "\n\ntrain_loss=0.03 train_acc=0.99 test_loss=0.09 test_acc=0.98:  49%|████▉     | 7336/15000 [01:17<01:12, 106.24it/s]\u001b[A\u001b[A\n\ntrain_loss=0.03 train_acc=0.99 test_loss=0.09 test_acc=0.98:  55%|█████▌    | 8253/15000 [01:17<01:03, 106.46it/s]\u001b[A\u001b[A",
          "output_type": "stream"
        },
        {
          "name": "stdout",
          "text": "hi while loop 8253\n",
          "output_type": "stream"
        },
        {
          "name": "stderr",
          "text": "\n\ntrain_loss=0.02 train_acc=0.99 test_loss=0.08 test_acc=0.98:  55%|█████▌    | 8253/15000 [01:26<01:03, 106.46it/s]\u001b[A\u001b[A\n\ntrain_loss=0.02 train_acc=0.99 test_loss=0.08 test_acc=0.98:  61%|██████    | 9170/15000 [01:26<00:54, 106.04it/s]\u001b[A\u001b[A",
          "output_type": "stream"
        },
        {
          "name": "stdout",
          "text": "hi while loop 9170\n",
          "output_type": "stream"
        },
        {
          "name": "stderr",
          "text": "\n\ntrain_loss=0.02 train_acc=0.99 test_loss=0.09 test_acc=0.98:  61%|██████    | 9170/15000 [01:35<00:54, 106.04it/s]\u001b[A\u001b[A\n\ntrain_loss=0.02 train_acc=0.99 test_loss=0.09 test_acc=0.98:  67%|██████▋   | 10087/15000 [01:35<00:46, 104.61it/s]\u001b[A\u001b[A",
          "output_type": "stream"
        },
        {
          "name": "stdout",
          "text": "hi while loop 10087\n",
          "output_type": "stream"
        },
        {
          "name": "stderr",
          "text": "\n\ntrain_loss=0.02 train_acc=0.99 test_loss=0.11 test_acc=0.98:  67%|██████▋   | 10087/15000 [01:43<00:46, 104.61it/s]\u001b[A\u001b[A\n\ntrain_loss=0.02 train_acc=0.99 test_loss=0.11 test_acc=0.98:  73%|███████▎  | 11004/15000 [01:43<00:37, 105.91it/s]\u001b[A\u001b[A",
          "output_type": "stream"
        },
        {
          "name": "stdout",
          "text": "hi while loop 11004\n",
          "output_type": "stream"
        },
        {
          "name": "stderr",
          "text": "\n\ntrain_loss=0.02 train_acc=0.99 test_loss=0.10 test_acc=0.98:  73%|███████▎  | 11004/15000 [01:52<00:37, 105.91it/s]\u001b[A\u001b[A\n\ntrain_loss=0.02 train_acc=0.99 test_loss=0.10 test_acc=0.98:  79%|███████▉  | 11921/15000 [01:52<00:28, 106.66it/s]\u001b[A\u001b[A",
          "output_type": "stream"
        },
        {
          "name": "stdout",
          "text": "hi while loop 11921\n",
          "output_type": "stream"
        },
        {
          "name": "stderr",
          "text": "\n\ntrain_loss=0.02 train_acc=0.99 test_loss=0.10 test_acc=0.98:  79%|███████▉  | 11921/15000 [02:01<00:28, 106.66it/s]\u001b[A\u001b[A\n\ntrain_loss=0.02 train_acc=0.99 test_loss=0.10 test_acc=0.98:  86%|████████▌ | 12838/15000 [02:01<00:20, 105.02it/s]\u001b[A\u001b[A",
          "output_type": "stream"
        },
        {
          "name": "stdout",
          "text": "hi while loop 12838\n",
          "output_type": "stream"
        },
        {
          "name": "stderr",
          "text": "\n\ntrain_loss=0.02 train_acc=0.99 test_loss=0.10 test_acc=0.98:  86%|████████▌ | 12838/15000 [02:10<00:20, 105.02it/s]\u001b[A\u001b[A\n\ntrain_loss=0.02 train_acc=0.99 test_loss=0.10 test_acc=0.98:  92%|█████████▏| 13755/15000 [02:10<00:11, 104.48it/s]\u001b[A\u001b[A",
          "output_type": "stream"
        },
        {
          "name": "stdout",
          "text": "hi while loop 13755\n",
          "output_type": "stream"
        },
        {
          "name": "stderr",
          "text": "\n\ntrain_loss=0.02 train_acc=0.99 test_loss=0.10 test_acc=0.98:  92%|█████████▏| 13755/15000 [02:19<00:11, 104.48it/s]\u001b[A\u001b[A\n\ntrain_loss=0.02 train_acc=0.99 test_loss=0.10 test_acc=0.98:  98%|█████████▊| 14672/15000 [02:19<00:03, 104.59it/s]\u001b[A\u001b[A",
          "output_type": "stream"
        },
        {
          "name": "stdout",
          "text": "hi while loop 14672\n",
          "output_type": "stream"
        },
        {
          "name": "stderr",
          "text": "\n\ntrain_loss=0.01 train_acc=1.00 test_loss=0.10 test_acc=0.98:  98%|█████████▊| 14672/15000 [02:23<00:03, 104.59it/s]\u001b[A\u001b[A\n\ntrain_loss=0.01 train_acc=1.00 test_loss=0.10 test_acc=0.98: 100%|██████████| 15000/15000 [02:23<00:00, 98.82it/s] \u001b[A\u001b[A\n\n                                                                                                                  \u001b[A\u001b[A\n 14%|█▍        | 1/7 [02:23<14:21, 143.61s/it]\u001b[A\n\n  0%|          | 0/15000 [00:00<?, ?it/s]\u001b[A\u001b[A",
          "output_type": "stream"
        },
        {
          "name": "stdout",
          "text": "hi while loop 0\n",
          "output_type": "stream"
        },
        {
          "name": "stderr",
          "text": "\n\ntrain_loss=0.20 train_acc=0.94 test_loss=0.10 test_acc=0.97:   0%|          | 0/15000 [00:09<?, ?it/s]\u001b[A\u001b[A\n\ntrain_loss=0.20 train_acc=0.94 test_loss=0.10 test_acc=0.97:   6%|▌         | 917/15000 [00:09<02:19, 100.71it/s]\u001b[A\u001b[A",
          "output_type": "stream"
        },
        {
          "name": "stdout",
          "text": "hi while loop 917\n",
          "output_type": "stream"
        },
        {
          "name": "stderr",
          "text": "\n\ntrain_loss=0.08 train_acc=0.98 test_loss=0.08 test_acc=0.97:   6%|▌         | 917/15000 [00:18<02:19, 100.71it/s]\u001b[A\u001b[A\n\ntrain_loss=0.08 train_acc=0.98 test_loss=0.08 test_acc=0.97:  12%|█▏        | 1834/15000 [00:18<02:09, 101.92it/s]\u001b[A\u001b[A",
          "output_type": "stream"
        },
        {
          "name": "stdout",
          "text": "hi while loop 1834\n",
          "output_type": "stream"
        },
        {
          "name": "stderr",
          "text": "\n\ntrain_loss=0.05 train_acc=0.98 test_loss=0.09 test_acc=0.97:  12%|█▏        | 1834/15000 [00:26<02:09, 101.92it/s]\u001b[A\u001b[A\n\ntrain_loss=0.05 train_acc=0.98 test_loss=0.09 test_acc=0.97:  18%|█▊        | 2751/15000 [00:26<01:59, 102.77it/s]\u001b[A\u001b[A",
          "output_type": "stream"
        },
        {
          "name": "stdout",
          "text": "hi while loop 2751\n",
          "output_type": "stream"
        },
        {
          "name": "stderr",
          "text": "\n\ntrain_loss=0.04 train_acc=0.99 test_loss=0.08 test_acc=0.98:  18%|█▊        | 2751/15000 [00:35<01:59, 102.77it/s]\u001b[A\u001b[A\n\ntrain_loss=0.04 train_acc=0.99 test_loss=0.08 test_acc=0.98:  24%|██▍       | 3668/15000 [00:35<01:50, 102.92it/s]\u001b[A\u001b[A",
          "output_type": "stream"
        },
        {
          "name": "stdout",
          "text": "hi while loop 3668\n",
          "output_type": "stream"
        },
        {
          "name": "stderr",
          "text": "\n\ntrain_loss=0.03 train_acc=0.99 test_loss=0.08 test_acc=0.98:  24%|██▍       | 3668/15000 [00:44<01:50, 102.92it/s]\u001b[A\u001b[A\n\ntrain_loss=0.03 train_acc=0.99 test_loss=0.08 test_acc=0.98:  31%|███       | 4585/15000 [00:44<01:42, 101.55it/s]\u001b[A\u001b[A",
          "output_type": "stream"
        },
        {
          "name": "stdout",
          "text": "hi while loop 4585\n",
          "output_type": "stream"
        },
        {
          "name": "stderr",
          "text": "\n\ntrain_loss=0.03 train_acc=0.99 test_loss=0.08 test_acc=0.98:  31%|███       | 4585/15000 [00:53<01:42, 101.55it/s]\u001b[A\u001b[A\n\ntrain_loss=0.03 train_acc=0.99 test_loss=0.08 test_acc=0.98:  37%|███▋      | 5502/15000 [00:53<01:33, 101.83it/s]\u001b[A\u001b[A",
          "output_type": "stream"
        },
        {
          "name": "stdout",
          "text": "hi while loop 5502\n",
          "output_type": "stream"
        },
        {
          "name": "stderr",
          "text": "\n\ntrain_loss=0.02 train_acc=0.99 test_loss=0.10 test_acc=0.98:  37%|███▋      | 5502/15000 [01:02<01:33, 101.83it/s]\u001b[A\u001b[A\n\ntrain_loss=0.02 train_acc=0.99 test_loss=0.10 test_acc=0.98:  43%|████▎     | 6419/15000 [01:02<01:23, 102.28it/s]\u001b[A\u001b[A",
          "output_type": "stream"
        },
        {
          "name": "stdout",
          "text": "hi while loop 6419\n",
          "output_type": "stream"
        },
        {
          "name": "stderr",
          "text": "\n\ntrain_loss=0.02 train_acc=0.99 test_loss=0.10 test_acc=0.98:  43%|████▎     | 6419/15000 [01:11<01:23, 102.28it/s]\u001b[A\u001b[A\n\ntrain_loss=0.02 train_acc=0.99 test_loss=0.10 test_acc=0.98:  49%|████▉     | 7336/15000 [01:11<01:14, 102.83it/s]\u001b[A\u001b[A",
          "output_type": "stream"
        },
        {
          "name": "stdout",
          "text": "hi while loop 7336\n",
          "output_type": "stream"
        },
        {
          "name": "stderr",
          "text": "\n\ntrain_loss=0.02 train_acc=0.99 test_loss=0.09 test_acc=0.98:  49%|████▉     | 7336/15000 [01:20<01:14, 102.83it/s]\u001b[A\u001b[A\n\ntrain_loss=0.02 train_acc=0.99 test_loss=0.09 test_acc=0.98:  55%|█████▌    | 8253/15000 [01:20<01:06, 102.00it/s]\u001b[A\u001b[A",
          "output_type": "stream"
        },
        {
          "name": "stdout",
          "text": "hi while loop 8253\n",
          "output_type": "stream"
        },
        {
          "name": "stderr",
          "text": "\n\ntrain_loss=0.02 train_acc=0.99 test_loss=0.09 test_acc=0.98:  55%|█████▌    | 8253/15000 [01:29<01:06, 102.00it/s]\u001b[A\u001b[A\n\ntrain_loss=0.02 train_acc=0.99 test_loss=0.09 test_acc=0.98:  61%|██████    | 9170/15000 [01:29<00:56, 103.07it/s]\u001b[A\u001b[A",
          "output_type": "stream"
        },
        {
          "name": "stdout",
          "text": "hi while loop 9170\n",
          "output_type": "stream"
        },
        {
          "name": "stderr",
          "text": "\n\ntrain_loss=0.02 train_acc=0.99 test_loss=0.09 test_acc=0.98:  61%|██████    | 9170/15000 [01:38<00:56, 103.07it/s]\u001b[A\u001b[A\n\ntrain_loss=0.02 train_acc=0.99 test_loss=0.09 test_acc=0.98:  67%|██████▋   | 10087/15000 [01:38<00:47, 104.15it/s]\u001b[A\u001b[A",
          "output_type": "stream"
        },
        {
          "name": "stdout",
          "text": "hi while loop 10087\n",
          "output_type": "stream"
        },
        {
          "name": "stderr",
          "text": "\n\ntrain_loss=0.01 train_acc=1.00 test_loss=0.10 test_acc=0.98:  67%|██████▋   | 10087/15000 [01:47<00:47, 104.15it/s]\u001b[A\u001b[A\n\ntrain_loss=0.01 train_acc=1.00 test_loss=0.10 test_acc=0.98:  73%|███████▎  | 11004/15000 [01:47<00:38, 103.20it/s]\u001b[A\u001b[A",
          "output_type": "stream"
        },
        {
          "name": "stdout",
          "text": "hi while loop 11004\n",
          "output_type": "stream"
        },
        {
          "name": "stderr",
          "text": "\n\ntrain_loss=0.02 train_acc=1.00 test_loss=0.09 test_acc=0.98:  73%|███████▎  | 11004/15000 [01:55<00:38, 103.20it/s]\u001b[A\u001b[A\n\ntrain_loss=0.02 train_acc=1.00 test_loss=0.09 test_acc=0.98:  79%|███████▉  | 11921/15000 [01:55<00:29, 103.95it/s]\u001b[A\u001b[A",
          "output_type": "stream"
        },
        {
          "name": "stdout",
          "text": "hi while loop 11921\n",
          "output_type": "stream"
        },
        {
          "name": "stderr",
          "text": "\n\ntrain_loss=0.01 train_acc=1.00 test_loss=0.11 test_acc=0.98:  79%|███████▉  | 11921/15000 [02:04<00:29, 103.95it/s]\u001b[A\u001b[A\n\ntrain_loss=0.01 train_acc=1.00 test_loss=0.11 test_acc=0.98:  86%|████████▌ | 12838/15000 [02:04<00:20, 104.25it/s]\u001b[A\u001b[A",
          "output_type": "stream"
        },
        {
          "name": "stdout",
          "text": "hi while loop 12838\n",
          "output_type": "stream"
        },
        {
          "name": "stderr",
          "text": "\n\ntrain_loss=0.01 train_acc=1.00 test_loss=0.10 test_acc=0.98:  86%|████████▌ | 12838/15000 [02:13<00:20, 104.25it/s]\u001b[A\u001b[A\n\ntrain_loss=0.01 train_acc=1.00 test_loss=0.10 test_acc=0.98:  92%|█████████▏| 13755/15000 [02:13<00:11, 104.82it/s]\u001b[A\u001b[A",
          "output_type": "stream"
        },
        {
          "name": "stdout",
          "text": "hi while loop 13755\n",
          "output_type": "stream"
        },
        {
          "name": "stderr",
          "text": "\n\ntrain_loss=0.01 train_acc=1.00 test_loss=0.13 test_acc=0.98:  92%|█████████▏| 13755/15000 [02:22<00:11, 104.82it/s]\u001b[A\u001b[A\n\ntrain_loss=0.01 train_acc=1.00 test_loss=0.13 test_acc=0.98:  98%|█████████▊| 14672/15000 [02:22<00:03, 103.26it/s]\u001b[A\u001b[A",
          "output_type": "stream"
        },
        {
          "name": "stdout",
          "text": "hi while loop 14672\n",
          "output_type": "stream"
        },
        {
          "name": "stderr",
          "text": "\n\ntrain_loss=0.01 train_acc=1.00 test_loss=0.11 test_acc=0.98:  98%|█████████▊| 14672/15000 [02:26<00:03, 103.26it/s]\u001b[A\u001b[A\n\ntrain_loss=0.01 train_acc=1.00 test_loss=0.11 test_acc=0.98: 100%|██████████| 15000/15000 [02:26<00:00, 98.30it/s] \u001b[A\u001b[A\n\n                                                                                                                  \u001b[A\u001b[A\n 29%|██▊       | 2/7 [04:50<12:07, 145.48s/it]\u001b[A\n\n  0%|          | 0/15000 [00:00<?, ?it/s]\u001b[A\u001b[A",
          "output_type": "stream"
        },
        {
          "name": "stdout",
          "text": "hi while loop 0\n",
          "output_type": "stream"
        },
        {
          "name": "stderr",
          "text": "\n\ntrain_loss=0.20 train_acc=0.94 test_loss=0.10 test_acc=0.97:   0%|          | 0/15000 [00:08<?, ?it/s]\u001b[A\u001b[A\n\ntrain_loss=0.20 train_acc=0.94 test_loss=0.10 test_acc=0.97:   6%|▌         | 917/15000 [00:08<02:12, 106.65it/s]\u001b[A\u001b[A",
          "output_type": "stream"
        },
        {
          "name": "stdout",
          "text": "hi while loop 917\n",
          "output_type": "stream"
        },
        {
          "name": "stderr",
          "text": "\n\ntrain_loss=0.07 train_acc=0.98 test_loss=0.07 test_acc=0.98:   6%|▌         | 917/15000 [00:17<02:12, 106.65it/s]\u001b[A\u001b[A\n\ntrain_loss=0.07 train_acc=0.98 test_loss=0.07 test_acc=0.98:  12%|█▏        | 1834/15000 [00:17<02:04, 106.17it/s]\u001b[A\u001b[A",
          "output_type": "stream"
        },
        {
          "name": "stdout",
          "text": "hi while loop 1834\n",
          "output_type": "stream"
        },
        {
          "name": "stderr",
          "text": "\n\ntrain_loss=0.05 train_acc=0.99 test_loss=0.07 test_acc=0.98:  12%|█▏        | 1834/15000 [00:26<02:04, 106.17it/s]\u001b[A\u001b[A\n\ntrain_loss=0.05 train_acc=0.99 test_loss=0.07 test_acc=0.98:  18%|█▊        | 2751/15000 [00:26<01:59, 102.56it/s]\u001b[A\u001b[A",
          "output_type": "stream"
        },
        {
          "name": "stdout",
          "text": "hi while loop 2751\n",
          "output_type": "stream"
        },
        {
          "name": "stderr",
          "text": "\n\ntrain_loss=0.03 train_acc=0.99 test_loss=0.07 test_acc=0.98:  18%|█▊        | 2751/15000 [00:35<01:59, 102.56it/s]\u001b[A\u001b[A\n\ntrain_loss=0.03 train_acc=0.99 test_loss=0.07 test_acc=0.98:  24%|██▍       | 3668/15000 [00:35<01:49, 103.59it/s]\u001b[A\u001b[A",
          "output_type": "stream"
        },
        {
          "name": "stdout",
          "text": "hi while loop 3668\n",
          "output_type": "stream"
        },
        {
          "name": "stderr",
          "text": "\n\ntrain_loss=0.02 train_acc=0.99 test_loss=0.07 test_acc=0.98:  24%|██▍       | 3668/15000 [00:43<01:49, 103.59it/s]\u001b[A\u001b[A\n\ntrain_loss=0.02 train_acc=0.99 test_loss=0.07 test_acc=0.98:  31%|███       | 4585/15000 [00:43<01:39, 104.72it/s]\u001b[A\u001b[A",
          "output_type": "stream"
        },
        {
          "name": "stdout",
          "text": "hi while loop 4585\n",
          "output_type": "stream"
        },
        {
          "name": "stderr",
          "text": "\n\ntrain_loss=0.02 train_acc=0.99 test_loss=0.08 test_acc=0.98:  31%|███       | 4585/15000 [00:52<01:39, 104.72it/s]\u001b[A\u001b[A\n\ntrain_loss=0.02 train_acc=0.99 test_loss=0.08 test_acc=0.98:  37%|███▋      | 5502/15000 [00:52<01:30, 104.43it/s]\u001b[A\u001b[A",
          "output_type": "stream"
        },
        {
          "name": "stdout",
          "text": "hi while loop 5502\n",
          "output_type": "stream"
        },
        {
          "name": "stderr",
          "text": "\n\ntrain_loss=0.02 train_acc=0.99 test_loss=0.08 test_acc=0.98:  37%|███▋      | 5502/15000 [01:01<01:30, 104.43it/s]\u001b[A\u001b[A\n\ntrain_loss=0.02 train_acc=0.99 test_loss=0.08 test_acc=0.98:  43%|████▎     | 6419/15000 [01:01<01:22, 104.35it/s]\u001b[A\u001b[A",
          "output_type": "stream"
        },
        {
          "name": "stdout",
          "text": "hi while loop 6419\n",
          "output_type": "stream"
        },
        {
          "name": "stderr",
          "text": "\n\ntrain_loss=0.01 train_acc=0.99 test_loss=0.09 test_acc=0.98:  43%|████▎     | 6419/15000 [01:10<01:22, 104.35it/s]\u001b[A\u001b[A\n\ntrain_loss=0.01 train_acc=0.99 test_loss=0.09 test_acc=0.98:  49%|████▉     | 7336/15000 [01:10<01:13, 104.61it/s]\u001b[A\u001b[A",
          "output_type": "stream"
        },
        {
          "name": "stdout",
          "text": "hi while loop 7336\n",
          "output_type": "stream"
        },
        {
          "name": "stderr",
          "text": "\n\ntrain_loss=0.02 train_acc=0.99 test_loss=0.10 test_acc=0.98:  49%|████▉     | 7336/15000 [01:18<01:13, 104.61it/s]\u001b[A\u001b[A\n\ntrain_loss=0.02 train_acc=0.99 test_loss=0.10 test_acc=0.98:  55%|█████▌    | 8253/15000 [01:18<01:04, 105.07it/s]\u001b[A\u001b[A",
          "output_type": "stream"
        },
        {
          "name": "stdout",
          "text": "hi while loop 8253\n",
          "output_type": "stream"
        },
        {
          "name": "stderr",
          "text": "\n\ntrain_loss=0.01 train_acc=1.00 test_loss=0.09 test_acc=0.98:  55%|█████▌    | 8253/15000 [01:28<01:04, 105.07it/s]\u001b[A\u001b[A\n\ntrain_loss=0.01 train_acc=1.00 test_loss=0.09 test_acc=0.98:  61%|██████    | 9170/15000 [01:28<00:56, 103.16it/s]\u001b[A\u001b[A",
          "output_type": "stream"
        },
        {
          "name": "stdout",
          "text": "hi while loop 9170\n",
          "output_type": "stream"
        },
        {
          "name": "stderr",
          "text": "\n\ntrain_loss=0.01 train_acc=1.00 test_loss=0.10 test_acc=0.98:  61%|██████    | 9170/15000 [01:36<00:56, 103.16it/s]\u001b[A\u001b[A\n\ntrain_loss=0.01 train_acc=1.00 test_loss=0.10 test_acc=0.98:  67%|██████▋   | 10087/15000 [01:36<00:47, 104.30it/s]\u001b[A\u001b[A",
          "output_type": "stream"
        },
        {
          "name": "stdout",
          "text": "hi while loop 10087\n",
          "output_type": "stream"
        },
        {
          "name": "stderr",
          "text": "\n\ntrain_loss=0.01 train_acc=1.00 test_loss=0.11 test_acc=0.98:  67%|██████▋   | 10087/15000 [01:45<00:47, 104.30it/s]\u001b[A\u001b[A\n\ntrain_loss=0.01 train_acc=1.00 test_loss=0.11 test_acc=0.98:  73%|███████▎  | 11004/15000 [01:45<00:37, 105.20it/s]\u001b[A\u001b[A",
          "output_type": "stream"
        },
        {
          "name": "stdout",
          "text": "hi while loop 11004\n",
          "output_type": "stream"
        },
        {
          "name": "stderr",
          "text": "\n\ntrain_loss=0.01 train_acc=1.00 test_loss=0.11 test_acc=0.98:  73%|███████▎  | 11004/15000 [01:53<00:37, 105.20it/s]\u001b[A\u001b[A\n\ntrain_loss=0.01 train_acc=1.00 test_loss=0.11 test_acc=0.98:  79%|███████▉  | 11921/15000 [01:53<00:29, 105.06it/s]\u001b[A\u001b[A",
          "output_type": "stream"
        },
        {
          "name": "stdout",
          "text": "hi while loop 11921\n",
          "output_type": "stream"
        },
        {
          "name": "stderr",
          "text": "\n\ntrain_loss=0.01 train_acc=1.00 test_loss=0.11 test_acc=0.98:  79%|███████▉  | 11921/15000 [02:02<00:29, 105.06it/s]\u001b[A\u001b[A\n\ntrain_loss=0.01 train_acc=1.00 test_loss=0.11 test_acc=0.98:  86%|████████▌ | 12838/15000 [02:02<00:20, 104.13it/s]\u001b[A\u001b[A",
          "output_type": "stream"
        },
        {
          "name": "stdout",
          "text": "hi while loop 12838\n",
          "output_type": "stream"
        },
        {
          "name": "stderr",
          "text": "\n\ntrain_loss=0.01 train_acc=1.00 test_loss=0.14 test_acc=0.98:  86%|████████▌ | 12838/15000 [02:11<00:20, 104.13it/s]\u001b[A\u001b[A\n\ntrain_loss=0.01 train_acc=1.00 test_loss=0.14 test_acc=0.98:  92%|█████████▏| 13755/15000 [02:11<00:11, 105.05it/s]\u001b[A\u001b[A",
          "output_type": "stream"
        },
        {
          "name": "stdout",
          "text": "hi while loop 13755\n",
          "output_type": "stream"
        },
        {
          "name": "stderr",
          "text": "\n\ntrain_loss=0.01 train_acc=1.00 test_loss=0.12 test_acc=0.98:  92%|█████████▏| 13755/15000 [02:20<00:11, 105.05it/s]\u001b[A\u001b[A\n\ntrain_loss=0.01 train_acc=1.00 test_loss=0.12 test_acc=0.98:  98%|█████████▊| 14672/15000 [02:20<00:03, 105.50it/s]\u001b[A\u001b[A",
          "output_type": "stream"
        },
        {
          "name": "stdout",
          "text": "hi while loop 14672\n",
          "output_type": "stream"
        },
        {
          "name": "stderr",
          "text": "\n\ntrain_loss=0.01 train_acc=1.00 test_loss=0.11 test_acc=0.98:  98%|█████████▊| 14672/15000 [02:24<00:03, 105.50it/s]\u001b[A\u001b[A\n\ntrain_loss=0.01 train_acc=1.00 test_loss=0.11 test_acc=0.98: 100%|██████████| 15000/15000 [02:24<00:00, 99.03it/s] \u001b[A\u001b[A\n\n                                                                                                                  \u001b[A\u001b[A\n 43%|████▎     | 3/7 [07:15<09:40, 145.16s/it]\u001b[A\n\n  0%|          | 0/15000 [00:00<?, ?it/s]\u001b[A\u001b[A",
          "output_type": "stream"
        },
        {
          "name": "stdout",
          "text": "hi while loop 0\n",
          "output_type": "stream"
        },
        {
          "name": "stderr",
          "text": "\n\ntrain_loss=0.22 train_acc=0.94 test_loss=0.08 test_acc=0.98:   0%|          | 0/15000 [00:08<?, ?it/s]\u001b[A\u001b[A\n\ntrain_loss=0.22 train_acc=0.94 test_loss=0.08 test_acc=0.98:   6%|▌         | 917/15000 [00:08<02:17, 102.75it/s]\u001b[A\u001b[A",
          "output_type": "stream"
        },
        {
          "name": "stdout",
          "text": "hi while loop 917\n",
          "output_type": "stream"
        },
        {
          "name": "stderr",
          "text": "\n\ntrain_loss=0.06 train_acc=0.98 test_loss=0.06 test_acc=0.98:   6%|▌         | 917/15000 [00:17<02:17, 102.75it/s]\u001b[A\u001b[A\n\ntrain_loss=0.06 train_acc=0.98 test_loss=0.06 test_acc=0.98:  12%|█▏        | 1834/15000 [00:17<02:05, 104.97it/s]\u001b[A\u001b[A",
          "output_type": "stream"
        },
        {
          "name": "stdout",
          "text": "hi while loop 1834\n",
          "output_type": "stream"
        },
        {
          "name": "stderr",
          "text": "\n\ntrain_loss=0.03 train_acc=0.99 test_loss=0.08 test_acc=0.97:  12%|█▏        | 1834/15000 [00:26<02:05, 104.97it/s]\u001b[A\u001b[A\n\ntrain_loss=0.03 train_acc=0.99 test_loss=0.08 test_acc=0.97:  18%|█▊        | 2751/15000 [00:26<01:55, 106.13it/s]\u001b[A\u001b[A",
          "output_type": "stream"
        },
        {
          "name": "stdout",
          "text": "hi while loop 2751\n",
          "output_type": "stream"
        },
        {
          "name": "stderr",
          "text": "\n\ntrain_loss=0.02 train_acc=0.99 test_loss=0.06 test_acc=0.98:  18%|█▊        | 2751/15000 [00:34<01:55, 106.13it/s]\u001b[A\u001b[A\n\ntrain_loss=0.02 train_acc=0.99 test_loss=0.06 test_acc=0.98:  24%|██▍       | 3668/15000 [00:34<01:47, 105.46it/s]\u001b[A\u001b[A",
          "output_type": "stream"
        },
        {
          "name": "stdout",
          "text": "hi while loop 3668\n",
          "output_type": "stream"
        },
        {
          "name": "stderr",
          "text": "\n\ntrain_loss=0.02 train_acc=0.99 test_loss=0.08 test_acc=0.98:  24%|██▍       | 3668/15000 [00:43<01:47, 105.46it/s]\u001b[A\u001b[A\n\ntrain_loss=0.02 train_acc=0.99 test_loss=0.08 test_acc=0.98:  31%|███       | 4585/15000 [00:43<01:39, 104.79it/s]\u001b[A\u001b[A",
          "output_type": "stream"
        },
        {
          "name": "stdout",
          "text": "hi while loop 4585\n",
          "output_type": "stream"
        },
        {
          "name": "stderr",
          "text": "\n\ntrain_loss=0.01 train_acc=1.00 test_loss=0.09 test_acc=0.98:  31%|███       | 4585/15000 [00:52<01:39, 104.79it/s]\u001b[A\u001b[A\n\ntrain_loss=0.01 train_acc=1.00 test_loss=0.09 test_acc=0.98:  37%|███▋      | 5502/15000 [00:52<01:30, 105.53it/s]\u001b[A\u001b[A",
          "output_type": "stream"
        },
        {
          "name": "stdout",
          "text": "hi while loop 5502\n",
          "output_type": "stream"
        },
        {
          "name": "stderr",
          "text": "\n\ntrain_loss=0.01 train_acc=1.00 test_loss=0.09 test_acc=0.98:  37%|███▋      | 5502/15000 [01:00<01:30, 105.53it/s]\u001b[A\u001b[A\n\ntrain_loss=0.01 train_acc=1.00 test_loss=0.09 test_acc=0.98:  43%|████▎     | 6419/15000 [01:00<01:21, 105.34it/s]\u001b[A\u001b[A",
          "output_type": "stream"
        },
        {
          "name": "stdout",
          "text": "hi while loop 6419\n",
          "output_type": "stream"
        },
        {
          "name": "stderr",
          "text": "\n\ntrain_loss=0.01 train_acc=1.00 test_loss=0.08 test_acc=0.98:  43%|████▎     | 6419/15000 [01:09<01:21, 105.34it/s]\u001b[A\u001b[A\n\ntrain_loss=0.01 train_acc=1.00 test_loss=0.08 test_acc=0.98:  49%|████▉     | 7336/15000 [01:09<01:13, 104.21it/s]\u001b[A\u001b[A",
          "output_type": "stream"
        },
        {
          "name": "stdout",
          "text": "hi while loop 7336\n",
          "output_type": "stream"
        },
        {
          "name": "stderr",
          "text": "\n\ntrain_loss=0.01 train_acc=1.00 test_loss=0.09 test_acc=0.98:  49%|████▉     | 7336/15000 [01:18<01:13, 104.21it/s]\u001b[A\u001b[A\n\ntrain_loss=0.01 train_acc=1.00 test_loss=0.09 test_acc=0.98:  55%|█████▌    | 8253/15000 [01:18<01:04, 104.92it/s]\u001b[A\u001b[A",
          "output_type": "stream"
        },
        {
          "name": "stdout",
          "text": "hi while loop 8253\n",
          "output_type": "stream"
        },
        {
          "name": "stderr",
          "text": "\n\ntrain_loss=0.01 train_acc=1.00 test_loss=0.10 test_acc=0.98:  55%|█████▌    | 8253/15000 [01:27<01:04, 104.92it/s]\u001b[A\u001b[A\n\ntrain_loss=0.01 train_acc=1.00 test_loss=0.10 test_acc=0.98:  61%|██████    | 9170/15000 [01:27<00:55, 105.43it/s]\u001b[A\u001b[A",
          "output_type": "stream"
        },
        {
          "name": "stdout",
          "text": "hi while loop 9170\n",
          "output_type": "stream"
        },
        {
          "name": "stderr",
          "text": "\n\ntrain_loss=0.01 train_acc=1.00 test_loss=0.10 test_acc=0.98:  61%|██████    | 9170/15000 [01:35<00:55, 105.43it/s]\u001b[A\u001b[A\n\ntrain_loss=0.01 train_acc=1.00 test_loss=0.10 test_acc=0.98:  67%|██████▋   | 10087/15000 [01:35<00:46, 105.25it/s]\u001b[A\u001b[A",
          "output_type": "stream"
        },
        {
          "name": "stdout",
          "text": "hi while loop 10087\n",
          "output_type": "stream"
        },
        {
          "name": "stderr",
          "text": "\n\ntrain_loss=0.00 train_acc=1.00 test_loss=0.11 test_acc=0.98:  67%|██████▋   | 10087/15000 [01:44<00:46, 105.25it/s]\u001b[A\u001b[A\n\ntrain_loss=0.00 train_acc=1.00 test_loss=0.11 test_acc=0.98:  73%|███████▎  | 11004/15000 [01:44<00:38, 104.18it/s]\u001b[A\u001b[A",
          "output_type": "stream"
        },
        {
          "name": "stdout",
          "text": "hi while loop 11004\n",
          "output_type": "stream"
        },
        {
          "name": "stderr",
          "text": "\n\ntrain_loss=0.01 train_acc=1.00 test_loss=0.10 test_acc=0.98:  73%|███████▎  | 11004/15000 [01:53<00:38, 104.18it/s]\u001b[A\u001b[A\n\ntrain_loss=0.01 train_acc=1.00 test_loss=0.10 test_acc=0.98:  79%|███████▉  | 11921/15000 [01:53<00:29, 104.86it/s]\u001b[A\u001b[A",
          "output_type": "stream"
        },
        {
          "name": "stdout",
          "text": "hi while loop 11921\n",
          "output_type": "stream"
        },
        {
          "name": "stderr",
          "text": "\n\ntrain_loss=0.01 train_acc=1.00 test_loss=0.10 test_acc=0.98:  79%|███████▉  | 11921/15000 [02:02<00:29, 104.86it/s]\u001b[A\u001b[A\n\ntrain_loss=0.01 train_acc=1.00 test_loss=0.10 test_acc=0.98:  86%|████████▌ | 12838/15000 [02:02<00:20, 104.58it/s]\u001b[A\u001b[A",
          "output_type": "stream"
        },
        {
          "name": "stdout",
          "text": "hi while loop 12838\n",
          "output_type": "stream"
        },
        {
          "name": "stderr",
          "text": "\n\ntrain_loss=0.01 train_acc=1.00 test_loss=0.10 test_acc=0.98:  86%|████████▌ | 12838/15000 [02:11<00:20, 104.58it/s]\u001b[A\u001b[A\n\ntrain_loss=0.01 train_acc=1.00 test_loss=0.10 test_acc=0.98:  92%|█████████▏| 13755/15000 [02:11<00:12, 103.37it/s]\u001b[A\u001b[A",
          "output_type": "stream"
        },
        {
          "name": "stdout",
          "text": "hi while loop 13755\n",
          "output_type": "stream"
        },
        {
          "name": "stderr",
          "text": "\n\ntrain_loss=0.01 train_acc=1.00 test_loss=0.12 test_acc=0.98:  92%|█████████▏| 13755/15000 [02:20<00:12, 103.37it/s]\u001b[A\u001b[A\n\ntrain_loss=0.01 train_acc=1.00 test_loss=0.12 test_acc=0.98:  98%|█████████▊| 14672/15000 [02:20<00:03, 104.10it/s]\u001b[A\u001b[A",
          "output_type": "stream"
        },
        {
          "name": "stdout",
          "text": "hi while loop 14672\n",
          "output_type": "stream"
        },
        {
          "name": "stderr",
          "text": "\n\ntrain_loss=0.01 train_acc=1.00 test_loss=0.12 test_acc=0.98:  98%|█████████▊| 14672/15000 [02:24<00:03, 104.10it/s]\u001b[A\u001b[A\n\ntrain_loss=0.01 train_acc=1.00 test_loss=0.12 test_acc=0.98: 100%|██████████| 15000/15000 [02:24<00:00, 98.74it/s] \u001b[A\u001b[A\n\n                                                                                                                  \u001b[A\u001b[A\n 57%|█████▋    | 4/7 [09:39<07:14, 144.94s/it]\u001b[A\n\n  0%|          | 0/15000 [00:00<?, ?it/s]\u001b[A\u001b[A",
          "output_type": "stream"
        },
        {
          "name": "stdout",
          "text": "hi while loop 0\n",
          "output_type": "stream"
        },
        {
          "name": "stderr",
          "text": "\n\ntrain_loss=0.29 train_acc=0.92 test_loss=0.09 test_acc=0.97:   0%|          | 0/15000 [00:08<?, ?it/s]\u001b[A\u001b[A\n\ntrain_loss=0.29 train_acc=0.92 test_loss=0.09 test_acc=0.97:   6%|▌         | 917/15000 [00:08<02:12, 106.08it/s]\u001b[A\u001b[A",
          "output_type": "stream"
        },
        {
          "name": "stdout",
          "text": "hi while loop 917\n",
          "output_type": "stream"
        },
        {
          "name": "stderr",
          "text": "\n\ntrain_loss=0.06 train_acc=0.98 test_loss=0.06 test_acc=0.98:   6%|▌         | 917/15000 [00:17<02:12, 106.08it/s]\u001b[A\u001b[A\n\ntrain_loss=0.06 train_acc=0.98 test_loss=0.06 test_acc=0.98:  12%|█▏        | 1834/15000 [00:17<02:06, 104.49it/s]\u001b[A\u001b[A",
          "output_type": "stream"
        },
        {
          "name": "stdout",
          "text": "hi while loop 1834\n",
          "output_type": "stream"
        },
        {
          "name": "stderr",
          "text": "\n\ntrain_loss=0.04 train_acc=0.99 test_loss=0.06 test_acc=0.98:  12%|█▏        | 1834/15000 [00:26<02:06, 104.49it/s]\u001b[A\u001b[A\n\ntrain_loss=0.04 train_acc=0.99 test_loss=0.06 test_acc=0.98:  18%|█▊        | 2751/15000 [00:26<01:57, 103.95it/s]\u001b[A\u001b[A",
          "output_type": "stream"
        },
        {
          "name": "stdout",
          "text": "hi while loop 2751\n",
          "output_type": "stream"
        },
        {
          "name": "stderr",
          "text": "\n\ntrain_loss=0.03 train_acc=0.99 test_loss=0.06 test_acc=0.98:  18%|█▊        | 2751/15000 [00:35<01:57, 103.95it/s]\u001b[A\u001b[A\n\ntrain_loss=0.03 train_acc=0.99 test_loss=0.06 test_acc=0.98:  24%|██▍       | 3668/15000 [00:35<01:48, 104.23it/s]\u001b[A\u001b[A",
          "output_type": "stream"
        },
        {
          "name": "stdout",
          "text": "hi while loop 3668\n",
          "output_type": "stream"
        },
        {
          "name": "stderr",
          "text": "\n\ntrain_loss=0.02 train_acc=0.99 test_loss=0.06 test_acc=0.98:  24%|██▍       | 3668/15000 [00:44<01:48, 104.23it/s]\u001b[A\u001b[A\n\ntrain_loss=0.02 train_acc=0.99 test_loss=0.06 test_acc=0.98:  31%|███       | 4585/15000 [00:44<01:40, 103.89it/s]\u001b[A\u001b[A",
          "output_type": "stream"
        },
        {
          "name": "stdout",
          "text": "hi while loop 4585\n",
          "output_type": "stream"
        },
        {
          "name": "stderr",
          "text": "\n\ntrain_loss=0.01 train_acc=1.00 test_loss=0.06 test_acc=0.98:  31%|███       | 4585/15000 [00:52<01:40, 103.89it/s]\u001b[A\u001b[A\n\ntrain_loss=0.01 train_acc=1.00 test_loss=0.06 test_acc=0.98:  37%|███▋      | 5502/15000 [00:52<01:31, 103.49it/s]\u001b[A\u001b[A",
          "output_type": "stream"
        },
        {
          "name": "stdout",
          "text": "hi while loop 5502\n",
          "output_type": "stream"
        },
        {
          "name": "stderr",
          "text": "\n\ntrain_loss=0.01 train_acc=1.00 test_loss=0.06 test_acc=0.98:  37%|███▋      | 5502/15000 [01:01<01:31, 103.49it/s]\u001b[A\u001b[A\n\ntrain_loss=0.01 train_acc=1.00 test_loss=0.06 test_acc=0.98:  43%|████▎     | 6419/15000 [01:01<01:22, 104.56it/s]\u001b[A\u001b[A",
          "output_type": "stream"
        },
        {
          "name": "stdout",
          "text": "hi while loop 6419\n",
          "output_type": "stream"
        },
        {
          "name": "stderr",
          "text": "\n\ntrain_loss=0.01 train_acc=1.00 test_loss=0.07 test_acc=0.98:  43%|████▎     | 6419/15000 [01:10<01:22, 104.56it/s]\u001b[A\u001b[A\n\ntrain_loss=0.01 train_acc=1.00 test_loss=0.07 test_acc=0.98:  49%|████▉     | 7336/15000 [01:10<01:13, 104.72it/s]\u001b[A\u001b[A",
          "output_type": "stream"
        },
        {
          "name": "stdout",
          "text": "hi while loop 7336\n",
          "output_type": "stream"
        },
        {
          "name": "stderr",
          "text": "\n\ntrain_loss=0.01 train_acc=1.00 test_loss=0.07 test_acc=0.98:  49%|████▉     | 7336/15000 [01:18<01:13, 104.72it/s]\u001b[A\u001b[A\n\ntrain_loss=0.01 train_acc=1.00 test_loss=0.07 test_acc=0.98:  55%|█████▌    | 8253/15000 [01:18<01:04, 105.28it/s]\u001b[A\u001b[A",
          "output_type": "stream"
        },
        {
          "name": "stdout",
          "text": "hi while loop 8253\n",
          "output_type": "stream"
        },
        {
          "name": "stderr",
          "text": "\n\ntrain_loss=0.00 train_acc=1.00 test_loss=0.08 test_acc=0.98:  55%|█████▌    | 8253/15000 [01:27<01:04, 105.28it/s]\u001b[A\u001b[A\n\ntrain_loss=0.00 train_acc=1.00 test_loss=0.08 test_acc=0.98:  61%|██████    | 9170/15000 [01:27<00:55, 104.48it/s]\u001b[A\u001b[A",
          "output_type": "stream"
        },
        {
          "name": "stdout",
          "text": "hi while loop 9170\n",
          "output_type": "stream"
        },
        {
          "name": "stderr",
          "text": "\n\ntrain_loss=0.00 train_acc=1.00 test_loss=0.08 test_acc=0.98:  61%|██████    | 9170/15000 [01:36<00:55, 104.48it/s]\u001b[A\u001b[A\n\ntrain_loss=0.00 train_acc=1.00 test_loss=0.08 test_acc=0.98:  67%|██████▋   | 10087/15000 [01:36<00:46, 105.07it/s]\u001b[A\u001b[A",
          "output_type": "stream"
        },
        {
          "name": "stdout",
          "text": "hi while loop 10087\n",
          "output_type": "stream"
        },
        {
          "name": "stderr",
          "text": "\n\ntrain_loss=0.00 train_acc=1.00 test_loss=0.09 test_acc=0.98:  67%|██████▋   | 10087/15000 [01:45<00:46, 105.07it/s]\u001b[A\u001b[A\n\ntrain_loss=0.00 train_acc=1.00 test_loss=0.09 test_acc=0.98:  73%|███████▎  | 11004/15000 [01:45<00:38, 104.52it/s]\u001b[A\u001b[A",
          "output_type": "stream"
        },
        {
          "name": "stdout",
          "text": "hi while loop 11004\n",
          "output_type": "stream"
        },
        {
          "name": "stderr",
          "text": "\n\ntrain_loss=0.00 train_acc=1.00 test_loss=0.10 test_acc=0.98:  73%|███████▎  | 11004/15000 [01:54<00:38, 104.52it/s]\u001b[A\u001b[A\n\ntrain_loss=0.00 train_acc=1.00 test_loss=0.10 test_acc=0.98:  79%|███████▉  | 11921/15000 [01:54<00:29, 103.73it/s]\u001b[A\u001b[A",
          "output_type": "stream"
        },
        {
          "name": "stdout",
          "text": "hi while loop 11921\n",
          "output_type": "stream"
        },
        {
          "name": "stderr",
          "text": "\n\ntrain_loss=0.00 train_acc=1.00 test_loss=0.09 test_acc=0.98:  79%|███████▉  | 11921/15000 [02:02<00:29, 103.73it/s]\u001b[A\u001b[A\n\ntrain_loss=0.00 train_acc=1.00 test_loss=0.09 test_acc=0.98:  86%|████████▌ | 12838/15000 [02:02<00:20, 104.45it/s]\u001b[A\u001b[A",
          "output_type": "stream"
        },
        {
          "name": "stdout",
          "text": "hi while loop 12838\n",
          "output_type": "stream"
        },
        {
          "name": "stderr",
          "text": "\n\ntrain_loss=0.00 train_acc=1.00 test_loss=0.10 test_acc=0.98:  86%|████████▌ | 12838/15000 [02:11<00:20, 104.45it/s]\u001b[A\u001b[A\n\ntrain_loss=0.00 train_acc=1.00 test_loss=0.10 test_acc=0.98:  92%|█████████▏| 13755/15000 [02:11<00:11, 105.08it/s]\u001b[A\u001b[A",
          "output_type": "stream"
        },
        {
          "name": "stdout",
          "text": "hi while loop 13755\n",
          "output_type": "stream"
        },
        {
          "name": "stderr",
          "text": "\n\ntrain_loss=0.00 train_acc=1.00 test_loss=0.10 test_acc=0.98:  92%|█████████▏| 13755/15000 [02:20<00:11, 105.08it/s]\u001b[A\u001b[A\n\ntrain_loss=0.00 train_acc=1.00 test_loss=0.10 test_acc=0.98:  98%|█████████▊| 14672/15000 [02:20<00:03, 105.19it/s]\u001b[A\u001b[A",
          "output_type": "stream"
        },
        {
          "name": "stdout",
          "text": "hi while loop 14672\n",
          "output_type": "stream"
        },
        {
          "name": "stderr",
          "text": "\n\ntrain_loss=0.00 train_acc=1.00 test_loss=0.10 test_acc=0.98:  98%|█████████▊| 14672/15000 [02:24<00:03, 105.19it/s]\u001b[A\u001b[A\n\ntrain_loss=0.00 train_acc=1.00 test_loss=0.10 test_acc=0.98: 100%|██████████| 15000/15000 [02:24<00:00, 98.83it/s] \u001b[A\u001b[A\n\n                                                                                                                  \u001b[A\u001b[A\n 71%|███████▏  | 5/7 [12:04<04:49, 144.92s/it]\u001b[A\n\n  0%|          | 0/15000 [00:00<?, ?it/s]\u001b[A\u001b[A",
          "output_type": "stream"
        },
        {
          "name": "stdout",
          "text": "hi while loop 0\n",
          "output_type": "stream"
        },
        {
          "name": "stderr",
          "text": "\n\ntrain_loss=0.41 train_acc=0.88 test_loss=0.14 test_acc=0.96:   0%|          | 0/15000 [00:08<?, ?it/s]\u001b[A\u001b[A\n\ntrain_loss=0.41 train_acc=0.88 test_loss=0.14 test_acc=0.96:   6%|▌         | 917/15000 [00:08<02:15, 103.83it/s]\u001b[A\u001b[A",
          "output_type": "stream"
        },
        {
          "name": "stdout",
          "text": "hi while loop 917\n",
          "output_type": "stream"
        },
        {
          "name": "stderr",
          "text": "\n\ntrain_loss=0.11 train_acc=0.97 test_loss=0.10 test_acc=0.97:   6%|▌         | 917/15000 [00:17<02:15, 103.83it/s]\u001b[A\u001b[A\n\ntrain_loss=0.11 train_acc=0.97 test_loss=0.10 test_acc=0.97:  12%|█▏        | 1834/15000 [00:17<02:06, 104.12it/s]\u001b[A\u001b[A",
          "output_type": "stream"
        },
        {
          "name": "stdout",
          "text": "hi while loop 1834\n",
          "output_type": "stream"
        },
        {
          "name": "stderr",
          "text": "\n\ntrain_loss=0.08 train_acc=0.97 test_loss=0.09 test_acc=0.97:  12%|█▏        | 1834/15000 [00:26<02:06, 104.12it/s]\u001b[A\u001b[A\n\ntrain_loss=0.08 train_acc=0.97 test_loss=0.09 test_acc=0.97:  18%|█▊        | 2751/15000 [00:26<01:56, 105.38it/s]\u001b[A\u001b[A",
          "output_type": "stream"
        },
        {
          "name": "stdout",
          "text": "hi while loop 2751\n",
          "output_type": "stream"
        },
        {
          "name": "stderr",
          "text": "\n\ntrain_loss=0.07 train_acc=0.98 test_loss=0.08 test_acc=0.97:  18%|█▊        | 2751/15000 [00:35<01:56, 105.38it/s]\u001b[A\u001b[A\n\ntrain_loss=0.07 train_acc=0.98 test_loss=0.08 test_acc=0.97:  24%|██▍       | 3668/15000 [00:35<01:48, 104.38it/s]\u001b[A\u001b[A",
          "output_type": "stream"
        },
        {
          "name": "stdout",
          "text": "hi while loop 3668\n",
          "output_type": "stream"
        },
        {
          "name": "stderr",
          "text": "\n\ntrain_loss=0.06 train_acc=0.98 test_loss=0.08 test_acc=0.98:  24%|██▍       | 3668/15000 [00:43<01:48, 104.38it/s]\u001b[A\u001b[A\n\ntrain_loss=0.06 train_acc=0.98 test_loss=0.08 test_acc=0.98:  31%|███       | 4585/15000 [00:43<01:39, 104.83it/s]\u001b[A\u001b[A",
          "output_type": "stream"
        },
        {
          "name": "stdout",
          "text": "hi while loop 4585\n",
          "output_type": "stream"
        },
        {
          "name": "stderr",
          "text": "\n\ntrain_loss=0.05 train_acc=0.98 test_loss=0.08 test_acc=0.98:  31%|███       | 4585/15000 [00:52<01:39, 104.83it/s]\u001b[A\u001b[A\n\ntrain_loss=0.05 train_acc=0.98 test_loss=0.08 test_acc=0.98:  37%|███▋      | 5502/15000 [00:52<01:30, 105.17it/s]\u001b[A\u001b[A",
          "output_type": "stream"
        },
        {
          "name": "stdout",
          "text": "hi while loop 5502\n",
          "output_type": "stream"
        },
        {
          "name": "stderr",
          "text": "\n\ntrain_loss=0.05 train_acc=0.98 test_loss=0.08 test_acc=0.98:  37%|███▋      | 5502/15000 [01:01<01:30, 105.17it/s]\u001b[A\u001b[A\n\ntrain_loss=0.05 train_acc=0.98 test_loss=0.08 test_acc=0.98:  43%|████▎     | 6419/15000 [01:01<01:21, 105.25it/s]\u001b[A\u001b[A",
          "output_type": "stream"
        },
        {
          "name": "stdout",
          "text": "hi while loop 6419\n",
          "output_type": "stream"
        },
        {
          "name": "stderr",
          "text": "\n\ntrain_loss=0.05 train_acc=0.99 test_loss=0.08 test_acc=0.97:  43%|████▎     | 6419/15000 [01:10<01:21, 105.25it/s]\u001b[A\u001b[A\n\ntrain_loss=0.05 train_acc=0.99 test_loss=0.08 test_acc=0.97:  49%|████▉     | 7336/15000 [01:10<01:13, 104.34it/s]\u001b[A\u001b[A",
          "output_type": "stream"
        },
        {
          "name": "stdout",
          "text": "hi while loop 7336\n",
          "output_type": "stream"
        },
        {
          "name": "stderr",
          "text": "\n\ntrain_loss=0.04 train_acc=0.99 test_loss=0.08 test_acc=0.98:  49%|████▉     | 7336/15000 [01:18<01:13, 104.34it/s]\u001b[A\u001b[A\n\ntrain_loss=0.04 train_acc=0.99 test_loss=0.08 test_acc=0.98:  55%|█████▌    | 8253/15000 [01:18<01:04, 104.58it/s]\u001b[A\u001b[A",
          "output_type": "stream"
        },
        {
          "name": "stdout",
          "text": "hi while loop 8253\n",
          "output_type": "stream"
        },
        {
          "name": "stderr",
          "text": "\n\ntrain_loss=0.04 train_acc=0.99 test_loss=0.08 test_acc=0.98:  55%|█████▌    | 8253/15000 [01:27<01:04, 104.58it/s]\u001b[A\u001b[A\n\ntrain_loss=0.04 train_acc=0.99 test_loss=0.08 test_acc=0.98:  61%|██████    | 9170/15000 [01:27<00:55, 104.66it/s]\u001b[A\u001b[A",
          "output_type": "stream"
        },
        {
          "name": "stdout",
          "text": "hi while loop 9170\n",
          "output_type": "stream"
        },
        {
          "name": "stderr",
          "text": "\n\ntrain_loss=0.04 train_acc=0.99 test_loss=0.08 test_acc=0.98:  61%|██████    | 9170/15000 [01:36<00:55, 104.66it/s]\u001b[A\u001b[A\n\ntrain_loss=0.04 train_acc=0.99 test_loss=0.08 test_acc=0.98:  67%|██████▋   | 10087/15000 [01:36<00:47, 104.01it/s]\u001b[A\u001b[A",
          "output_type": "stream"
        },
        {
          "name": "stdout",
          "text": "hi while loop 10087\n",
          "output_type": "stream"
        },
        {
          "name": "stderr",
          "text": "\n\ntrain_loss=0.04 train_acc=0.99 test_loss=0.08 test_acc=0.98:  67%|██████▋   | 10087/15000 [01:45<00:47, 104.01it/s]\u001b[A\u001b[A\n\ntrain_loss=0.04 train_acc=0.99 test_loss=0.08 test_acc=0.98:  73%|███████▎  | 11004/15000 [01:45<00:38, 104.50it/s]\u001b[A\u001b[A",
          "output_type": "stream"
        },
        {
          "name": "stdout",
          "text": "hi while loop 11004\n",
          "output_type": "stream"
        },
        {
          "name": "stderr",
          "text": "\n\ntrain_loss=0.03 train_acc=0.99 test_loss=0.08 test_acc=0.98:  73%|███████▎  | 11004/15000 [01:53<00:38, 104.50it/s]\u001b[A\u001b[A\n\ntrain_loss=0.03 train_acc=0.99 test_loss=0.08 test_acc=0.98:  79%|███████▉  | 11921/15000 [01:53<00:29, 104.42it/s]\u001b[A\u001b[A",
          "output_type": "stream"
        },
        {
          "name": "stdout",
          "text": "hi while loop 11921\n",
          "output_type": "stream"
        },
        {
          "name": "stderr",
          "text": "\n\ntrain_loss=0.03 train_acc=0.99 test_loss=0.08 test_acc=0.98:  79%|███████▉  | 11921/15000 [02:02<00:29, 104.42it/s]\u001b[A\u001b[A\n\ntrain_loss=0.03 train_acc=0.99 test_loss=0.08 test_acc=0.98:  86%|████████▌ | 12838/15000 [02:02<00:20, 105.05it/s]\u001b[A\u001b[A",
          "output_type": "stream"
        },
        {
          "name": "stdout",
          "text": "hi while loop 12838\n",
          "output_type": "stream"
        },
        {
          "name": "stderr",
          "text": "\n\ntrain_loss=0.03 train_acc=0.99 test_loss=0.08 test_acc=0.98:  86%|████████▌ | 12838/15000 [02:11<00:20, 105.05it/s]\u001b[A\u001b[A\n\ntrain_loss=0.03 train_acc=0.99 test_loss=0.08 test_acc=0.98:  92%|█████████▏| 13755/15000 [02:11<00:11, 104.37it/s]\u001b[A\u001b[A",
          "output_type": "stream"
        },
        {
          "name": "stdout",
          "text": "hi while loop 13755\n",
          "output_type": "stream"
        },
        {
          "name": "stderr",
          "text": "\n\ntrain_loss=0.03 train_acc=0.99 test_loss=0.09 test_acc=0.98:  92%|█████████▏| 13755/15000 [02:20<00:11, 104.37it/s]\u001b[A\u001b[A\n\ntrain_loss=0.03 train_acc=0.99 test_loss=0.09 test_acc=0.98:  98%|█████████▊| 14672/15000 [02:20<00:03, 104.73it/s]\u001b[A\u001b[A",
          "output_type": "stream"
        },
        {
          "name": "stdout",
          "text": "hi while loop 14672\n",
          "output_type": "stream"
        },
        {
          "name": "stderr",
          "text": "\n\ntrain_loss=0.02 train_acc=0.99 test_loss=0.09 test_acc=0.98:  98%|█████████▊| 14672/15000 [02:24<00:03, 104.73it/s]\u001b[A\u001b[A\n\ntrain_loss=0.02 train_acc=0.99 test_loss=0.09 test_acc=0.98: 100%|██████████| 15000/15000 [02:24<00:00, 99.20it/s] \u001b[A\u001b[A\n\n                                                                                                                  \u001b[A\u001b[A\n 86%|████████▌ | 6/7 [14:29<02:24, 144.83s/it]\u001b[A\n\n  0%|          | 0/15000 [00:00<?, ?it/s]\u001b[A\u001b[A",
          "output_type": "stream"
        },
        {
          "name": "stdout",
          "text": "hi while loop 0\n",
          "output_type": "stream"
        },
        {
          "name": "stderr",
          "text": "\n\ntrain_loss=2.01 train_acc=0.27 test_loss=1.33 test_acc=0.55:   0%|          | 0/15000 [00:08<?, ?it/s]\u001b[A\u001b[A\n\ntrain_loss=2.01 train_acc=0.27 test_loss=1.33 test_acc=0.55:   6%|▌         | 917/15000 [00:08<02:12, 106.37it/s]\u001b[A\u001b[A",
          "output_type": "stream"
        },
        {
          "name": "stdout",
          "text": "hi while loop 917\n",
          "output_type": "stream"
        },
        {
          "name": "stderr",
          "text": "\n\ntrain_loss=0.92 train_acc=0.71 test_loss=0.65 test_acc=0.80:   6%|▌         | 917/15000 [00:17<02:12, 106.37it/s]\u001b[A\u001b[A\n\ntrain_loss=0.92 train_acc=0.71 test_loss=0.65 test_acc=0.80:  12%|█▏        | 1834/15000 [00:17<02:07, 103.16it/s]\u001b[A\u001b[A",
          "output_type": "stream"
        },
        {
          "name": "stdout",
          "text": "hi while loop 1834\n",
          "output_type": "stream"
        },
        {
          "name": "stderr",
          "text": "\n\ntrain_loss=0.60 train_acc=0.82 test_loss=0.50 test_acc=0.85:  12%|█▏        | 1834/15000 [00:26<02:07, 103.16it/s]\u001b[A\u001b[A\n\ntrain_loss=0.60 train_acc=0.82 test_loss=0.50 test_acc=0.85:  18%|█▊        | 2751/15000 [00:26<01:57, 104.06it/s]\u001b[A\u001b[A",
          "output_type": "stream"
        },
        {
          "name": "stdout",
          "text": "hi while loop 2751\n",
          "output_type": "stream"
        },
        {
          "name": "stderr",
          "text": "\n\ntrain_loss=0.49 train_acc=0.85 test_loss=0.44 test_acc=0.86:  18%|█▊        | 2751/15000 [00:34<01:57, 104.06it/s]\u001b[A\u001b[A\n\ntrain_loss=0.49 train_acc=0.85 test_loss=0.44 test_acc=0.86:  24%|██▍       | 3668/15000 [00:34<01:47, 105.27it/s]\u001b[A\u001b[A",
          "output_type": "stream"
        },
        {
          "name": "stdout",
          "text": "hi while loop 3668\n",
          "output_type": "stream"
        },
        {
          "name": "stderr",
          "text": "\n\ntrain_loss=0.43 train_acc=0.87 test_loss=0.40 test_acc=0.88:  24%|██▍       | 3668/15000 [00:43<01:47, 105.27it/s]\u001b[A\u001b[A\n\ntrain_loss=0.43 train_acc=0.87 test_loss=0.40 test_acc=0.88:  31%|███       | 4585/15000 [00:43<01:38, 105.38it/s]\u001b[A\u001b[A",
          "output_type": "stream"
        },
        {
          "name": "stdout",
          "text": "hi while loop 4585\n",
          "output_type": "stream"
        },
        {
          "name": "stderr",
          "text": "\n\ntrain_loss=0.40 train_acc=0.88 test_loss=0.38 test_acc=0.88:  31%|███       | 4585/15000 [00:52<01:38, 105.38it/s]\u001b[A\u001b[A\n\ntrain_loss=0.40 train_acc=0.88 test_loss=0.38 test_acc=0.88:  37%|███▋      | 5502/15000 [00:52<01:31, 103.69it/s]\u001b[A\u001b[A",
          "output_type": "stream"
        },
        {
          "name": "stdout",
          "text": "hi while loop 5502\n",
          "output_type": "stream"
        },
        {
          "name": "stderr",
          "text": "\n\ntrain_loss=0.39 train_acc=0.88 test_loss=0.37 test_acc=0.89:  37%|███▋      | 5502/15000 [01:01<01:31, 103.69it/s]\u001b[A\u001b[A\n\ntrain_loss=0.39 train_acc=0.88 test_loss=0.37 test_acc=0.89:  43%|████▎     | 6419/15000 [01:01<01:22, 103.53it/s]\u001b[A\u001b[A",
          "output_type": "stream"
        },
        {
          "name": "stdout",
          "text": "hi while loop 6419\n",
          "output_type": "stream"
        },
        {
          "name": "stderr",
          "text": "\n\ntrain_loss=0.37 train_acc=0.89 test_loss=0.36 test_acc=0.89:  43%|████▎     | 6419/15000 [01:10<01:22, 103.53it/s]\u001b[A\u001b[A\n\ntrain_loss=0.37 train_acc=0.89 test_loss=0.36 test_acc=0.89:  49%|████▉     | 7336/15000 [01:10<01:13, 104.12it/s]\u001b[A\u001b[A",
          "output_type": "stream"
        },
        {
          "name": "stdout",
          "text": "hi while loop 7336\n",
          "output_type": "stream"
        },
        {
          "name": "stderr",
          "text": "\n\ntrain_loss=0.36 train_acc=0.89 test_loss=0.35 test_acc=0.89:  49%|████▉     | 7336/15000 [01:19<01:13, 104.12it/s]\u001b[A\u001b[A\n\ntrain_loss=0.36 train_acc=0.89 test_loss=0.35 test_acc=0.89:  55%|█████▌    | 8253/15000 [01:19<01:05, 103.51it/s]\u001b[A\u001b[A",
          "output_type": "stream"
        },
        {
          "name": "stdout",
          "text": "hi while loop 8253\n",
          "output_type": "stream"
        },
        {
          "name": "stderr",
          "text": "\n\ntrain_loss=0.36 train_acc=0.89 test_loss=0.35 test_acc=0.90:  55%|█████▌    | 8253/15000 [01:28<01:05, 103.51it/s]\u001b[A\u001b[A\n\ntrain_loss=0.36 train_acc=0.89 test_loss=0.35 test_acc=0.90:  61%|██████    | 9170/15000 [01:28<00:56, 103.71it/s]\u001b[A\u001b[A",
          "output_type": "stream"
        },
        {
          "name": "stdout",
          "text": "hi while loop 9170\n",
          "output_type": "stream"
        },
        {
          "name": "stderr",
          "text": "\n\ntrain_loss=0.36 train_acc=0.89 test_loss=0.35 test_acc=0.90:  61%|██████    | 9170/15000 [01:36<00:56, 103.71it/s]\u001b[A\u001b[A\n\ntrain_loss=0.36 train_acc=0.89 test_loss=0.35 test_acc=0.90:  67%|██████▋   | 10087/15000 [01:36<00:47, 104.35it/s]\u001b[A\u001b[A",
          "output_type": "stream"
        },
        {
          "name": "stdout",
          "text": "hi while loop 10087\n",
          "output_type": "stream"
        },
        {
          "name": "stderr",
          "text": "\n\ntrain_loss=0.35 train_acc=0.89 test_loss=0.34 test_acc=0.90:  67%|██████▋   | 10087/15000 [01:45<00:47, 104.35it/s]\u001b[A\u001b[A\n\ntrain_loss=0.35 train_acc=0.89 test_loss=0.34 test_acc=0.90:  73%|███████▎  | 11004/15000 [01:45<00:38, 104.81it/s]\u001b[A\u001b[A",
          "output_type": "stream"
        },
        {
          "name": "stdout",
          "text": "hi while loop 11004\n",
          "output_type": "stream"
        },
        {
          "name": "stderr",
          "text": "\n\ntrain_loss=0.35 train_acc=0.89 test_loss=0.34 test_acc=0.90:  73%|███████▎  | 11004/15000 [01:54<00:38, 104.81it/s]\u001b[A\u001b[A\n\ntrain_loss=0.35 train_acc=0.89 test_loss=0.34 test_acc=0.90:  79%|███████▉  | 11921/15000 [01:54<00:29, 103.70it/s]\u001b[A\u001b[A",
          "output_type": "stream"
        },
        {
          "name": "stdout",
          "text": "hi while loop 11921\n",
          "output_type": "stream"
        },
        {
          "name": "stderr",
          "text": "\n\ntrain_loss=0.35 train_acc=0.89 test_loss=0.34 test_acc=0.90:  79%|███████▉  | 11921/15000 [02:03<00:29, 103.70it/s]\u001b[A\u001b[A\n\ntrain_loss=0.35 train_acc=0.89 test_loss=0.34 test_acc=0.90:  86%|████████▌ | 12838/15000 [02:03<00:20, 103.98it/s]\u001b[A\u001b[A",
          "output_type": "stream"
        },
        {
          "name": "stdout",
          "text": "hi while loop 12838\n",
          "output_type": "stream"
        },
        {
          "name": "stderr",
          "text": "\n\ntrain_loss=0.35 train_acc=0.90 test_loss=0.34 test_acc=0.90:  86%|████████▌ | 12838/15000 [02:11<00:20, 103.98it/s]\u001b[A\u001b[A\n\ntrain_loss=0.35 train_acc=0.90 test_loss=0.34 test_acc=0.90:  92%|█████████▏| 13755/15000 [02:11<00:11, 104.66it/s]\u001b[A\u001b[A",
          "output_type": "stream"
        },
        {
          "name": "stdout",
          "text": "hi while loop 13755\n",
          "output_type": "stream"
        },
        {
          "name": "stderr",
          "text": "\n\ntrain_loss=0.34 train_acc=0.90 test_loss=0.34 test_acc=0.90:  92%|█████████▏| 13755/15000 [02:20<00:11, 104.66it/s]\u001b[A\u001b[A\n\ntrain_loss=0.34 train_acc=0.90 test_loss=0.34 test_acc=0.90:  98%|█████████▊| 14672/15000 [02:20<00:03, 104.69it/s]\u001b[A\u001b[A",
          "output_type": "stream"
        },
        {
          "name": "stdout",
          "text": "hi while loop 14672\n",
          "output_type": "stream"
        },
        {
          "name": "stderr",
          "text": "\n\ntrain_loss=0.34 train_acc=0.90 test_loss=0.34 test_acc=0.90:  98%|█████████▊| 14672/15000 [02:25<00:03, 104.69it/s]\u001b[A\u001b[A\n\ntrain_loss=0.34 train_acc=0.90 test_loss=0.34 test_acc=0.90: 100%|██████████| 15000/15000 [02:25<00:00, 97.90it/s] \u001b[A\u001b[A\n\n                                                                                                                  \u001b[A\u001b[A\n100%|██████████| 7/7 [16:54<00:00, 145.03s/it]\u001b[A\n 80%|████████  | 4/5 [1:08:17<17:01, 1021.99s/it]",
          "output_type": "stream"
        },
        {
          "name": "stdout",
          "text": "3\nhi\n",
          "output_type": "stream"
        },
        {
          "name": "stderr",
          "text": "\n  0%|          | 0/7 [00:00<?, ?it/s]\u001b[A\n\n  0%|          | 0/15000 [00:00<?, ?it/s]\u001b[A\u001b[A",
          "output_type": "stream"
        },
        {
          "name": "stdout",
          "text": "hi while loop 0\n",
          "output_type": "stream"
        },
        {
          "name": "stderr",
          "text": "\n\ntrain_loss=0.22 train_acc=0.93 test_loss=0.11 test_acc=0.97:   0%|          | 0/15000 [00:08<?, ?it/s]\u001b[A\u001b[A\n\ntrain_loss=0.22 train_acc=0.93 test_loss=0.11 test_acc=0.97:   6%|▌         | 917/15000 [00:08<02:12, 105.89it/s]\u001b[A\u001b[A",
          "output_type": "stream"
        },
        {
          "name": "stdout",
          "text": "hi while loop 917\n",
          "output_type": "stream"
        },
        {
          "name": "stderr",
          "text": "\n\ntrain_loss=0.10 train_acc=0.97 test_loss=0.09 test_acc=0.97:   6%|▌         | 917/15000 [00:17<02:12, 105.89it/s]\u001b[A\u001b[A\n\ntrain_loss=0.10 train_acc=0.97 test_loss=0.09 test_acc=0.97:  12%|█▏        | 1834/15000 [00:17<02:02, 107.65it/s]\u001b[A\u001b[A",
          "output_type": "stream"
        },
        {
          "name": "stdout",
          "text": "hi while loop 1834\n",
          "output_type": "stream"
        },
        {
          "name": "stderr",
          "text": "\n\ntrain_loss=0.07 train_acc=0.98 test_loss=0.07 test_acc=0.98:  12%|█▏        | 1834/15000 [00:25<02:02, 107.65it/s]\u001b[A\u001b[A\n\ntrain_loss=0.07 train_acc=0.98 test_loss=0.07 test_acc=0.98:  18%|█▊        | 2751/15000 [00:25<01:55, 106.48it/s]\u001b[A\u001b[A",
          "output_type": "stream"
        },
        {
          "name": "stdout",
          "text": "hi while loop 2751\n",
          "output_type": "stream"
        },
        {
          "name": "stderr",
          "text": "\n\ntrain_loss=0.05 train_acc=0.98 test_loss=0.09 test_acc=0.97:  18%|█▊        | 2751/15000 [00:35<01:55, 106.48it/s]\u001b[A\u001b[A\n\ntrain_loss=0.05 train_acc=0.98 test_loss=0.09 test_acc=0.97:  24%|██▍       | 3668/15000 [00:35<01:49, 103.64it/s]\u001b[A\u001b[A",
          "output_type": "stream"
        },
        {
          "name": "stdout",
          "text": "hi while loop 3668\n",
          "output_type": "stream"
        },
        {
          "name": "stderr",
          "text": "\n\ntrain_loss=0.04 train_acc=0.99 test_loss=0.09 test_acc=0.98:  24%|██▍       | 3668/15000 [00:43<01:49, 103.64it/s]\u001b[A\u001b[A\n\ntrain_loss=0.04 train_acc=0.99 test_loss=0.09 test_acc=0.98:  31%|███       | 4585/15000 [00:43<01:39, 104.88it/s]\u001b[A\u001b[A",
          "output_type": "stream"
        },
        {
          "name": "stdout",
          "text": "hi while loop 4585\n",
          "output_type": "stream"
        },
        {
          "name": "stderr",
          "text": "\n\ntrain_loss=0.04 train_acc=0.99 test_loss=0.08 test_acc=0.98:  31%|███       | 4585/15000 [00:52<01:39, 104.88it/s]\u001b[A\u001b[A\n\ntrain_loss=0.04 train_acc=0.99 test_loss=0.08 test_acc=0.98:  37%|███▋      | 5502/15000 [00:52<01:30, 105.42it/s]\u001b[A\u001b[A",
          "output_type": "stream"
        },
        {
          "name": "stdout",
          "text": "hi while loop 5502\n",
          "output_type": "stream"
        },
        {
          "name": "stderr",
          "text": "\n\ntrain_loss=0.03 train_acc=0.99 test_loss=0.09 test_acc=0.98:  37%|███▋      | 5502/15000 [01:01<01:30, 105.42it/s]\u001b[A\u001b[A\n\ntrain_loss=0.03 train_acc=0.99 test_loss=0.09 test_acc=0.98:  43%|████▎     | 6419/15000 [01:01<01:22, 104.20it/s]\u001b[A\u001b[A",
          "output_type": "stream"
        },
        {
          "name": "stdout",
          "text": "hi while loop 6419\n",
          "output_type": "stream"
        },
        {
          "name": "stderr",
          "text": "\n\ntrain_loss=0.03 train_acc=0.99 test_loss=0.10 test_acc=0.97:  43%|████▎     | 6419/15000 [01:09<01:22, 104.20it/s]\u001b[A\u001b[A\n\ntrain_loss=0.03 train_acc=0.99 test_loss=0.10 test_acc=0.97:  49%|████▉     | 7336/15000 [01:09<01:13, 104.95it/s]\u001b[A\u001b[A",
          "output_type": "stream"
        },
        {
          "name": "stdout",
          "text": "hi while loop 7336\n",
          "output_type": "stream"
        },
        {
          "name": "stderr",
          "text": "\n\ntrain_loss=0.03 train_acc=0.99 test_loss=0.10 test_acc=0.98:  49%|████▉     | 7336/15000 [01:18<01:13, 104.95it/s]\u001b[A\u001b[A\n\ntrain_loss=0.03 train_acc=0.99 test_loss=0.10 test_acc=0.98:  55%|█████▌    | 8253/15000 [01:18<01:03, 105.65it/s]\u001b[A\u001b[A",
          "output_type": "stream"
        },
        {
          "name": "stdout",
          "text": "hi while loop 8253\n",
          "output_type": "stream"
        },
        {
          "name": "stderr",
          "text": "\n\ntrain_loss=0.02 train_acc=0.99 test_loss=0.10 test_acc=0.98:  55%|█████▌    | 8253/15000 [01:26<01:03, 105.65it/s]\u001b[A\u001b[A\n\ntrain_loss=0.02 train_acc=0.99 test_loss=0.10 test_acc=0.98:  61%|██████    | 9170/15000 [01:26<00:55, 105.90it/s]\u001b[A\u001b[A",
          "output_type": "stream"
        },
        {
          "name": "stdout",
          "text": "hi while loop 9170\n",
          "output_type": "stream"
        },
        {
          "name": "stderr",
          "text": "\n\ntrain_loss=0.02 train_acc=0.99 test_loss=0.11 test_acc=0.98:  61%|██████    | 9170/15000 [01:35<00:55, 105.90it/s]\u001b[A\u001b[A\n\ntrain_loss=0.02 train_acc=0.99 test_loss=0.11 test_acc=0.98:  67%|██████▋   | 10087/15000 [01:35<00:46, 104.71it/s]\u001b[A\u001b[A",
          "output_type": "stream"
        },
        {
          "name": "stdout",
          "text": "hi while loop 10087\n",
          "output_type": "stream"
        },
        {
          "name": "stderr",
          "text": "\n\ntrain_loss=0.02 train_acc=0.99 test_loss=0.09 test_acc=0.98:  67%|██████▋   | 10087/15000 [01:44<00:46, 104.71it/s]\u001b[A\u001b[A\n\ntrain_loss=0.02 train_acc=0.99 test_loss=0.09 test_acc=0.98:  73%|███████▎  | 11004/15000 [01:44<00:37, 105.22it/s]\u001b[A\u001b[A",
          "output_type": "stream"
        },
        {
          "name": "stdout",
          "text": "hi while loop 11004\n",
          "output_type": "stream"
        },
        {
          "name": "stderr",
          "text": "\n\ntrain_loss=0.02 train_acc=0.99 test_loss=0.11 test_acc=0.98:  73%|███████▎  | 11004/15000 [01:53<00:37, 105.22it/s]\u001b[A\u001b[A\n\ntrain_loss=0.02 train_acc=0.99 test_loss=0.11 test_acc=0.98:  79%|███████▉  | 11921/15000 [01:53<00:29, 105.54it/s]\u001b[A\u001b[A",
          "output_type": "stream"
        },
        {
          "name": "stdout",
          "text": "hi while loop 11921\n",
          "output_type": "stream"
        },
        {
          "name": "stderr",
          "text": "\n\ntrain_loss=0.02 train_acc=0.99 test_loss=0.11 test_acc=0.98:  79%|███████▉  | 11921/15000 [02:01<00:29, 105.54it/s]\u001b[A\u001b[A\n\ntrain_loss=0.02 train_acc=0.99 test_loss=0.11 test_acc=0.98:  86%|████████▌ | 12838/15000 [02:01<00:20, 106.19it/s]\u001b[A\u001b[A",
          "output_type": "stream"
        },
        {
          "name": "stdout",
          "text": "hi while loop 12838\n",
          "output_type": "stream"
        },
        {
          "name": "stderr",
          "text": "\n\ntrain_loss=0.02 train_acc=0.99 test_loss=0.13 test_acc=0.98:  86%|████████▌ | 12838/15000 [02:10<00:20, 106.19it/s]\u001b[A\u001b[A\n\ntrain_loss=0.02 train_acc=0.99 test_loss=0.13 test_acc=0.98:  92%|█████████▏| 13755/15000 [02:10<00:11, 105.20it/s]\u001b[A\u001b[A",
          "output_type": "stream"
        },
        {
          "name": "stdout",
          "text": "hi while loop 13755\n",
          "output_type": "stream"
        },
        {
          "name": "stderr",
          "text": "\n\ntrain_loss=0.01 train_acc=1.00 test_loss=0.10 test_acc=0.98:  92%|█████████▏| 13755/15000 [02:19<00:11, 105.20it/s]\u001b[A\u001b[A\n\ntrain_loss=0.01 train_acc=1.00 test_loss=0.10 test_acc=0.98:  98%|█████████▊| 14672/15000 [02:19<00:03, 105.54it/s]\u001b[A\u001b[A",
          "output_type": "stream"
        },
        {
          "name": "stdout",
          "text": "hi while loop 14672\n",
          "output_type": "stream"
        },
        {
          "name": "stderr",
          "text": "\n\ntrain_loss=0.01 train_acc=1.00 test_loss=0.13 test_acc=0.98:  98%|█████████▊| 14672/15000 [02:23<00:03, 105.54it/s]\u001b[A\u001b[A\n\ntrain_loss=0.01 train_acc=1.00 test_loss=0.13 test_acc=0.98: 100%|██████████| 15000/15000 [02:23<00:00, 99.91it/s] \u001b[A\u001b[A\n\n                                                                                                                  \u001b[A\u001b[A\n 14%|█▍        | 1/7 [02:23<14:21, 143.66s/it]\u001b[A\n\n  0%|          | 0/15000 [00:00<?, ?it/s]\u001b[A\u001b[A",
          "output_type": "stream"
        },
        {
          "name": "stdout",
          "text": "hi while loop 0\n",
          "output_type": "stream"
        },
        {
          "name": "stderr",
          "text": "\n\ntrain_loss=0.20 train_acc=0.94 test_loss=0.12 test_acc=0.96:   0%|          | 0/15000 [00:08<?, ?it/s]\u001b[A\u001b[A\n\ntrain_loss=0.20 train_acc=0.94 test_loss=0.12 test_acc=0.96:   6%|▌         | 917/15000 [00:08<02:13, 105.64it/s]\u001b[A\u001b[A",
          "output_type": "stream"
        },
        {
          "name": "stdout",
          "text": "hi while loop 917\n",
          "output_type": "stream"
        },
        {
          "name": "stderr",
          "text": "\n\ntrain_loss=0.08 train_acc=0.98 test_loss=0.08 test_acc=0.98:   6%|▌         | 917/15000 [00:17<02:13, 105.64it/s]\u001b[A\u001b[A\n\ntrain_loss=0.08 train_acc=0.98 test_loss=0.08 test_acc=0.98:  12%|█▏        | 1834/15000 [00:17<02:07, 102.94it/s]\u001b[A\u001b[A",
          "output_type": "stream"
        },
        {
          "name": "stdout",
          "text": "hi while loop 1834\n",
          "output_type": "stream"
        },
        {
          "name": "stderr",
          "text": "\n\ntrain_loss=0.05 train_acc=0.98 test_loss=0.08 test_acc=0.98:  12%|█▏        | 1834/15000 [00:26<02:07, 102.94it/s]\u001b[A\u001b[A\n\ntrain_loss=0.05 train_acc=0.98 test_loss=0.08 test_acc=0.98:  18%|█▊        | 2751/15000 [00:26<01:57, 104.50it/s]\u001b[A\u001b[A",
          "output_type": "stream"
        },
        {
          "name": "stdout",
          "text": "hi while loop 2751\n",
          "output_type": "stream"
        },
        {
          "name": "stderr",
          "text": "\n\ntrain_loss=0.04 train_acc=0.99 test_loss=0.08 test_acc=0.97:  18%|█▊        | 2751/15000 [00:35<01:57, 104.50it/s]\u001b[A\u001b[A\n\ntrain_loss=0.04 train_acc=0.99 test_loss=0.08 test_acc=0.97:  24%|██▍       | 3668/15000 [00:35<01:48, 104.80it/s]\u001b[A\u001b[A",
          "output_type": "stream"
        },
        {
          "name": "stdout",
          "text": "hi while loop 3668\n",
          "output_type": "stream"
        },
        {
          "name": "stderr",
          "text": "\n\ntrain_loss=0.03 train_acc=0.99 test_loss=0.08 test_acc=0.98:  24%|██▍       | 3668/15000 [00:44<01:48, 104.80it/s]\u001b[A\u001b[A\n\ntrain_loss=0.03 train_acc=0.99 test_loss=0.08 test_acc=0.98:  31%|███       | 4585/15000 [00:44<01:41, 103.02it/s]\u001b[A\u001b[A",
          "output_type": "stream"
        },
        {
          "name": "stdout",
          "text": "hi while loop 4585\n",
          "output_type": "stream"
        },
        {
          "name": "stderr",
          "text": "\n\ntrain_loss=0.03 train_acc=0.99 test_loss=0.09 test_acc=0.98:  31%|███       | 4585/15000 [00:52<01:41, 103.02it/s]\u001b[A\u001b[A\n\ntrain_loss=0.03 train_acc=0.99 test_loss=0.09 test_acc=0.98:  37%|███▋      | 5502/15000 [00:52<01:31, 104.14it/s]\u001b[A\u001b[A",
          "output_type": "stream"
        },
        {
          "name": "stdout",
          "text": "hi while loop 5502\n",
          "output_type": "stream"
        },
        {
          "name": "stderr",
          "text": "\n\ntrain_loss=0.02 train_acc=0.99 test_loss=0.09 test_acc=0.98:  37%|███▋      | 5502/15000 [01:01<01:31, 104.14it/s]\u001b[A\u001b[A\n\ntrain_loss=0.02 train_acc=0.99 test_loss=0.09 test_acc=0.98:  43%|████▎     | 6419/15000 [01:01<01:22, 104.60it/s]\u001b[A\u001b[A",
          "output_type": "stream"
        },
        {
          "name": "stdout",
          "text": "hi while loop 6419\n",
          "output_type": "stream"
        },
        {
          "name": "stderr",
          "text": "\n\ntrain_loss=0.02 train_acc=0.99 test_loss=0.09 test_acc=0.98:  43%|████▎     | 6419/15000 [01:10<01:22, 104.60it/s]\u001b[A\u001b[A\n\ntrain_loss=0.02 train_acc=0.99 test_loss=0.09 test_acc=0.98:  49%|████▉     | 7336/15000 [01:10<01:12, 105.13it/s]\u001b[A\u001b[A",
          "output_type": "stream"
        },
        {
          "name": "stdout",
          "text": "hi while loop 7336\n",
          "output_type": "stream"
        },
        {
          "name": "stderr",
          "text": "\n\ntrain_loss=0.02 train_acc=0.99 test_loss=0.09 test_acc=0.98:  49%|████▉     | 7336/15000 [01:19<01:12, 105.13it/s]\u001b[A\u001b[A\n\ntrain_loss=0.02 train_acc=0.99 test_loss=0.09 test_acc=0.98:  55%|█████▌    | 8253/15000 [01:19<01:04, 104.08it/s]\u001b[A\u001b[A",
          "output_type": "stream"
        },
        {
          "name": "stdout",
          "text": "hi while loop 8253\n",
          "output_type": "stream"
        },
        {
          "name": "stderr",
          "text": "\n\ntrain_loss=0.02 train_acc=0.99 test_loss=0.10 test_acc=0.98:  55%|█████▌    | 8253/15000 [01:27<01:04, 104.08it/s]\u001b[A\u001b[A\n\ntrain_loss=0.02 train_acc=0.99 test_loss=0.10 test_acc=0.98:  61%|██████    | 9170/15000 [01:27<00:55, 104.61it/s]\u001b[A\u001b[A",
          "output_type": "stream"
        },
        {
          "name": "stdout",
          "text": "hi while loop 9170\n",
          "output_type": "stream"
        },
        {
          "name": "stderr",
          "text": "\n\ntrain_loss=0.02 train_acc=0.99 test_loss=0.11 test_acc=0.98:  61%|██████    | 9170/15000 [01:36<00:55, 104.61it/s]\u001b[A\u001b[A\n\ntrain_loss=0.02 train_acc=0.99 test_loss=0.11 test_acc=0.98:  67%|██████▋   | 10087/15000 [01:36<00:46, 104.86it/s]\u001b[A\u001b[A",
          "output_type": "stream"
        },
        {
          "name": "stdout",
          "text": "hi while loop 10087\n",
          "output_type": "stream"
        },
        {
          "name": "stderr",
          "text": "\n\ntrain_loss=0.02 train_acc=1.00 test_loss=0.10 test_acc=0.98:  67%|██████▋   | 10087/15000 [01:45<00:46, 104.86it/s]\u001b[A\u001b[A\n\ntrain_loss=0.02 train_acc=1.00 test_loss=0.10 test_acc=0.98:  73%|███████▎  | 11004/15000 [01:45<00:38, 104.92it/s]\u001b[A\u001b[A",
          "output_type": "stream"
        },
        {
          "name": "stdout",
          "text": "hi while loop 11004\n",
          "output_type": "stream"
        },
        {
          "name": "stderr",
          "text": "\n\ntrain_loss=0.01 train_acc=1.00 test_loss=0.10 test_acc=0.98:  73%|███████▎  | 11004/15000 [01:54<00:38, 104.92it/s]\u001b[A\u001b[A\n\ntrain_loss=0.01 train_acc=1.00 test_loss=0.10 test_acc=0.98:  79%|███████▉  | 11921/15000 [01:54<00:29, 104.05it/s]\u001b[A\u001b[A",
          "output_type": "stream"
        },
        {
          "name": "stdout",
          "text": "hi while loop 11921\n",
          "output_type": "stream"
        },
        {
          "name": "stderr",
          "text": "\n\ntrain_loss=0.01 train_acc=1.00 test_loss=0.11 test_acc=0.98:  79%|███████▉  | 11921/15000 [02:02<00:29, 104.05it/s]\u001b[A\u001b[A\n\ntrain_loss=0.01 train_acc=1.00 test_loss=0.11 test_acc=0.98:  86%|████████▌ | 12838/15000 [02:02<00:20, 104.70it/s]\u001b[A\u001b[A",
          "output_type": "stream"
        },
        {
          "name": "stdout",
          "text": "hi while loop 12838\n",
          "output_type": "stream"
        },
        {
          "name": "stderr",
          "text": "\n\ntrain_loss=0.01 train_acc=1.00 test_loss=0.13 test_acc=0.98:  86%|████████▌ | 12838/15000 [02:11<00:20, 104.70it/s]\u001b[A\u001b[A\n\ntrain_loss=0.01 train_acc=1.00 test_loss=0.13 test_acc=0.98:  92%|█████████▏| 13755/15000 [02:11<00:11, 104.46it/s]\u001b[A\u001b[A",
          "output_type": "stream"
        },
        {
          "name": "stdout",
          "text": "hi while loop 13755\n",
          "output_type": "stream"
        },
        {
          "name": "stderr",
          "text": "\n\ntrain_loss=0.01 train_acc=1.00 test_loss=0.14 test_acc=0.98:  92%|█████████▏| 13755/15000 [02:20<00:11, 104.46it/s]\u001b[A\u001b[A\n\ntrain_loss=0.01 train_acc=1.00 test_loss=0.14 test_acc=0.98:  98%|█████████▊| 14672/15000 [02:20<00:03, 103.19it/s]\u001b[A\u001b[A",
          "output_type": "stream"
        },
        {
          "name": "stdout",
          "text": "hi while loop 14672\n",
          "output_type": "stream"
        },
        {
          "name": "stderr",
          "text": "\n\ntrain_loss=0.01 train_acc=1.00 test_loss=0.10 test_acc=0.98:  98%|█████████▊| 14672/15000 [02:25<00:03, 103.19it/s]\u001b[A\u001b[A\n\ntrain_loss=0.01 train_acc=1.00 test_loss=0.10 test_acc=0.98: 100%|██████████| 15000/15000 [02:25<00:00, 98.02it/s] \u001b[A\u001b[A\n\n                                                                                                                  \u001b[A\u001b[A\n 29%|██▊       | 2/7 [04:48<12:03, 144.63s/it]\u001b[A\n\n  0%|          | 0/15000 [00:00<?, ?it/s]\u001b[A\u001b[A",
          "output_type": "stream"
        },
        {
          "name": "stdout",
          "text": "hi while loop 0\n",
          "output_type": "stream"
        },
        {
          "name": "stderr",
          "text": "\n\ntrain_loss=0.21 train_acc=0.94 test_loss=0.08 test_acc=0.97:   0%|          | 0/15000 [00:08<?, ?it/s]\u001b[A\u001b[A\n\ntrain_loss=0.21 train_acc=0.94 test_loss=0.08 test_acc=0.97:   6%|▌         | 917/15000 [00:08<02:13, 105.15it/s]\u001b[A\u001b[A",
          "output_type": "stream"
        },
        {
          "name": "stdout",
          "text": "hi while loop 917\n",
          "output_type": "stream"
        },
        {
          "name": "stderr",
          "text": "\n\ntrain_loss=0.07 train_acc=0.98 test_loss=0.08 test_acc=0.97:   6%|▌         | 917/15000 [00:17<02:13, 105.15it/s]\u001b[A\u001b[A\n\ntrain_loss=0.07 train_acc=0.98 test_loss=0.08 test_acc=0.97:  12%|█▏        | 1834/15000 [00:17<02:04, 106.08it/s]\u001b[A\u001b[A",
          "output_type": "stream"
        },
        {
          "name": "stdout",
          "text": "hi while loop 1834\n",
          "output_type": "stream"
        },
        {
          "name": "stderr",
          "text": "\n\ntrain_loss=0.05 train_acc=0.98 test_loss=0.08 test_acc=0.97:  12%|█▏        | 1834/15000 [00:26<02:04, 106.08it/s]\u001b[A\u001b[A\n\ntrain_loss=0.05 train_acc=0.98 test_loss=0.08 test_acc=0.97:  18%|█▊        | 2751/15000 [00:26<01:58, 103.52it/s]\u001b[A\u001b[A",
          "output_type": "stream"
        },
        {
          "name": "stdout",
          "text": "hi while loop 2751\n",
          "output_type": "stream"
        },
        {
          "name": "stderr",
          "text": "\n\ntrain_loss=0.03 train_acc=0.99 test_loss=0.07 test_acc=0.98:  18%|█▊        | 2751/15000 [00:35<01:58, 103.52it/s]\u001b[A\u001b[A\n\ntrain_loss=0.03 train_acc=0.99 test_loss=0.07 test_acc=0.98:  24%|██▍       | 3668/15000 [00:35<01:48, 104.65it/s]\u001b[A\u001b[A",
          "output_type": "stream"
        },
        {
          "name": "stdout",
          "text": "hi while loop 3668\n",
          "output_type": "stream"
        },
        {
          "name": "stderr",
          "text": "\n\ntrain_loss=0.03 train_acc=0.99 test_loss=0.08 test_acc=0.98:  24%|██▍       | 3668/15000 [00:43<01:48, 104.65it/s]\u001b[A\u001b[A\n\ntrain_loss=0.03 train_acc=0.99 test_loss=0.08 test_acc=0.98:  31%|███       | 4585/15000 [00:43<01:39, 104.74it/s]\u001b[A\u001b[A",
          "output_type": "stream"
        },
        {
          "name": "stdout",
          "text": "hi while loop 4585\n",
          "output_type": "stream"
        },
        {
          "name": "stderr",
          "text": "\n\ntrain_loss=0.02 train_acc=0.99 test_loss=0.09 test_acc=0.98:  31%|███       | 4585/15000 [00:52<01:39, 104.74it/s]\u001b[A\u001b[A\n\ntrain_loss=0.02 train_acc=0.99 test_loss=0.09 test_acc=0.98:  37%|███▋      | 5502/15000 [00:52<01:29, 105.54it/s]\u001b[A\u001b[A",
          "output_type": "stream"
        },
        {
          "name": "stdout",
          "text": "hi while loop 5502\n",
          "output_type": "stream"
        },
        {
          "name": "stderr",
          "text": "\n\ntrain_loss=0.02 train_acc=0.99 test_loss=0.09 test_acc=0.98:  37%|███▋      | 5502/15000 [01:01<01:29, 105.54it/s]\u001b[A\u001b[A\n\ntrain_loss=0.02 train_acc=0.99 test_loss=0.09 test_acc=0.98:  43%|████▎     | 6419/15000 [01:01<01:22, 104.41it/s]\u001b[A\u001b[A",
          "output_type": "stream"
        },
        {
          "name": "stdout",
          "text": "hi while loop 6419\n",
          "output_type": "stream"
        },
        {
          "name": "stderr",
          "text": "\n\ntrain_loss=0.01 train_acc=1.00 test_loss=0.09 test_acc=0.98:  43%|████▎     | 6419/15000 [01:10<01:22, 104.41it/s]\u001b[A\u001b[A\n\ntrain_loss=0.01 train_acc=1.00 test_loss=0.09 test_acc=0.98:  49%|████▉     | 7336/15000 [01:10<01:13, 104.60it/s]\u001b[A\u001b[A",
          "output_type": "stream"
        },
        {
          "name": "stdout",
          "text": "hi while loop 7336\n",
          "output_type": "stream"
        },
        {
          "name": "stderr",
          "text": "\n\ntrain_loss=0.01 train_acc=1.00 test_loss=0.10 test_acc=0.98:  49%|████▉     | 7336/15000 [01:18<01:13, 104.60it/s]\u001b[A\u001b[A\n\ntrain_loss=0.01 train_acc=1.00 test_loss=0.10 test_acc=0.98:  55%|█████▌    | 8253/15000 [01:18<01:04, 104.82it/s]\u001b[A\u001b[A",
          "output_type": "stream"
        },
        {
          "name": "stdout",
          "text": "hi while loop 8253\n",
          "output_type": "stream"
        },
        {
          "name": "stderr",
          "text": "\n\ntrain_loss=0.02 train_acc=0.99 test_loss=0.12 test_acc=0.98:  55%|█████▌    | 8253/15000 [01:27<01:04, 104.82it/s]\u001b[A\u001b[A\n\ntrain_loss=0.02 train_acc=0.99 test_loss=0.12 test_acc=0.98:  61%|██████    | 9170/15000 [01:27<00:55, 104.96it/s]\u001b[A\u001b[A",
          "output_type": "stream"
        },
        {
          "name": "stdout",
          "text": "hi while loop 9170\n",
          "output_type": "stream"
        },
        {
          "name": "stderr",
          "text": "\n\ntrain_loss=0.01 train_acc=1.00 test_loss=0.10 test_acc=0.98:  61%|██████    | 9170/15000 [01:36<00:55, 104.96it/s]\u001b[A\u001b[A\n\ntrain_loss=0.01 train_acc=1.00 test_loss=0.10 test_acc=0.98:  67%|██████▋   | 10087/15000 [01:36<00:47, 104.22it/s]\u001b[A\u001b[A",
          "output_type": "stream"
        },
        {
          "name": "stdout",
          "text": "hi while loop 10087\n",
          "output_type": "stream"
        },
        {
          "name": "stderr",
          "text": "\n\ntrain_loss=0.01 train_acc=1.00 test_loss=0.12 test_acc=0.98:  67%|██████▋   | 10087/15000 [01:45<00:47, 104.22it/s]\u001b[A\u001b[A\n\ntrain_loss=0.01 train_acc=1.00 test_loss=0.12 test_acc=0.98:  73%|███████▎  | 11004/15000 [01:45<00:38, 104.18it/s]\u001b[A\u001b[A",
          "output_type": "stream"
        },
        {
          "name": "stdout",
          "text": "hi while loop 11004\n",
          "output_type": "stream"
        },
        {
          "name": "stderr",
          "text": "\n\ntrain_loss=0.01 train_acc=1.00 test_loss=0.11 test_acc=0.98:  73%|███████▎  | 11004/15000 [01:53<00:38, 104.18it/s]\u001b[A\u001b[A\n\ntrain_loss=0.01 train_acc=1.00 test_loss=0.11 test_acc=0.98:  79%|███████▉  | 11921/15000 [01:53<00:29, 104.61it/s]\u001b[A\u001b[A",
          "output_type": "stream"
        },
        {
          "name": "stdout",
          "text": "hi while loop 11921\n",
          "output_type": "stream"
        },
        {
          "name": "stderr",
          "text": "\n\ntrain_loss=0.01 train_acc=1.00 test_loss=0.11 test_acc=0.98:  79%|███████▉  | 11921/15000 [02:02<00:29, 104.61it/s]\u001b[A\u001b[A\n\ntrain_loss=0.01 train_acc=1.00 test_loss=0.11 test_acc=0.98:  86%|████████▌ | 12838/15000 [02:02<00:20, 103.55it/s]\u001b[A\u001b[A",
          "output_type": "stream"
        },
        {
          "name": "stdout",
          "text": "hi while loop 12838\n",
          "output_type": "stream"
        },
        {
          "name": "stderr",
          "text": "\n\ntrain_loss=0.01 train_acc=1.00 test_loss=0.14 test_acc=0.98:  86%|████████▌ | 12838/15000 [02:11<00:20, 103.55it/s]\u001b[A\u001b[A\n\ntrain_loss=0.01 train_acc=1.00 test_loss=0.14 test_acc=0.98:  92%|█████████▏| 13755/15000 [02:11<00:11, 104.15it/s]\u001b[A\u001b[A",
          "output_type": "stream"
        },
        {
          "name": "stdout",
          "text": "hi while loop 13755\n",
          "output_type": "stream"
        },
        {
          "name": "stderr",
          "text": "\n\ntrain_loss=0.01 train_acc=1.00 test_loss=0.12 test_acc=0.98:  92%|█████████▏| 13755/15000 [02:20<00:11, 104.15it/s]\u001b[A\u001b[A\n\ntrain_loss=0.01 train_acc=1.00 test_loss=0.12 test_acc=0.98:  98%|█████████▊| 14672/15000 [02:20<00:03, 104.61it/s]\u001b[A\u001b[A",
          "output_type": "stream"
        },
        {
          "name": "stdout",
          "text": "hi while loop 14672\n",
          "output_type": "stream"
        },
        {
          "name": "stderr",
          "text": "\n\ntrain_loss=0.01 train_acc=1.00 test_loss=0.12 test_acc=0.98:  98%|█████████▊| 14672/15000 [02:24<00:03, 104.61it/s]\u001b[A\u001b[A\n\ntrain_loss=0.01 train_acc=1.00 test_loss=0.12 test_acc=0.98: 100%|██████████| 15000/15000 [02:24<00:00, 99.35it/s] \u001b[A\u001b[A\n\n                                                                                                                  \u001b[A\u001b[A\n 43%|████▎     | 3/7 [07:13<09:38, 144.67s/it]\u001b[A\n\n  0%|          | 0/15000 [00:00<?, ?it/s]\u001b[A\u001b[A",
          "output_type": "stream"
        },
        {
          "name": "stdout",
          "text": "hi while loop 0\n",
          "output_type": "stream"
        },
        {
          "name": "stderr",
          "text": "\n\ntrain_loss=0.21 train_acc=0.94 test_loss=0.08 test_acc=0.97:   0%|          | 0/15000 [00:08<?, ?it/s]\u001b[A\u001b[A\n\ntrain_loss=0.21 train_acc=0.94 test_loss=0.08 test_acc=0.97:   6%|▌         | 917/15000 [00:08<02:17, 102.28it/s]\u001b[A\u001b[A",
          "output_type": "stream"
        },
        {
          "name": "stdout",
          "text": "hi while loop 917\n",
          "output_type": "stream"
        },
        {
          "name": "stderr",
          "text": "\n\ntrain_loss=0.06 train_acc=0.98 test_loss=0.07 test_acc=0.98:   6%|▌         | 917/15000 [00:17<02:17, 102.28it/s]\u001b[A\u001b[A\n\ntrain_loss=0.06 train_acc=0.98 test_loss=0.07 test_acc=0.98:  12%|█▏        | 1834/15000 [00:17<02:06, 104.34it/s]\u001b[A\u001b[A",
          "output_type": "stream"
        },
        {
          "name": "stdout",
          "text": "hi while loop 1834\n",
          "output_type": "stream"
        },
        {
          "name": "stderr",
          "text": "\n\ntrain_loss=0.03 train_acc=0.99 test_loss=0.07 test_acc=0.98:  12%|█▏        | 1834/15000 [00:26<02:06, 104.34it/s]\u001b[A\u001b[A\n\ntrain_loss=0.03 train_acc=0.99 test_loss=0.07 test_acc=0.98:  18%|█▊        | 2751/15000 [00:26<01:57, 104.64it/s]\u001b[A\u001b[A",
          "output_type": "stream"
        },
        {
          "name": "stdout",
          "text": "hi while loop 2751\n",
          "output_type": "stream"
        },
        {
          "name": "stderr",
          "text": "\n\ntrain_loss=0.02 train_acc=0.99 test_loss=0.06 test_acc=0.98:  18%|█▊        | 2751/15000 [00:35<01:57, 104.64it/s]\u001b[A\u001b[A\n\ntrain_loss=0.02 train_acc=0.99 test_loss=0.06 test_acc=0.98:  24%|██▍       | 3668/15000 [00:35<01:47, 105.03it/s]\u001b[A\u001b[A",
          "output_type": "stream"
        },
        {
          "name": "stdout",
          "text": "hi while loop 3668\n",
          "output_type": "stream"
        },
        {
          "name": "stderr",
          "text": "\n\ntrain_loss=0.02 train_acc=0.99 test_loss=0.07 test_acc=0.98:  24%|██▍       | 3668/15000 [00:44<01:47, 105.03it/s]\u001b[A\u001b[A\n\ntrain_loss=0.02 train_acc=0.99 test_loss=0.07 test_acc=0.98:  31%|███       | 4585/15000 [00:44<01:40, 103.92it/s]\u001b[A\u001b[A",
          "output_type": "stream"
        },
        {
          "name": "stdout",
          "text": "hi while loop 4585\n",
          "output_type": "stream"
        },
        {
          "name": "stderr",
          "text": "\n\ntrain_loss=0.01 train_acc=1.00 test_loss=0.08 test_acc=0.98:  31%|███       | 4585/15000 [00:52<01:40, 103.92it/s]\u001b[A\u001b[A\n\ntrain_loss=0.01 train_acc=1.00 test_loss=0.08 test_acc=0.98:  37%|███▋      | 5502/15000 [00:52<01:30, 104.75it/s]\u001b[A\u001b[A",
          "output_type": "stream"
        },
        {
          "name": "stdout",
          "text": "hi while loop 5502\n",
          "output_type": "stream"
        },
        {
          "name": "stderr",
          "text": "\n\ntrain_loss=0.01 train_acc=1.00 test_loss=0.08 test_acc=0.98:  37%|███▋      | 5502/15000 [01:01<01:30, 104.75it/s]\u001b[A\u001b[A\n\ntrain_loss=0.01 train_acc=1.00 test_loss=0.08 test_acc=0.98:  43%|████▎     | 6419/15000 [01:01<01:21, 104.86it/s]\u001b[A\u001b[A",
          "output_type": "stream"
        },
        {
          "name": "stdout",
          "text": "hi while loop 6419\n",
          "output_type": "stream"
        },
        {
          "name": "stderr",
          "text": "\n\ntrain_loss=0.01 train_acc=1.00 test_loss=0.09 test_acc=0.98:  43%|████▎     | 6419/15000 [01:10<01:21, 104.86it/s]\u001b[A\u001b[A\n\ntrain_loss=0.01 train_acc=1.00 test_loss=0.09 test_acc=0.98:  49%|████▉     | 7336/15000 [01:10<01:12, 105.25it/s]\u001b[A\u001b[A",
          "output_type": "stream"
        },
        {
          "name": "stdout",
          "text": "hi while loop 7336\n",
          "output_type": "stream"
        },
        {
          "name": "stderr",
          "text": "\n\ntrain_loss=0.01 train_acc=1.00 test_loss=0.08 test_acc=0.98:  49%|████▉     | 7336/15000 [01:19<01:12, 105.25it/s]\u001b[A\u001b[A\n\ntrain_loss=0.01 train_acc=1.00 test_loss=0.08 test_acc=0.98:  55%|█████▌    | 8253/15000 [01:19<01:04, 104.10it/s]\u001b[A\u001b[A",
          "output_type": "stream"
        },
        {
          "name": "stdout",
          "text": "hi while loop 8253\n",
          "output_type": "stream"
        },
        {
          "name": "stderr",
          "text": "\n\ntrain_loss=0.01 train_acc=1.00 test_loss=0.10 test_acc=0.98:  55%|█████▌    | 8253/15000 [01:27<01:04, 104.10it/s]\u001b[A\u001b[A\n\ntrain_loss=0.01 train_acc=1.00 test_loss=0.10 test_acc=0.98:  61%|██████    | 9170/15000 [01:27<00:55, 104.66it/s]\u001b[A\u001b[A",
          "output_type": "stream"
        },
        {
          "name": "stdout",
          "text": "hi while loop 9170\n",
          "output_type": "stream"
        },
        {
          "name": "stderr",
          "text": "\n\ntrain_loss=0.01 train_acc=1.00 test_loss=0.10 test_acc=0.98:  61%|██████    | 9170/15000 [01:36<00:55, 104.66it/s]\u001b[A\u001b[A\n\ntrain_loss=0.01 train_acc=1.00 test_loss=0.10 test_acc=0.98:  67%|██████▋   | 10087/15000 [01:36<00:46, 105.09it/s]\u001b[A\u001b[A",
          "output_type": "stream"
        },
        {
          "name": "stdout",
          "text": "hi while loop 10087\n",
          "output_type": "stream"
        },
        {
          "name": "stderr",
          "text": "\n\ntrain_loss=0.01 train_acc=1.00 test_loss=0.11 test_acc=0.98:  67%|██████▋   | 10087/15000 [01:45<00:46, 105.09it/s]\u001b[A\u001b[A\n\ntrain_loss=0.01 train_acc=1.00 test_loss=0.11 test_acc=0.98:  73%|███████▎  | 11004/15000 [01:45<00:38, 104.16it/s]\u001b[A\u001b[A",
          "output_type": "stream"
        },
        {
          "name": "stdout",
          "text": "hi while loop 11004\n",
          "output_type": "stream"
        },
        {
          "name": "stderr",
          "text": "\n\ntrain_loss=0.01 train_acc=1.00 test_loss=0.12 test_acc=0.98:  73%|███████▎  | 11004/15000 [01:53<00:38, 104.16it/s]\u001b[A\u001b[A\n\ntrain_loss=0.01 train_acc=1.00 test_loss=0.12 test_acc=0.98:  79%|███████▉  | 11921/15000 [01:53<00:29, 104.74it/s]\u001b[A\u001b[A",
          "output_type": "stream"
        },
        {
          "name": "stdout",
          "text": "hi while loop 11921\n",
          "output_type": "stream"
        },
        {
          "name": "stderr",
          "text": "\n\ntrain_loss=0.00 train_acc=1.00 test_loss=0.11 test_acc=0.98:  79%|███████▉  | 11921/15000 [02:02<00:29, 104.74it/s]\u001b[A\u001b[A\n\ntrain_loss=0.00 train_acc=1.00 test_loss=0.11 test_acc=0.98:  86%|████████▌ | 12838/15000 [02:02<00:20, 105.03it/s]\u001b[A\u001b[A",
          "output_type": "stream"
        },
        {
          "name": "stdout",
          "text": "hi while loop 12838\n",
          "output_type": "stream"
        },
        {
          "name": "stderr",
          "text": "\n\ntrain_loss=0.01 train_acc=1.00 test_loss=0.12 test_acc=0.98:  86%|████████▌ | 12838/15000 [02:11<00:20, 105.03it/s]\u001b[A\u001b[A\n\ntrain_loss=0.01 train_acc=1.00 test_loss=0.12 test_acc=0.98:  92%|█████████▏| 13755/15000 [02:11<00:11, 105.28it/s]\u001b[A\u001b[A",
          "output_type": "stream"
        },
        {
          "name": "stdout",
          "text": "hi while loop 13755\n",
          "output_type": "stream"
        },
        {
          "name": "stderr",
          "text": "\n\ntrain_loss=0.00 train_acc=1.00 test_loss=0.13 test_acc=0.98:  92%|█████████▏| 13755/15000 [02:20<00:11, 105.28it/s]\u001b[A\u001b[A\n\ntrain_loss=0.00 train_acc=1.00 test_loss=0.13 test_acc=0.98:  98%|█████████▊| 14672/15000 [02:20<00:03, 104.80it/s]\u001b[A\u001b[A",
          "output_type": "stream"
        },
        {
          "name": "stdout",
          "text": "hi while loop 14672\n",
          "output_type": "stream"
        },
        {
          "name": "stderr",
          "text": "\n\ntrain_loss=0.01 train_acc=1.00 test_loss=0.11 test_acc=0.98:  98%|█████████▊| 14672/15000 [02:24<00:03, 104.80it/s]\u001b[A\u001b[A\n\ntrain_loss=0.01 train_acc=1.00 test_loss=0.11 test_acc=0.98: 100%|██████████| 15000/15000 [02:24<00:00, 99.52it/s] \u001b[A\u001b[A\n\n                                                                                                                  \u001b[A\u001b[A\n 57%|█████▋    | 4/7 [09:38<07:13, 144.62s/it]\u001b[A\n\n  0%|          | 0/15000 [00:00<?, ?it/s]\u001b[A\u001b[A",
          "output_type": "stream"
        },
        {
          "name": "stdout",
          "text": "hi while loop 0\n",
          "output_type": "stream"
        },
        {
          "name": "stderr",
          "text": "\n\ntrain_loss=0.27 train_acc=0.92 test_loss=0.09 test_acc=0.97:   0%|          | 0/15000 [00:08<?, ?it/s]\u001b[A\u001b[A\n\ntrain_loss=0.27 train_acc=0.92 test_loss=0.09 test_acc=0.97:   6%|▌         | 917/15000 [00:08<02:10, 108.25it/s]\u001b[A\u001b[A",
          "output_type": "stream"
        },
        {
          "name": "stdout",
          "text": "hi while loop 917\n",
          "output_type": "stream"
        },
        {
          "name": "stderr",
          "text": "\n\ntrain_loss=0.06 train_acc=0.98 test_loss=0.07 test_acc=0.98:   6%|▌         | 917/15000 [00:16<02:10, 108.25it/s]\u001b[A\u001b[A\n\ntrain_loss=0.06 train_acc=0.98 test_loss=0.07 test_acc=0.98:  12%|█▏        | 1834/15000 [00:16<02:01, 107.95it/s]\u001b[A\u001b[A",
          "output_type": "stream"
        },
        {
          "name": "stdout",
          "text": "hi while loop 1834\n",
          "output_type": "stream"
        },
        {
          "name": "stderr",
          "text": "\n\ntrain_loss=0.04 train_acc=0.99 test_loss=0.07 test_acc=0.98:  12%|█▏        | 1834/15000 [00:25<02:01, 107.95it/s]\u001b[A\u001b[A\n\ntrain_loss=0.04 train_acc=0.99 test_loss=0.07 test_acc=0.98:  18%|█▊        | 2751/15000 [00:25<01:55, 106.13it/s]\u001b[A\u001b[A",
          "output_type": "stream"
        },
        {
          "name": "stdout",
          "text": "hi while loop 2751\n",
          "output_type": "stream"
        },
        {
          "name": "stderr",
          "text": "\n\ntrain_loss=0.03 train_acc=0.99 test_loss=0.07 test_acc=0.98:  18%|█▊        | 2751/15000 [00:34<01:55, 106.13it/s]\u001b[A\u001b[A\n\ntrain_loss=0.03 train_acc=0.99 test_loss=0.07 test_acc=0.98:  24%|██▍       | 3668/15000 [00:34<01:45, 107.19it/s]\u001b[A\u001b[A",
          "output_type": "stream"
        },
        {
          "name": "stdout",
          "text": "hi while loop 3668\n",
          "output_type": "stream"
        },
        {
          "name": "stderr",
          "text": "\n\ntrain_loss=0.02 train_acc=0.99 test_loss=0.07 test_acc=0.98:  24%|██▍       | 3668/15000 [00:42<01:45, 107.19it/s]\u001b[A\u001b[A\n\ntrain_loss=0.02 train_acc=0.99 test_loss=0.07 test_acc=0.98:  31%|███       | 4585/15000 [00:42<01:37, 106.94it/s]\u001b[A\u001b[A",
          "output_type": "stream"
        },
        {
          "name": "stdout",
          "text": "hi while loop 4585\n",
          "output_type": "stream"
        },
        {
          "name": "stderr",
          "text": "\n\ntrain_loss=0.01 train_acc=1.00 test_loss=0.07 test_acc=0.98:  31%|███       | 4585/15000 [00:51<01:37, 106.94it/s]\u001b[A\u001b[A\n\ntrain_loss=0.01 train_acc=1.00 test_loss=0.07 test_acc=0.98:  37%|███▋      | 5502/15000 [00:51<01:29, 106.32it/s]\u001b[A\u001b[A",
          "output_type": "stream"
        },
        {
          "name": "stdout",
          "text": "hi while loop 5502\n",
          "output_type": "stream"
        },
        {
          "name": "stderr",
          "text": "\n\ntrain_loss=0.01 train_acc=1.00 test_loss=0.07 test_acc=0.98:  37%|███▋      | 5502/15000 [01:00<01:29, 106.32it/s]\u001b[A\u001b[A\n\ntrain_loss=0.01 train_acc=1.00 test_loss=0.07 test_acc=0.98:  43%|████▎     | 6419/15000 [01:00<01:21, 104.97it/s]\u001b[A\u001b[A",
          "output_type": "stream"
        },
        {
          "name": "stdout",
          "text": "hi while loop 6419\n",
          "output_type": "stream"
        },
        {
          "name": "stderr",
          "text": "\n\ntrain_loss=0.01 train_acc=1.00 test_loss=0.08 test_acc=0.98:  43%|████▎     | 6419/15000 [01:08<01:21, 104.97it/s]\u001b[A\u001b[A\n\ntrain_loss=0.01 train_acc=1.00 test_loss=0.08 test_acc=0.98:  49%|████▉     | 7336/15000 [01:08<01:12, 106.02it/s]\u001b[A\u001b[A",
          "output_type": "stream"
        },
        {
          "name": "stdout",
          "text": "hi while loop 7336\n",
          "output_type": "stream"
        },
        {
          "name": "stderr",
          "text": "\n\ntrain_loss=0.01 train_acc=1.00 test_loss=0.09 test_acc=0.98:  49%|████▉     | 7336/15000 [01:17<01:12, 106.02it/s]\u001b[A\u001b[A\n\ntrain_loss=0.01 train_acc=1.00 test_loss=0.09 test_acc=0.98:  55%|█████▌    | 8253/15000 [01:17<01:03, 105.62it/s]\u001b[A\u001b[A",
          "output_type": "stream"
        },
        {
          "name": "stdout",
          "text": "hi while loop 8253\n",
          "output_type": "stream"
        },
        {
          "name": "stderr",
          "text": "\n\ntrain_loss=0.00 train_acc=1.00 test_loss=0.09 test_acc=0.98:  55%|█████▌    | 8253/15000 [01:26<01:03, 105.62it/s]\u001b[A\u001b[A\n\ntrain_loss=0.00 train_acc=1.00 test_loss=0.09 test_acc=0.98:  61%|██████    | 9170/15000 [01:26<00:55, 104.99it/s]\u001b[A\u001b[A",
          "output_type": "stream"
        },
        {
          "name": "stdout",
          "text": "hi while loop 9170\n",
          "output_type": "stream"
        },
        {
          "name": "stderr",
          "text": "\n\ntrain_loss=0.00 train_acc=1.00 test_loss=0.10 test_acc=0.98:  61%|██████    | 9170/15000 [01:35<00:55, 104.99it/s]\u001b[A\u001b[A\n\ntrain_loss=0.00 train_acc=1.00 test_loss=0.10 test_acc=0.98:  67%|██████▋   | 10087/15000 [01:35<00:46, 105.68it/s]\u001b[A\u001b[A",
          "output_type": "stream"
        },
        {
          "name": "stdout",
          "text": "hi while loop 10087\n",
          "output_type": "stream"
        },
        {
          "name": "stderr",
          "text": "\n\ntrain_loss=0.00 train_acc=1.00 test_loss=0.10 test_acc=0.98:  67%|██████▋   | 10087/15000 [01:43<00:46, 105.68it/s]\u001b[A\u001b[A\n\ntrain_loss=0.00 train_acc=1.00 test_loss=0.10 test_acc=0.98:  73%|███████▎  | 11004/15000 [01:43<00:37, 105.78it/s]\u001b[A\u001b[A",
          "output_type": "stream"
        },
        {
          "name": "stdout",
          "text": "hi while loop 11004\n",
          "output_type": "stream"
        },
        {
          "name": "stderr",
          "text": "\n\ntrain_loss=0.00 train_acc=1.00 test_loss=0.11 test_acc=0.98:  73%|███████▎  | 11004/15000 [01:52<00:37, 105.78it/s]\u001b[A\u001b[A\n\ntrain_loss=0.00 train_acc=1.00 test_loss=0.11 test_acc=0.98:  79%|███████▉  | 11921/15000 [01:52<00:29, 106.00it/s]\u001b[A\u001b[A",
          "output_type": "stream"
        },
        {
          "name": "stdout",
          "text": "hi while loop 11921\n",
          "output_type": "stream"
        },
        {
          "name": "stderr",
          "text": "\n\ntrain_loss=0.00 train_acc=1.00 test_loss=0.11 test_acc=0.98:  79%|███████▉  | 11921/15000 [02:01<00:29, 106.00it/s]\u001b[A\u001b[A\n\ntrain_loss=0.00 train_acc=1.00 test_loss=0.11 test_acc=0.98:  86%|████████▌ | 12838/15000 [02:01<00:20, 105.26it/s]\u001b[A\u001b[A",
          "output_type": "stream"
        },
        {
          "name": "stdout",
          "text": "hi while loop 12838\n",
          "output_type": "stream"
        },
        {
          "name": "stderr",
          "text": "\n\ntrain_loss=0.00 train_acc=1.00 test_loss=0.11 test_acc=0.98:  86%|████████▌ | 12838/15000 [02:09<00:20, 105.26it/s]\u001b[A\u001b[A\n\ntrain_loss=0.00 train_acc=1.00 test_loss=0.11 test_acc=0.98:  92%|█████████▏| 13755/15000 [02:09<00:11, 106.10it/s]\u001b[A\u001b[A",
          "output_type": "stream"
        },
        {
          "name": "stdout",
          "text": "hi while loop 13755\n",
          "output_type": "stream"
        },
        {
          "name": "stderr",
          "text": "\n\ntrain_loss=0.00 train_acc=1.00 test_loss=0.12 test_acc=0.98:  92%|█████████▏| 13755/15000 [02:18<00:11, 106.10it/s]\u001b[A\u001b[A\n\ntrain_loss=0.00 train_acc=1.00 test_loss=0.12 test_acc=0.98:  98%|█████████▊| 14672/15000 [02:18<00:03, 106.29it/s]\u001b[A\u001b[A",
          "output_type": "stream"
        },
        {
          "name": "stdout",
          "text": "hi while loop 14672\n",
          "output_type": "stream"
        },
        {
          "name": "stderr",
          "text": "\n\ntrain_loss=0.00 train_acc=1.00 test_loss=0.12 test_acc=0.98:  98%|█████████▊| 14672/15000 [02:22<00:03, 106.29it/s]\u001b[A\u001b[A\n\ntrain_loss=0.00 train_acc=1.00 test_loss=0.12 test_acc=0.98: 100%|██████████| 15000/15000 [02:22<00:00, 100.32it/s]\u001b[A\u001b[A\n\n                                                                                                                   \u001b[A\u001b[A\n 71%|███████▏  | 5/7 [12:01<04:47, 143.96s/it]\u001b[A\n\n  0%|          | 0/15000 [00:00<?, ?it/s]\u001b[A\u001b[A",
          "output_type": "stream"
        },
        {
          "name": "stdout",
          "text": "hi while loop 0\n",
          "output_type": "stream"
        },
        {
          "name": "stderr",
          "text": "\n\ntrain_loss=0.55 train_acc=0.83 test_loss=0.15 test_acc=0.96:   0%|          | 0/15000 [00:08<?, ?it/s]\u001b[A\u001b[A\n\ntrain_loss=0.55 train_acc=0.83 test_loss=0.15 test_acc=0.96:   6%|▌         | 917/15000 [00:08<02:16, 103.29it/s]\u001b[A\u001b[A",
          "output_type": "stream"
        },
        {
          "name": "stdout",
          "text": "hi while loop 917\n",
          "output_type": "stream"
        },
        {
          "name": "stderr",
          "text": "\n\ntrain_loss=0.12 train_acc=0.96 test_loss=0.11 test_acc=0.97:   6%|▌         | 917/15000 [00:17<02:16, 103.29it/s]\u001b[A\u001b[A\n\ntrain_loss=0.12 train_acc=0.96 test_loss=0.11 test_acc=0.97:  12%|█▏        | 1834/15000 [00:17<02:04, 105.69it/s]\u001b[A\u001b[A",
          "output_type": "stream"
        },
        {
          "name": "stdout",
          "text": "hi while loop 1834\n",
          "output_type": "stream"
        },
        {
          "name": "stderr",
          "text": "\n\ntrain_loss=0.09 train_acc=0.97 test_loss=0.10 test_acc=0.97:  12%|█▏        | 1834/15000 [00:25<02:04, 105.69it/s]\u001b[A\u001b[A\n\ntrain_loss=0.09 train_acc=0.97 test_loss=0.10 test_acc=0.97:  18%|█▊        | 2751/15000 [00:25<01:55, 106.30it/s]\u001b[A\u001b[A",
          "output_type": "stream"
        },
        {
          "name": "stdout",
          "text": "hi while loop 2751\n",
          "output_type": "stream"
        },
        {
          "name": "stderr",
          "text": "\n\ntrain_loss=0.07 train_acc=0.98 test_loss=0.09 test_acc=0.97:  18%|█▊        | 2751/15000 [00:34<01:55, 106.30it/s]\u001b[A\u001b[A\n\ntrain_loss=0.07 train_acc=0.98 test_loss=0.09 test_acc=0.97:  24%|██▍       | 3668/15000 [00:34<01:46, 106.40it/s]\u001b[A\u001b[A",
          "output_type": "stream"
        },
        {
          "name": "stdout",
          "text": "hi while loop 3668\n",
          "output_type": "stream"
        },
        {
          "name": "stderr",
          "text": "\n\ntrain_loss=0.06 train_acc=0.98 test_loss=0.08 test_acc=0.97:  24%|██▍       | 3668/15000 [00:43<01:46, 106.40it/s]\u001b[A\u001b[A\n\ntrain_loss=0.06 train_acc=0.98 test_loss=0.08 test_acc=0.97:  31%|███       | 4585/15000 [00:43<01:38, 105.55it/s]\u001b[A\u001b[A",
          "output_type": "stream"
        },
        {
          "name": "stdout",
          "text": "hi while loop 4585\n",
          "output_type": "stream"
        },
        {
          "name": "stderr",
          "text": "\n\ntrain_loss=0.06 train_acc=0.98 test_loss=0.09 test_acc=0.97:  31%|███       | 4585/15000 [00:52<01:38, 105.55it/s]\u001b[A\u001b[A\n\ntrain_loss=0.06 train_acc=0.98 test_loss=0.09 test_acc=0.97:  37%|███▋      | 5502/15000 [00:52<01:30, 105.37it/s]\u001b[A\u001b[A",
          "output_type": "stream"
        },
        {
          "name": "stdout",
          "text": "hi while loop 5502\n",
          "output_type": "stream"
        },
        {
          "name": "stderr",
          "text": "\n\ntrain_loss=0.05 train_acc=0.98 test_loss=0.08 test_acc=0.97:  37%|███▋      | 5502/15000 [01:00<01:30, 105.37it/s]\u001b[A\u001b[A\n\ntrain_loss=0.05 train_acc=0.98 test_loss=0.08 test_acc=0.97:  43%|████▎     | 6419/15000 [01:00<01:20, 106.03it/s]\u001b[A\u001b[A",
          "output_type": "stream"
        },
        {
          "name": "stdout",
          "text": "hi while loop 6419\n",
          "output_type": "stream"
        },
        {
          "name": "stderr",
          "text": "\n\ntrain_loss=0.05 train_acc=0.98 test_loss=0.08 test_acc=0.97:  43%|████▎     | 6419/15000 [01:09<01:20, 106.03it/s]\u001b[A\u001b[A\n\ntrain_loss=0.05 train_acc=0.98 test_loss=0.08 test_acc=0.97:  49%|████▉     | 7336/15000 [01:09<01:12, 105.54it/s]\u001b[A\u001b[A",
          "output_type": "stream"
        },
        {
          "name": "stdout",
          "text": "hi while loop 7336\n",
          "output_type": "stream"
        },
        {
          "name": "stderr",
          "text": "\n\ntrain_loss=0.05 train_acc=0.99 test_loss=0.08 test_acc=0.97:  49%|████▉     | 7336/15000 [01:18<01:12, 105.54it/s]\u001b[A\u001b[A\n\ntrain_loss=0.05 train_acc=0.99 test_loss=0.08 test_acc=0.97:  55%|█████▌    | 8253/15000 [01:18<01:04, 105.34it/s]\u001b[A\u001b[A",
          "output_type": "stream"
        },
        {
          "name": "stdout",
          "text": "hi while loop 8253\n",
          "output_type": "stream"
        },
        {
          "name": "stderr",
          "text": "\n\ntrain_loss=0.04 train_acc=0.99 test_loss=0.08 test_acc=0.97:  55%|█████▌    | 8253/15000 [01:26<01:04, 105.34it/s]\u001b[A\u001b[A\n\ntrain_loss=0.04 train_acc=0.99 test_loss=0.08 test_acc=0.97:  61%|██████    | 9170/15000 [01:26<00:55, 105.53it/s]\u001b[A\u001b[A",
          "output_type": "stream"
        },
        {
          "name": "stdout",
          "text": "hi while loop 9170\n",
          "output_type": "stream"
        },
        {
          "name": "stderr",
          "text": "\n\ntrain_loss=0.04 train_acc=0.99 test_loss=0.09 test_acc=0.97:  61%|██████    | 9170/15000 [01:35<00:55, 105.53it/s]\u001b[A\u001b[A\n\ntrain_loss=0.04 train_acc=0.99 test_loss=0.09 test_acc=0.97:  67%|██████▋   | 10087/15000 [01:35<00:46, 106.78it/s]\u001b[A\u001b[A",
          "output_type": "stream"
        },
        {
          "name": "stdout",
          "text": "hi while loop 10087\n",
          "output_type": "stream"
        },
        {
          "name": "stderr",
          "text": "\n\ntrain_loss=0.04 train_acc=0.99 test_loss=0.09 test_acc=0.97:  67%|██████▋   | 10087/15000 [01:43<00:46, 106.78it/s]\u001b[A\u001b[A\n\ntrain_loss=0.04 train_acc=0.99 test_loss=0.09 test_acc=0.97:  73%|███████▎  | 11004/15000 [01:43<00:37, 106.00it/s]\u001b[A\u001b[A",
          "output_type": "stream"
        },
        {
          "name": "stdout",
          "text": "hi while loop 11004\n",
          "output_type": "stream"
        },
        {
          "name": "stderr",
          "text": "\n\ntrain_loss=0.04 train_acc=0.99 test_loss=0.09 test_acc=0.97:  73%|███████▎  | 11004/15000 [01:52<00:37, 106.00it/s]\u001b[A\u001b[A\n\ntrain_loss=0.04 train_acc=0.99 test_loss=0.09 test_acc=0.97:  79%|███████▉  | 11921/15000 [01:52<00:29, 105.72it/s]\u001b[A\u001b[A",
          "output_type": "stream"
        },
        {
          "name": "stdout",
          "text": "hi while loop 11921\n",
          "output_type": "stream"
        },
        {
          "name": "stderr",
          "text": "\n\ntrain_loss=0.03 train_acc=0.99 test_loss=0.09 test_acc=0.97:  79%|███████▉  | 11921/15000 [02:01<00:29, 105.72it/s]\u001b[A\u001b[A\n\ntrain_loss=0.03 train_acc=0.99 test_loss=0.09 test_acc=0.97:  86%|████████▌ | 12838/15000 [02:01<00:20, 106.35it/s]\u001b[A\u001b[A",
          "output_type": "stream"
        },
        {
          "name": "stdout",
          "text": "hi while loop 12838\n",
          "output_type": "stream"
        },
        {
          "name": "stderr",
          "text": "\n\ntrain_loss=0.03 train_acc=0.99 test_loss=0.10 test_acc=0.97:  86%|████████▌ | 12838/15000 [02:09<00:20, 106.35it/s]\u001b[A\u001b[A\n\ntrain_loss=0.03 train_acc=0.99 test_loss=0.10 test_acc=0.97:  92%|█████████▏| 13755/15000 [02:09<00:11, 106.65it/s]\u001b[A\u001b[A",
          "output_type": "stream"
        },
        {
          "name": "stdout",
          "text": "hi while loop 13755\n",
          "output_type": "stream"
        },
        {
          "name": "stderr",
          "text": "\n\ntrain_loss=0.03 train_acc=0.99 test_loss=0.09 test_acc=0.97:  92%|█████████▏| 13755/15000 [02:18<00:11, 106.65it/s]\u001b[A\u001b[A\n\ntrain_loss=0.03 train_acc=0.99 test_loss=0.09 test_acc=0.97:  98%|█████████▊| 14672/15000 [02:18<00:03, 105.92it/s]\u001b[A\u001b[A",
          "output_type": "stream"
        },
        {
          "name": "stdout",
          "text": "hi while loop 14672\n",
          "output_type": "stream"
        },
        {
          "name": "stderr",
          "text": "\n\ntrain_loss=0.02 train_acc=0.99 test_loss=0.09 test_acc=0.97:  98%|█████████▊| 14672/15000 [02:22<00:03, 105.92it/s]\u001b[A\u001b[A\n\ntrain_loss=0.02 train_acc=0.99 test_loss=0.09 test_acc=0.97: 100%|██████████| 15000/15000 [02:22<00:00, 100.19it/s]\u001b[A\u001b[A\n\n                                                                                                                   \u001b[A\u001b[A\n 86%|████████▌ | 6/7 [14:24<02:23, 143.63s/it]\u001b[A\n\n  0%|          | 0/15000 [00:00<?, ?it/s]\u001b[A\u001b[A",
          "output_type": "stream"
        },
        {
          "name": "stdout",
          "text": "hi while loop 0\n",
          "output_type": "stream"
        },
        {
          "name": "stderr",
          "text": "\n\ntrain_loss=2.02 train_acc=0.29 test_loss=1.23 test_acc=0.60:   0%|          | 0/15000 [00:08<?, ?it/s]\u001b[A\u001b[A\n\ntrain_loss=2.02 train_acc=0.29 test_loss=1.23 test_acc=0.60:   6%|▌         | 917/15000 [00:08<02:13, 105.87it/s]\u001b[A\u001b[A",
          "output_type": "stream"
        },
        {
          "name": "stdout",
          "text": "hi while loop 917\n",
          "output_type": "stream"
        },
        {
          "name": "stderr",
          "text": "\n\ntrain_loss=0.83 train_acc=0.74 test_loss=0.59 test_acc=0.82:   6%|▌         | 917/15000 [00:17<02:13, 105.87it/s]\u001b[A\u001b[A\n\ntrain_loss=0.83 train_acc=0.74 test_loss=0.59 test_acc=0.82:  12%|█▏        | 1834/15000 [00:17<02:02, 107.71it/s]\u001b[A\u001b[A",
          "output_type": "stream"
        },
        {
          "name": "stdout",
          "text": "hi while loop 1834\n",
          "output_type": "stream"
        },
        {
          "name": "stderr",
          "text": "\n\ntrain_loss=0.52 train_acc=0.84 test_loss=0.42 test_acc=0.88:  12%|█▏        | 1834/15000 [00:25<02:02, 107.71it/s]\u001b[A\u001b[A\n\ntrain_loss=0.52 train_acc=0.84 test_loss=0.42 test_acc=0.88:  18%|█▊        | 2751/15000 [00:25<01:55, 106.09it/s]\u001b[A\u001b[A",
          "output_type": "stream"
        },
        {
          "name": "stdout",
          "text": "hi while loop 2751\n",
          "output_type": "stream"
        },
        {
          "name": "stderr",
          "text": "\n\ntrain_loss=0.40 train_acc=0.88 test_loss=0.36 test_acc=0.89:  18%|█▊        | 2751/15000 [00:34<01:55, 106.09it/s]\u001b[A\u001b[A\n\ntrain_loss=0.40 train_acc=0.88 test_loss=0.36 test_acc=0.89:  24%|██▍       | 3668/15000 [00:34<01:47, 105.61it/s]\u001b[A\u001b[A",
          "output_type": "stream"
        },
        {
          "name": "stdout",
          "text": "hi while loop 3668\n",
          "output_type": "stream"
        },
        {
          "name": "stderr",
          "text": "\n\ntrain_loss=0.35 train_acc=0.89 test_loss=0.33 test_acc=0.90:  24%|██▍       | 3668/15000 [00:43<01:47, 105.61it/s]\u001b[A\u001b[A\n\ntrain_loss=0.35 train_acc=0.89 test_loss=0.33 test_acc=0.90:  31%|███       | 4585/15000 [00:43<01:38, 106.19it/s]\u001b[A\u001b[A",
          "output_type": "stream"
        },
        {
          "name": "stdout",
          "text": "hi while loop 4585\n",
          "output_type": "stream"
        },
        {
          "name": "stderr",
          "text": "\n\ntrain_loss=0.34 train_acc=0.90 test_loss=0.31 test_acc=0.91:  31%|███       | 4585/15000 [00:51<01:38, 106.19it/s]\u001b[A\u001b[A\n\ntrain_loss=0.34 train_acc=0.90 test_loss=0.31 test_acc=0.91:  37%|███▋      | 5502/15000 [00:51<01:29, 106.36it/s]\u001b[A\u001b[A",
          "output_type": "stream"
        },
        {
          "name": "stdout",
          "text": "hi while loop 5502\n",
          "output_type": "stream"
        },
        {
          "name": "stderr",
          "text": "\n\ntrain_loss=0.32 train_acc=0.90 test_loss=0.30 test_acc=0.91:  37%|███▋      | 5502/15000 [01:00<01:29, 106.36it/s]\u001b[A\u001b[A\n\ntrain_loss=0.32 train_acc=0.90 test_loss=0.30 test_acc=0.91:  43%|████▎     | 6419/15000 [01:00<01:21, 104.95it/s]\u001b[A\u001b[A",
          "output_type": "stream"
        },
        {
          "name": "stdout",
          "text": "hi while loop 6419\n",
          "output_type": "stream"
        },
        {
          "name": "stderr",
          "text": "\n\ntrain_loss=0.32 train_acc=0.90 test_loss=0.30 test_acc=0.91:  43%|████▎     | 6419/15000 [01:09<01:21, 104.95it/s]\u001b[A\u001b[A\n\ntrain_loss=0.32 train_acc=0.90 test_loss=0.30 test_acc=0.91:  49%|████▉     | 7336/15000 [01:09<01:13, 104.75it/s]\u001b[A\u001b[A",
          "output_type": "stream"
        },
        {
          "name": "stdout",
          "text": "hi while loop 7336\n",
          "output_type": "stream"
        },
        {
          "name": "stderr",
          "text": "\n\ntrain_loss=0.31 train_acc=0.90 test_loss=0.30 test_acc=0.91:  49%|████▉     | 7336/15000 [01:18<01:13, 104.75it/s]\u001b[A\u001b[A\n\ntrain_loss=0.31 train_acc=0.90 test_loss=0.30 test_acc=0.91:  55%|█████▌    | 8253/15000 [01:18<01:04, 104.95it/s]\u001b[A\u001b[A",
          "output_type": "stream"
        },
        {
          "name": "stdout",
          "text": "hi while loop 8253\n",
          "output_type": "stream"
        },
        {
          "name": "stderr",
          "text": "\n\ntrain_loss=0.31 train_acc=0.91 test_loss=0.29 test_acc=0.91:  55%|█████▌    | 8253/15000 [01:27<01:04, 104.95it/s]\u001b[A\u001b[A\n\ntrain_loss=0.31 train_acc=0.91 test_loss=0.29 test_acc=0.91:  61%|██████    | 9170/15000 [01:27<00:55, 104.64it/s]\u001b[A\u001b[A",
          "output_type": "stream"
        },
        {
          "name": "stdout",
          "text": "hi while loop 9170\n",
          "output_type": "stream"
        },
        {
          "name": "stderr",
          "text": "\n\ntrain_loss=0.30 train_acc=0.91 test_loss=0.29 test_acc=0.91:  61%|██████    | 9170/15000 [01:35<00:55, 104.64it/s]\u001b[A\u001b[A\n\ntrain_loss=0.30 train_acc=0.91 test_loss=0.29 test_acc=0.91:  67%|██████▋   | 10087/15000 [01:35<00:46, 104.95it/s]\u001b[A\u001b[A",
          "output_type": "stream"
        },
        {
          "name": "stdout",
          "text": "hi while loop 10087\n",
          "output_type": "stream"
        },
        {
          "name": "stderr",
          "text": "\n\ntrain_loss=0.30 train_acc=0.91 test_loss=0.28 test_acc=0.92:  67%|██████▋   | 10087/15000 [01:44<00:46, 104.95it/s]\u001b[A\u001b[A\n\ntrain_loss=0.30 train_acc=0.91 test_loss=0.28 test_acc=0.92:  73%|███████▎  | 11004/15000 [01:44<00:38, 105.04it/s]\u001b[A\u001b[A",
          "output_type": "stream"
        },
        {
          "name": "stdout",
          "text": "hi while loop 11004\n",
          "output_type": "stream"
        },
        {
          "name": "stderr",
          "text": "\n\ntrain_loss=0.29 train_acc=0.91 test_loss=0.28 test_acc=0.92:  73%|███████▎  | 11004/15000 [01:53<00:38, 105.04it/s]\u001b[A\u001b[A\n\ntrain_loss=0.29 train_acc=0.91 test_loss=0.28 test_acc=0.92:  79%|███████▉  | 11921/15000 [01:53<00:29, 105.52it/s]\u001b[A\u001b[A",
          "output_type": "stream"
        },
        {
          "name": "stdout",
          "text": "hi while loop 11921\n",
          "output_type": "stream"
        },
        {
          "name": "stderr",
          "text": "\n\ntrain_loss=0.29 train_acc=0.91 test_loss=0.28 test_acc=0.92:  79%|███████▉  | 11921/15000 [02:01<00:29, 105.52it/s]\u001b[A\u001b[A\n\ntrain_loss=0.29 train_acc=0.91 test_loss=0.28 test_acc=0.92:  86%|████████▌ | 12838/15000 [02:01<00:20, 104.96it/s]\u001b[A\u001b[A",
          "output_type": "stream"
        },
        {
          "name": "stdout",
          "text": "hi while loop 12838\n",
          "output_type": "stream"
        },
        {
          "name": "stderr",
          "text": "\n\ntrain_loss=0.29 train_acc=0.91 test_loss=0.28 test_acc=0.92:  86%|████████▌ | 12838/15000 [02:10<00:20, 104.96it/s]\u001b[A\u001b[A\n\ntrain_loss=0.29 train_acc=0.91 test_loss=0.28 test_acc=0.92:  92%|█████████▏| 13755/15000 [02:10<00:11, 104.88it/s]\u001b[A\u001b[A",
          "output_type": "stream"
        },
        {
          "name": "stdout",
          "text": "hi while loop 13755\n",
          "output_type": "stream"
        },
        {
          "name": "stderr",
          "text": "\n\ntrain_loss=0.29 train_acc=0.91 test_loss=0.28 test_acc=0.92:  92%|█████████▏| 13755/15000 [02:19<00:11, 104.88it/s]\u001b[A\u001b[A\n\ntrain_loss=0.29 train_acc=0.91 test_loss=0.28 test_acc=0.92:  98%|█████████▊| 14672/15000 [02:19<00:03, 105.52it/s]\u001b[A\u001b[A",
          "output_type": "stream"
        },
        {
          "name": "stdout",
          "text": "hi while loop 14672\n",
          "output_type": "stream"
        },
        {
          "name": "stderr",
          "text": "\n\ntrain_loss=0.29 train_acc=0.91 test_loss=0.28 test_acc=0.92:  98%|█████████▊| 14672/15000 [02:23<00:03, 105.52it/s]\u001b[A\u001b[A\n\ntrain_loss=0.29 train_acc=0.91 test_loss=0.28 test_acc=0.92: 100%|██████████| 15000/15000 [02:23<00:00, 100.11it/s]\u001b[A\u001b[A\n\n                                                                                                                   \u001b[A\u001b[A\n100%|██████████| 7/7 [16:47<00:00, 143.62s/it]\u001b[A\n100%|██████████| 5/5 [1:25:04<00:00, 1021.00s/it]\n",
          "output_type": "stream"
        },
        {
          "name": "stdout",
          "text": "4\n",
          "output_type": "stream"
        },
        {
          "traceback": [
            "\u001b[0;31m---------------------------------------------------------------------------\u001b[0m",
            "\u001b[0;31mNameError\u001b[0m                                 Traceback (most recent call last)",
            "Cell \u001b[0;32mIn[12], line 23\u001b[0m\n\u001b[1;32m     20\u001b[0m     early_stops\u001b[38;5;241m.\u001b[39mappend(early_stops_in_run)\n\u001b[1;32m     22\u001b[0m \u001b[38;5;28;01mwith\u001b[39;00m \u001b[38;5;28mopen\u001b[39m(\u001b[38;5;124m'\u001b[39m\u001b[38;5;124mearly_stops\u001b[39m\u001b[38;5;124m'\u001b[39m, \u001b[38;5;124m'\u001b[39m\u001b[38;5;124mwb\u001b[39m\u001b[38;5;124m'\u001b[39m) \u001b[38;5;28;01mas\u001b[39;00m fp:\n\u001b[0;32m---> 23\u001b[0m     \u001b[43mpickle\u001b[49m\u001b[38;5;241m.\u001b[39mdump(early_stops, fp)\n\u001b[1;32m     24\u001b[0m \u001b[38;5;28;01mwith\u001b[39;00m \u001b[38;5;28mopen\u001b[39m(\u001b[38;5;124m'\u001b[39m\u001b[38;5;124mtest_losses\u001b[39m\u001b[38;5;124m'\u001b[39m, \u001b[38;5;124m'\u001b[39m\u001b[38;5;124mwb\u001b[39m\u001b[38;5;124m'\u001b[39m) \u001b[38;5;28;01mas\u001b[39;00m fp:\n\u001b[1;32m     25\u001b[0m     pickle\u001b[38;5;241m.\u001b[39mdump(test_losses, fp)\n",
            "\u001b[0;31mNameError\u001b[0m: name 'pickle' is not defined"
          ],
          "ename": "NameError",
          "evalue": "name 'pickle' is not defined",
          "output_type": "error"
        }
      ]
    },
    {
      "cell_type": "code",
      "source": [
        "with open('early_stops', 'wb') as fp:\n",
        "    pickle.dump(early_stops, fp)\n",
        "with open('test_losses', 'wb') as fp:\n",
        "    pickle.dump(test_losses, fp)\n",
        "with open('test_accuracies', 'wb') as fp:\n",
        "    pickle.dump(test_accuracies, fp)"
      ],
      "metadata": {
        "execution": {
          "iopub.status.busy": "2023-10-26T10:22:13.674732Z",
          "iopub.execute_input": "2023-10-26T10:22:13.675701Z",
          "iopub.status.idle": "2023-10-26T10:22:13.681383Z",
          "shell.execute_reply.started": "2023-10-26T10:22:13.675669Z",
          "shell.execute_reply": "2023-10-26T10:22:13.680591Z"
        },
        "trusted": true,
        "id": "peJ_FF820Cx8"
      },
      "execution_count": null,
      "outputs": []
    },
    {
      "cell_type": "code",
      "source": [
        "plot_experiment(test_losses, test_accuracies, early_stops)"
      ],
      "metadata": {
        "id": "aPUfrHrEqYzv",
        "outputId": "ecada28c-5934-40ad-a43f-fc18bf90702b",
        "colab": {
          "base_uri": "https://localhost:8080/",
          "height": 297
        },
        "execution": {
          "iopub.status.busy": "2023-10-26T10:27:32.898901Z",
          "iopub.execute_input": "2023-10-26T10:27:32.899272Z",
          "iopub.status.idle": "2023-10-26T10:27:34.090311Z",
          "shell.execute_reply.started": "2023-10-26T10:27:32.899242Z",
          "shell.execute_reply": "2023-10-26T10:27:34.089261Z"
        },
        "trusted": true
      },
      "execution_count": null,
      "outputs": [
        {
          "name": "stdout",
          "text": "0.0\n19.96243425995492\n55.68069120961683\n81.52216378662659\n93.81705484598046\n98.25356874530428\n99.55897821187078\n",
          "output_type": "stream"
        },
        {
          "output_type": "display_data",
          "data": {
            "text/plain": "<Figure size 640x480 with 0 Axes>"
          },
          "metadata": {}
        },
        {
          "output_type": "display_data",
          "data": {
            "text/plain": "<Figure size 2000x1000 with 1 Axes>",
            "image/png": "[encoded data removed]"
          },
          "metadata": {}
        },
        {
          "output_type": "display_data",
          "data": {
            "text/plain": "<Figure size 640x480 with 0 Axes>"
          },
          "metadata": {}
        },
        {
          "output_type": "display_data",
          "data": {
            "text/plain": "<Figure size 2000x1000 with 1 Axes>",
            "image/png": "[encoded data removed]"
          },
          "metadata": {}
        },
        {
          "output_type": "display_data",
          "data": {
            "text/plain": "<Figure size 640x480 with 0 Axes>"
          },
          "metadata": {}
        },
        {
          "output_type": "display_data",
          "data": {
            "text/plain": "<Figure size 2000x1000 with 1 Axes>",
            "image/png": "[encoded data removed]"
          },
          "metadata": {}
        }
      ]
    }
  ]
}